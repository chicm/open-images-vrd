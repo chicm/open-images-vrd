{
 "cells": [
  {
   "cell_type": "code",
   "execution_count": 3,
   "metadata": {},
   "outputs": [
    {
     "data": {
      "text/html": [
       "<div>\n",
       "<style scoped>\n",
       "    .dataframe tbody tr th:only-of-type {\n",
       "        vertical-align: middle;\n",
       "    }\n",
       "\n",
       "    .dataframe tbody tr th {\n",
       "        vertical-align: top;\n",
       "    }\n",
       "\n",
       "    .dataframe thead th {\n",
       "        text-align: right;\n",
       "    }\n",
       "</style>\n",
       "<table border=\"1\" class=\"dataframe\">\n",
       "  <thead>\n",
       "    <tr style=\"text-align: right;\">\n",
       "      <th></th>\n",
       "      <th>ImageID</th>\n",
       "      <th>LabelName1</th>\n",
       "      <th>LabelName2</th>\n",
       "      <th>XMin1</th>\n",
       "      <th>XMax1</th>\n",
       "      <th>YMin1</th>\n",
       "      <th>YMax1</th>\n",
       "      <th>XMin2</th>\n",
       "      <th>XMax2</th>\n",
       "      <th>YMin2</th>\n",
       "      <th>YMax2</th>\n",
       "      <th>RelationshipLabel</th>\n",
       "    </tr>\n",
       "  </thead>\n",
       "  <tbody>\n",
       "    <tr>\n",
       "      <th>0</th>\n",
       "      <td>fe58ec1b06db2bb7</td>\n",
       "      <td>/m/04bcr3</td>\n",
       "      <td>/m/083vt</td>\n",
       "      <td>0.00500</td>\n",
       "      <td>0.033125</td>\n",
       "      <td>0.580000</td>\n",
       "      <td>0.627778</td>\n",
       "      <td>0.00500</td>\n",
       "      <td>0.033125</td>\n",
       "      <td>0.580000</td>\n",
       "      <td>0.627778</td>\n",
       "      <td>is</td>\n",
       "    </tr>\n",
       "    <tr>\n",
       "      <th>1</th>\n",
       "      <td>82d16a22f703df5c</td>\n",
       "      <td>/m/04dr76w</td>\n",
       "      <td>/m/02gy9n</td>\n",
       "      <td>0.61200</td>\n",
       "      <td>0.735000</td>\n",
       "      <td>0.418919</td>\n",
       "      <td>0.950450</td>\n",
       "      <td>0.61200</td>\n",
       "      <td>0.735000</td>\n",
       "      <td>0.418919</td>\n",
       "      <td>0.950450</td>\n",
       "      <td>is</td>\n",
       "    </tr>\n",
       "    <tr>\n",
       "      <th>2</th>\n",
       "      <td>b54d41beabcfd900</td>\n",
       "      <td>/m/01mzpv</td>\n",
       "      <td>/m/083vt</td>\n",
       "      <td>0.37250</td>\n",
       "      <td>0.399375</td>\n",
       "      <td>0.706413</td>\n",
       "      <td>0.778557</td>\n",
       "      <td>0.37250</td>\n",
       "      <td>0.399375</td>\n",
       "      <td>0.706413</td>\n",
       "      <td>0.778557</td>\n",
       "      <td>is</td>\n",
       "    </tr>\n",
       "    <tr>\n",
       "      <th>3</th>\n",
       "      <td>4b6a08cc110d7275</td>\n",
       "      <td>/m/01mzpv</td>\n",
       "      <td>/m/01y9k5</td>\n",
       "      <td>0.17125</td>\n",
       "      <td>0.255625</td>\n",
       "      <td>0.557500</td>\n",
       "      <td>0.749167</td>\n",
       "      <td>0.20750</td>\n",
       "      <td>0.683125</td>\n",
       "      <td>0.611667</td>\n",
       "      <td>0.999167</td>\n",
       "      <td>at</td>\n",
       "    </tr>\n",
       "    <tr>\n",
       "      <th>4</th>\n",
       "      <td>0144cfbb726f4c72</td>\n",
       "      <td>/m/01mzpv</td>\n",
       "      <td>/m/04bcr3</td>\n",
       "      <td>0.85500</td>\n",
       "      <td>0.950000</td>\n",
       "      <td>0.561667</td>\n",
       "      <td>0.609167</td>\n",
       "      <td>0.82875</td>\n",
       "      <td>0.999375</td>\n",
       "      <td>0.568333</td>\n",
       "      <td>0.673333</td>\n",
       "      <td>at</td>\n",
       "    </tr>\n",
       "  </tbody>\n",
       "</table>\n",
       "</div>"
      ],
      "text/plain": [
       "            ImageID  LabelName1 LabelName2    XMin1     XMax1     YMin1  \\\n",
       "0  fe58ec1b06db2bb7   /m/04bcr3   /m/083vt  0.00500  0.033125  0.580000   \n",
       "1  82d16a22f703df5c  /m/04dr76w  /m/02gy9n  0.61200  0.735000  0.418919   \n",
       "2  b54d41beabcfd900   /m/01mzpv   /m/083vt  0.37250  0.399375  0.706413   \n",
       "3  4b6a08cc110d7275   /m/01mzpv  /m/01y9k5  0.17125  0.255625  0.557500   \n",
       "4  0144cfbb726f4c72   /m/01mzpv  /m/04bcr3  0.85500  0.950000  0.561667   \n",
       "\n",
       "      YMax1    XMin2     XMax2     YMin2     YMax2 RelationshipLabel  \n",
       "0  0.627778  0.00500  0.033125  0.580000  0.627778                is  \n",
       "1  0.950450  0.61200  0.735000  0.418919  0.950450                is  \n",
       "2  0.778557  0.37250  0.399375  0.706413  0.778557                is  \n",
       "3  0.749167  0.20750  0.683125  0.611667  0.999167                at  \n",
       "4  0.609167  0.82875  0.999375  0.568333  0.673333                at  "
      ]
     },
     "execution_count": 3,
     "metadata": {},
     "output_type": "execute_result"
    }
   ],
   "source": [
    "import pandas as pd\n",
    "%matplotlib inline\n",
    "\n",
    "DATA_DIR = '/mnt/chicm/data/open-images/relation'\n",
    "\n",
    "n_rnd = 6\n",
    "trainvrdALL = pd.read_csv('/mnt/chicm/data/open-images/relation/challenge-2019-train-vrd.csv')\n",
    "# trainvrd_valid = pd.read_csv('../input_relation/challenge-2019-validation-vrd.csv')\n",
    "# trainvrd_test = pd.read_csv('../input_relation/test-annotations-vrd.csv')\n",
    "# trainvrd = pd.concat([trainvrd_train,trainvrd_valid,trainvrd_test]).reset_index(drop=True)\n",
    "trainvrdALL = trainvrdALL.round({'XMin1': n_rnd, 'XMax1': n_rnd,'YMin1': n_rnd, 'YMax1': n_rnd,\\\n",
    "                                 'XMin2': n_rnd, 'XMax2': n_rnd,'YMin2': n_rnd, 'YMax2': n_rnd})\n",
    "trainvrdALL.head()"
   ]
  },
  {
   "cell_type": "code",
   "execution_count": 4,
   "metadata": {},
   "outputs": [],
   "source": [
    "def add_XYinter(sub_final_nonis):\n",
    "    tmp1 = pd.concat([sub_final_nonis['XMax1'] - sub_final_nonis['XMin2'],\\\n",
    "               sub_final_nonis['XMax2'] - sub_final_nonis['XMin1']],axis=1).max(axis=1)\n",
    "    tmp2 = sub_final_nonis['XMax1'] - sub_final_nonis['XMin1'] + \\\n",
    "               sub_final_nonis['XMax2'] - sub_final_nonis['XMin2']\n",
    "    tmp3 = tmp1/tmp2\n",
    "    tmp4 = pd.concat([sub_final_nonis['YMax1'] - sub_final_nonis['YMin2'],\\\n",
    "               sub_final_nonis['YMax2'] - sub_final_nonis['YMin1']],axis=1).max(axis=1)\n",
    "    tmp5 = sub_final_nonis['YMax1'] - sub_final_nonis['YMin1'] + \\\n",
    "               sub_final_nonis['YMax2'] - sub_final_nonis['YMin2']\n",
    "    tmp6 = tmp4/tmp5\n",
    "    sub_final_nonis['Xinter'] = tmp3\n",
    "    sub_final_nonis['Yinter'] = tmp6\n",
    "    return sub_final_nonis\n",
    "\n",
    "trainvrdALL_at = trainvrdALL[trainvrdALL.RelationshipLabel=='at'].reset_index(drop=True)\n",
    "trainvrdALL_at = add_XYinter(trainvrdALL_at)"
   ]
  },
  {
   "cell_type": "code",
   "execution_count": 5,
   "metadata": {},
   "outputs": [
    {
     "data": {
      "text/plain": [
       "<matplotlib.axes._subplots.AxesSubplot at 0x7fc07b6db320>"
      ]
     },
     "execution_count": 5,
     "metadata": {},
     "output_type": "execute_result"
    },
    {
     "data": {
      "image/png": "[encoded data removed]",
      "text/plain": [
       "<Figure size 432x288 with 1 Axes>"
      ]
     },
     "metadata": {
      "needs_background": "light"
     },
     "output_type": "display_data"
    }
   ],
   "source": [
    "trainvrdALL_at.Xinter.hist()"
   ]
  },
  {
   "cell_type": "code",
   "execution_count": 6,
   "metadata": {},
   "outputs": [
    {
     "data": {
      "text/plain": [
       "<matplotlib.axes._subplots.AxesSubplot at 0x7fc07b592cc0>"
      ]
     },
     "execution_count": 6,
     "metadata": {},
     "output_type": "execute_result"
    },
    {
     "data": {
      "image/png": "[encoded data removed]",
      "text/plain": [
       "<Figure size 432x288 with 1 Axes>"
      ]
     },
     "metadata": {
      "needs_background": "light"
     },
     "output_type": "display_data"
    }
   ],
   "source": [
    "%matplotlib inline\n",
    "trainvrdALL_at.Yinter.hist()"
   ]
  },
  {
   "cell_type": "code",
   "execution_count": 7,
   "metadata": {},
   "outputs": [
    {
     "data": {
      "text/html": [
       "<div>\n",
       "<style scoped>\n",
       "    .dataframe tbody tr th:only-of-type {\n",
       "        vertical-align: middle;\n",
       "    }\n",
       "\n",
       "    .dataframe tbody tr th {\n",
       "        vertical-align: top;\n",
       "    }\n",
       "\n",
       "    .dataframe thead th {\n",
       "        text-align: right;\n",
       "    }\n",
       "</style>\n",
       "<table border=\"1\" class=\"dataframe\">\n",
       "  <thead>\n",
       "    <tr style=\"text-align: right;\">\n",
       "      <th></th>\n",
       "      <th>ImageId</th>\n",
       "      <th>PredictionString</th>\n",
       "    </tr>\n",
       "  </thead>\n",
       "  <tbody>\n",
       "    <tr>\n",
       "      <th>0</th>\n",
       "      <td>21135d5ed0e7a0b7</td>\n",
       "      <td>0.452779 /m/04yx4 0.0003781 0.1268279 0.401416...</td>\n",
       "    </tr>\n",
       "    <tr>\n",
       "      <th>1</th>\n",
       "      <td>763c72626bf24534</td>\n",
       "      <td>0.099231 /m/01599 0.8733627 0.7974629 0.908448...</td>\n",
       "    </tr>\n",
       "    <tr>\n",
       "      <th>2</th>\n",
       "      <td>7540c162180973b1</td>\n",
       "      <td>NaN</td>\n",
       "    </tr>\n",
       "    <tr>\n",
       "      <th>3</th>\n",
       "      <td>c4e522dce52cb02f</td>\n",
       "      <td>0.093656 /m/04yx4 0.8541945 0.3647041 0.972777...</td>\n",
       "    </tr>\n",
       "    <tr>\n",
       "      <th>4</th>\n",
       "      <td>cafcd9496c808085</td>\n",
       "      <td>0.175269 /m/01_5g 0.7968998 0.0202855 0.997210...</td>\n",
       "    </tr>\n",
       "  </tbody>\n",
       "</table>\n",
       "</div>"
      ],
      "text/plain": [
       "            ImageId                                   PredictionString\n",
       "0  21135d5ed0e7a0b7  0.452779 /m/04yx4 0.0003781 0.1268279 0.401416...\n",
       "1  763c72626bf24534  0.099231 /m/01599 0.8733627 0.7974629 0.908448...\n",
       "2  7540c162180973b1                                                NaN\n",
       "3  c4e522dce52cb02f  0.093656 /m/04yx4 0.8541945 0.3647041 0.972777...\n",
       "4  cafcd9496c808085  0.175269 /m/01_5g 0.7968998 0.0202855 0.997210..."
      ]
     },
     "execution_count": 7,
     "metadata": {},
     "output_type": "execute_result"
    }
   ],
   "source": [
    "df_on = pd.read_csv('/mnt/chicm/open-images-vrd/vrd/on/sub_on_0922_1.csv')\n",
    "df_on.head()"
   ]
  },
  {
   "cell_type": "code",
   "execution_count": null,
   "metadata": {},
   "outputs": [],
   "source": []
  }
 ],
 "metadata": {
  "kernelspec": {
   "display_name": "Python 3",
   "language": "python",
   "name": "python3"
  },
  "language_info": {
   "codemirror_mode": {
    "name": "ipython",
    "version": 3
   },
   "file_extension": ".py",
   "mimetype": "text/x-python",
   "name": "python",
   "nbconvert_exporter": "python",
   "pygments_lexer": "ipython3",
   "version": "3.7.3"
  }
 },
 "nbformat": 4,
 "nbformat_minor": 2
}
