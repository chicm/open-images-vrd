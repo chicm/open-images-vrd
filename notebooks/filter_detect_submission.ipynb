{
 "cells": [
  {
   "cell_type": "code",
   "execution_count": 1,
   "metadata": {},
   "outputs": [],
   "source": [
    "import os\n",
    "import numpy as np\n",
    "import pandas as pd\n",
    "import torch\n",
    "import os\n",
    "import json\n",
    "import pandas as pd\n",
    "from PIL import Image\n",
    "from matplotlib.pyplot import imshow\n",
    "import matplotlib.pyplot as plt\n",
    "import cv2\n",
    "import numpy as np\n",
    "%matplotlib inline\n",
    "from tqdm import tqdm\n",
    "import glob\n",
    "import pickle"
   ]
  },
  {
   "cell_type": "code",
   "execution_count": 2,
   "metadata": {},
   "outputs": [],
   "source": [
    "DATA_DIR = '/mnt/chicm/data/open-images/relation'"
   ]
  },
  {
   "cell_type": "code",
   "execution_count": 3,
   "metadata": {},
   "outputs": [],
   "source": [
    "def get_top_classes(start_index=0, end_index=57):\n",
    "    df = pd.read_csv(os.path.join(DATA_DIR, 'top_classes.csv'))\n",
    "    #print(df.shape)\n",
    "    c = df['class'].values[start_index:end_index]\n",
    "    #print(df.head())\n",
    "    stoi = { c[i]: i for i in range(len(c)) }\n",
    "    return c, stoi\n"
   ]
  },
  {
   "cell_type": "code",
   "execution_count": 4,
   "metadata": {},
   "outputs": [
    {
     "data": {
      "text/plain": [
       "array(['/m/04yx4', '/m/03bt1vf', '/m/0k4j', '/m/05r655', '/m/01mzpv'],\n",
       "      dtype=object)"
      ]
     },
     "execution_count": 4,
     "metadata": {},
     "output_type": "execute_result"
    }
   ],
   "source": [
    "classes, _ = get_top_classes()\n",
    "classes[:5]"
   ]
  },
  {
   "cell_type": "code",
   "execution_count": 5,
   "metadata": {},
   "outputs": [],
   "source": [
    "classes_57 = set(classes)"
   ]
  },
  {
   "cell_type": "code",
   "execution_count": 6,
   "metadata": {},
   "outputs": [],
   "source": [
    "def get_det(pred_str):\n",
    "    dets = []\n",
    "    det = []\n",
    "    for i, e in enumerate(pred_str.split(' ')):\n",
    "        if i % 6 == 0:\n",
    "            det = []\n",
    "        det.append(e)\n",
    "        if (i+1) % 6 == 0:\n",
    "            if det[0] in classes_57: #and float(det[1]) > 0.1:\n",
    "                dets.append(det)\n",
    "            \n",
    "    return dets"
   ]
  },
  {
   "cell_type": "code",
   "execution_count": 7,
   "metadata": {},
   "outputs": [
    {
     "name": "stdout",
     "output_type": "stream",
     "text": [
      "total 3.2G\r\n",
      "-rw-rw-r-- 1 core core 319M Sep 26 16:07 det_filter_57_lb61973_top200.csv\r\n",
      "-rw-rw-r-- 1 core core 368M Sep 27 04:47 det_filter_57_lb61973_top400.csv\r\n",
      "-rw-rw-r-- 1 core core 971M Sep 27 07:04 ensemble_chicm_od619_0927_top300.csv\r\n",
      "-rw-rw-r-- 1 core core 911M Sep 26 15:53 final_ensemble_20190926_triple_high_thres.csv.zip\r\n",
      "-rw-rw-r-- 1 core core 500M Sep 28 14:50 final_vrd_57_ensemble_20190928_5.csv\r\n",
      "-rw-rw-r-- 1 core core 148M Sep 29 09:41 final_vrd_57_ensemble_20190928_5.csv.zip\r\n"
     ]
    }
   ],
   "source": [
    "!ls ../vrd/det -lh"
   ]
  },
  {
   "cell_type": "code",
   "execution_count": 9,
   "metadata": {},
   "outputs": [
    {
     "data": {
      "text/html": [
       "<div>\n",
       "<style scoped>\n",
       "    .dataframe tbody tr th:only-of-type {\n",
       "        vertical-align: middle;\n",
       "    }\n",
       "\n",
       "    .dataframe tbody tr th {\n",
       "        vertical-align: top;\n",
       "    }\n",
       "\n",
       "    .dataframe thead th {\n",
       "        text-align: right;\n",
       "    }\n",
       "</style>\n",
       "<table border=\"1\" class=\"dataframe\">\n",
       "  <thead>\n",
       "    <tr style=\"text-align: right;\">\n",
       "      <th></th>\n",
       "      <th>ImageId</th>\n",
       "      <th>PredictionString</th>\n",
       "    </tr>\n",
       "  </thead>\n",
       "  <tbody>\n",
       "    <tr>\n",
       "      <th>0</th>\n",
       "      <td>00000b4dcff7f799</td>\n",
       "      <td>/m/04yx4 0.7008 0.8608 0.3073 0.9540 0.8078 /m...</td>\n",
       "    </tr>\n",
       "    <tr>\n",
       "      <th>1</th>\n",
       "      <td>00001a21632de752</td>\n",
       "      <td>/m/04yx4 0.6949 0.0076 0.4901 0.1846 0.9072 /m...</td>\n",
       "    </tr>\n",
       "    <tr>\n",
       "      <th>2</th>\n",
       "      <td>0000d67245642c5f</td>\n",
       "      <td>/m/05r5c 0.0130 0.1470 0.0110 1.0000 1.0000 /m...</td>\n",
       "    </tr>\n",
       "    <tr>\n",
       "      <th>3</th>\n",
       "      <td>0001244aa8ed3099</td>\n",
       "      <td>/m/0k4j 0.0457 0.2855 0.5084 0.4370 0.5919 /m/...</td>\n",
       "    </tr>\n",
       "    <tr>\n",
       "      <th>4</th>\n",
       "      <td>000172d1dd1adce0</td>\n",
       "      <td>/m/0bt9lr 0.0070 0.2530 0.0610 0.7850 0.8130 /...</td>\n",
       "    </tr>\n",
       "  </tbody>\n",
       "</table>\n",
       "</div>"
      ],
      "text/plain": [
       "            ImageId                                   PredictionString\n",
       "0  00000b4dcff7f799  /m/04yx4 0.7008 0.8608 0.3073 0.9540 0.8078 /m...\n",
       "1  00001a21632de752  /m/04yx4 0.6949 0.0076 0.4901 0.1846 0.9072 /m...\n",
       "2  0000d67245642c5f  /m/05r5c 0.0130 0.1470 0.0110 1.0000 1.0000 /m...\n",
       "3  0001244aa8ed3099  /m/0k4j 0.0457 0.2855 0.5084 0.4370 0.5919 /m/...\n",
       "4  000172d1dd1adce0  /m/0bt9lr 0.0070 0.2530 0.0610 0.7850 0.8130 /..."
      ]
     },
     "execution_count": 9,
     "metadata": {},
     "output_type": "execute_result"
    }
   ],
   "source": [
    "df_det = pd.read_csv('../vrd/det/final_vrd_57_ensemble_20190928_5.csv')\n",
    "#df_det = pd.read_csv('/mnt/chicm/open-images-vrd/vrd/lb25388/ensemble_detect_57_0820_1_top100.csv')\n",
    "\n",
    "df_det.head()"
   ]
  },
  {
   "cell_type": "code",
   "execution_count": 10,
   "metadata": {},
   "outputs": [
    {
     "data": {
      "text/html": [
       "<div>\n",
       "<style scoped>\n",
       "    .dataframe tbody tr th:only-of-type {\n",
       "        vertical-align: middle;\n",
       "    }\n",
       "\n",
       "    .dataframe tbody tr th {\n",
       "        vertical-align: top;\n",
       "    }\n",
       "\n",
       "    .dataframe thead th {\n",
       "        text-align: right;\n",
       "    }\n",
       "</style>\n",
       "<table border=\"1\" class=\"dataframe\">\n",
       "  <thead>\n",
       "    <tr style=\"text-align: right;\">\n",
       "      <th></th>\n",
       "      <th>ImageId</th>\n",
       "      <th>PredictionString</th>\n",
       "      <th>dets</th>\n",
       "    </tr>\n",
       "  </thead>\n",
       "  <tbody>\n",
       "    <tr>\n",
       "      <th>0</th>\n",
       "      <td>00000b4dcff7f799</td>\n",
       "      <td>/m/04yx4 0.7008 0.8608 0.3073 0.9540 0.8078 /m...</td>\n",
       "      <td>[[/m/04yx4, 0.7008, 0.8608, 0.3073, 0.9540, 0....</td>\n",
       "    </tr>\n",
       "    <tr>\n",
       "      <th>1</th>\n",
       "      <td>00001a21632de752</td>\n",
       "      <td>/m/04yx4 0.6949 0.0076 0.4901 0.1846 0.9072 /m...</td>\n",
       "      <td>[[/m/04yx4, 0.6949, 0.0076, 0.4901, 0.1846, 0....</td>\n",
       "    </tr>\n",
       "    <tr>\n",
       "      <th>2</th>\n",
       "      <td>0000d67245642c5f</td>\n",
       "      <td>/m/05r5c 0.0130 0.1470 0.0110 1.0000 1.0000 /m...</td>\n",
       "      <td>[[/m/05r5c, 0.0130, 0.1470, 0.0110, 1.0000, 1....</td>\n",
       "    </tr>\n",
       "    <tr>\n",
       "      <th>3</th>\n",
       "      <td>0001244aa8ed3099</td>\n",
       "      <td>/m/0k4j 0.0457 0.2855 0.5084 0.4370 0.5919 /m/...</td>\n",
       "      <td>[[/m/0k4j, 0.0457, 0.2855, 0.5084, 0.4370, 0.5...</td>\n",
       "    </tr>\n",
       "    <tr>\n",
       "      <th>4</th>\n",
       "      <td>000172d1dd1adce0</td>\n",
       "      <td>/m/0bt9lr 0.0070 0.2530 0.0610 0.7850 0.8130 /...</td>\n",
       "      <td>[[/m/0bt9lr, 0.0070, 0.2530, 0.0610, 0.7850, 0...</td>\n",
       "    </tr>\n",
       "  </tbody>\n",
       "</table>\n",
       "</div>"
      ],
      "text/plain": [
       "            ImageId                                   PredictionString  \\\n",
       "0  00000b4dcff7f799  /m/04yx4 0.7008 0.8608 0.3073 0.9540 0.8078 /m...   \n",
       "1  00001a21632de752  /m/04yx4 0.6949 0.0076 0.4901 0.1846 0.9072 /m...   \n",
       "2  0000d67245642c5f  /m/05r5c 0.0130 0.1470 0.0110 1.0000 1.0000 /m...   \n",
       "3  0001244aa8ed3099  /m/0k4j 0.0457 0.2855 0.5084 0.4370 0.5919 /m/...   \n",
       "4  000172d1dd1adce0  /m/0bt9lr 0.0070 0.2530 0.0610 0.7850 0.8130 /...   \n",
       "\n",
       "                                                dets  \n",
       "0  [[/m/04yx4, 0.7008, 0.8608, 0.3073, 0.9540, 0....  \n",
       "1  [[/m/04yx4, 0.6949, 0.0076, 0.4901, 0.1846, 0....  \n",
       "2  [[/m/05r5c, 0.0130, 0.1470, 0.0110, 1.0000, 1....  \n",
       "3  [[/m/0k4j, 0.0457, 0.2855, 0.5084, 0.4370, 0.5...  \n",
       "4  [[/m/0bt9lr, 0.0070, 0.2530, 0.0610, 0.7850, 0...  "
      ]
     },
     "execution_count": 10,
     "metadata": {},
     "output_type": "execute_result"
    }
   ],
   "source": [
    "df_det['dets'] = df_det.PredictionString.map(lambda x: get_det(str(x)))\n",
    "df_det.head()"
   ]
  },
  {
   "cell_type": "code",
   "execution_count": 11,
   "metadata": {},
   "outputs": [
    {
     "data": {
      "text/plain": [
       "1657"
      ]
     },
     "execution_count": 11,
     "metadata": {},
     "output_type": "execute_result"
    }
   ],
   "source": [
    "df_det.dets.map(lambda x: len(x)).values.max()"
   ]
  },
  {
   "cell_type": "code",
   "execution_count": 12,
   "metadata": {},
   "outputs": [
    {
     "data": {
      "text/plain": [
       "11682665"
      ]
     },
     "execution_count": 12,
     "metadata": {},
     "output_type": "execute_result"
    }
   ],
   "source": [
    "df_det.dets.map(lambda x: len(x)).values.sum()"
   ]
  },
  {
   "cell_type": "code",
   "execution_count": 13,
   "metadata": {},
   "outputs": [
    {
     "data": {
      "text/plain": [
       "0"
      ]
     },
     "execution_count": 13,
     "metadata": {},
     "output_type": "execute_result"
    }
   ],
   "source": [
    "df_det.dets.map(lambda x: len(x)).values.min()"
   ]
  },
  {
   "cell_type": "code",
   "execution_count": 14,
   "metadata": {},
   "outputs": [],
   "source": [
    "def get_pred_str(dets):\n",
    "    if len(dets) < 1:\n",
    "        return ''\n",
    "    res = []\n",
    "    dets = sorted(dets, key=lambda x: x[1], reverse=True)[:200]\n",
    "    for det in dets:\n",
    "        res.extend(det)\n",
    "        \n",
    "    return ' '.join(res)"
   ]
  },
  {
   "cell_type": "code",
   "execution_count": 15,
   "metadata": {},
   "outputs": [
    {
     "data": {
      "text/html": [
       "<div>\n",
       "<style scoped>\n",
       "    .dataframe tbody tr th:only-of-type {\n",
       "        vertical-align: middle;\n",
       "    }\n",
       "\n",
       "    .dataframe tbody tr th {\n",
       "        vertical-align: top;\n",
       "    }\n",
       "\n",
       "    .dataframe thead th {\n",
       "        text-align: right;\n",
       "    }\n",
       "</style>\n",
       "<table border=\"1\" class=\"dataframe\">\n",
       "  <thead>\n",
       "    <tr style=\"text-align: right;\">\n",
       "      <th></th>\n",
       "      <th>ImageId</th>\n",
       "      <th>PredictionString</th>\n",
       "      <th>dets</th>\n",
       "    </tr>\n",
       "  </thead>\n",
       "  <tbody>\n",
       "    <tr>\n",
       "      <th>0</th>\n",
       "      <td>00000b4dcff7f799</td>\n",
       "      <td>/m/04yx4 0.7008 0.8608 0.3073 0.9540 0.8078 /m...</td>\n",
       "      <td>[[/m/04yx4, 0.7008, 0.8608, 0.3073, 0.9540, 0....</td>\n",
       "    </tr>\n",
       "    <tr>\n",
       "      <th>1</th>\n",
       "      <td>00001a21632de752</td>\n",
       "      <td>/m/04yx4 0.7176 0.6143 0.4868 0.7604 0.7347 /m...</td>\n",
       "      <td>[[/m/04yx4, 0.6949, 0.0076, 0.4901, 0.1846, 0....</td>\n",
       "    </tr>\n",
       "    <tr>\n",
       "      <th>2</th>\n",
       "      <td>0000d67245642c5f</td>\n",
       "      <td>/m/04ctx 0.0280 0.2441 0.2870 0.6494 0.8960 /m...</td>\n",
       "      <td>[[/m/05r5c, 0.0130, 0.1470, 0.0110, 1.0000, 1....</td>\n",
       "    </tr>\n",
       "    <tr>\n",
       "      <th>3</th>\n",
       "      <td>0001244aa8ed3099</td>\n",
       "      <td>/m/0k4j 0.0457 0.2855 0.5084 0.4370 0.5919 /m/...</td>\n",
       "      <td>[[/m/0k4j, 0.0457, 0.2855, 0.5084, 0.4370, 0.5...</td>\n",
       "    </tr>\n",
       "    <tr>\n",
       "      <th>4</th>\n",
       "      <td>000172d1dd1adce0</td>\n",
       "      <td>/m/04ctx 0.0230 0.3545 0.0469 0.8018 0.7683 /m...</td>\n",
       "      <td>[[/m/0bt9lr, 0.0070, 0.2530, 0.0610, 0.7850, 0...</td>\n",
       "    </tr>\n",
       "  </tbody>\n",
       "</table>\n",
       "</div>"
      ],
      "text/plain": [
       "            ImageId                                   PredictionString  \\\n",
       "0  00000b4dcff7f799  /m/04yx4 0.7008 0.8608 0.3073 0.9540 0.8078 /m...   \n",
       "1  00001a21632de752  /m/04yx4 0.7176 0.6143 0.4868 0.7604 0.7347 /m...   \n",
       "2  0000d67245642c5f  /m/04ctx 0.0280 0.2441 0.2870 0.6494 0.8960 /m...   \n",
       "3  0001244aa8ed3099  /m/0k4j 0.0457 0.2855 0.5084 0.4370 0.5919 /m/...   \n",
       "4  000172d1dd1adce0  /m/04ctx 0.0230 0.3545 0.0469 0.8018 0.7683 /m...   \n",
       "\n",
       "                                                dets  \n",
       "0  [[/m/04yx4, 0.7008, 0.8608, 0.3073, 0.9540, 0....  \n",
       "1  [[/m/04yx4, 0.6949, 0.0076, 0.4901, 0.1846, 0....  \n",
       "2  [[/m/05r5c, 0.0130, 0.1470, 0.0110, 1.0000, 1....  \n",
       "3  [[/m/0k4j, 0.0457, 0.2855, 0.5084, 0.4370, 0.5...  \n",
       "4  [[/m/0bt9lr, 0.0070, 0.2530, 0.0610, 0.7850, 0...  "
      ]
     },
     "execution_count": 15,
     "metadata": {},
     "output_type": "execute_result"
    }
   ],
   "source": [
    "df_det['PredictionString'] = df_det.dets.map(lambda x: get_pred_str(x))\n",
    "df_det.head()"
   ]
  },
  {
   "cell_type": "code",
   "execution_count": null,
   "metadata": {},
   "outputs": [],
   "source": [
    "df_det.to_csv('../vrd/det/det_filter_57_gjx0929_top200.csv', columns=['ImageId', 'PredictionString'], index=False)"
   ]
  },
  {
   "cell_type": "code",
   "execution_count": 35,
   "metadata": {},
   "outputs": [
    {
     "name": "stdout",
     "output_type": "stream",
     "text": [
      "100%|████████████████████████████████████████| 297M/297M [00:18<00:00, 16.5MB/s]\n",
      "Successfully submitted to Open Images 2019 - Object Detection"
     ]
    }
   ],
   "source": [
    "#!kaggle competitions submit -c open-images-2019-object-detection -f sub_filter_57_top150.csv -m \"submit\""
   ]
  },
  {
   "cell_type": "code",
   "execution_count": null,
   "metadata": {},
   "outputs": [],
   "source": []
  }
 ],
 "metadata": {
  "kernelspec": {
   "display_name": "Python 3",
   "language": "python",
   "name": "python3"
  },
  "language_info": {
   "codemirror_mode": {
    "name": "ipython",
    "version": 3
   },
   "file_extension": ".py",
   "mimetype": "text/x-python",
   "name": "python",
   "nbconvert_exporter": "python",
   "pygments_lexer": "ipython3",
   "version": "3.7.3"
  }
 },
 "nbformat": 4,
 "nbformat_minor": 2
}
