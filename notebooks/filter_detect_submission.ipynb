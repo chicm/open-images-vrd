{
 "cells": [
  {
   "cell_type": "code",
   "execution_count": 8,
   "metadata": {},
   "outputs": [],
   "source": [
    "import os\n",
    "import numpy as np\n",
    "import pandas as pd\n",
    "import torch\n",
    "import os\n",
    "import json\n",
    "import pandas as pd\n",
    "from PIL import Image\n",
    "from matplotlib.pyplot import imshow\n",
    "import matplotlib.pyplot as plt\n",
    "import cv2\n",
    "import numpy as np\n",
    "%matplotlib inline\n",
    "from tqdm import tqdm\n",
    "import glob\n",
    "import pickle"
   ]
  },
  {
   "cell_type": "code",
   "execution_count": 9,
   "metadata": {},
   "outputs": [],
   "source": [
    "DATA_DIR = '/mnt/chicm/data/open-images/relation'"
   ]
  },
  {
   "cell_type": "code",
   "execution_count": 10,
   "metadata": {},
   "outputs": [],
   "source": [
    "def get_top_classes(start_index=0, end_index=57):\n",
    "    df = pd.read_csv(os.path.join(DATA_DIR, 'top_classes.csv'))\n",
    "    #print(df.shape)\n",
    "    c = df['class'].values[start_index:end_index]\n",
    "    #print(df.head())\n",
    "    stoi = { c[i]: i for i in range(len(c)) }\n",
    "    return c, stoi\n"
   ]
  },
  {
   "cell_type": "code",
   "execution_count": 11,
   "metadata": {},
   "outputs": [
    {
     "data": {
      "text/plain": [
       "array(['/m/04yx4', '/m/03bt1vf', '/m/0k4j', '/m/05r655', '/m/01mzpv'],\n",
       "      dtype=object)"
      ]
     },
     "execution_count": 11,
     "metadata": {},
     "output_type": "execute_result"
    }
   ],
   "source": [
    "classes, _ = get_top_classes()\n",
    "classes[:5]"
   ]
  },
  {
   "cell_type": "code",
   "execution_count": 12,
   "metadata": {},
   "outputs": [],
   "source": [
    "classes_57 = set(classes)"
   ]
  },
  {
   "cell_type": "code",
   "execution_count": 13,
   "metadata": {},
   "outputs": [],
   "source": [
    "def get_det(pred_str):\n",
    "    dets = []\n",
    "    det = []\n",
    "    for i, e in enumerate(pred_str.split(' ')):\n",
    "        if i % 6 == 0:\n",
    "            det = []\n",
    "        det.append(e)\n",
    "        if (i+1) % 6 == 0:\n",
    "            if det[0] in classes_57: #and float(det[1]) > 0.1:\n",
    "                dets.append(det)\n",
    "            \n",
    "    return dets"
   ]
  },
  {
   "cell_type": "code",
   "execution_count": 14,
   "metadata": {},
   "outputs": [
    {
     "name": "stdout",
     "output_type": "stream",
     "text": [
      "all_models_team_submission_v1_large_20190813.csv\r\n",
      "all_models_team_submission_v1_large_20190813.csv.zip\r\n",
      "catboost_info\r\n",
      "cat_feature_index.c1a4dabd-715a703f-75517141-d81266d1.tmp\r\n",
      "cat_feature_index.e36fdba6-6cd399f6-229ea45f-ea07b906.tmp\r\n",
      "detect-57-ensemble.ipynb\r\n",
      "eda.ipynb\r\n",
      "ensemble_detect_57_0808_1.csv\r\n",
      "ensemble_detect_57_0808_1_top50.csv\r\n",
      "ensemble_detect_57_0808_2_with_weights.csv\r\n",
      "ensemble_detect_57_0819_1.csv\r\n",
      "ensemble_detect_57_0819_2.csv\r\n",
      "ensemble_detect_57_0820_1_top100.csv\r\n",
      "ensemble_is_42_0808_1_3_models.csv\r\n",
      "filter_detect_submission.ipynb\r\n",
      "Is-classifier-6-eda.ipynb\r\n",
      "Is-detect-42-eda.ipynb\r\n",
      "lb18901\r\n",
      "lb19252\r\n",
      "lb26760\r\n",
      "lb28188\r\n",
      "merge_0808_1.csv.zip\r\n",
      "merge_0808_2.csv.zip\r\n",
      "merge_0820_1.csv.zip\r\n",
      "merge_0821_1.csv.zip\r\n",
      "merge_df.ipynb\r\n",
      "sub_detect_57\r\n",
      "sub_is_42\r\n",
      "submit-detect-57.ipynb\r\n",
      "submit-is-42-ensemble.ipynb\r\n",
      "submit-is-42.ipynb\r\n",
      "submit-is-6-catboost.ipynb\r\n",
      "submit-is-6.ipynb\r\n",
      "subs\r\n",
      "sub_sort_200_0808_1_fast_ensemble_detect.csv\r\n",
      "sub_sort_200_0808_2_fast_ensemble_detect_weights.csv\r\n",
      "sub_sort_200_0819_2_fast_ensemble.csv\r\n",
      "sub_sort_200_0820_1_fast_ensemble.csv\r\n",
      "sub_sort_200_0820_2_fast_ensemble.csv\r\n",
      "sub_sort_300_0819_3_fast_ensemble.csv\r\n",
      "sub_tuple\r\n",
      "tmp_pos_rel.csv\r\n",
      "tuple-rel-classifier-Copy1.ipynb\r\n",
      "tuple-rel-classifier.ipynb\r\n",
      "tuple-rel-classifier-new.ipynb\r\n",
      "tuple-rel-classifier-new-lb18901.ipynb\r\n"
     ]
    }
   ],
   "source": [
    "!ls"
   ]
  },
  {
   "cell_type": "code",
   "execution_count": 15,
   "metadata": {},
   "outputs": [
    {
     "data": {
      "text/html": [
       "<div>\n",
       "<style scoped>\n",
       "    .dataframe tbody tr th:only-of-type {\n",
       "        vertical-align: middle;\n",
       "    }\n",
       "\n",
       "    .dataframe tbody tr th {\n",
       "        vertical-align: top;\n",
       "    }\n",
       "\n",
       "    .dataframe thead th {\n",
       "        text-align: right;\n",
       "    }\n",
       "</style>\n",
       "<table border=\"1\" class=\"dataframe\">\n",
       "  <thead>\n",
       "    <tr style=\"text-align: right;\">\n",
       "      <th></th>\n",
       "      <th>ImageId</th>\n",
       "      <th>PredictionString</th>\n",
       "    </tr>\n",
       "  </thead>\n",
       "  <tbody>\n",
       "    <tr>\n",
       "      <th>0</th>\n",
       "      <td>00000b4dcff7f799</td>\n",
       "      <td>/m/04yx4 0.528 0.860 0.305 0.956 0.811 /m/04yx...</td>\n",
       "    </tr>\n",
       "    <tr>\n",
       "      <th>1</th>\n",
       "      <td>00001a21632de752</td>\n",
       "      <td>/m/04yx4 0.512 0.007 0.491 0.188 0.935 /m/04yx...</td>\n",
       "    </tr>\n",
       "    <tr>\n",
       "      <th>2</th>\n",
       "      <td>0000d67245642c5f</td>\n",
       "      <td>/m/0d4v4 0.112 0.516 0.214 0.544 0.259 /m/0d4v...</td>\n",
       "    </tr>\n",
       "    <tr>\n",
       "      <th>3</th>\n",
       "      <td>0001244aa8ed3099</td>\n",
       "      <td>/m/04yx4 0.004 0.898 0.295 0.999 0.535 /m/04yx...</td>\n",
       "    </tr>\n",
       "    <tr>\n",
       "      <th>4</th>\n",
       "      <td>000172d1dd1adce0</td>\n",
       "      <td>/m/04yx4 0.005 0.638 0.021 0.687 0.188 /m/0d4v...</td>\n",
       "    </tr>\n",
       "  </tbody>\n",
       "</table>\n",
       "</div>"
      ],
      "text/plain": [
       "            ImageId                                   PredictionString\n",
       "0  00000b4dcff7f799  /m/04yx4 0.528 0.860 0.305 0.956 0.811 /m/04yx...\n",
       "1  00001a21632de752  /m/04yx4 0.512 0.007 0.491 0.188 0.935 /m/04yx...\n",
       "2  0000d67245642c5f  /m/0d4v4 0.112 0.516 0.214 0.544 0.259 /m/0d4v...\n",
       "3  0001244aa8ed3099  /m/04yx4 0.004 0.898 0.295 0.999 0.535 /m/04yx...\n",
       "4  000172d1dd1adce0  /m/04yx4 0.005 0.638 0.021 0.687 0.188 /m/0d4v..."
      ]
     },
     "execution_count": 15,
     "metadata": {},
     "output_type": "execute_result"
    }
   ],
   "source": [
    "df_det = pd.read_csv('all_models_team_submission_v1_large_20190813.csv')\n",
    "df_det.head()"
   ]
  },
  {
   "cell_type": "code",
   "execution_count": 16,
   "metadata": {},
   "outputs": [
    {
     "data": {
      "text/html": [
       "<div>\n",
       "<style scoped>\n",
       "    .dataframe tbody tr th:only-of-type {\n",
       "        vertical-align: middle;\n",
       "    }\n",
       "\n",
       "    .dataframe tbody tr th {\n",
       "        vertical-align: top;\n",
       "    }\n",
       "\n",
       "    .dataframe thead th {\n",
       "        text-align: right;\n",
       "    }\n",
       "</style>\n",
       "<table border=\"1\" class=\"dataframe\">\n",
       "  <thead>\n",
       "    <tr style=\"text-align: right;\">\n",
       "      <th></th>\n",
       "      <th>ImageId</th>\n",
       "      <th>PredictionString</th>\n",
       "      <th>dets</th>\n",
       "    </tr>\n",
       "  </thead>\n",
       "  <tbody>\n",
       "    <tr>\n",
       "      <th>0</th>\n",
       "      <td>00000b4dcff7f799</td>\n",
       "      <td>/m/04yx4 0.528 0.860 0.305 0.956 0.811 /m/04yx...</td>\n",
       "      <td>[[/m/04yx4, 0.528, 0.860, 0.305, 0.956, 0.811]...</td>\n",
       "    </tr>\n",
       "    <tr>\n",
       "      <th>1</th>\n",
       "      <td>00001a21632de752</td>\n",
       "      <td>/m/04yx4 0.512 0.007 0.491 0.188 0.935 /m/04yx...</td>\n",
       "      <td>[[/m/04yx4, 0.512, 0.007, 0.491, 0.188, 0.935]...</td>\n",
       "    </tr>\n",
       "    <tr>\n",
       "      <th>2</th>\n",
       "      <td>0000d67245642c5f</td>\n",
       "      <td>/m/0d4v4 0.112 0.516 0.214 0.544 0.259 /m/0d4v...</td>\n",
       "      <td>[[/m/05r5c, 0.026, 0.147, 0.011, 1.000, 1.000]]</td>\n",
       "    </tr>\n",
       "    <tr>\n",
       "      <th>3</th>\n",
       "      <td>0001244aa8ed3099</td>\n",
       "      <td>/m/04yx4 0.004 0.898 0.295 0.999 0.535 /m/04yx...</td>\n",
       "      <td>[[/m/04yx4, 0.004, 0.898, 0.295, 0.999, 0.535]...</td>\n",
       "    </tr>\n",
       "    <tr>\n",
       "      <th>4</th>\n",
       "      <td>000172d1dd1adce0</td>\n",
       "      <td>/m/04yx4 0.005 0.638 0.021 0.687 0.188 /m/0d4v...</td>\n",
       "      <td>[[/m/04yx4, 0.005, 0.638, 0.021, 0.687, 0.188]...</td>\n",
       "    </tr>\n",
       "  </tbody>\n",
       "</table>\n",
       "</div>"
      ],
      "text/plain": [
       "            ImageId                                   PredictionString  \\\n",
       "0  00000b4dcff7f799  /m/04yx4 0.528 0.860 0.305 0.956 0.811 /m/04yx...   \n",
       "1  00001a21632de752  /m/04yx4 0.512 0.007 0.491 0.188 0.935 /m/04yx...   \n",
       "2  0000d67245642c5f  /m/0d4v4 0.112 0.516 0.214 0.544 0.259 /m/0d4v...   \n",
       "3  0001244aa8ed3099  /m/04yx4 0.004 0.898 0.295 0.999 0.535 /m/04yx...   \n",
       "4  000172d1dd1adce0  /m/04yx4 0.005 0.638 0.021 0.687 0.188 /m/0d4v...   \n",
       "\n",
       "                                                dets  \n",
       "0  [[/m/04yx4, 0.528, 0.860, 0.305, 0.956, 0.811]...  \n",
       "1  [[/m/04yx4, 0.512, 0.007, 0.491, 0.188, 0.935]...  \n",
       "2    [[/m/05r5c, 0.026, 0.147, 0.011, 1.000, 1.000]]  \n",
       "3  [[/m/04yx4, 0.004, 0.898, 0.295, 0.999, 0.535]...  \n",
       "4  [[/m/04yx4, 0.005, 0.638, 0.021, 0.687, 0.188]...  "
      ]
     },
     "execution_count": 16,
     "metadata": {},
     "output_type": "execute_result"
    }
   ],
   "source": [
    "df_det['dets'] = df_det.PredictionString.map(lambda x: get_det(str(x)))\n",
    "df_det.head()"
   ]
  },
  {
   "cell_type": "code",
   "execution_count": 30,
   "metadata": {},
   "outputs": [
    {
     "data": {
      "text/plain": [
       "11084973"
      ]
     },
     "execution_count": 30,
     "metadata": {},
     "output_type": "execute_result"
    }
   ],
   "source": [
    "df_det.dets.map(lambda x: len(x)).values.sum()"
   ]
  },
  {
   "cell_type": "code",
   "execution_count": 31,
   "metadata": {},
   "outputs": [
    {
     "data": {
      "text/plain": [
       "0"
      ]
     },
     "execution_count": 31,
     "metadata": {},
     "output_type": "execute_result"
    }
   ],
   "source": [
    "df_det.dets.map(lambda x: len(x)).values.min()"
   ]
  },
  {
   "cell_type": "code",
   "execution_count": 32,
   "metadata": {},
   "outputs": [],
   "source": [
    "def get_pred_str(dets):\n",
    "    if len(dets) < 1:\n",
    "        return ''\n",
    "    res = []\n",
    "    dets = sorted(dets, key=lambda x: x[1], reverse=True)[:150]\n",
    "    for det in dets:\n",
    "        res.extend(det)\n",
    "        \n",
    "    return ' '.join(res)"
   ]
  },
  {
   "cell_type": "code",
   "execution_count": 33,
   "metadata": {},
   "outputs": [
    {
     "data": {
      "text/html": [
       "<div>\n",
       "<style scoped>\n",
       "    .dataframe tbody tr th:only-of-type {\n",
       "        vertical-align: middle;\n",
       "    }\n",
       "\n",
       "    .dataframe tbody tr th {\n",
       "        vertical-align: top;\n",
       "    }\n",
       "\n",
       "    .dataframe thead th {\n",
       "        text-align: right;\n",
       "    }\n",
       "</style>\n",
       "<table border=\"1\" class=\"dataframe\">\n",
       "  <thead>\n",
       "    <tr style=\"text-align: right;\">\n",
       "      <th></th>\n",
       "      <th>ImageId</th>\n",
       "      <th>PredictionString</th>\n",
       "      <th>dets</th>\n",
       "    </tr>\n",
       "  </thead>\n",
       "  <tbody>\n",
       "    <tr>\n",
       "      <th>0</th>\n",
       "      <td>00000b4dcff7f799</td>\n",
       "      <td>/m/04yx4 0.528 0.860 0.305 0.956 0.811 /m/04yx...</td>\n",
       "      <td>[[/m/04yx4, 0.528, 0.860, 0.305, 0.956, 0.811]...</td>\n",
       "    </tr>\n",
       "    <tr>\n",
       "      <th>1</th>\n",
       "      <td>00001a21632de752</td>\n",
       "      <td>/m/04yx4 0.679 0.613 0.494 0.760 0.731 /m/03bt...</td>\n",
       "      <td>[[/m/04yx4, 0.512, 0.007, 0.491, 0.188, 0.935]...</td>\n",
       "    </tr>\n",
       "    <tr>\n",
       "      <th>2</th>\n",
       "      <td>0000d67245642c5f</td>\n",
       "      <td>/m/05r5c 0.026 0.147 0.011 1.000 1.000</td>\n",
       "      <td>[[/m/05r5c, 0.026, 0.147, 0.011, 1.000, 1.000]]</td>\n",
       "    </tr>\n",
       "    <tr>\n",
       "      <th>3</th>\n",
       "      <td>0001244aa8ed3099</td>\n",
       "      <td>/m/05ctyq 0.035 0.556 0.369 0.614 0.457 /m/0k4...</td>\n",
       "      <td>[[/m/04yx4, 0.004, 0.898, 0.295, 0.999, 0.535]...</td>\n",
       "    </tr>\n",
       "    <tr>\n",
       "      <th>4</th>\n",
       "      <td>000172d1dd1adce0</td>\n",
       "      <td>/m/0bt9lr 0.021 0.253 0.061 0.785 0.813 /m/04y...</td>\n",
       "      <td>[[/m/04yx4, 0.005, 0.638, 0.021, 0.687, 0.188]...</td>\n",
       "    </tr>\n",
       "  </tbody>\n",
       "</table>\n",
       "</div>"
      ],
      "text/plain": [
       "            ImageId                                   PredictionString  \\\n",
       "0  00000b4dcff7f799  /m/04yx4 0.528 0.860 0.305 0.956 0.811 /m/04yx...   \n",
       "1  00001a21632de752  /m/04yx4 0.679 0.613 0.494 0.760 0.731 /m/03bt...   \n",
       "2  0000d67245642c5f             /m/05r5c 0.026 0.147 0.011 1.000 1.000   \n",
       "3  0001244aa8ed3099  /m/05ctyq 0.035 0.556 0.369 0.614 0.457 /m/0k4...   \n",
       "4  000172d1dd1adce0  /m/0bt9lr 0.021 0.253 0.061 0.785 0.813 /m/04y...   \n",
       "\n",
       "                                                dets  \n",
       "0  [[/m/04yx4, 0.528, 0.860, 0.305, 0.956, 0.811]...  \n",
       "1  [[/m/04yx4, 0.512, 0.007, 0.491, 0.188, 0.935]...  \n",
       "2    [[/m/05r5c, 0.026, 0.147, 0.011, 1.000, 1.000]]  \n",
       "3  [[/m/04yx4, 0.004, 0.898, 0.295, 0.999, 0.535]...  \n",
       "4  [[/m/04yx4, 0.005, 0.638, 0.021, 0.687, 0.188]...  "
      ]
     },
     "execution_count": 33,
     "metadata": {},
     "output_type": "execute_result"
    }
   ],
   "source": [
    "df_det['PredictionString'] = df_det.dets.map(lambda x: get_pred_str(x))\n",
    "df_det.head()"
   ]
  },
  {
   "cell_type": "code",
   "execution_count": 34,
   "metadata": {},
   "outputs": [],
   "source": [
    "df_det.to_csv('sub_filter_57_top150.csv', columns=['ImageId', 'PredictionString'], index=False)"
   ]
  },
  {
   "cell_type": "code",
   "execution_count": 35,
   "metadata": {},
   "outputs": [
    {
     "name": "stdout",
     "output_type": "stream",
     "text": [
      "100%|████████████████████████████████████████| 297M/297M [00:18<00:00, 16.5MB/s]\n",
      "Successfully submitted to Open Images 2019 - Object Detection"
     ]
    }
   ],
   "source": [
    "!kaggle competitions submit -c open-images-2019-object-detection -f sub_filter_57_top150.csv -m \"submit\""
   ]
  },
  {
   "cell_type": "code",
   "execution_count": null,
   "metadata": {},
   "outputs": [],
   "source": []
  }
 ],
 "metadata": {
  "kernelspec": {
   "display_name": "Python 3",
   "language": "python",
   "name": "python3"
  },
  "language_info": {
   "codemirror_mode": {
    "name": "ipython",
    "version": 3
   },
   "file_extension": ".py",
   "mimetype": "text/x-python",
   "name": "python",
   "nbconvert_exporter": "python",
   "pygments_lexer": "ipython3",
   "version": "3.7.3"
  }
 },
 "nbformat": 4,
 "nbformat_minor": 2
}
