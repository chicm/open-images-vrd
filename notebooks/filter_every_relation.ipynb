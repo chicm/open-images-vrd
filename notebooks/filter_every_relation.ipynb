{
 "cells": [
  {
   "cell_type": "code",
   "execution_count": 63,
   "metadata": {},
   "outputs": [],
   "source": [
    "import os\n",
    "import numpy as np\n",
    "import pandas as pd\n",
    "import torch\n",
    "import os\n",
    "import json\n",
    "import pandas as pd\n",
    "from PIL import Image\n",
    "from matplotlib.pyplot import imshow\n",
    "import matplotlib.pyplot as plt\n",
    "import cv2\n",
    "import numpy as np\n",
    "%matplotlib inline\n",
    "from tqdm import tqdm\n",
    "import glob\n",
    "import pickle"
   ]
  },
  {
   "cell_type": "code",
   "execution_count": 64,
   "metadata": {},
   "outputs": [
    {
     "name": "stdout",
     "output_type": "stream",
     "text": [
      "detect-57-ensemble.ipynb\r\n",
      "detect-57-ensemble-level2.ipynb\r\n",
      "eda.ipynb\r\n",
      "filter_detect_submission.ipynb\r\n",
      "filter_every_relation.ipynb\r\n",
      "filter_rel_class.ipynb\r\n",
      "Is-classifier-6-eda.ipynb\r\n",
      "Is-detect-42-eda.ipynb\r\n",
      "Is-detector-result.ipynb\r\n",
      "lb18901\r\n",
      "lb19252\r\n",
      "lb26760\r\n",
      "merge_0905_1_plays_holds_insideof_on.csv\r\n",
      "merge_0905_1_plays_holds_insideof_on_top30.csv.zip\r\n",
      "merge_0905_1_plays_holds_insideof_on_top50.csv.zip\r\n",
      "merge_df.ipynb\r\n",
      "show-detections.ipynb\r\n",
      "submit-detect-57.ipynb\r\n",
      "submit-is-42-ensemble.ipynb\r\n",
      "submit-is-42.ipynb\r\n",
      "submit-is-6-catboost.ipynb\r\n",
      "submit-is-6.ipynb\r\n",
      "tmp.csv\r\n",
      "top_classes_42.csv\r\n",
      "top_classes.csv\r\n",
      "train_lgbm.ipynb\r\n",
      "tuple-rel-classifier.ipynb\r\n",
      "tuple-rel-classifier-new.ipynb\r\n",
      "tuple-rel-classifier-new-lb18901.ipynb\r\n"
     ]
    }
   ],
   "source": [
    "!ls"
   ]
  },
  {
   "cell_type": "code",
   "execution_count": 65,
   "metadata": {},
   "outputs": [
    {
     "data": {
      "text/html": [
       "<div>\n",
       "<style scoped>\n",
       "    .dataframe tbody tr th:only-of-type {\n",
       "        vertical-align: middle;\n",
       "    }\n",
       "\n",
       "    .dataframe tbody tr th {\n",
       "        vertical-align: top;\n",
       "    }\n",
       "\n",
       "    .dataframe thead th {\n",
       "        text-align: right;\n",
       "    }\n",
       "</style>\n",
       "<table border=\"1\" class=\"dataframe\">\n",
       "  <thead>\n",
       "    <tr style=\"text-align: right;\">\n",
       "      <th></th>\n",
       "      <th>ImageId</th>\n",
       "      <th>PredictionString</th>\n",
       "    </tr>\n",
       "  </thead>\n",
       "  <tbody>\n",
       "    <tr>\n",
       "      <th>0</th>\n",
       "      <td>21135d5ed0e7a0b7</td>\n",
       "      <td>0.387808 /m/04yx4 0.3756532 0.236988 0.7501363...</td>\n",
       "    </tr>\n",
       "    <tr>\n",
       "      <th>1</th>\n",
       "      <td>763c72626bf24534</td>\n",
       "      <td>0.77768 /m/04yx4 0.720626 0.5248438 0.950433 0...</td>\n",
       "    </tr>\n",
       "    <tr>\n",
       "      <th>2</th>\n",
       "      <td>7540c162180973b1</td>\n",
       "      <td>0.101016 /m/04yx4 0.9498244 0.3313462 0.9990...</td>\n",
       "    </tr>\n",
       "    <tr>\n",
       "      <th>3</th>\n",
       "      <td>c4e522dce52cb02f</td>\n",
       "      <td>0.702323 /m/04yx4 0.8541945 0.3647041 0.972777...</td>\n",
       "    </tr>\n",
       "    <tr>\n",
       "      <th>4</th>\n",
       "      <td>cafcd9496c808085</td>\n",
       "      <td>0.168493 /m/01_5g 0.7968998 0.0202855 0.99...</td>\n",
       "    </tr>\n",
       "  </tbody>\n",
       "</table>\n",
       "</div>"
      ],
      "text/plain": [
       "            ImageId                                   PredictionString\n",
       "0  21135d5ed0e7a0b7  0.387808 /m/04yx4 0.3756532 0.236988 0.7501363...\n",
       "1  763c72626bf24534  0.77768 /m/04yx4 0.720626 0.5248438 0.950433 0...\n",
       "2  7540c162180973b1    0.101016 /m/04yx4 0.9498244 0.3313462 0.9990...\n",
       "3  c4e522dce52cb02f  0.702323 /m/04yx4 0.8541945 0.3647041 0.972777...\n",
       "4  cafcd9496c808085      0.168493 /m/01_5g 0.7968998 0.0202855 0.99..."
      ]
     },
     "execution_count": 65,
     "metadata": {},
     "output_type": "execute_result"
    }
   ],
   "source": [
    "df = pd.read_csv('merge_0905_1_plays_holds_insideof_on.csv')\n",
    "df.head()"
   ]
  },
  {
   "cell_type": "code",
   "execution_count": 66,
   "metadata": {},
   "outputs": [],
   "source": [
    "df.PredictionString = df.PredictionString.fillna('')"
   ]
  },
  {
   "cell_type": "code",
   "execution_count": 67,
   "metadata": {},
   "outputs": [],
   "source": [
    "from collections import defaultdict\n",
    "TOPK = 80\n",
    "def get_filtered_pred_string(pred_str):\n",
    "    rel_dict = defaultdict(list)\n",
    "    if len(pred_str) < 1:\n",
    "        return ''\n",
    "    det = []\n",
    "    det_items = pred_str.split(' ')\n",
    "    det_items = [x for x in det_items if len(x) > 0]\n",
    "    for i, e in enumerate(det_items):\n",
    "        if i % 12 == 0:\n",
    "            det = []\n",
    "        det.append(e)\n",
    "        if (i+1) % 12 == 0:\n",
    "            #print(i, det[11])\n",
    "            rel_dict[det[11]].append(det)\n",
    "    res = []\n",
    "    for rel in rel_dict:\n",
    "        filtered_dets = sorted(rel_dict[rel], key=lambda x: x[0], reverse=True)[:TOPK]\n",
    "        for fd in filtered_dets:\n",
    "            res.append(' '.join(fd))\n",
    "    #print(rel_dict)\n",
    "    return ' '.join(res)"
   ]
  },
  {
   "cell_type": "code",
   "execution_count": 68,
   "metadata": {},
   "outputs": [
    {
     "data": {
      "text/html": [
       "<div>\n",
       "<style scoped>\n",
       "    .dataframe tbody tr th:only-of-type {\n",
       "        vertical-align: middle;\n",
       "    }\n",
       "\n",
       "    .dataframe tbody tr th {\n",
       "        vertical-align: top;\n",
       "    }\n",
       "\n",
       "    .dataframe thead th {\n",
       "        text-align: right;\n",
       "    }\n",
       "</style>\n",
       "<table border=\"1\" class=\"dataframe\">\n",
       "  <thead>\n",
       "    <tr style=\"text-align: right;\">\n",
       "      <th></th>\n",
       "      <th>ImageId</th>\n",
       "      <th>PredictionString</th>\n",
       "    </tr>\n",
       "  </thead>\n",
       "  <tbody>\n",
       "    <tr>\n",
       "      <th>0</th>\n",
       "      <td>21135d5ed0e7a0b7</td>\n",
       "      <td>0.387808 /m/04yx4 0.3756532 0.236988 0.7501363...</td>\n",
       "    </tr>\n",
       "    <tr>\n",
       "      <th>1</th>\n",
       "      <td>763c72626bf24534</td>\n",
       "      <td>0.77768 /m/04yx4 0.720626 0.5248438 0.950433 0...</td>\n",
       "    </tr>\n",
       "    <tr>\n",
       "      <th>2</th>\n",
       "      <td>7540c162180973b1</td>\n",
       "      <td>0.101016 /m/04yx4 0.9498244 0.3313462 0.999023...</td>\n",
       "    </tr>\n",
       "    <tr>\n",
       "      <th>3</th>\n",
       "      <td>c4e522dce52cb02f</td>\n",
       "      <td>0.702323 /m/04yx4 0.8541945 0.3647041 0.972777...</td>\n",
       "    </tr>\n",
       "    <tr>\n",
       "      <th>4</th>\n",
       "      <td>cafcd9496c808085</td>\n",
       "      <td>0.168493 /m/01_5g 0.7968998 0.0202855 0.997210...</td>\n",
       "    </tr>\n",
       "  </tbody>\n",
       "</table>\n",
       "</div>"
      ],
      "text/plain": [
       "            ImageId                                   PredictionString\n",
       "0  21135d5ed0e7a0b7  0.387808 /m/04yx4 0.3756532 0.236988 0.7501363...\n",
       "1  763c72626bf24534  0.77768 /m/04yx4 0.720626 0.5248438 0.950433 0...\n",
       "2  7540c162180973b1  0.101016 /m/04yx4 0.9498244 0.3313462 0.999023...\n",
       "3  c4e522dce52cb02f  0.702323 /m/04yx4 0.8541945 0.3647041 0.972777...\n",
       "4  cafcd9496c808085  0.168493 /m/01_5g 0.7968998 0.0202855 0.997210..."
      ]
     },
     "execution_count": 68,
     "metadata": {},
     "output_type": "execute_result"
    }
   ],
   "source": [
    "df['PredictionString'] = df.PredictionString.map(lambda x: get_filtered_pred_string(x))\n",
    "df.head()"
   ]
  },
  {
   "cell_type": "code",
   "execution_count": 69,
   "metadata": {},
   "outputs": [],
   "source": [
    "df.to_csv('merge_0905_1_plays_holds_insideof_on_top80.csv.zip', columns=['ImageId', 'PredictionString'], index=False, compression='zip')"
   ]
  },
  {
   "cell_type": "code",
   "execution_count": null,
   "metadata": {},
   "outputs": [],
   "source": []
  },
  {
   "cell_type": "code",
   "execution_count": 70,
   "metadata": {},
   "outputs": [
    {
     "name": "stdout",
     "output_type": "stream",
     "text": [
      "100%|████████████████████████████████████████| 381M/381M [00:09<00:00, 42.0MB/s]\n",
      "Successfully submitted to Open Images 2019 - Visual Relationship"
     ]
    }
   ],
   "source": [
    "!kaggle competitions submit -c open-images-2019-visual-relationship -f merge_0905_1_plays_holds_insideof_on_top80.csv.zip -m 'top 80 for each relation'"
   ]
  },
  {
   "cell_type": "code",
   "execution_count": null,
   "metadata": {},
   "outputs": [],
   "source": []
  },
  {
   "cell_type": "code",
   "execution_count": null,
   "metadata": {},
   "outputs": [],
   "source": []
  }
 ],
 "metadata": {
  "kernelspec": {
   "display_name": "Python 3",
   "language": "python",
   "name": "python3"
  },
  "language_info": {
   "codemirror_mode": {
    "name": "ipython",
    "version": 3
   },
   "file_extension": ".py",
   "mimetype": "text/x-python",
   "name": "python",
   "nbconvert_exporter": "python",
   "pygments_lexer": "ipython3",
   "version": "3.7.3"
  }
 },
 "nbformat": 4,
 "nbformat_minor": 2
}
