{
 "cells": [
  {
   "cell_type": "code",
   "execution_count": 1,
   "metadata": {},
   "outputs": [],
   "source": [
    "import os\n",
    "import numpy as np\n",
    "import pandas as pd\n",
    "import torch\n",
    "import os\n",
    "import json\n",
    "import pandas as pd\n",
    "from PIL import Image\n",
    "from matplotlib.pyplot import imshow\n",
    "import matplotlib.pyplot as plt\n",
    "import cv2\n",
    "import numpy as np\n",
    "%matplotlib inline\n",
    "from tqdm import tqdm\n",
    "import glob\n",
    "import pickle"
   ]
  },
  {
   "cell_type": "code",
   "execution_count": 2,
   "metadata": {},
   "outputs": [],
   "source": [
    "DATA_DIR = '/mnt/chicm/data/open-images/relation'\n",
    "DETECT_DATA_DIR = '/mnt/chicm/data/open-images/detect'"
   ]
  },
  {
   "cell_type": "code",
   "execution_count": 3,
   "metadata": {},
   "outputs": [
    {
     "name": "stdout",
     "output_type": "stream",
     "text": [
      "total 2.8G\r\n",
      "-rw-rw-r-- 1 core core 242M Aug 19 15:51 sub_cas_800_detect_57_0819_lb06005.csv\r\n",
      "-rw-rw-r-- 1 core core 266M Jul 22 16:57 sub_detect_0722_1.csv\r\n",
      "-rw-rw-r-- 1 core core 252M Jul 24 17:01 sub_detect_0724_lb05524.csv\r\n",
      "-rw-rw-r-- 1 core core 233M Jul 30 08:18 sub_detect_57_0730_lb05849.csv\r\n",
      "-rw-rw-r-- 1 core core 259M Aug  5 07:41 sub_detect_57_cas_1024_0805_1_lb06012.csv\r\n",
      "-rw-rw-r-- 1 core core 363M Aug 20 14:25 sub_detect_57_cas_1024_top100.csv\r\n",
      "-rw-rw-r-- 1 core core 396M Aug 20 14:19 sub_detect_57_cas_800_top100.csv\r\n",
      "-rw-rw-r-- 1 core core 240M Aug  4 13:36 sub_detect_cas_1024_57_0804_lb06067.csv\r\n",
      "-rw-rw-r-- 1 core core 286M Aug 18 17:43 sub_retina_detect_57_0818_lb04842.csv\r\n",
      "-rw-rw-r-- 1 core core 286M Aug  9 18:00 sub_retina_x101_detect_0810_lb03783.csv\r\n"
     ]
    }
   ],
   "source": [
    "!ls sub_detect_57 -lh"
   ]
  },
  {
   "cell_type": "code",
   "execution_count": 4,
   "metadata": {},
   "outputs": [],
   "source": [
    "'''\n",
    "csv_files = [\n",
    "    'sub_detect_57/sub_detect_57_cas_1024_top100.csv',\n",
    "    'sub_detect_57/sub_detect_57_cas_800_top100.csv',\n",
    "    'sub_detect_57/sub_detect_57_0730_lb05849.csv'\n",
    "]\n",
    "ens_weights = [0.5, 0.3, 0.2]\n",
    "'''"
   ]
  },
  {
   "cell_type": "code",
   "execution_count": 38,
   "metadata": {},
   "outputs": [],
   "source": [
    "csv_files = [\n",
    "    '../vrd/lb25388/ensemble_detect_57_0820_1_top100.csv',\n",
    "    '../vrd/det/det_filter_57_lb61973_top200.csv'\n",
    "]\n",
    "ens_weights = [0.5, 0.5]"
   ]
  },
  {
   "cell_type": "code",
   "execution_count": 39,
   "metadata": {},
   "outputs": [],
   "source": [
    "dfs = [pd.read_csv(x) for x in csv_files]"
   ]
  },
  {
   "cell_type": "code",
   "execution_count": 36,
   "metadata": {},
   "outputs": [],
   "source": [
    "# result: ensemble_detect_57_0820_1_top100.csv\n",
    "#df1 = pd.read_csv('sub_detect_57/sub_detect_57_cas_1024_top100.csv')\n",
    "#df2 = pd.read_csv('sub_detect_57/sub_detect_57_cas_800_top100.csv')\n",
    "#df3 = pd.read_csv('sub_detect_57/sub_detect_57_0730_lb05849.csv')\n",
    "#df1.head()"
   ]
  },
  {
   "cell_type": "code",
   "execution_count": 35,
   "metadata": {},
   "outputs": [],
   "source": [
    "# lb 0.06179\n",
    "#df1 = pd.read_csv('sub_detect_57/sub_detect_cas_1024_57_0804_lb06067.csv')\n",
    "#df2 = pd.read_csv('sub_detect_57/sub_detect_57_0730_lb05849.csv')\n",
    "#df3 = pd.read_csv('sub_detect_57/sub_detect_0724_lb05524.csv')\n",
    "#df1.head()"
   ]
  },
  {
   "cell_type": "code",
   "execution_count": 34,
   "metadata": {},
   "outputs": [],
   "source": [
    "#df1 = pd.read_csv('sub_detect_57/sub_detect_cas_1024_57_0804_lb06067.csv')\n",
    "#df2 = pd.read_csv('sub_detect_57/sub_cas_800_detect_57_0819_lb06005.csv')\n",
    "#df3 = pd.read_csv('sub_detect_57/sub_detect_57_0730_lb05849.csv')\n",
    "#df1.head()"
   ]
  },
  {
   "cell_type": "code",
   "execution_count": 58,
   "metadata": {},
   "outputs": [],
   "source": [
    "#ImageID,PredictionString\n",
    "#ImageID,{Label Confidence XMin YMin XMax YMax} {...}"
   ]
  },
  {
   "cell_type": "code",
   "execution_count": 40,
   "metadata": {},
   "outputs": [],
   "source": [
    "def get_dets_by_pred_str(pred_str):\n",
    "    try:\n",
    "        if len(pred_str) < 1:\n",
    "            return []\n",
    "    except:\n",
    "        print('pred_str:', pred_str)\n",
    "        raise\n",
    "    det_items = pred_str.split(' ')\n",
    "    dets, det = [], []\n",
    "    for i in range(len(det_items)):\n",
    "        det.append(det_items[i])\n",
    "        if (i+1) % 6 == 0:\n",
    "            dets.append(det)\n",
    "            det = []\n",
    "    return dets"
   ]
  },
  {
   "cell_type": "code",
   "execution_count": 41,
   "metadata": {},
   "outputs": [],
   "source": [
    "for df in dfs:\n",
    "    df['dets'] = df.PredictionString.fillna('').map(lambda x: get_dets_by_pred_str(x))"
   ]
  },
  {
   "cell_type": "code",
   "execution_count": 42,
   "metadata": {},
   "outputs": [
    {
     "data": {
      "text/html": [
       "<div>\n",
       "<style scoped>\n",
       "    .dataframe tbody tr th:only-of-type {\n",
       "        vertical-align: middle;\n",
       "    }\n",
       "\n",
       "    .dataframe tbody tr th {\n",
       "        vertical-align: top;\n",
       "    }\n",
       "\n",
       "    .dataframe thead th {\n",
       "        text-align: right;\n",
       "    }\n",
       "</style>\n",
       "<table border=\"1\" class=\"dataframe\">\n",
       "  <thead>\n",
       "    <tr style=\"text-align: right;\">\n",
       "      <th></th>\n",
       "      <th>ImageId</th>\n",
       "      <th>PredictionString</th>\n",
       "      <th>dets</th>\n",
       "    </tr>\n",
       "  </thead>\n",
       "  <tbody>\n",
       "    <tr>\n",
       "      <th>0</th>\n",
       "      <td>21135d5ed0e7a0b7</td>\n",
       "      <td>/m/04yx4 0.8209846 0.3756532 0.2369880 0.75013...</td>\n",
       "      <td>[[/m/04yx4, 0.8209846, 0.3756532, 0.2369880, 0...</td>\n",
       "    </tr>\n",
       "    <tr>\n",
       "      <th>1</th>\n",
       "      <td>763c72626bf24534</td>\n",
       "      <td>/m/04yx4 0.9761059 0.0059799 0.1897154 0.24897...</td>\n",
       "      <td>[[/m/04yx4, 0.9761059, 0.0059799, 0.1897154, 0...</td>\n",
       "    </tr>\n",
       "    <tr>\n",
       "      <th>2</th>\n",
       "      <td>7540c162180973b1</td>\n",
       "      <td>/m/04yx4 0.6516410 0.7939431 0.1332737 0.85725...</td>\n",
       "      <td>[[/m/04yx4, 0.6516410, 0.7939431, 0.1332737, 0...</td>\n",
       "    </tr>\n",
       "    <tr>\n",
       "      <th>3</th>\n",
       "      <td>c4e522dce52cb02f</td>\n",
       "      <td>/m/04yx4 0.9427195 0.3922202 0.2638703 0.54933...</td>\n",
       "      <td>[[/m/04yx4, 0.9427195, 0.3922202, 0.2638703, 0...</td>\n",
       "    </tr>\n",
       "    <tr>\n",
       "      <th>4</th>\n",
       "      <td>cafcd9496c808085</td>\n",
       "      <td>/m/0k4j 0.0011794 0.7955955 0.0142576 0.999023...</td>\n",
       "      <td>[[/m/0k4j, 0.0011794, 0.7955955, 0.0142576, 0....</td>\n",
       "    </tr>\n",
       "  </tbody>\n",
       "</table>\n",
       "</div>"
      ],
      "text/plain": [
       "            ImageId                                   PredictionString  \\\n",
       "0  21135d5ed0e7a0b7  /m/04yx4 0.8209846 0.3756532 0.2369880 0.75013...   \n",
       "1  763c72626bf24534  /m/04yx4 0.9761059 0.0059799 0.1897154 0.24897...   \n",
       "2  7540c162180973b1  /m/04yx4 0.6516410 0.7939431 0.1332737 0.85725...   \n",
       "3  c4e522dce52cb02f  /m/04yx4 0.9427195 0.3922202 0.2638703 0.54933...   \n",
       "4  cafcd9496c808085  /m/0k4j 0.0011794 0.7955955 0.0142576 0.999023...   \n",
       "\n",
       "                                                dets  \n",
       "0  [[/m/04yx4, 0.8209846, 0.3756532, 0.2369880, 0...  \n",
       "1  [[/m/04yx4, 0.9761059, 0.0059799, 0.1897154, 0...  \n",
       "2  [[/m/04yx4, 0.6516410, 0.7939431, 0.1332737, 0...  \n",
       "3  [[/m/04yx4, 0.9427195, 0.3922202, 0.2638703, 0...  \n",
       "4  [[/m/0k4j, 0.0011794, 0.7955955, 0.0142576, 0....  "
      ]
     },
     "execution_count": 42,
     "metadata": {},
     "output_type": "execute_result"
    }
   ],
   "source": [
    "dfs[0].head()"
   ]
  },
  {
   "cell_type": "code",
   "execution_count": 43,
   "metadata": {},
   "outputs": [],
   "source": [
    "def dets_to_xywh(dets):\n",
    "    res = []\n",
    "    for det in dets:\n",
    "        label = det[0]\n",
    "        conf = float(det[1])\n",
    "        xmin = float(det[2])\n",
    "        ymin = float(det[3])\n",
    "        xmax = float(det[4])\n",
    "        ymax = float(det[5])\n",
    "        new_det = [(xmin+xmax)/2, (ymin+ymax)/2, xmax-xmin, ymax-ymin, label, conf]\n",
    "        res.append(new_det)\n",
    "    return res                                                                 "
   ]
  },
  {
   "cell_type": "code",
   "execution_count": 44,
   "metadata": {},
   "outputs": [],
   "source": [
    "#dets1 = df1.dets.map(lambda x: dets_to_xywh(x))\n",
    "#dets2 = df2.dets.map(lambda x: dets_to_xywh(x))\n",
    "#dets3 = df3.dets.map(lambda x: dets_to_xywh(x))"
   ]
  },
  {
   "cell_type": "code",
   "execution_count": 45,
   "metadata": {},
   "outputs": [],
   "source": [
    "dets =[df.dets.map(lambda x: dets_to_xywh(x)) for df in dfs]"
   ]
  },
  {
   "cell_type": "code",
   "execution_count": 46,
   "metadata": {},
   "outputs": [
    {
     "data": {
      "text/plain": [
       "2"
      ]
     },
     "execution_count": 46,
     "metadata": {},
     "output_type": "execute_result"
    }
   ],
   "source": [
    "len(dets)"
   ]
  },
  {
   "cell_type": "code",
   "execution_count": 47,
   "metadata": {},
   "outputs": [
    {
     "name": "stderr",
     "output_type": "stream",
     "text": [
      "100%|██████████| 99999/99999 [40:57<00:00, 40.69it/s]   \n"
     ]
    }
   ],
   "source": [
    "final_ens = []\n",
    "for i in tqdm(range(len(dets[0]))):\n",
    "    ens = GeneralEnsemble([x[i] for x in dets], weights=ens_weights)\n",
    "    top_ens = sorted(ens, key=lambda x: x[5], reverse=True)[:300]\n",
    "    final_ens.append(top_ens)"
   ]
  },
  {
   "cell_type": "code",
   "execution_count": 33,
   "metadata": {},
   "outputs": [],
   "source": [
    "#top_50_ens = []\n",
    "#for i in tqdm(range(len(final_ens))):\n",
    "#    dets = sorted(final_ens[i], key=lambda x: x[5], reverse=True)[:50]\n",
    "#    top_50_ens.append(dets)"
   ]
  },
  {
   "cell_type": "code",
   "execution_count": 37,
   "metadata": {},
   "outputs": [],
   "source": [
    "#len(top_50_ens[0])"
   ]
  },
  {
   "cell_type": "code",
   "execution_count": 48,
   "metadata": {},
   "outputs": [],
   "source": [
    "def xywh_to_pre_str(dets):\n",
    "    res = []\n",
    "    if len(dets) < 1:\n",
    "        return ''\n",
    "    for det in dets:\n",
    "        label = det[4]\n",
    "        conf = det[5]\n",
    "        xmin = det[0] - (det[2] / 2)\n",
    "        xmax = det[0] + (det[2] / 2)\n",
    "        ymin = det[1] - (det[3] / 2)\n",
    "        ymax = det[1] + (det[3] / 2)\n",
    "        \n",
    "        res.append(label)\n",
    "        res.append('{:.7f}'.format(conf))\n",
    "        res.append('{:.7f}'.format(xmin))\n",
    "        res.append('{:.7f}'.format(ymin))\n",
    "        res.append('{:.7f}'.format(xmax))\n",
    "        res.append('{:.7f}'.format(ymax))\n",
    "\n",
    "    res = [str(x) for x in res]\n",
    "    return ' '.join(res)"
   ]
  },
  {
   "cell_type": "code",
   "execution_count": 49,
   "metadata": {},
   "outputs": [
    {
     "data": {
      "text/plain": [
       "99999"
      ]
     },
     "execution_count": 49,
     "metadata": {},
     "output_type": "execute_result"
    }
   ],
   "source": [
    "pred_strings = pd.Series(final_ens).map(lambda x: xywh_to_pre_str(x)).values\n",
    "len(pred_strings)"
   ]
  },
  {
   "cell_type": "code",
   "execution_count": 50,
   "metadata": {},
   "outputs": [],
   "source": [
    "#pred_strings_top50 = pd.Series(top_50_ens).map(lambda x: xywh_to_pre_str(x)).values\n",
    "#len(pred_strings_top50)"
   ]
  },
  {
   "cell_type": "code",
   "execution_count": 51,
   "metadata": {},
   "outputs": [
    {
     "data": {
      "text/html": [
       "<div>\n",
       "<style scoped>\n",
       "    .dataframe tbody tr th:only-of-type {\n",
       "        vertical-align: middle;\n",
       "    }\n",
       "\n",
       "    .dataframe tbody tr th {\n",
       "        vertical-align: top;\n",
       "    }\n",
       "\n",
       "    .dataframe thead th {\n",
       "        text-align: right;\n",
       "    }\n",
       "</style>\n",
       "<table border=\"1\" class=\"dataframe\">\n",
       "  <thead>\n",
       "    <tr style=\"text-align: right;\">\n",
       "      <th></th>\n",
       "      <th>ImageId</th>\n",
       "      <th>PredictionString</th>\n",
       "    </tr>\n",
       "  </thead>\n",
       "  <tbody>\n",
       "    <tr>\n",
       "      <th>0</th>\n",
       "      <td>21135d5ed0e7a0b7</td>\n",
       "      <td>/m/04yx4 0.4104923 0.3756532 0.2369880 0.75013...</td>\n",
       "    </tr>\n",
       "    <tr>\n",
       "      <th>1</th>\n",
       "      <td>763c72626bf24534</td>\n",
       "      <td>/m/04yx4 0.6193530 0.0131900 0.3417577 0.26498...</td>\n",
       "    </tr>\n",
       "    <tr>\n",
       "      <th>2</th>\n",
       "      <td>7540c162180973b1</td>\n",
       "      <td>/m/04yx4 0.3412212 0.5096817 0.0000000 0.60850...</td>\n",
       "    </tr>\n",
       "    <tr>\n",
       "      <th>3</th>\n",
       "      <td>c4e522dce52cb02f</td>\n",
       "      <td>/m/04yx4 0.4713598 0.3922202 0.2638703 0.54933...</td>\n",
       "    </tr>\n",
       "    <tr>\n",
       "      <th>4</th>\n",
       "      <td>cafcd9496c808085</td>\n",
       "      <td>/m/01_5g 0.1019432 0.7968998 0.0202855 0.99721...</td>\n",
       "    </tr>\n",
       "  </tbody>\n",
       "</table>\n",
       "</div>"
      ],
      "text/plain": [
       "            ImageId                                   PredictionString\n",
       "0  21135d5ed0e7a0b7  /m/04yx4 0.4104923 0.3756532 0.2369880 0.75013...\n",
       "1  763c72626bf24534  /m/04yx4 0.6193530 0.0131900 0.3417577 0.26498...\n",
       "2  7540c162180973b1  /m/04yx4 0.3412212 0.5096817 0.0000000 0.60850...\n",
       "3  c4e522dce52cb02f  /m/04yx4 0.4713598 0.3922202 0.2638703 0.54933...\n",
       "4  cafcd9496c808085  /m/01_5g 0.1019432 0.7968998 0.0202855 0.99721..."
      ]
     },
     "execution_count": 51,
     "metadata": {},
     "output_type": "execute_result"
    }
   ],
   "source": [
    "df_sub = pd.read_csv(os.path.join(DATA_DIR, 'VRD_sample_submission.csv'))\n",
    "df_sub.PredictionString = pred_strings\n",
    "df_sub.head()"
   ]
  },
  {
   "cell_type": "code",
   "execution_count": 52,
   "metadata": {},
   "outputs": [],
   "source": [
    "#df_sub.to_csv('ensemble_detect_57_0808_2_with_weights.csv', columns=['ImageId', 'PredictionString'], index=False)"
   ]
  },
  {
   "cell_type": "code",
   "execution_count": 88,
   "metadata": {},
   "outputs": [],
   "source": [
    "#df_sub.to_csv('ensemble_detect_57_0819_1.csv', columns=['ImageId', 'PredictionString'], index=False)\n",
    "\n",
    "#df1 = pd.read_csv('sub_detect_57/sub_detect_cas_1024_57_0804_lb06067.csv')\n",
    "#df2 = pd.read_csv('sub_detect_57/sub_cas_800_detect_57_0819_lb06005.csv')\n",
    "#df3 = pd.read_csv('sub_detect_57/sub_retina_detect_57_0818_lb04842.csv')\n",
    "# weights: 0.5, 0.4, 0.1"
   ]
  },
  {
   "cell_type": "code",
   "execution_count": 52,
   "metadata": {},
   "outputs": [],
   "source": [
    "df_sub.to_csv('ensemble_chicm_od619_0927_top300.csv', columns=['ImageId', 'PredictionString'], index=False)\n",
    "\n",
    "#df1 = pd.read_csv('sub_detect_57/sub_detect_cas_1024_57_0804_lb06067.csv')\n",
    "#df2 = pd.read_csv('sub_detect_57/sub_cas_800_detect_57_0819_lb06005.csv')\n",
    "#df3 = pd.read_csv('sub_detect_57/sub_detect_57_0730_lb05849.csv')\n",
    "# weights: 0.45, 0.35, 0.2"
   ]
  },
  {
   "cell_type": "code",
   "execution_count": null,
   "metadata": {},
   "outputs": [],
   "source": []
  },
  {
   "cell_type": "code",
   "execution_count": null,
   "metadata": {},
   "outputs": [],
   "source": []
  },
  {
   "cell_type": "code",
   "execution_count": null,
   "metadata": {},
   "outputs": [],
   "source": []
  },
  {
   "cell_type": "code",
   "execution_count": 107,
   "metadata": {},
   "outputs": [
    {
     "name": "stdout",
     "output_type": "stream",
     "text": [
      "100%|████████████████████████████████████████| 572M/572M [00:29<00:00, 20.4MB/s]\n",
      "Successfully submitted to Open Images 2019 - Object Detection"
     ]
    }
   ],
   "source": [
    "#!kaggle competitions submit -c open-images-2019-object-detection -f ensemble_detect_57_0820_1_top100.csv -m \"weights: 0.5, 0.3, 0.2\""
   ]
  },
  {
   "cell_type": "code",
   "execution_count": 35,
   "metadata": {},
   "outputs": [],
   "source": [
    "#df_sub.PredictionString = pred_strings_top50\n",
    "#df_sub.to_csv('ensemble_detect_57_0808_1_top50.csv', columns=['ImageId', 'PredictionString'], index=False)"
   ]
  },
  {
   "cell_type": "code",
   "execution_count": 36,
   "metadata": {},
   "outputs": [
    {
     "name": "stdout",
     "output_type": "stream",
     "text": [
      "100%|████████████████████████████████████████| 267M/267M [00:13<00:00, 20.3MB/s]\n",
      "Successfully submitted to Open Images 2019 - Object Detection"
     ]
    }
   ],
   "source": [
    "#!kaggle competitions submit -c open-images-2019-object-detection -f ensemble_detect_57_0808_1_top50.csv -m \"submit\""
   ]
  },
  {
   "cell_type": "code",
   "execution_count": 37,
   "metadata": {},
   "outputs": [
    {
     "name": "stdout",
     "output_type": "stream",
     "text": [
      "fileName                                     date                 description  status    publicScore  privateScore  \r\n",
      "-------------------------------------------  -------------------  -----------  --------  -----------  ------------  \r\n",
      "ensemble_detect_57_0808_1_top50.csv          2019-08-08 09:56:38  submit       complete  0.06088      None          \r\n",
      "ensemble_detect_57_0808_1.csv                2019-08-08 09:54:15  submit       complete  0.06155      None          \r\n",
      "sub_detect_57_cas_1024_0805_1.csv            2019-08-05 07:52:30  submit       complete  0.06012      None          \r\n",
      "sub_detect_cas_1024_57_0804.csv              2019-08-04 13:37:48  submit       complete  0.06067      None          \r\n",
      "sub_detect_0724.csv                          2019-08-03 00:41:03  test         complete  0.05524      None          \r\n",
      "sub_detect_57_0730.csv                       2019-08-03 00:39:53  test         complete  0.05849      None          \r\n",
      "sub_cas_0_500_0729.csv                       2019-07-28 17:23:42  submit       complete  0.48666      None          \r\n",
      "sub_cas_0_500_0727.csv                       2019-07-27 15:18:57  submit       complete  0.47823      None          \r\n",
      "sub_cas_0_500_150boxes_0723.csv              2019-07-23 16:46:10  None         complete  0.47575      None          \r\n",
      "sub_cas_0_500_150boxes_0721_1.csv            2019-07-21 14:25:10  None         complete  0.46527      None          \r\n",
      "sub_cas_0_500_150boxes_0720_1.csv            2019-07-19 18:13:40  None         complete  0.41682      None          \r\n",
      "sub_cas_50_100_150boxes_0718_1.csv           2019-07-18 19:19:18  None         complete  0.04467      None          \r\n",
      "merge_0718_2.csv.zip                         2019-07-18 16:44:24  None         complete  0.44908      None          \r\n",
      "merge_0718_1.csv.zip                         2019-07-17 18:27:08  None         complete  0.44619      None          \r\n",
      "merge_0717_1.csv.zip                         2019-07-17 06:13:52  None         complete  0.42688      None          \r\n",
      "sub_cas_100_500_150boxes_0717_1.csv          2019-07-17 05:57:21  None         complete  0.35688      None          \r\n",
      "sub_50_bottom400_100boxes_0714_1.csv         2019-07-14 15:08:54  None         complete  0.29798      None          \r\n",
      "sub_101_100-200_100boxes_0713_2_softnms.csv  2019-07-13 18:03:24  None         complete  0.07758      None          \r\n",
      "sub_101_100-200_200boxes_0713_1.zip          2019-07-13 16:01:23               complete  0.07771      None          \r\n",
      "sub_101_100-400_200boxes_0713_1.csv          2019-07-12 17:36:24  None         complete  0.22041      None          \r\n"
     ]
    }
   ],
   "source": [
    "#!kaggle competitions submissions -c open-images-2019-object-detection"
   ]
  },
  {
   "cell_type": "code",
   "execution_count": 15,
   "metadata": {},
   "outputs": [
    {
     "name": "stdout",
     "output_type": "stream",
     "text": [
      "[[0.10909090909090909, 0.1, 0.990909090909091, 1.009090909090909, 1, 0.6125], [1.199090909090909, 1.4000000000000001, 0.5, 1.5, 1, 0.61875], [5.0, 5.0, 1.0, 1.0, 1, 0.16666666666666666]]\n"
     ]
    }
   ],
   "source": [
    "\"\"\" \n",
    "Ensembling methods for object detection.\n",
    "\"\"\"\n",
    "\n",
    "\"\"\" \n",
    "General Ensemble - find overlapping boxes of the same class and average their positions\n",
    "while adding their confidences. Can weigh different detectors with different weights.\n",
    "No real learning here, although the weights and iou_thresh can be optimized.\n",
    "\n",
    "Input: \n",
    " - dets : List of detections. Each detection is all the output from one detector, and\n",
    "          should be a list of boxes, where each box should be on the format \n",
    "          [box_x, box_y, box_w, box_h, class, confidence] where box_x and box_y \n",
    "          are the center coordinates, box_w and box_h are width and height resp.\n",
    "          The values should be floats, except the class which should be an integer.\n",
    "\n",
    " - iou_thresh: Threshold in terms of IOU where two boxes are considered the same, \n",
    "               if they also belong to the same class.\n",
    "               \n",
    " - weights: A list of weights, describing how much more some detectors should\n",
    "            be trusted compared to others. The list should be as long as the\n",
    "            number of detections. If this is set to None, then all detectors\n",
    "            will be considered equally reliable. The sum of weights does not\n",
    "            necessarily have to be 1.\n",
    "\n",
    "Output:\n",
    "    A list of boxes, on the same format as the input. Confidences are in range 0-1.\n",
    "\"\"\"\n",
    "def GeneralEnsemble(dets, iou_thresh = 0.5, weights=None):\n",
    "    assert(type(iou_thresh) == float)\n",
    "    \n",
    "    ndets = len(dets)\n",
    "    \n",
    "    if weights is None:\n",
    "        w = 1/float(ndets)\n",
    "        weights = [w]*ndets\n",
    "    else:\n",
    "        assert(len(weights) == ndets)\n",
    "        \n",
    "        s = sum(weights)\n",
    "        for i in range(0, len(weights)):\n",
    "            weights[i] /= s\n",
    "\n",
    "    out = list()\n",
    "    used = list()\n",
    "    \n",
    "    for idet in range(0,ndets):\n",
    "        det = dets[idet]\n",
    "        for box in det:\n",
    "            if box in used:\n",
    "                continue\n",
    "                \n",
    "            used.append(box)\n",
    "            # Search the other detectors for overlapping box of same class\n",
    "            found = []\n",
    "            for iodet in range(0, ndets):\n",
    "                odet = dets[iodet]\n",
    "                \n",
    "                if odet == det:\n",
    "                    continue\n",
    "                \n",
    "                bestbox = None\n",
    "                bestiou = iou_thresh\n",
    "                for obox in odet:\n",
    "                    if not obox in used:\n",
    "                        # Not already used\n",
    "                        if box[4] == obox[4]:\n",
    "                            # Same class\n",
    "                            iou = computeIOU(box, obox)\n",
    "                            if iou > bestiou:\n",
    "                                bestiou = iou\n",
    "                                bestbox = obox\n",
    "                                \n",
    "                if not bestbox is None:\n",
    "                    w = weights[iodet]\n",
    "                    found.append((bestbox,w))\n",
    "                    used.append(bestbox)\n",
    "                            \n",
    "            # Now we've gone through all other detectors\n",
    "            if len(found) == 0:\n",
    "                new_box = list(box)\n",
    "                new_box[5] /= ndets\n",
    "                out.append(new_box)\n",
    "            else:\n",
    "                allboxes = [(box, weights[idet])]\n",
    "                allboxes.extend(found)\n",
    "                \n",
    "                xc = 0.0\n",
    "                yc = 0.0\n",
    "                bw = 0.0\n",
    "                bh = 0.0\n",
    "                conf = 0.0\n",
    "                \n",
    "                wsum = 0.0\n",
    "                for bb in allboxes:\n",
    "                    w = bb[1]\n",
    "                    wsum += w\n",
    "\n",
    "                    b = bb[0]\n",
    "                    xc += w*b[0]\n",
    "                    yc += w*b[1]\n",
    "                    bw += w*b[2]\n",
    "                    bh += w*b[3]\n",
    "                    conf += w*b[5]\n",
    "                \n",
    "                xc /= wsum\n",
    "                yc /= wsum\n",
    "                bw /= wsum\n",
    "                bh /= wsum    \n",
    "\n",
    "                new_box = [xc, yc, bw, bh, box[4], conf]\n",
    "                out.append(new_box)\n",
    "    return out\n",
    "    \n",
    "def getCoords(box):\n",
    "    x1 = float(box[0]) - float(box[2])/2\n",
    "    x2 = float(box[0]) + float(box[2])/2\n",
    "    y1 = float(box[1]) - float(box[3])/2\n",
    "    y2 = float(box[1]) + float(box[3])/2\n",
    "    return x1, x2, y1, y2\n",
    "    \n",
    "def computeIOU(box1, box2):\n",
    "    x11, x12, y11, y12 = getCoords(box1)\n",
    "    x21, x22, y21, y22 = getCoords(box2)\n",
    "    \n",
    "    x_left   = max(x11, x21)\n",
    "    y_top    = max(y11, y21)\n",
    "    x_right  = min(x12, x22)\n",
    "    y_bottom = min(y12, y22)\n",
    "\n",
    "    if x_right < x_left or y_bottom < y_top:\n",
    "        return 0.0    \n",
    "        \n",
    "    intersect_area = (x_right - x_left) * (y_bottom - y_top)\n",
    "    box1_area = (x12 - x11) * (y12 - y11)\n",
    "    box2_area = (x22 - x21) * (y22 - y21)        \n",
    "    \n",
    "    iou = intersect_area / (box1_area + box2_area - intersect_area + 1e-6)\n",
    "    return iou\n",
    "    \n",
    "if __name__==\"__main__\":\n",
    "    # Toy example\n",
    "    dets = [ \n",
    "            [[0.1, 0.1, 1.0, 1.0, 1, 0.9], [1.2, 1.4, 0.5, 1.5, 1, 0.9]],\n",
    "            [[0.2, 0.1, 0.9, 1.1, 1, 0.8],[1.19, 1.4, 0.5, 1.5, 1, 0.9]],\n",
    "            [[5.0,5.0,1.0,1.0,1,0.5]]\n",
    "           ]\n",
    "    \n",
    "    ens = GeneralEnsemble(dets, weights = [1.0, 0.1, 0.5])\n",
    "    print(ens)"
   ]
  },
  {
   "cell_type": "code",
   "execution_count": null,
   "metadata": {},
   "outputs": [],
   "source": [
    "[[0.10909090909090909, 0.1, 0.990909090909091, 1.009090909090909, 'a', 0.6125], [1.2, 1.4, 0.5, 1.5, 'a', 0.3], [5.0, 5.0, 1.0, 1.0, 'a', 0.16666666666666666]]"
   ]
  },
  {
   "cell_type": "code",
   "execution_count": null,
   "metadata": {},
   "outputs": [],
   "source": []
  }
 ],
 "metadata": {
  "kernelspec": {
   "display_name": "Python 3",
   "language": "python",
   "name": "python3"
  },
  "language_info": {
   "codemirror_mode": {
    "name": "ipython",
    "version": 3
   },
   "file_extension": ".py",
   "mimetype": "text/x-python",
   "name": "python",
   "nbconvert_exporter": "python",
   "pygments_lexer": "ipython3",
   "version": "3.7.3"
  }
 },
 "nbformat": 4,
 "nbformat_minor": 2
}
