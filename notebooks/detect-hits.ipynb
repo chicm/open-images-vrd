{
 "cells": [
  {
   "cell_type": "code",
   "execution_count": 3,
   "metadata": {},
   "outputs": [],
   "source": [
    "import os\n",
    "import numpy as np\n",
    "import pandas as pd\n",
    "import torch\n",
    "import os.path as osp\n",
    "import json\n",
    "import pandas as pd\n",
    "from PIL import Image\n",
    "from matplotlib.pyplot import imshow\n",
    "import matplotlib.pyplot as plt\n",
    "import cv2\n",
    "import numpy as np\n",
    "%matplotlib inline\n",
    "from tqdm import tqdm\n",
    "import glob\n",
    "import pickle\n",
    "\n",
    "DATA_DIR = '/home/chec/data/open-images/relation'"
   ]
  },
  {
   "cell_type": "code",
   "execution_count": 4,
   "metadata": {},
   "outputs": [
    {
     "data": {
      "text/html": [
       "<div>\n",
       "<style scoped>\n",
       "    .dataframe tbody tr th:only-of-type {\n",
       "        vertical-align: middle;\n",
       "    }\n",
       "\n",
       "    .dataframe tbody tr th {\n",
       "        vertical-align: top;\n",
       "    }\n",
       "\n",
       "    .dataframe thead th {\n",
       "        text-align: right;\n",
       "    }\n",
       "</style>\n",
       "<table border=\"1\" class=\"dataframe\">\n",
       "  <thead>\n",
       "    <tr style=\"text-align: right;\">\n",
       "      <th></th>\n",
       "      <th>ImageID</th>\n",
       "      <th>LabelName1</th>\n",
       "      <th>LabelName2</th>\n",
       "      <th>XMin1</th>\n",
       "      <th>XMax1</th>\n",
       "      <th>YMin1</th>\n",
       "      <th>YMax1</th>\n",
       "      <th>XMin2</th>\n",
       "      <th>XMax2</th>\n",
       "      <th>YMin2</th>\n",
       "      <th>YMax2</th>\n",
       "      <th>RelationshipLabel</th>\n",
       "    </tr>\n",
       "  </thead>\n",
       "  <tbody>\n",
       "    <tr>\n",
       "      <th>0</th>\n",
       "      <td>fe58ec1b06db2bb7</td>\n",
       "      <td>/m/04bcr3</td>\n",
       "      <td>/m/083vt</td>\n",
       "      <td>0.00500</td>\n",
       "      <td>0.033125</td>\n",
       "      <td>0.580000</td>\n",
       "      <td>0.627778</td>\n",
       "      <td>0.00500</td>\n",
       "      <td>0.033125</td>\n",
       "      <td>0.580000</td>\n",
       "      <td>0.627778</td>\n",
       "      <td>is</td>\n",
       "    </tr>\n",
       "    <tr>\n",
       "      <th>1</th>\n",
       "      <td>82d16a22f703df5c</td>\n",
       "      <td>/m/04dr76w</td>\n",
       "      <td>/m/02gy9n</td>\n",
       "      <td>0.61200</td>\n",
       "      <td>0.735000</td>\n",
       "      <td>0.418919</td>\n",
       "      <td>0.950450</td>\n",
       "      <td>0.61200</td>\n",
       "      <td>0.735000</td>\n",
       "      <td>0.418919</td>\n",
       "      <td>0.950450</td>\n",
       "      <td>is</td>\n",
       "    </tr>\n",
       "    <tr>\n",
       "      <th>2</th>\n",
       "      <td>b54d41beabcfd900</td>\n",
       "      <td>/m/01mzpv</td>\n",
       "      <td>/m/083vt</td>\n",
       "      <td>0.37250</td>\n",
       "      <td>0.399375</td>\n",
       "      <td>0.706413</td>\n",
       "      <td>0.778557</td>\n",
       "      <td>0.37250</td>\n",
       "      <td>0.399375</td>\n",
       "      <td>0.706413</td>\n",
       "      <td>0.778557</td>\n",
       "      <td>is</td>\n",
       "    </tr>\n",
       "    <tr>\n",
       "      <th>3</th>\n",
       "      <td>4b6a08cc110d7275</td>\n",
       "      <td>/m/01mzpv</td>\n",
       "      <td>/m/01y9k5</td>\n",
       "      <td>0.17125</td>\n",
       "      <td>0.255625</td>\n",
       "      <td>0.557500</td>\n",
       "      <td>0.749167</td>\n",
       "      <td>0.20750</td>\n",
       "      <td>0.683125</td>\n",
       "      <td>0.611667</td>\n",
       "      <td>0.999167</td>\n",
       "      <td>at</td>\n",
       "    </tr>\n",
       "    <tr>\n",
       "      <th>4</th>\n",
       "      <td>0144cfbb726f4c72</td>\n",
       "      <td>/m/01mzpv</td>\n",
       "      <td>/m/04bcr3</td>\n",
       "      <td>0.85500</td>\n",
       "      <td>0.950000</td>\n",
       "      <td>0.561667</td>\n",
       "      <td>0.609167</td>\n",
       "      <td>0.82875</td>\n",
       "      <td>0.999375</td>\n",
       "      <td>0.568333</td>\n",
       "      <td>0.673333</td>\n",
       "      <td>at</td>\n",
       "    </tr>\n",
       "  </tbody>\n",
       "</table>\n",
       "</div>"
      ],
      "text/plain": [
       "            ImageID  LabelName1 LabelName2    XMin1     XMax1     YMin1  \\\n",
       "0  fe58ec1b06db2bb7   /m/04bcr3   /m/083vt  0.00500  0.033125  0.580000   \n",
       "1  82d16a22f703df5c  /m/04dr76w  /m/02gy9n  0.61200  0.735000  0.418919   \n",
       "2  b54d41beabcfd900   /m/01mzpv   /m/083vt  0.37250  0.399375  0.706413   \n",
       "3  4b6a08cc110d7275   /m/01mzpv  /m/01y9k5  0.17125  0.255625  0.557500   \n",
       "4  0144cfbb726f4c72   /m/01mzpv  /m/04bcr3  0.85500  0.950000  0.561667   \n",
       "\n",
       "      YMax1    XMin2     XMax2     YMin2     YMax2 RelationshipLabel  \n",
       "0  0.627778  0.00500  0.033125  0.580000  0.627778                is  \n",
       "1  0.950450  0.61200  0.735000  0.418919  0.950450                is  \n",
       "2  0.778557  0.37250  0.399375  0.706413  0.778557                is  \n",
       "3  0.749167  0.20750  0.683125  0.611667  0.999167                at  \n",
       "4  0.609167  0.82875  0.999375  0.568333  0.673333                at  "
      ]
     },
     "execution_count": 4,
     "metadata": {},
     "output_type": "execute_result"
    }
   ],
   "source": [
    "df_vrd = pd.read_csv(osp.join(DATA_DIR, 'challenge-2019-train-vrd.csv'))\n",
    "df_vrd.head()"
   ]
  },
  {
   "cell_type": "code",
   "execution_count": 32,
   "metadata": {},
   "outputs": [
    {
     "data": {
      "text/plain": [
       "(374768, 13)"
      ]
     },
     "execution_count": 32,
     "metadata": {},
     "output_type": "execute_result"
    }
   ],
   "source": [
    "df_vrd.shape"
   ]
  },
  {
   "cell_type": "code",
   "execution_count": 7,
   "metadata": {},
   "outputs": [
    {
     "data": {
      "text/plain": [
       "is                194142\n",
       "at                111493\n",
       "on                 31604\n",
       "holds              20986\n",
       "plays               8932\n",
       "interacts_with      3756\n",
       "inside_of           2392\n",
       "wears                836\n",
       "hits                 593\n",
       "under                 34\n",
       "Name: RelationshipLabel, dtype: int64"
      ]
     },
     "execution_count": 7,
     "metadata": {},
     "output_type": "execute_result"
    }
   ],
   "source": [
    "df_vrd.RelationshipLabel.value_counts()"
   ]
  },
  {
   "cell_type": "code",
   "execution_count": 33,
   "metadata": {},
   "outputs": [
    {
     "data": {
      "text/html": [
       "<div>\n",
       "<style scoped>\n",
       "    .dataframe tbody tr th:only-of-type {\n",
       "        vertical-align: middle;\n",
       "    }\n",
       "\n",
       "    .dataframe tbody tr th {\n",
       "        vertical-align: top;\n",
       "    }\n",
       "\n",
       "    .dataframe thead th {\n",
       "        text-align: right;\n",
       "    }\n",
       "</style>\n",
       "<table border=\"1\" class=\"dataframe\">\n",
       "  <thead>\n",
       "    <tr style=\"text-align: right;\">\n",
       "      <th></th>\n",
       "      <th>ImageID</th>\n",
       "      <th>LabelName</th>\n",
       "      <th>XMin</th>\n",
       "      <th>XMax</th>\n",
       "      <th>YMin</th>\n",
       "      <th>YMax</th>\n",
       "      <th>IsGroupOf</th>\n",
       "    </tr>\n",
       "  </thead>\n",
       "  <tbody>\n",
       "    <tr>\n",
       "      <th>0</th>\n",
       "      <td>780d8a470d144fa0</td>\n",
       "      <td>/m/04yx4</td>\n",
       "      <td>0.000000</td>\n",
       "      <td>0.527143</td>\n",
       "      <td>0.029979</td>\n",
       "      <td>0.997859</td>\n",
       "      <td>0</td>\n",
       "    </tr>\n",
       "    <tr>\n",
       "      <th>1</th>\n",
       "      <td>780d8a470d144fa0</td>\n",
       "      <td>/m/04yx4</td>\n",
       "      <td>0.291429</td>\n",
       "      <td>0.687143</td>\n",
       "      <td>0.128480</td>\n",
       "      <td>0.997859</td>\n",
       "      <td>0</td>\n",
       "    </tr>\n",
       "    <tr>\n",
       "      <th>2</th>\n",
       "      <td>780d8a470d144fa0</td>\n",
       "      <td>/m/04yx4</td>\n",
       "      <td>0.590000</td>\n",
       "      <td>0.965714</td>\n",
       "      <td>0.164882</td>\n",
       "      <td>0.997859</td>\n",
       "      <td>0</td>\n",
       "    </tr>\n",
       "    <tr>\n",
       "      <th>3</th>\n",
       "      <td>780db0a7d07a4a20</td>\n",
       "      <td>/m/026t6</td>\n",
       "      <td>0.000000</td>\n",
       "      <td>1.000000</td>\n",
       "      <td>0.345625</td>\n",
       "      <td>0.990000</td>\n",
       "      <td>-1</td>\n",
       "    </tr>\n",
       "    <tr>\n",
       "      <th>4</th>\n",
       "      <td>780db0a7d07a4a20</td>\n",
       "      <td>/m/026t6</td>\n",
       "      <td>0.271667</td>\n",
       "      <td>0.626667</td>\n",
       "      <td>0.803125</td>\n",
       "      <td>0.999375</td>\n",
       "      <td>0</td>\n",
       "    </tr>\n",
       "  </tbody>\n",
       "</table>\n",
       "</div>"
      ],
      "text/plain": [
       "            ImageID LabelName      XMin      XMax      YMin      YMax  \\\n",
       "0  780d8a470d144fa0  /m/04yx4  0.000000  0.527143  0.029979  0.997859   \n",
       "1  780d8a470d144fa0  /m/04yx4  0.291429  0.687143  0.128480  0.997859   \n",
       "2  780d8a470d144fa0  /m/04yx4  0.590000  0.965714  0.164882  0.997859   \n",
       "3  780db0a7d07a4a20  /m/026t6  0.000000  1.000000  0.345625  0.990000   \n",
       "4  780db0a7d07a4a20  /m/026t6  0.271667  0.626667  0.803125  0.999375   \n",
       "\n",
       "   IsGroupOf  \n",
       "0          0  \n",
       "1          0  \n",
       "2          0  \n",
       "3         -1  \n",
       "4          0  "
      ]
     },
     "execution_count": 33,
     "metadata": {},
     "output_type": "execute_result"
    }
   ],
   "source": [
    "df_box = pd.read_csv(osp.join(DATA_DIR, 'challenge-2019-train-vrd-bbox.csv'))\n",
    "df_box.head()"
   ]
  },
  {
   "cell_type": "code",
   "execution_count": 13,
   "metadata": {},
   "outputs": [],
   "source": [
    "df_vrd['target'] = df_vrd.LabelName1.str.cat(df_vrd.LabelName2, sep=',')"
   ]
  },
  {
   "cell_type": "code",
   "execution_count": 53,
   "metadata": {},
   "outputs": [],
   "source": [
    "df_hits = df_vrd.loc[df_vrd.RelationshipLabel=='hits'].copy()"
   ]
  },
  {
   "cell_type": "code",
   "execution_count": 20,
   "metadata": {},
   "outputs": [
    {
     "data": {
      "text/plain": [
       "array(['/m/04yx4,/m/01226z', '/m/04yx4,/m/0wdt60w', '/m/01bl7v,/m/01226z',\n",
       "       '/m/05r655,/m/01226z', '/m/03bt1vf,/m/01226z',\n",
       "       '/m/04yx4,/m/05ctyq', '/m/03bt1vf,/m/05ctyq',\n",
       "       '/m/05r655,/m/05ctyq'], dtype=object)"
      ]
     },
     "execution_count": 20,
     "metadata": {},
     "output_type": "execute_result"
    }
   ],
   "source": [
    "df_hits.target.unique()"
   ]
  },
  {
   "cell_type": "code",
   "execution_count": 9,
   "metadata": {},
   "outputs": [
    {
     "data": {
      "text/plain": [
       "array(['/m/01226z', '/m/0wdt60w', '/m/05ctyq'], dtype=object)"
      ]
     },
     "execution_count": 9,
     "metadata": {},
     "output_type": "execute_result"
    }
   ],
   "source": [
    "df_hits.LabelName2.unique()"
   ]
  },
  {
   "cell_type": "code",
   "execution_count": 17,
   "metadata": {},
   "outputs": [
    {
     "data": {
      "text/plain": [
       "array(['/m/04yx4', '/m/01bl7v', '/m/05r655', '/m/03bt1vf'], dtype=object)"
      ]
     },
     "execution_count": 17,
     "metadata": {},
     "output_type": "execute_result"
    }
   ],
   "source": [
    "df_hits.LabelName1.unique()"
   ]
  },
  {
   "cell_type": "code",
   "execution_count": 19,
   "metadata": {},
   "outputs": [
    {
     "data": {
      "text/plain": [
       "['/m/04yx4,/m/01226z',\n",
       " '/m/04yx4,/m/0wdt60w',\n",
       " '/m/01bl7v,/m/01226z',\n",
       " '/m/05r655,/m/01226z',\n",
       " '/m/03bt1vf,/m/01226z',\n",
       " '/m/04yx4,/m/05ctyq',\n",
       " '/m/03bt1vf,/m/05ctyq',\n",
       " '/m/05r655,/m/05ctyq',\n",
       " '/m/01226z',\n",
       " '/m/0wdt60w',\n",
       " '/m/05ctyq',\n",
       " '/m/04yx4',\n",
       " '/m/01bl7v',\n",
       " '/m/05r655',\n",
       " '/m/03bt1vf']"
      ]
     },
     "execution_count": 19,
     "metadata": {},
     "output_type": "execute_result"
    }
   ],
   "source": [
    "classes = df_hits.target.unique().tolist() + df_hits.LabelName2.unique().tolist() + df_hits.LabelName1.unique().tolist()\n",
    "classes"
   ]
  },
  {
   "cell_type": "code",
   "execution_count": 23,
   "metadata": {},
   "outputs": [
    {
     "data": {
      "text/html": [
       "<div>\n",
       "<style scoped>\n",
       "    .dataframe tbody tr th:only-of-type {\n",
       "        vertical-align: middle;\n",
       "    }\n",
       "\n",
       "    .dataframe tbody tr th {\n",
       "        vertical-align: top;\n",
       "    }\n",
       "\n",
       "    .dataframe thead th {\n",
       "        text-align: right;\n",
       "    }\n",
       "</style>\n",
       "<table border=\"1\" class=\"dataframe\">\n",
       "  <thead>\n",
       "    <tr style=\"text-align: right;\">\n",
       "      <th></th>\n",
       "      <th>class</th>\n",
       "    </tr>\n",
       "  </thead>\n",
       "  <tbody>\n",
       "    <tr>\n",
       "      <th>0</th>\n",
       "      <td>/m/04yx4,/m/01226z</td>\n",
       "    </tr>\n",
       "    <tr>\n",
       "      <th>1</th>\n",
       "      <td>/m/04yx4,/m/0wdt60w</td>\n",
       "    </tr>\n",
       "    <tr>\n",
       "      <th>2</th>\n",
       "      <td>/m/01bl7v,/m/01226z</td>\n",
       "    </tr>\n",
       "    <tr>\n",
       "      <th>3</th>\n",
       "      <td>/m/05r655,/m/01226z</td>\n",
       "    </tr>\n",
       "    <tr>\n",
       "      <th>4</th>\n",
       "      <td>/m/03bt1vf,/m/01226z</td>\n",
       "    </tr>\n",
       "  </tbody>\n",
       "</table>\n",
       "</div>"
      ],
      "text/plain": [
       "                  class\n",
       "0    /m/04yx4,/m/01226z\n",
       "1   /m/04yx4,/m/0wdt60w\n",
       "2   /m/01bl7v,/m/01226z\n",
       "3   /m/05r655,/m/01226z\n",
       "4  /m/03bt1vf,/m/01226z"
      ]
     },
     "execution_count": 23,
     "metadata": {},
     "output_type": "execute_result"
    }
   ],
   "source": [
    "df_classes = pd.DataFrame({'class': classes})\n",
    "df_classes.head()"
   ]
  },
  {
   "cell_type": "code",
   "execution_count": 24,
   "metadata": {},
   "outputs": [
    {
     "data": {
      "text/plain": [
       "15"
      ]
     },
     "execution_count": 24,
     "metadata": {},
     "output_type": "execute_result"
    }
   ],
   "source": [
    "len(classes)"
   ]
  },
  {
   "cell_type": "code",
   "execution_count": 54,
   "metadata": {},
   "outputs": [
    {
     "data": {
      "text/html": [
       "<div>\n",
       "<style scoped>\n",
       "    .dataframe tbody tr th:only-of-type {\n",
       "        vertical-align: middle;\n",
       "    }\n",
       "\n",
       "    .dataframe tbody tr th {\n",
       "        vertical-align: top;\n",
       "    }\n",
       "\n",
       "    .dataframe thead th {\n",
       "        text-align: right;\n",
       "    }\n",
       "</style>\n",
       "<table border=\"1\" class=\"dataframe\">\n",
       "  <thead>\n",
       "    <tr style=\"text-align: right;\">\n",
       "      <th></th>\n",
       "      <th>ImageID</th>\n",
       "      <th>LabelName1</th>\n",
       "      <th>LabelName2</th>\n",
       "      <th>XMin1</th>\n",
       "      <th>XMax1</th>\n",
       "      <th>YMin1</th>\n",
       "      <th>YMax1</th>\n",
       "      <th>XMin2</th>\n",
       "      <th>XMax2</th>\n",
       "      <th>YMin2</th>\n",
       "      <th>YMax2</th>\n",
       "      <th>RelationshipLabel</th>\n",
       "      <th>target</th>\n",
       "    </tr>\n",
       "  </thead>\n",
       "  <tbody>\n",
       "    <tr>\n",
       "      <th>289</th>\n",
       "      <td>10b9cd603d074f3d</td>\n",
       "      <td>/m/04yx4</td>\n",
       "      <td>/m/01226z</td>\n",
       "      <td>0.696875</td>\n",
       "      <td>0.999375</td>\n",
       "      <td>0.331771</td>\n",
       "      <td>0.814433</td>\n",
       "      <td>0.720625</td>\n",
       "      <td>0.775625</td>\n",
       "      <td>0.645736</td>\n",
       "      <td>0.751640</td>\n",
       "      <td>hits</td>\n",
       "      <td>/m/04yx4,/m/01226z</td>\n",
       "    </tr>\n",
       "    <tr>\n",
       "      <th>1872</th>\n",
       "      <td>b954163b03180ddd</td>\n",
       "      <td>/m/04yx4</td>\n",
       "      <td>/m/0wdt60w</td>\n",
       "      <td>0.355222</td>\n",
       "      <td>0.641026</td>\n",
       "      <td>0.111632</td>\n",
       "      <td>0.999062</td>\n",
       "      <td>0.439024</td>\n",
       "      <td>0.548468</td>\n",
       "      <td>0.514071</td>\n",
       "      <td>0.653846</td>\n",
       "      <td>hits</td>\n",
       "      <td>/m/04yx4,/m/0wdt60w</td>\n",
       "    </tr>\n",
       "    <tr>\n",
       "      <th>2062</th>\n",
       "      <td>38a6c99644f16d9f</td>\n",
       "      <td>/m/01bl7v</td>\n",
       "      <td>/m/01226z</td>\n",
       "      <td>0.238000</td>\n",
       "      <td>0.527000</td>\n",
       "      <td>0.132500</td>\n",
       "      <td>0.953750</td>\n",
       "      <td>0.465000</td>\n",
       "      <td>0.570000</td>\n",
       "      <td>0.088750</td>\n",
       "      <td>0.212500</td>\n",
       "      <td>hits</td>\n",
       "      <td>/m/01bl7v,/m/01226z</td>\n",
       "    </tr>\n",
       "    <tr>\n",
       "      <th>2907</th>\n",
       "      <td>ac21b274af577a46</td>\n",
       "      <td>/m/01bl7v</td>\n",
       "      <td>/m/01226z</td>\n",
       "      <td>0.040541</td>\n",
       "      <td>0.556757</td>\n",
       "      <td>0.057762</td>\n",
       "      <td>0.971119</td>\n",
       "      <td>0.286486</td>\n",
       "      <td>0.472973</td>\n",
       "      <td>0.653430</td>\n",
       "      <td>0.891697</td>\n",
       "      <td>hits</td>\n",
       "      <td>/m/01bl7v,/m/01226z</td>\n",
       "    </tr>\n",
       "    <tr>\n",
       "      <th>3269</th>\n",
       "      <td>d39f87b7fb01e5ad</td>\n",
       "      <td>/m/05r655</td>\n",
       "      <td>/m/01226z</td>\n",
       "      <td>0.366940</td>\n",
       "      <td>0.807737</td>\n",
       "      <td>0.300781</td>\n",
       "      <td>0.759375</td>\n",
       "      <td>0.676436</td>\n",
       "      <td>0.781946</td>\n",
       "      <td>0.709375</td>\n",
       "      <td>0.780469</td>\n",
       "      <td>hits</td>\n",
       "      <td>/m/05r655,/m/01226z</td>\n",
       "    </tr>\n",
       "  </tbody>\n",
       "</table>\n",
       "</div>"
      ],
      "text/plain": [
       "               ImageID LabelName1  LabelName2     XMin1     XMax1     YMin1  \\\n",
       "289   10b9cd603d074f3d   /m/04yx4   /m/01226z  0.696875  0.999375  0.331771   \n",
       "1872  b954163b03180ddd   /m/04yx4  /m/0wdt60w  0.355222  0.641026  0.111632   \n",
       "2062  38a6c99644f16d9f  /m/01bl7v   /m/01226z  0.238000  0.527000  0.132500   \n",
       "2907  ac21b274af577a46  /m/01bl7v   /m/01226z  0.040541  0.556757  0.057762   \n",
       "3269  d39f87b7fb01e5ad  /m/05r655   /m/01226z  0.366940  0.807737  0.300781   \n",
       "\n",
       "         YMax1     XMin2     XMax2     YMin2     YMax2 RelationshipLabel  \\\n",
       "289   0.814433  0.720625  0.775625  0.645736  0.751640              hits   \n",
       "1872  0.999062  0.439024  0.548468  0.514071  0.653846              hits   \n",
       "2062  0.953750  0.465000  0.570000  0.088750  0.212500              hits   \n",
       "2907  0.971119  0.286486  0.472973  0.653430  0.891697              hits   \n",
       "3269  0.759375  0.676436  0.781946  0.709375  0.780469              hits   \n",
       "\n",
       "                   target  \n",
       "289    /m/04yx4,/m/01226z  \n",
       "1872  /m/04yx4,/m/0wdt60w  \n",
       "2062  /m/01bl7v,/m/01226z  \n",
       "2907  /m/01bl7v,/m/01226z  \n",
       "3269  /m/05r655,/m/01226z  "
      ]
     },
     "execution_count": 54,
     "metadata": {},
     "output_type": "execute_result"
    }
   ],
   "source": [
    "df_hits.head()"
   ]
  },
  {
   "cell_type": "code",
   "execution_count": 55,
   "metadata": {},
   "outputs": [
    {
     "data": {
      "text/html": [
       "<div>\n",
       "<style scoped>\n",
       "    .dataframe tbody tr th:only-of-type {\n",
       "        vertical-align: middle;\n",
       "    }\n",
       "\n",
       "    .dataframe tbody tr th {\n",
       "        vertical-align: top;\n",
       "    }\n",
       "\n",
       "    .dataframe thead th {\n",
       "        text-align: right;\n",
       "    }\n",
       "</style>\n",
       "<table border=\"1\" class=\"dataframe\">\n",
       "  <thead>\n",
       "    <tr style=\"text-align: right;\">\n",
       "      <th></th>\n",
       "      <th>ImageID</th>\n",
       "      <th>XMin1</th>\n",
       "      <th>XMax1</th>\n",
       "      <th>YMin1</th>\n",
       "      <th>YMax1</th>\n",
       "      <th>target</th>\n",
       "    </tr>\n",
       "  </thead>\n",
       "  <tbody>\n",
       "    <tr>\n",
       "      <th>289</th>\n",
       "      <td>10b9cd603d074f3d</td>\n",
       "      <td>0.696875</td>\n",
       "      <td>0.999375</td>\n",
       "      <td>0.331771</td>\n",
       "      <td>0.814433</td>\n",
       "      <td>/m/04yx4,/m/01226z</td>\n",
       "    </tr>\n",
       "    <tr>\n",
       "      <th>1872</th>\n",
       "      <td>b954163b03180ddd</td>\n",
       "      <td>0.355222</td>\n",
       "      <td>0.641026</td>\n",
       "      <td>0.111632</td>\n",
       "      <td>0.999062</td>\n",
       "      <td>/m/04yx4,/m/0wdt60w</td>\n",
       "    </tr>\n",
       "    <tr>\n",
       "      <th>2062</th>\n",
       "      <td>38a6c99644f16d9f</td>\n",
       "      <td>0.238000</td>\n",
       "      <td>0.527000</td>\n",
       "      <td>0.132500</td>\n",
       "      <td>0.953750</td>\n",
       "      <td>/m/01bl7v,/m/01226z</td>\n",
       "    </tr>\n",
       "    <tr>\n",
       "      <th>2907</th>\n",
       "      <td>ac21b274af577a46</td>\n",
       "      <td>0.040541</td>\n",
       "      <td>0.556757</td>\n",
       "      <td>0.057762</td>\n",
       "      <td>0.971119</td>\n",
       "      <td>/m/01bl7v,/m/01226z</td>\n",
       "    </tr>\n",
       "    <tr>\n",
       "      <th>3269</th>\n",
       "      <td>d39f87b7fb01e5ad</td>\n",
       "      <td>0.366940</td>\n",
       "      <td>0.807737</td>\n",
       "      <td>0.300781</td>\n",
       "      <td>0.759375</td>\n",
       "      <td>/m/05r655,/m/01226z</td>\n",
       "    </tr>\n",
       "  </tbody>\n",
       "</table>\n",
       "</div>"
      ],
      "text/plain": [
       "               ImageID     XMin1     XMax1     YMin1     YMax1  \\\n",
       "289   10b9cd603d074f3d  0.696875  0.999375  0.331771  0.814433   \n",
       "1872  b954163b03180ddd  0.355222  0.641026  0.111632  0.999062   \n",
       "2062  38a6c99644f16d9f  0.238000  0.527000  0.132500  0.953750   \n",
       "2907  ac21b274af577a46  0.040541  0.556757  0.057762  0.971119   \n",
       "3269  d39f87b7fb01e5ad  0.366940  0.807737  0.300781  0.759375   \n",
       "\n",
       "                   target  \n",
       "289    /m/04yx4,/m/01226z  \n",
       "1872  /m/04yx4,/m/0wdt60w  \n",
       "2062  /m/01bl7v,/m/01226z  \n",
       "2907  /m/01bl7v,/m/01226z  \n",
       "3269  /m/05r655,/m/01226z  "
      ]
     },
     "execution_count": 55,
     "metadata": {},
     "output_type": "execute_result"
    }
   ],
   "source": [
    "df_hits = df_hits.drop(columns=['LabelName1', 'LabelName2', 'RelationshipLabel', 'XMin2', 'YMin2', 'XMax2', 'YMax2'], axis=1)\n",
    "df_hits.head()"
   ]
  },
  {
   "cell_type": "code",
   "execution_count": 56,
   "metadata": {},
   "outputs": [
    {
     "data": {
      "text/html": [
       "<div>\n",
       "<style scoped>\n",
       "    .dataframe tbody tr th:only-of-type {\n",
       "        vertical-align: middle;\n",
       "    }\n",
       "\n",
       "    .dataframe tbody tr th {\n",
       "        vertical-align: top;\n",
       "    }\n",
       "\n",
       "    .dataframe thead th {\n",
       "        text-align: right;\n",
       "    }\n",
       "</style>\n",
       "<table border=\"1\" class=\"dataframe\">\n",
       "  <thead>\n",
       "    <tr style=\"text-align: right;\">\n",
       "      <th></th>\n",
       "      <th>ImageID</th>\n",
       "      <th>XMin</th>\n",
       "      <th>XMax</th>\n",
       "      <th>YMin</th>\n",
       "      <th>YMax</th>\n",
       "      <th>LabelName</th>\n",
       "    </tr>\n",
       "  </thead>\n",
       "  <tbody>\n",
       "    <tr>\n",
       "      <th>289</th>\n",
       "      <td>10b9cd603d074f3d</td>\n",
       "      <td>0.696875</td>\n",
       "      <td>0.999375</td>\n",
       "      <td>0.331771</td>\n",
       "      <td>0.814433</td>\n",
       "      <td>/m/04yx4,/m/01226z</td>\n",
       "    </tr>\n",
       "    <tr>\n",
       "      <th>1872</th>\n",
       "      <td>b954163b03180ddd</td>\n",
       "      <td>0.355222</td>\n",
       "      <td>0.641026</td>\n",
       "      <td>0.111632</td>\n",
       "      <td>0.999062</td>\n",
       "      <td>/m/04yx4,/m/0wdt60w</td>\n",
       "    </tr>\n",
       "    <tr>\n",
       "      <th>2062</th>\n",
       "      <td>38a6c99644f16d9f</td>\n",
       "      <td>0.238000</td>\n",
       "      <td>0.527000</td>\n",
       "      <td>0.132500</td>\n",
       "      <td>0.953750</td>\n",
       "      <td>/m/01bl7v,/m/01226z</td>\n",
       "    </tr>\n",
       "    <tr>\n",
       "      <th>2907</th>\n",
       "      <td>ac21b274af577a46</td>\n",
       "      <td>0.040541</td>\n",
       "      <td>0.556757</td>\n",
       "      <td>0.057762</td>\n",
       "      <td>0.971119</td>\n",
       "      <td>/m/01bl7v,/m/01226z</td>\n",
       "    </tr>\n",
       "    <tr>\n",
       "      <th>3269</th>\n",
       "      <td>d39f87b7fb01e5ad</td>\n",
       "      <td>0.366940</td>\n",
       "      <td>0.807737</td>\n",
       "      <td>0.300781</td>\n",
       "      <td>0.759375</td>\n",
       "      <td>/m/05r655,/m/01226z</td>\n",
       "    </tr>\n",
       "  </tbody>\n",
       "</table>\n",
       "</div>"
      ],
      "text/plain": [
       "               ImageID      XMin      XMax      YMin      YMax  \\\n",
       "289   10b9cd603d074f3d  0.696875  0.999375  0.331771  0.814433   \n",
       "1872  b954163b03180ddd  0.355222  0.641026  0.111632  0.999062   \n",
       "2062  38a6c99644f16d9f  0.238000  0.527000  0.132500  0.953750   \n",
       "2907  ac21b274af577a46  0.040541  0.556757  0.057762  0.971119   \n",
       "3269  d39f87b7fb01e5ad  0.366940  0.807737  0.300781  0.759375   \n",
       "\n",
       "                LabelName  \n",
       "289    /m/04yx4,/m/01226z  \n",
       "1872  /m/04yx4,/m/0wdt60w  \n",
       "2062  /m/01bl7v,/m/01226z  \n",
       "2907  /m/01bl7v,/m/01226z  \n",
       "3269  /m/05r655,/m/01226z  "
      ]
     },
     "execution_count": 56,
     "metadata": {},
     "output_type": "execute_result"
    }
   ],
   "source": [
    "df_hits.rename(columns={'XMin1': 'XMin', 'XMax1': 'XMax', 'YMin1': 'YMin', 'YMax1': 'YMax', 'target': 'LabelName'}, inplace=True)\n",
    "df_hits.head()"
   ]
  },
  {
   "cell_type": "code",
   "execution_count": 29,
   "metadata": {},
   "outputs": [
    {
     "data": {
      "text/html": [
       "<div>\n",
       "<style scoped>\n",
       "    .dataframe tbody tr th:only-of-type {\n",
       "        vertical-align: middle;\n",
       "    }\n",
       "\n",
       "    .dataframe tbody tr th {\n",
       "        vertical-align: top;\n",
       "    }\n",
       "\n",
       "    .dataframe thead th {\n",
       "        text-align: right;\n",
       "    }\n",
       "</style>\n",
       "<table border=\"1\" class=\"dataframe\">\n",
       "  <thead>\n",
       "    <tr style=\"text-align: right;\">\n",
       "      <th></th>\n",
       "      <th>ImageID</th>\n",
       "      <th>LabelName</th>\n",
       "      <th>XMin</th>\n",
       "      <th>XMax</th>\n",
       "      <th>YMin</th>\n",
       "      <th>YMax</th>\n",
       "      <th>IsGroupOf</th>\n",
       "    </tr>\n",
       "  </thead>\n",
       "  <tbody>\n",
       "    <tr>\n",
       "      <th>0</th>\n",
       "      <td>8118f50240fef888</td>\n",
       "      <td>/m/01bl7v</td>\n",
       "      <td>0.412393</td>\n",
       "      <td>0.884615</td>\n",
       "      <td>0.003049</td>\n",
       "      <td>0.998476</td>\n",
       "      <td>0</td>\n",
       "    </tr>\n",
       "    <tr>\n",
       "      <th>1</th>\n",
       "      <td>811a624b0fd608b2</td>\n",
       "      <td>/m/0k4j</td>\n",
       "      <td>0.000000</td>\n",
       "      <td>0.903125</td>\n",
       "      <td>0.133333</td>\n",
       "      <td>0.937500</td>\n",
       "      <td>1</td>\n",
       "    </tr>\n",
       "    <tr>\n",
       "      <th>2</th>\n",
       "      <td>811a624b0fd608b2</td>\n",
       "      <td>/m/0k4j</td>\n",
       "      <td>0.534375</td>\n",
       "      <td>0.768750</td>\n",
       "      <td>0.191667</td>\n",
       "      <td>0.316667</td>\n",
       "      <td>0</td>\n",
       "    </tr>\n",
       "    <tr>\n",
       "      <th>3</th>\n",
       "      <td>811a624b0fd608b2</td>\n",
       "      <td>/m/0k4j</td>\n",
       "      <td>0.754687</td>\n",
       "      <td>1.000000</td>\n",
       "      <td>0.216667</td>\n",
       "      <td>0.370833</td>\n",
       "      <td>0</td>\n",
       "    </tr>\n",
       "    <tr>\n",
       "      <th>4</th>\n",
       "      <td>811a7ea31f6fdba6</td>\n",
       "      <td>/m/0k4j</td>\n",
       "      <td>0.157353</td>\n",
       "      <td>0.886765</td>\n",
       "      <td>0.328160</td>\n",
       "      <td>0.745011</td>\n",
       "      <td>0</td>\n",
       "    </tr>\n",
       "  </tbody>\n",
       "</table>\n",
       "</div>"
      ],
      "text/plain": [
       "            ImageID  LabelName      XMin      XMax      YMin      YMax  \\\n",
       "0  8118f50240fef888  /m/01bl7v  0.412393  0.884615  0.003049  0.998476   \n",
       "1  811a624b0fd608b2    /m/0k4j  0.000000  0.903125  0.133333  0.937500   \n",
       "2  811a624b0fd608b2    /m/0k4j  0.534375  0.768750  0.191667  0.316667   \n",
       "3  811a624b0fd608b2    /m/0k4j  0.754687  1.000000  0.216667  0.370833   \n",
       "4  811a7ea31f6fdba6    /m/0k4j  0.157353  0.886765  0.328160  0.745011   \n",
       "\n",
       "   IsGroupOf  \n",
       "0          0  \n",
       "1          1  \n",
       "2          0  \n",
       "3          0  \n",
       "4          0  "
      ]
     },
     "execution_count": 29,
     "metadata": {},
     "output_type": "execute_result"
    }
   ],
   "source": [
    "df_box.head()"
   ]
  },
  {
   "cell_type": "code",
   "execution_count": 34,
   "metadata": {},
   "outputs": [
    {
     "data": {
      "text/plain": [
       "(3290070, 7)"
      ]
     },
     "execution_count": 34,
     "metadata": {},
     "output_type": "execute_result"
    }
   ],
   "source": [
    "df_box.shape"
   ]
  },
  {
   "cell_type": "code",
   "execution_count": 35,
   "metadata": {},
   "outputs": [
    {
     "data": {
      "text/plain": [
       "790478"
      ]
     },
     "execution_count": 35,
     "metadata": {},
     "output_type": "execute_result"
    }
   ],
   "source": [
    "len(df_box.ImageID.unique())"
   ]
  },
  {
   "cell_type": "code",
   "execution_count": 36,
   "metadata": {},
   "outputs": [],
   "source": [
    "img_hits = df_hits.ImageID.unique()"
   ]
  },
  {
   "cell_type": "code",
   "execution_count": 37,
   "metadata": {},
   "outputs": [
    {
     "data": {
      "text/plain": [
       "(520,)"
      ]
     },
     "execution_count": 37,
     "metadata": {},
     "output_type": "execute_result"
    }
   ],
   "source": [
    "img_hits.shape"
   ]
  },
  {
   "cell_type": "code",
   "execution_count": 39,
   "metadata": {},
   "outputs": [
    {
     "data": {
      "text/plain": [
       "(2467302, 7)"
      ]
     },
     "execution_count": 39,
     "metadata": {},
     "output_type": "execute_result"
    }
   ],
   "source": [
    "df_human = df_box.loc[df_box.LabelName.isin(classes[11:])]\n",
    "df_human_neg = df_human.loc[~df_human.ImageID.isin(set(img_hits))]\n",
    "df_human_neg.shape"
   ]
  },
  {
   "cell_type": "code",
   "execution_count": 40,
   "metadata": {},
   "outputs": [],
   "source": [
    "img_human_neg = df_human_neg.ImageID.unique()[:1000]"
   ]
  },
  {
   "cell_type": "code",
   "execution_count": 41,
   "metadata": {},
   "outputs": [
    {
     "data": {
      "text/plain": [
       "(5097, 7)"
      ]
     },
     "execution_count": 41,
     "metadata": {},
     "output_type": "execute_result"
    }
   ],
   "source": [
    "df_football = df_box.loc[df_box.LabelName=='/m/01226z']\n",
    "df_football.shape"
   ]
  },
  {
   "cell_type": "code",
   "execution_count": 44,
   "metadata": {},
   "outputs": [],
   "source": [
    "img_football = df_football.ImageID.unique()[:1500]"
   ]
  },
  {
   "cell_type": "code",
   "execution_count": 45,
   "metadata": {},
   "outputs": [
    {
     "data": {
      "text/plain": [
       "(1500,)"
      ]
     },
     "execution_count": 45,
     "metadata": {},
     "output_type": "execute_result"
    }
   ],
   "source": [
    "img_football.shape"
   ]
  },
  {
   "cell_type": "code",
   "execution_count": 46,
   "metadata": {},
   "outputs": [
    {
     "data": {
      "text/plain": [
       "(655,)"
      ]
     },
     "execution_count": 46,
     "metadata": {},
     "output_type": "execute_result"
    }
   ],
   "source": [
    "img_otherball = df_box.loc[df_box.LabelName.isin(['/m/0wdt60w', '/m/05ctyq'])].ImageID.unique()\n",
    "img_otherball.shape"
   ]
  },
  {
   "cell_type": "code",
   "execution_count": 48,
   "metadata": {},
   "outputs": [],
   "source": [
    "selected_imgs = set(img_human_neg) | set(img_football) | set(img_otherball)"
   ]
  },
  {
   "cell_type": "code",
   "execution_count": 49,
   "metadata": {},
   "outputs": [
    {
     "data": {
      "text/plain": [
       "3135"
      ]
     },
     "execution_count": 49,
     "metadata": {},
     "output_type": "execute_result"
    }
   ],
   "source": [
    "len(selected_imgs)"
   ]
  },
  {
   "cell_type": "code",
   "execution_count": 66,
   "metadata": {},
   "outputs": [
    {
     "data": {
      "text/plain": [
       "(13181, 7)"
      ]
     },
     "execution_count": 66,
     "metadata": {},
     "output_type": "execute_result"
    }
   ],
   "source": [
    "df_box_hits = df_box.loc[df_box.ImageID.isin(selected_imgs)]\n",
    "df_box_hits = df_box_hits.loc[df_box_hits.LabelName.isin(classes[8:])].copy()\n",
    "df_box_hits.shape"
   ]
  },
  {
   "cell_type": "code",
   "execution_count": 51,
   "metadata": {},
   "outputs": [
    {
     "data": {
      "text/html": [
       "<div>\n",
       "<style scoped>\n",
       "    .dataframe tbody tr th:only-of-type {\n",
       "        vertical-align: middle;\n",
       "    }\n",
       "\n",
       "    .dataframe tbody tr th {\n",
       "        vertical-align: top;\n",
       "    }\n",
       "\n",
       "    .dataframe thead th {\n",
       "        text-align: right;\n",
       "    }\n",
       "</style>\n",
       "<table border=\"1\" class=\"dataframe\">\n",
       "  <thead>\n",
       "    <tr style=\"text-align: right;\">\n",
       "      <th></th>\n",
       "      <th>ImageID</th>\n",
       "      <th>LabelName</th>\n",
       "      <th>XMin</th>\n",
       "      <th>XMax</th>\n",
       "      <th>YMin</th>\n",
       "      <th>YMax</th>\n",
       "    </tr>\n",
       "  </thead>\n",
       "  <tbody>\n",
       "    <tr>\n",
       "      <th>0</th>\n",
       "      <td>780d8a470d144fa0</td>\n",
       "      <td>/m/04yx4</td>\n",
       "      <td>0.000000</td>\n",
       "      <td>0.527143</td>\n",
       "      <td>0.029979</td>\n",
       "      <td>0.997859</td>\n",
       "    </tr>\n",
       "    <tr>\n",
       "      <th>1</th>\n",
       "      <td>780d8a470d144fa0</td>\n",
       "      <td>/m/04yx4</td>\n",
       "      <td>0.291429</td>\n",
       "      <td>0.687143</td>\n",
       "      <td>0.128480</td>\n",
       "      <td>0.997859</td>\n",
       "    </tr>\n",
       "    <tr>\n",
       "      <th>2</th>\n",
       "      <td>780d8a470d144fa0</td>\n",
       "      <td>/m/04yx4</td>\n",
       "      <td>0.590000</td>\n",
       "      <td>0.965714</td>\n",
       "      <td>0.164882</td>\n",
       "      <td>0.997859</td>\n",
       "    </tr>\n",
       "    <tr>\n",
       "      <th>9</th>\n",
       "      <td>780db1d52d5aee6c</td>\n",
       "      <td>/m/04yx4</td>\n",
       "      <td>0.441250</td>\n",
       "      <td>0.822500</td>\n",
       "      <td>0.365789</td>\n",
       "      <td>0.986842</td>\n",
       "    </tr>\n",
       "    <tr>\n",
       "      <th>10</th>\n",
       "      <td>780dc0ff229f14f1</td>\n",
       "      <td>/m/04yx4</td>\n",
       "      <td>0.722500</td>\n",
       "      <td>0.829375</td>\n",
       "      <td>0.758333</td>\n",
       "      <td>0.980000</td>\n",
       "    </tr>\n",
       "  </tbody>\n",
       "</table>\n",
       "</div>"
      ],
      "text/plain": [
       "             ImageID LabelName      XMin      XMax      YMin      YMax\n",
       "0   780d8a470d144fa0  /m/04yx4  0.000000  0.527143  0.029979  0.997859\n",
       "1   780d8a470d144fa0  /m/04yx4  0.291429  0.687143  0.128480  0.997859\n",
       "2   780d8a470d144fa0  /m/04yx4  0.590000  0.965714  0.164882  0.997859\n",
       "9   780db1d52d5aee6c  /m/04yx4  0.441250  0.822500  0.365789  0.986842\n",
       "10  780dc0ff229f14f1  /m/04yx4  0.722500  0.829375  0.758333  0.980000"
      ]
     },
     "execution_count": 51,
     "metadata": {},
     "output_type": "execute_result"
    }
   ],
   "source": [
    "df_box_hits = df_box_hits.drop(columns=['IsGroupOf'], axis=1)\n",
    "df_box_hits.head()"
   ]
  },
  {
   "cell_type": "code",
   "execution_count": 58,
   "metadata": {},
   "outputs": [
    {
     "data": {
      "text/html": [
       "<div>\n",
       "<style scoped>\n",
       "    .dataframe tbody tr th:only-of-type {\n",
       "        vertical-align: middle;\n",
       "    }\n",
       "\n",
       "    .dataframe tbody tr th {\n",
       "        vertical-align: top;\n",
       "    }\n",
       "\n",
       "    .dataframe thead th {\n",
       "        text-align: right;\n",
       "    }\n",
       "</style>\n",
       "<table border=\"1\" class=\"dataframe\">\n",
       "  <thead>\n",
       "    <tr style=\"text-align: right;\">\n",
       "      <th></th>\n",
       "      <th>ImageID</th>\n",
       "      <th>XMin</th>\n",
       "      <th>XMax</th>\n",
       "      <th>YMin</th>\n",
       "      <th>YMax</th>\n",
       "      <th>LabelName</th>\n",
       "    </tr>\n",
       "  </thead>\n",
       "  <tbody>\n",
       "    <tr>\n",
       "      <th>745329</th>\n",
       "      <td>5e8f6f703d23d938</td>\n",
       "      <td>0.376875</td>\n",
       "      <td>0.403750</td>\n",
       "      <td>0.085833</td>\n",
       "      <td>0.144167</td>\n",
       "      <td>/m/04yx4</td>\n",
       "    </tr>\n",
       "    <tr>\n",
       "      <th>87746</th>\n",
       "      <td>4644cd74d3efd717</td>\n",
       "      <td>0.521250</td>\n",
       "      <td>0.684375</td>\n",
       "      <td>0.411324</td>\n",
       "      <td>0.849292</td>\n",
       "      <td>/m/04yx4,/m/01226z</td>\n",
       "    </tr>\n",
       "    <tr>\n",
       "      <th>320653</th>\n",
       "      <td>b3e74b1511dc2316</td>\n",
       "      <td>0.365469</td>\n",
       "      <td>0.553024</td>\n",
       "      <td>0.093125</td>\n",
       "      <td>0.221250</td>\n",
       "      <td>/m/01226z</td>\n",
       "    </tr>\n",
       "    <tr>\n",
       "      <th>5499</th>\n",
       "      <td>ebdd002e8673f8e8</td>\n",
       "      <td>0.473125</td>\n",
       "      <td>0.592500</td>\n",
       "      <td>0.418919</td>\n",
       "      <td>0.717256</td>\n",
       "      <td>/m/01mzpv</td>\n",
       "    </tr>\n",
       "    <tr>\n",
       "      <th>2685</th>\n",
       "      <td>eb9a7891bed601c5</td>\n",
       "      <td>0.361250</td>\n",
       "      <td>0.420000</td>\n",
       "      <td>0.432343</td>\n",
       "      <td>0.528878</td>\n",
       "      <td>/m/04yx4</td>\n",
       "    </tr>\n",
       "  </tbody>\n",
       "</table>\n",
       "</div>"
      ],
      "text/plain": [
       "                 ImageID      XMin      XMax      YMin      YMax  \\\n",
       "745329  5e8f6f703d23d938  0.376875  0.403750  0.085833  0.144167   \n",
       "87746   4644cd74d3efd717  0.521250  0.684375  0.411324  0.849292   \n",
       "320653  b3e74b1511dc2316  0.365469  0.553024  0.093125  0.221250   \n",
       "5499    ebdd002e8673f8e8  0.473125  0.592500  0.418919  0.717256   \n",
       "2685    eb9a7891bed601c5  0.361250  0.420000  0.432343  0.528878   \n",
       "\n",
       "                 LabelName  \n",
       "745329            /m/04yx4  \n",
       "87746   /m/04yx4,/m/01226z  \n",
       "320653           /m/01226z  \n",
       "5499             /m/01mzpv  \n",
       "2685              /m/04yx4  "
      ]
     },
     "execution_count": 58,
     "metadata": {},
     "output_type": "execute_result"
    }
   ],
   "source": [
    "df_meta = pd.concat([df_hits, df_box_hits], sort=False)\n",
    "df_meta.sample(5)"
   ]
  },
  {
   "cell_type": "code",
   "execution_count": 60,
   "metadata": {},
   "outputs": [
    {
     "data": {
      "text/plain": [
       "3464"
      ]
     },
     "execution_count": 60,
     "metadata": {},
     "output_type": "execute_result"
    }
   ],
   "source": [
    "len(df_meta.ImageID.unique())"
   ]
  },
  {
   "cell_type": "code",
   "execution_count": 61,
   "metadata": {},
   "outputs": [
    {
     "data": {
      "text/plain": [
       "(14512, 6)"
      ]
     },
     "execution_count": 61,
     "metadata": {},
     "output_type": "execute_result"
    }
   ],
   "source": [
    "df_meta.shape"
   ]
  },
  {
   "cell_type": "code",
   "execution_count": 62,
   "metadata": {},
   "outputs": [
    {
     "data": {
      "text/plain": [
       "(13919, 6)"
      ]
     },
     "execution_count": 62,
     "metadata": {},
     "output_type": "execute_result"
    }
   ],
   "source": [
    "df_box_hits.shape"
   ]
  },
  {
   "cell_type": "code",
   "execution_count": 63,
   "metadata": {},
   "outputs": [
    {
     "data": {
      "text/plain": [
       "(593, 6)"
      ]
     },
     "execution_count": 63,
     "metadata": {},
     "output_type": "execute_result"
    }
   ],
   "source": [
    "df_hits.shape"
   ]
  },
  {
   "cell_type": "code",
   "execution_count": null,
   "metadata": {},
   "outputs": [],
   "source": []
  }
 ],
 "metadata": {
  "kernelspec": {
   "display_name": "Python 3",
   "language": "python",
   "name": "python3"
  },
  "language_info": {
   "codemirror_mode": {
    "name": "ipython",
    "version": 3
   },
   "file_extension": ".py",
   "mimetype": "text/x-python",
   "name": "python",
   "nbconvert_exporter": "python",
   "pygments_lexer": "ipython3",
   "version": "3.7.3"
  }
 },
 "nbformat": 4,
 "nbformat_minor": 2
}
