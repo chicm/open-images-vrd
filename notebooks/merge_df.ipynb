{
 "cells": [
  {
   "cell_type": "code",
   "execution_count": 2,
   "metadata": {},
   "outputs": [],
   "source": [
    "import os\n",
    "import numpy as np\n",
    "import pandas as pd\n",
    "import torch\n",
    "import os\n",
    "import json\n",
    "import pandas as pd\n",
    "from PIL import Image\n",
    "from matplotlib.pyplot import imshow\n",
    "import matplotlib.pyplot as plt\n",
    "import cv2\n",
    "import numpy as np\n",
    "%matplotlib inline\n",
    "from tqdm import tqdm\n",
    "import glob\n",
    "import pickle"
   ]
  },
  {
   "cell_type": "code",
   "execution_count": 2,
   "metadata": {},
   "outputs": [
    {
     "name": "stdout",
     "output_type": "stream",
     "text": [
      "total 6.6G\r\n",
      "-rw-rw-r-- 1 chicm_dev chicm_dev  2.2M Sep  4 11:01 detect-57-ensemble.ipynb\r\n",
      "-rw-rw-r-- 1 chicm_dev chicm_dev  2.2M Sep  4 11:01 detect-57-ensemble-level2.ipynb\r\n",
      "-rw-rw-r-- 1 chicm_dev chicm_dev  1.5M Sep  5 07:18 eda.ipynb\r\n",
      "-rw-rw-r-- 1 chicm_dev chicm_dev  421M Sep  4 15:42 ensemble_detect_57_0808_1.csv\r\n",
      "-rw-rw-r-- 1 chicm_dev chicm_dev  268M Sep  4 15:43 ensemble_detect_57_0808_1_top50.csv\r\n",
      "-rw-rw-r-- 1 chicm_dev chicm_dev  421M Sep  4 15:43 ensemble_detect_57_0808_2_with_weights.csv\r\n",
      "-rw-rw-r-- 1 chicm_dev chicm_dev  399M Sep  4 15:44 ensemble_detect_57_0819_1.csv\r\n",
      "-rw-rw-r-- 1 chicm_dev chicm_dev  399M Sep  4 15:45 ensemble_detect_57_0819_2.csv\r\n",
      "-rw-rw-r-- 1 chicm_dev chicm_dev  573M Sep  4 15:46 ensemble_detect_57_0820_1_top100.csv\r\n",
      "-rw-rw-r-- 1 chicm_dev chicm_dev  1.2G Sep  4 15:48 ensemble_is_42_0808_1_3_models.csv\r\n",
      "-rw-rw-r-- 1 chicm_dev chicm_dev  1.7G Sep  4 15:52 ensemble_is_42_0824.csv\r\n",
      "-rw-rw-r-- 1 chicm_dev chicm_dev  911M Sep  4 15:53 ensemble_level2_0822.csv\r\n",
      "-rw-rw-r-- 1 chicm_dev chicm_dev   16K Sep  4 11:01 filter_detect_submission.ipynb\r\n",
      "-rw-rw-r-- 1 chicm_dev chicm_dev   12K Sep  5 13:30 filter_rel_class.ipynb\r\n",
      "-rw-rw-r-- 1 chicm_dev chicm_dev  124K Sep  4 11:01 Is-classifier-6-eda.ipynb\r\n",
      "-rw-rw-r-- 1 chicm_dev chicm_dev  378K Sep  4 11:01 Is-detect-42-eda.ipynb\r\n",
      "-rw-rw-r-- 1 chicm_dev chicm_dev   21K Sep  4 11:01 Is-detector-result.ipynb\r\n",
      "drwxrwxr-x 2 chicm_dev chicm_dev  4.0K Sep  4 11:01 lb18901\r\n",
      "drwxrwxr-x 2 chicm_dev chicm_dev  4.0K Sep  4 11:01 lb19252\r\n",
      "drwxrwxr-x 2 chicm_dev chicm_dev  4.0K Sep  4 11:01 lb26760\r\n",
      "-rw-rw-r-- 1 chicm_dev chicm_dev   27K Sep  4 11:01 merge_df.ipynb\r\n",
      "-rw-rw-r-- 1 chicm_dev chicm_dev  1.1M Sep  4 11:01 show-detections.ipynb\r\n",
      "-rw-rw-r-- 1 chicm_dev chicm_dev 1011K Sep  4 11:01 submit-detect-57.ipynb\r\n",
      "-rw-rw-r-- 1 chicm_dev chicm_dev   87K Sep  4 11:01 submit-is-42-ensemble.ipynb\r\n",
      "-rw-rw-r-- 1 chicm_dev chicm_dev  610K Sep  4 11:01 submit-is-42.ipynb\r\n",
      "-rw-rw-r-- 1 chicm_dev chicm_dev  907K Sep  4 11:01 submit-is-6-catboost.ipynb\r\n",
      "-rw-rw-r-- 1 chicm_dev chicm_dev   99K Sep  4 11:01 submit-is-6.ipynb\r\n",
      "-rw-rw-r-- 1 chicm_dev chicm_dev  460M Sep  4 15:54 tmp_pos_rel.csv\r\n",
      "-rw-rw-r-- 1 chicm_dev chicm_dev  1.1K Sep  4 15:54 top_classes_42.csv\r\n",
      "-rw-rw-r-- 1 chicm_dev chicm_dev   857 Sep  4 15:54 top_classes.csv\r\n",
      "-rw-rw-r-- 1 chicm_dev chicm_dev   36K Sep  4 11:01 train_lgbm.ipynb\r\n",
      "-rw-rw-r-- 1 chicm_dev chicm_dev  1.8M Sep  4 11:01 tuple-rel-classifier.ipynb\r\n",
      "-rw-rw-r-- 1 chicm_dev chicm_dev  1.7M Sep  4 11:01 tuple-rel-classifier-new.ipynb\r\n",
      "-rw-rw-r-- 1 chicm_dev chicm_dev  1.7M Sep  4 11:01 tuple-rel-classifier-new-lb18901.ipynb\r\n"
     ]
    }
   ],
   "source": [
    "!ls -lh"
   ]
  },
  {
   "cell_type": "markdown",
   "metadata": {},
   "source": [
    "at                111606\n",
    "on                 47935\n",
    "holds              21726\n",
    "interacts_with      9783\n",
    "plays               6073\n",
    "inside_of           2969\n",
    "wears               2241\n",
    "hits                 228\n",
    "under                 82"
   ]
  },
  {
   "cell_type": "code",
   "execution_count": 3,
   "metadata": {},
   "outputs": [],
   "source": [
    "''' lb34310\n",
    "csv_files = [\n",
    "            #'sub_sort_200_0820_2_fast_ensemble.csv',\n",
    "            #'../vrd/lb23578/sub_tuple_0821_4.csv',\n",
    "            #'../vrd/lb25388/sub_tuple_0825_cdiff.csv',\n",
    "            #'../vrd/lb25388/sub_tuple_0825_cdiff_exclude_plays_insideof.csv',\n",
    "            '../vrd/lb25388/sub_tuple_0825_cdiff_excludes_insideof_holds_plays_on.csv',\n",
    "            '../vrd/insideof/sub_insideof.csv',\n",
    "            #'../vrd/lb25388/sub_plays.csv',\n",
    "            '../vrd/lb25388/sub_plays_0905_1.csv', # 0.03911\n",
    "            '../vrd/lb25388/sub_holds_0902_1.csv', # 0.02945\n",
    "            '../vrd/lb25388/sub_on_0905_1.csv', # 0.2760\n",
    "            'ensemble_is_42_0808_1_3_models.csv'\n",
    "            #'sub_is_42_0726_2.csv',\n",
    "            ]\n",
    "\n",
    "dfs = [pd.read_csv(x) for x in csv_files]\n",
    "'''"
   ]
  },
  {
   "cell_type": "code",
   "execution_count": null,
   "metadata": {},
   "outputs": [],
   "source": [
    "'''  lb34705\n",
    "csv_files = [\n",
    "            '../vrd/lb25388/sub_tuple_0825_cdiff_excludes_insideof_holds_plays_on_wears.csv',\n",
    "            '../vrd/insideof/sub_insideof_0921_1.csv', # lb0.01221\n",
    "            '../vrd/lb25388/sub_wears_0903_1.csv', # lb0.01093\n",
    "            '../vrd/lb25388/sub_plays_0905_1.csv', # 0.03911\n",
    "            '../vrd/lb25388/sub_holds_0902_1.csv', # 0.02945\n",
    "            '../vrd/lb25388/sub_on_0921_1.csv', # 0.02778\n",
    "            'ensemble_is_42_0808_1_3_models.csv'\n",
    "            ]\n",
    "\n",
    "dfs = [pd.read_csv(x) for x in csv_files]\n",
    "'''"
   ]
  },
  {
   "cell_type": "code",
   "execution_count": 15,
   "metadata": {},
   "outputs": [],
   "source": [
    "csv_files = [\n",
    "            '../vrd/lb25388/sub_tuple_0825_cdiff_excludes_insideof_holds_plays_on_wears_interacts_with.csv',\n",
    "            '../vrd/insideof/sub_insideof_0921_1.csv', # lb0.01221\n",
    "            '../vrd/wears/sub_0921_2_1229model.csv', # lb0.01142\n",
    "            '../vrd/lb25388/sub_plays_0905_1.csv', # 0.03911\n",
    "            '../vrd/holds/sub_0921_1.csv', # 0.03062\n",
    "            '../vrd/lb25388/sub_on_0921_1.csv', # 0.02778\n",
    "            '../vrd/interacts_with/sub_interacts_with_0921_1.csv', #0.02408\n",
    "            'ensemble_is_42_0808_1_3_models.csv'\n",
    "            ]\n",
    "\n",
    "dfs = [pd.read_csv(x) for x in csv_files]"
   ]
  },
  {
   "cell_type": "code",
   "execution_count": 16,
   "metadata": {},
   "outputs": [],
   "source": [
    "for df in dfs:\n",
    "    df.PredictionString = df.PredictionString.fillna('')"
   ]
  },
  {
   "cell_type": "code",
   "execution_count": 17,
   "metadata": {},
   "outputs": [
    {
     "data": {
      "text/plain": [
       "0"
      ]
     },
     "execution_count": 17,
     "metadata": {},
     "output_type": "execute_result"
    }
   ],
   "source": [
    "len(dfs[1].iloc[0].PredictionString)"
   ]
  },
  {
   "cell_type": "code",
   "execution_count": 18,
   "metadata": {},
   "outputs": [],
   "source": [
    "# lower conf for is model, not working\n",
    "# dfs[1].PredictionString = dfs[1].PredictionString.map(lambda x: get_low_conf_pred_str(x))"
   ]
  },
  {
   "cell_type": "code",
   "execution_count": 19,
   "metadata": {},
   "outputs": [
    {
     "data": {
      "text/html": [
       "<div>\n",
       "<style scoped>\n",
       "    .dataframe tbody tr th:only-of-type {\n",
       "        vertical-align: middle;\n",
       "    }\n",
       "\n",
       "    .dataframe tbody tr th {\n",
       "        vertical-align: top;\n",
       "    }\n",
       "\n",
       "    .dataframe thead th {\n",
       "        text-align: right;\n",
       "    }\n",
       "</style>\n",
       "<table border=\"1\" class=\"dataframe\">\n",
       "  <thead>\n",
       "    <tr style=\"text-align: right;\">\n",
       "      <th></th>\n",
       "      <th>ImageId</th>\n",
       "      <th>PredictionString</th>\n",
       "    </tr>\n",
       "  </thead>\n",
       "  <tbody>\n",
       "    <tr>\n",
       "      <th>0</th>\n",
       "      <td>21135d5ed0e7a0b7</td>\n",
       "      <td>0.387808 /m/04yx4 0.3756532 0.236988 0.7501363...</td>\n",
       "    </tr>\n",
       "    <tr>\n",
       "      <th>1</th>\n",
       "      <td>763c72626bf24534</td>\n",
       "      <td>0.77768 /m/04yx4 0.720626 0.5248438 0.950433 0...</td>\n",
       "    </tr>\n",
       "    <tr>\n",
       "      <th>2</th>\n",
       "      <td>7540c162180973b1</td>\n",
       "      <td></td>\n",
       "    </tr>\n",
       "    <tr>\n",
       "      <th>3</th>\n",
       "      <td>c4e522dce52cb02f</td>\n",
       "      <td>0.702323 /m/04yx4 0.8541945 0.3647041 0.972777...</td>\n",
       "    </tr>\n",
       "    <tr>\n",
       "      <th>4</th>\n",
       "      <td>cafcd9496c808085</td>\n",
       "      <td></td>\n",
       "    </tr>\n",
       "  </tbody>\n",
       "</table>\n",
       "</div>"
      ],
      "text/plain": [
       "            ImageId                                   PredictionString\n",
       "0  21135d5ed0e7a0b7  0.387808 /m/04yx4 0.3756532 0.236988 0.7501363...\n",
       "1  763c72626bf24534  0.77768 /m/04yx4 0.720626 0.5248438 0.950433 0...\n",
       "2  7540c162180973b1                                                   \n",
       "3  c4e522dce52cb02f  0.702323 /m/04yx4 0.8541945 0.3647041 0.972777...\n",
       "4  cafcd9496c808085                                                   "
      ]
     },
     "execution_count": 19,
     "metadata": {},
     "output_type": "execute_result"
    }
   ],
   "source": [
    "dfs[0].head()"
   ]
  },
  {
   "cell_type": "code",
   "execution_count": 20,
   "metadata": {},
   "outputs": [],
   "source": [
    "#keep top 100\n",
    "#dfs[0].PredictionString = dfs[0].PredictionString.map(lambda x: ' '.join(x.split(' ')[:1200]))"
   ]
  },
  {
   "cell_type": "code",
   "execution_count": 23,
   "metadata": {},
   "outputs": [],
   "source": [
    "x = None\n",
    "for d in dfs:\n",
    "    if x is None:\n",
    "        x = d.PredictionString\n",
    "    else:\n",
    "        x = x.str.cat(d.PredictionString, sep=' ')"
   ]
  },
  {
   "cell_type": "code",
   "execution_count": 24,
   "metadata": {},
   "outputs": [
    {
     "name": "stdout",
     "output_type": "stream",
     "text": [
      "36062 0\n"
     ]
    }
   ],
   "source": [
    "dfs[0].PredictionString = x\n",
    "print(len(dfs[0].iloc[0].PredictionString), len(dfs[1].iloc[0].PredictionString))"
   ]
  },
  {
   "cell_type": "code",
   "execution_count": 25,
   "metadata": {},
   "outputs": [
    {
     "data": {
      "text/html": [
       "<div>\n",
       "<style scoped>\n",
       "    .dataframe tbody tr th:only-of-type {\n",
       "        vertical-align: middle;\n",
       "    }\n",
       "\n",
       "    .dataframe tbody tr th {\n",
       "        vertical-align: top;\n",
       "    }\n",
       "\n",
       "    .dataframe thead th {\n",
       "        text-align: right;\n",
       "    }\n",
       "</style>\n",
       "<table border=\"1\" class=\"dataframe\">\n",
       "  <thead>\n",
       "    <tr style=\"text-align: right;\">\n",
       "      <th></th>\n",
       "      <th>ImageId</th>\n",
       "      <th>PredictionString</th>\n",
       "    </tr>\n",
       "  </thead>\n",
       "  <tbody>\n",
       "    <tr>\n",
       "      <th>0</th>\n",
       "      <td>21135d5ed0e7a0b7</td>\n",
       "      <td>0.387808 /m/04yx4 0.3756532 0.236988 0.7501363...</td>\n",
       "    </tr>\n",
       "    <tr>\n",
       "      <th>1</th>\n",
       "      <td>763c72626bf24534</td>\n",
       "      <td>0.77768 /m/04yx4 0.720626 0.5248438 0.950433 0...</td>\n",
       "    </tr>\n",
       "    <tr>\n",
       "      <th>2</th>\n",
       "      <td>7540c162180973b1</td>\n",
       "      <td>0.101016 /m/04yx4 0.9498244 0.3313462 0.999...</td>\n",
       "    </tr>\n",
       "    <tr>\n",
       "      <th>3</th>\n",
       "      <td>c4e522dce52cb02f</td>\n",
       "      <td>0.702323 /m/04yx4 0.8541945 0.3647041 0.972777...</td>\n",
       "    </tr>\n",
       "    <tr>\n",
       "      <th>4</th>\n",
       "      <td>cafcd9496c808085</td>\n",
       "      <td>0.172185 /m/01_5g 0.7968998 0.0202855 0.9...</td>\n",
       "    </tr>\n",
       "  </tbody>\n",
       "</table>\n",
       "</div>"
      ],
      "text/plain": [
       "            ImageId                                   PredictionString\n",
       "0  21135d5ed0e7a0b7  0.387808 /m/04yx4 0.3756532 0.236988 0.7501363...\n",
       "1  763c72626bf24534  0.77768 /m/04yx4 0.720626 0.5248438 0.950433 0...\n",
       "2  7540c162180973b1     0.101016 /m/04yx4 0.9498244 0.3313462 0.999...\n",
       "3  c4e522dce52cb02f  0.702323 /m/04yx4 0.8541945 0.3647041 0.972777...\n",
       "4  cafcd9496c808085       0.172185 /m/01_5g 0.7968998 0.0202855 0.9..."
      ]
     },
     "execution_count": 25,
     "metadata": {},
     "output_type": "execute_result"
    }
   ],
   "source": [
    "dfs[0].head()"
   ]
  },
  {
   "cell_type": "code",
   "execution_count": 26,
   "metadata": {},
   "outputs": [],
   "source": [
    "dfs[0].to_csv('merge_0921_plays_holds_insideof_on_wears_interacts_with.csv.zip', index=False, compression='zip')"
   ]
  },
  {
   "cell_type": "code",
   "execution_count": 27,
   "metadata": {},
   "outputs": [
    {
     "name": "stdout",
     "output_type": "stream",
     "text": [
      "Warning: Looks like you're using an outdated API Version, please consider updating (server 1.5.6 / client 1.5.4)\n",
      "100%|████████████████████████████████████████| 471M/471M [00:19<00:00, 24.8MB/s]\n",
      "Successfully submitted to Open Images 2019 - Visual Relationship"
     ]
    }
   ],
   "source": [
    "!kaggle competitions submit -c open-images-2019-visual-relationship -f merge_0921_plays_holds_insideof_on_wears_interacts_with.csv.zip -m \"merge plays, holds, insideof, on model\""
   ]
  },
  {
   "cell_type": "code",
   "execution_count": 15,
   "metadata": {},
   "outputs": [
    {
     "name": "stdout",
     "output_type": "stream",
     "text": [
      "detect-57-ensemble.ipynb\r\n",
      "detect-57-ensemble-level2.ipynb\r\n",
      "eda.ipynb\r\n",
      "ensemble_detect_57_0808_1.csv\r\n",
      "ensemble_detect_57_0808_1_top50.csv\r\n",
      "ensemble_detect_57_0808_2_with_weights.csv\r\n",
      "ensemble_detect_57_0819_1.csv\r\n",
      "ensemble_detect_57_0819_2.csv\r\n",
      "ensemble_detect_57_0820_1_top100.csv\r\n",
      "ensemble_is_42_0808_1_3_models.csv\r\n",
      "ensemble_is_42_0824.csv\r\n",
      "ensemble_level2_0822.csv\r\n",
      "filter_detect_submission.ipynb\r\n",
      "filter_rel_class.ipynb\r\n",
      "Is-classifier-6-eda.ipynb\r\n",
      "Is-detect-42-eda.ipynb\r\n",
      "Is-detector-result.ipynb\r\n",
      "lb18901\r\n",
      "lb19252\r\n",
      "lb26760\r\n",
      "merge_0905_1_plays_holds_insideof_on.csv\r\n",
      "merge_df.ipynb\r\n",
      "show-detections.ipynb\r\n",
      "submit-detect-57.ipynb\r\n",
      "submit-is-42-ensemble.ipynb\r\n",
      "submit-is-42.ipynb\r\n",
      "submit-is-6-catboost.ipynb\r\n",
      "submit-is-6.ipynb\r\n",
      "tmp_pos_rel.csv\r\n",
      "top_classes_42.csv\r\n",
      "top_classes.csv\r\n",
      "train_lgbm.ipynb\r\n",
      "tuple-rel-classifier.ipynb\r\n",
      "tuple-rel-classifier-new.ipynb\r\n",
      "tuple-rel-classifier-new-lb18901.ipynb\r\n"
     ]
    }
   ],
   "source": [
    "!ls"
   ]
  },
  {
   "cell_type": "code",
   "execution_count": 11,
   "metadata": {},
   "outputs": [
    {
     "data": {
      "text/plain": [
       "10336"
      ]
     },
     "execution_count": 11,
     "metadata": {},
     "output_type": "execute_result"
    }
   ],
   "source": [
    "len(dfs[0].loc[dfs[0].PredictionString.isna()])"
   ]
  },
  {
   "cell_type": "code",
   "execution_count": 56,
   "metadata": {},
   "outputs": [
    {
     "data": {
      "text/plain": [
       "0"
      ]
     },
     "execution_count": 56,
     "metadata": {},
     "output_type": "execute_result"
    }
   ],
   "source": [
    "len(dfs[0].loc[dfs[0].PredictionString.isna()])"
   ]
  },
  {
   "cell_type": "code",
   "execution_count": 12,
   "metadata": {},
   "outputs": [
    {
     "data": {
      "text/plain": [
       "41"
      ]
     },
     "execution_count": 12,
     "metadata": {},
     "output_type": "execute_result"
    }
   ],
   "source": [
    "len(dfs[1].loc[dfs[1].PredictionString.isna()])"
   ]
  },
  {
   "cell_type": "code",
   "execution_count": 100,
   "metadata": {},
   "outputs": [
    {
     "data": {
      "text/html": [
       "<div>\n",
       "<style scoped>\n",
       "    .dataframe tbody tr th:only-of-type {\n",
       "        vertical-align: middle;\n",
       "    }\n",
       "\n",
       "    .dataframe tbody tr th {\n",
       "        vertical-align: top;\n",
       "    }\n",
       "\n",
       "    .dataframe thead th {\n",
       "        text-align: right;\n",
       "    }\n",
       "</style>\n",
       "<table border=\"1\" class=\"dataframe\">\n",
       "  <thead>\n",
       "    <tr style=\"text-align: right;\">\n",
       "      <th></th>\n",
       "      <th>t</th>\n",
       "    </tr>\n",
       "  </thead>\n",
       "  <tbody>\n",
       "    <tr>\n",
       "      <th>0</th>\n",
       "      <td>a1</td>\n",
       "    </tr>\n",
       "    <tr>\n",
       "      <th>1</th>\n",
       "      <td>b1</td>\n",
       "    </tr>\n",
       "    <tr>\n",
       "      <th>2</th>\n",
       "      <td>c</td>\n",
       "    </tr>\n",
       "    <tr>\n",
       "      <th>3</th>\n",
       "      <td>d</td>\n",
       "    </tr>\n",
       "    <tr>\n",
       "      <th>4</th>\n",
       "      <td>e</td>\n",
       "    </tr>\n",
       "  </tbody>\n",
       "</table>\n",
       "</div>"
      ],
      "text/plain": [
       "    t\n",
       "0  a1\n",
       "1  b1\n",
       "2   c\n",
       "3   d\n",
       "4   e"
      ]
     },
     "execution_count": 100,
     "metadata": {},
     "output_type": "execute_result"
    }
   ],
   "source": [
    "#####\n",
    "lst = ['Geeks', 'For', 'Geeks', 'is',  \n",
    "            'portal', 'for', 'Geeks'] \n",
    "tmp1 = pd.DataFrame(lst, columns=['t'])\n",
    "lst2 = ['a', 'b', 'c', 'd',  \n",
    "            'e', 'f', 'g'] \n",
    "tmp2 = pd.DataFrame(lst2, columns=['t'])\n",
    "\n",
    "lst3 = ['a1', 'b1', 'c', 'd',  \n",
    "            'e', 'f', 'g'] \n",
    "tmp3 = pd.DataFrame(lst3, columns=['t'])\n",
    "tmp3.head()"
   ]
  },
  {
   "cell_type": "code",
   "execution_count": 4,
   "metadata": {},
   "outputs": [
    {
     "data": {
      "text/html": [
       "<div>\n",
       "<style scoped>\n",
       "    .dataframe tbody tr th:only-of-type {\n",
       "        vertical-align: middle;\n",
       "    }\n",
       "\n",
       "    .dataframe tbody tr th {\n",
       "        vertical-align: top;\n",
       "    }\n",
       "\n",
       "    .dataframe thead th {\n",
       "        text-align: right;\n",
       "    }\n",
       "</style>\n",
       "<table border=\"1\" class=\"dataframe\">\n",
       "  <thead>\n",
       "    <tr style=\"text-align: right;\">\n",
       "      <th></th>\n",
       "      <th>ImageId</th>\n",
       "      <th>PredictionString</th>\n",
       "    </tr>\n",
       "  </thead>\n",
       "  <tbody>\n",
       "    <tr>\n",
       "      <th>0</th>\n",
       "      <td>21135d5ed0e7a0b7</td>\n",
       "      <td>0.1689330 /m/04bcr3 0.3664692 0.7250217 0.4814...</td>\n",
       "    </tr>\n",
       "    <tr>\n",
       "      <th>1</th>\n",
       "      <td>763c72626bf24534</td>\n",
       "      <td>0.7671249 /m/04bcr3 0.6873273 0.8193369 0.9977...</td>\n",
       "    </tr>\n",
       "    <tr>\n",
       "      <th>2</th>\n",
       "      <td>7540c162180973b1</td>\n",
       "      <td>0.0219995 /m/04dr76w 0.0762036 0.3234025 0.120...</td>\n",
       "    </tr>\n",
       "    <tr>\n",
       "      <th>3</th>\n",
       "      <td>c4e522dce52cb02f</td>\n",
       "      <td>0.4940703 /m/04bcr3 0.8307936 0.6809913 0.9920...</td>\n",
       "    </tr>\n",
       "    <tr>\n",
       "      <th>4</th>\n",
       "      <td>cafcd9496c808085</td>\n",
       "      <td>0.0129044 /m/04dr76w 0.0000000 0.0600080 0.031...</td>\n",
       "    </tr>\n",
       "  </tbody>\n",
       "</table>\n",
       "</div>"
      ],
      "text/plain": [
       "            ImageId                                   PredictionString\n",
       "0  21135d5ed0e7a0b7  0.1689330 /m/04bcr3 0.3664692 0.7250217 0.4814...\n",
       "1  763c72626bf24534  0.7671249 /m/04bcr3 0.6873273 0.8193369 0.9977...\n",
       "2  7540c162180973b1  0.0219995 /m/04dr76w 0.0762036 0.3234025 0.120...\n",
       "3  c4e522dce52cb02f  0.4940703 /m/04bcr3 0.8307936 0.6809913 0.9920...\n",
       "4  cafcd9496c808085  0.0129044 /m/04dr76w 0.0000000 0.0600080 0.031..."
      ]
     },
     "execution_count": 4,
     "metadata": {},
     "output_type": "execute_result"
    }
   ],
   "source": [
    "df_is = pd.read_csv('ensemble_is_42_0808_1_3_models.csv')\n",
    "df_is.head()"
   ]
  },
  {
   "cell_type": "code",
   "execution_count": 5,
   "metadata": {},
   "outputs": [],
   "source": [
    "def get_low_conf_pred_str(pred_str):\n",
    "    try:\n",
    "        if len(pred_str) < 1:\n",
    "            return pred_str\n",
    "    except:\n",
    "        print('pred_str:', pred_str)\n",
    "        raise\n",
    "    det_items = pred_str.split(' ')\n",
    "    \n",
    "    res = []\n",
    "    for i, c in enumerate(det_items):\n",
    "        if i % 12 == 0:\n",
    "            res.append(str(float(c)/4))\n",
    "        else:\n",
    "            res.append(c)\n",
    "    return ' '.join(res)"
   ]
  },
  {
   "cell_type": "code",
   "execution_count": null,
   "metadata": {},
   "outputs": [],
   "source": []
  }
 ],
 "metadata": {
  "kernelspec": {
   "display_name": "Python 3",
   "language": "python",
   "name": "python3"
  },
  "language_info": {
   "codemirror_mode": {
    "name": "ipython",
    "version": 3
   },
   "file_extension": ".py",
   "mimetype": "text/x-python",
   "name": "python",
   "nbconvert_exporter": "python",
   "pygments_lexer": "ipython3",
   "version": "3.7.3"
  }
 },
 "nbformat": 4,
 "nbformat_minor": 2
}
