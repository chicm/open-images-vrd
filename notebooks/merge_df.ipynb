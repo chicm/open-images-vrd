{
 "cells": [
  {
   "cell_type": "code",
   "execution_count": 3,
   "metadata": {},
   "outputs": [],
   "source": [
    "import os\n",
    "import numpy as np\n",
    "import pandas as pd\n",
    "import torch\n",
    "import os\n",
    "import json\n",
    "import pandas as pd\n",
    "from PIL import Image\n",
    "from matplotlib.pyplot import imshow\n",
    "import matplotlib.pyplot as plt\n",
    "import cv2\n",
    "import numpy as np\n",
    "%matplotlib inline\n",
    "from tqdm import tqdm\n",
    "import glob\n",
    "import pickle"
   ]
  },
  {
   "cell_type": "code",
   "execution_count": 1,
   "metadata": {},
   "outputs": [
    {
     "name": "stdout",
     "output_type": "stream",
     "text": [
      "total 7.3G\r\n",
      "drwxrwxr-x 4 core core  4.0K Jul 30 15:36 catboost_info\r\n",
      "-rw-rw-r-- 1 core core  1.3M Jul 25 11:20 eda.ipynb\r\n",
      "-rw-rw-r-- 1 core core  370K Jul 25 05:24 Is-classifier-6-eda.ipynb\r\n",
      "-rw-rw-r-- 1 core core  377K Jul 29 05:21 Is-detect-42-eda.ipynb\r\n",
      "-rw-rw-r-- 1 core core  164M Jul 26 05:14 merge_0726_1.csv.zip\r\n",
      "-rw-rw-r-- 1 core core  148M Jul 28 07:53 merge_0728_1.csv.zip\r\n",
      "-rw-rw-r-- 1 core core   17K Jul 28 07:55 merge_df.ipynb\r\n",
      "-rw-rw-r-- 1 core core  266M Jul 22 16:57 sub_detect_0722_1.csv\r\n",
      "-rw-rw-r-- 1 core core  252M Jul 24 17:01 sub_detect_0724.csv\r\n",
      "-rw-rw-r-- 1 core core  157M Jul 25 17:15 sub_is_083vt_0724.csv\r\n",
      "-rw-rw-r-- 1 core core  516M Jul 26 04:27 sub_is_42_0726_1.csv\r\n",
      "-rw-rw-r-- 1 core core  505M Jul 26 15:20 sub_is_42_0726_2.csv\r\n",
      "-rw-rw-r-- 1 core core  501M Jul 29 15:01 sub_is_42_0729.csv\r\n",
      "-rw-rw-r-- 1 core core  777M Jul 24 17:06 sub_is_all_label2_0724.csv\r\n",
      "-rw-rw-r-- 1 core core  138M Jul 22 17:06 sub_is_th0.01_0723.csv\r\n",
      "-rw-rw-r-- 1 core core   33M Jul 22 17:08 sub_is_th0.1_0723.csv\r\n",
      "-rw-rw-r-- 1 core core  157M Jul 22 17:20 sub_is_th0.1_all_label2_0723.csv\r\n",
      "-rw-rw-r-- 1 core core 1011K Jul 22 16:59 submit-detect-57.ipynb\r\n",
      "-rw-rw-r-- 1 core core  716K Jul 29 15:25 submit-is-42.ipynb\r\n",
      "-rw-r--r-- 1 core core   81K Jul 25 17:16 submit-is-6.ipynb\r\n",
      "-rw-rw-r-- 1 core core  186M Jul 28 03:52 sub_tuple_0728.csv\r\n",
      "-rw-rw-r-- 1 core core  429M Jul 28 07:48 sub_tuple_0728_top25.csv\r\n",
      "-rw-rw-r-- 1 core core  644M Jul 30 14:31 sub_tuple_rel_0724_2_top35.csv\r\n",
      "-rw-rw-r-- 1 core core  1.3G Jul 30 16:20 sub_tuple_rel_0724_3_top50.csv\r\n",
      "-rw-rw-r-- 1 core core  424M Jul 30 10:33 sub_tuple_rel_0730_2_top30.csv\r\n",
      "-rw-rw-r-- 1 core core  303M Jul 30 10:04 sub_tuple_rel_0730.csv\r\n",
      "-rw-rw-r-- 1 core core  176M Jul 28 18:10 sub_tuple_rel_detect_model_0729.csv\r\n",
      "-rw-rw-r-- 1 core core  460M Jul 28 06:59 tmp_pos_rel.csv\r\n",
      "-rw-rw-r-- 1 core core  2.4M Jul 30 10:39 tuple-rel-classifier-Copy1.ipynb\r\n",
      "-rw-rw-r-- 1 core core  1.9M Jul 30 14:52 tuple-rel-classifier.ipynb\r\n"
     ]
    }
   ],
   "source": [
    "!ls -lh"
   ]
  },
  {
   "cell_type": "code",
   "execution_count": 4,
   "metadata": {},
   "outputs": [],
   "source": [
    "csv_files = ['sub_tuple_rel_0724_2_top35.csv', 'sub_is_42_0726_2.csv',\n",
    "             #'sub_101_0-50_100boxes_0709_1.csv', \n",
    "             #'sub_101_400-500_100boxes_0711_1.csv'\n",
    "            ]\n",
    "\n",
    "dfs = [pd.read_csv(x) for x in csv_files]"
   ]
  },
  {
   "cell_type": "code",
   "execution_count": 5,
   "metadata": {},
   "outputs": [
    {
     "data": {
      "text/html": [
       "<div>\n",
       "<style scoped>\n",
       "    .dataframe tbody tr th:only-of-type {\n",
       "        vertical-align: middle;\n",
       "    }\n",
       "\n",
       "    .dataframe tbody tr th {\n",
       "        vertical-align: top;\n",
       "    }\n",
       "\n",
       "    .dataframe thead th {\n",
       "        text-align: right;\n",
       "    }\n",
       "</style>\n",
       "<table border=\"1\" class=\"dataframe\">\n",
       "  <thead>\n",
       "    <tr style=\"text-align: right;\">\n",
       "      <th></th>\n",
       "      <th>ImageId</th>\n",
       "      <th>PredictionString</th>\n",
       "    </tr>\n",
       "  </thead>\n",
       "  <tbody>\n",
       "    <tr>\n",
       "      <th>0</th>\n",
       "      <td>21135d5ed0e7a0b7</td>\n",
       "      <td>0.7382881 /m/04yx4 0.0061979 0.1177801 0.40560...</td>\n",
       "    </tr>\n",
       "    <tr>\n",
       "      <th>1</th>\n",
       "      <td>763c72626bf24534</td>\n",
       "      <td>0.47459640000000003 /m/03bt1vf 0.3140645 0.210...</td>\n",
       "    </tr>\n",
       "    <tr>\n",
       "      <th>2</th>\n",
       "      <td>7540c162180973b1</td>\n",
       "      <td>0.31570315 /m/04yx4 0.9497286 0.3292059 0.9990...</td>\n",
       "    </tr>\n",
       "    <tr>\n",
       "      <th>3</th>\n",
       "      <td>c4e522dce52cb02f</td>\n",
       "      <td>0.49188625 /m/04yx4 0.0016701 0.1656198 0.2330...</td>\n",
       "    </tr>\n",
       "    <tr>\n",
       "      <th>4</th>\n",
       "      <td>cafcd9496c808085</td>\n",
       "      <td>0.18966015 /m/01_5g 0.7972641 0.0216606 0.9990...</td>\n",
       "    </tr>\n",
       "  </tbody>\n",
       "</table>\n",
       "</div>"
      ],
      "text/plain": [
       "            ImageId                                   PredictionString\n",
       "0  21135d5ed0e7a0b7  0.7382881 /m/04yx4 0.0061979 0.1177801 0.40560...\n",
       "1  763c72626bf24534  0.47459640000000003 /m/03bt1vf 0.3140645 0.210...\n",
       "2  7540c162180973b1  0.31570315 /m/04yx4 0.9497286 0.3292059 0.9990...\n",
       "3  c4e522dce52cb02f  0.49188625 /m/04yx4 0.0016701 0.1656198 0.2330...\n",
       "4  cafcd9496c808085  0.18966015 /m/01_5g 0.7972641 0.0216606 0.9990..."
      ]
     },
     "execution_count": 5,
     "metadata": {},
     "output_type": "execute_result"
    }
   ],
   "source": [
    "dfs[0].head()"
   ]
  },
  {
   "cell_type": "code",
   "execution_count": 6,
   "metadata": {},
   "outputs": [
    {
     "data": {
      "text/html": [
       "<div>\n",
       "<style scoped>\n",
       "    .dataframe tbody tr th:only-of-type {\n",
       "        vertical-align: middle;\n",
       "    }\n",
       "\n",
       "    .dataframe tbody tr th {\n",
       "        vertical-align: top;\n",
       "    }\n",
       "\n",
       "    .dataframe thead th {\n",
       "        text-align: right;\n",
       "    }\n",
       "</style>\n",
       "<table border=\"1\" class=\"dataframe\">\n",
       "  <thead>\n",
       "    <tr style=\"text-align: right;\">\n",
       "      <th></th>\n",
       "      <th>ImageId</th>\n",
       "      <th>PredictionString</th>\n",
       "    </tr>\n",
       "  </thead>\n",
       "  <tbody>\n",
       "    <tr>\n",
       "      <th>0</th>\n",
       "      <td>21135d5ed0e7a0b7</td>\n",
       "      <td>0.3806741 /m/04bcr3 0.0031277 0.7127081 0.4623...</td>\n",
       "    </tr>\n",
       "    <tr>\n",
       "      <th>1</th>\n",
       "      <td>763c72626bf24534</td>\n",
       "      <td>0.7894505 /m/04bcr3 0.6918395 0.8270421 0.9988...</td>\n",
       "    </tr>\n",
       "    <tr>\n",
       "      <th>2</th>\n",
       "      <td>7540c162180973b1</td>\n",
       "      <td>0.0402823 /m/04bcr3 0.3689175 0.6536201 0.6134...</td>\n",
       "    </tr>\n",
       "    <tr>\n",
       "      <th>3</th>\n",
       "      <td>c4e522dce52cb02f</td>\n",
       "      <td>0.7901130 /m/04bcr3 0.8337175 0.6788673 0.9917...</td>\n",
       "    </tr>\n",
       "    <tr>\n",
       "      <th>4</th>\n",
       "      <td>cafcd9496c808085</td>\n",
       "      <td>0.1362440 /m/04dr76w 0.0390787 0.0196190 0.961...</td>\n",
       "    </tr>\n",
       "  </tbody>\n",
       "</table>\n",
       "</div>"
      ],
      "text/plain": [
       "            ImageId                                   PredictionString\n",
       "0  21135d5ed0e7a0b7  0.3806741 /m/04bcr3 0.0031277 0.7127081 0.4623...\n",
       "1  763c72626bf24534  0.7894505 /m/04bcr3 0.6918395 0.8270421 0.9988...\n",
       "2  7540c162180973b1  0.0402823 /m/04bcr3 0.3689175 0.6536201 0.6134...\n",
       "3  c4e522dce52cb02f  0.7901130 /m/04bcr3 0.8337175 0.6788673 0.9917...\n",
       "4  cafcd9496c808085  0.1362440 /m/04dr76w 0.0390787 0.0196190 0.961..."
      ]
     },
     "execution_count": 6,
     "metadata": {},
     "output_type": "execute_result"
    }
   ],
   "source": [
    "dfs[1].head()"
   ]
  },
  {
   "cell_type": "code",
   "execution_count": 7,
   "metadata": {},
   "outputs": [],
   "source": [
    "x = None\n",
    "for d in dfs:\n",
    "    if x is None:\n",
    "        x = d.PredictionString\n",
    "    else:\n",
    "        x = x.str.cat(d.PredictionString, sep=' ')"
   ]
  },
  {
   "cell_type": "code",
   "execution_count": 8,
   "metadata": {},
   "outputs": [
    {
     "name": "stdout",
     "output_type": "stream",
     "text": [
      "13731 5602\n"
     ]
    }
   ],
   "source": [
    "dfs[0].PredictionString = x\n",
    "print(len(dfs[0].iloc[0].PredictionString), len(dfs[1].iloc[0].PredictionString))"
   ]
  },
  {
   "cell_type": "code",
   "execution_count": 9,
   "metadata": {},
   "outputs": [
    {
     "data": {
      "text/html": [
       "<div>\n",
       "<style scoped>\n",
       "    .dataframe tbody tr th:only-of-type {\n",
       "        vertical-align: middle;\n",
       "    }\n",
       "\n",
       "    .dataframe tbody tr th {\n",
       "        vertical-align: top;\n",
       "    }\n",
       "\n",
       "    .dataframe thead th {\n",
       "        text-align: right;\n",
       "    }\n",
       "</style>\n",
       "<table border=\"1\" class=\"dataframe\">\n",
       "  <thead>\n",
       "    <tr style=\"text-align: right;\">\n",
       "      <th></th>\n",
       "      <th>ImageId</th>\n",
       "      <th>PredictionString</th>\n",
       "    </tr>\n",
       "  </thead>\n",
       "  <tbody>\n",
       "    <tr>\n",
       "      <th>0</th>\n",
       "      <td>21135d5ed0e7a0b7</td>\n",
       "      <td>0.7382881 /m/04yx4 0.0061979 0.1177801 0.40560...</td>\n",
       "    </tr>\n",
       "    <tr>\n",
       "      <th>1</th>\n",
       "      <td>763c72626bf24534</td>\n",
       "      <td>0.47459640000000003 /m/03bt1vf 0.3140645 0.210...</td>\n",
       "    </tr>\n",
       "    <tr>\n",
       "      <th>2</th>\n",
       "      <td>7540c162180973b1</td>\n",
       "      <td>0.31570315 /m/04yx4 0.9497286 0.3292059 0.9990...</td>\n",
       "    </tr>\n",
       "    <tr>\n",
       "      <th>3</th>\n",
       "      <td>c4e522dce52cb02f</td>\n",
       "      <td>0.49188625 /m/04yx4 0.0016701 0.1656198 0.2330...</td>\n",
       "    </tr>\n",
       "    <tr>\n",
       "      <th>4</th>\n",
       "      <td>cafcd9496c808085</td>\n",
       "      <td>0.18966015 /m/01_5g 0.7972641 0.0216606 0.9990...</td>\n",
       "    </tr>\n",
       "  </tbody>\n",
       "</table>\n",
       "</div>"
      ],
      "text/plain": [
       "            ImageId                                   PredictionString\n",
       "0  21135d5ed0e7a0b7  0.7382881 /m/04yx4 0.0061979 0.1177801 0.40560...\n",
       "1  763c72626bf24534  0.47459640000000003 /m/03bt1vf 0.3140645 0.210...\n",
       "2  7540c162180973b1  0.31570315 /m/04yx4 0.9497286 0.3292059 0.9990...\n",
       "3  c4e522dce52cb02f  0.49188625 /m/04yx4 0.0016701 0.1656198 0.2330...\n",
       "4  cafcd9496c808085  0.18966015 /m/01_5g 0.7972641 0.0216606 0.9990..."
      ]
     },
     "execution_count": 9,
     "metadata": {},
     "output_type": "execute_result"
    }
   ],
   "source": [
    "dfs[0].head()"
   ]
  },
  {
   "cell_type": "code",
   "execution_count": 10,
   "metadata": {},
   "outputs": [],
   "source": [
    "dfs[0].to_csv('merge_0724_2.csv.zip', index=False, compression='zip')"
   ]
  },
  {
   "cell_type": "code",
   "execution_count": 11,
   "metadata": {},
   "outputs": [
    {
     "name": "stdout",
     "output_type": "stream",
     "text": [
      "100%|████████████████████████████████████████| 181M/181M [00:15<00:00, 12.6MB/s]\n",
      "Successfully submitted to Open Images 2019 - Visual Relationship"
     ]
    }
   ],
   "source": [
    "!kaggle competitions submit -c open-images-2019-visual-relationship -f merge_0724_2.csv.zip -m \"submit\""
   ]
  },
  {
   "cell_type": "code",
   "execution_count": null,
   "metadata": {},
   "outputs": [],
   "source": [
    "!ls"
   ]
  },
  {
   "cell_type": "code",
   "execution_count": 100,
   "metadata": {},
   "outputs": [
    {
     "data": {
      "text/html": [
       "<div>\n",
       "<style scoped>\n",
       "    .dataframe tbody tr th:only-of-type {\n",
       "        vertical-align: middle;\n",
       "    }\n",
       "\n",
       "    .dataframe tbody tr th {\n",
       "        vertical-align: top;\n",
       "    }\n",
       "\n",
       "    .dataframe thead th {\n",
       "        text-align: right;\n",
       "    }\n",
       "</style>\n",
       "<table border=\"1\" class=\"dataframe\">\n",
       "  <thead>\n",
       "    <tr style=\"text-align: right;\">\n",
       "      <th></th>\n",
       "      <th>t</th>\n",
       "    </tr>\n",
       "  </thead>\n",
       "  <tbody>\n",
       "    <tr>\n",
       "      <th>0</th>\n",
       "      <td>a1</td>\n",
       "    </tr>\n",
       "    <tr>\n",
       "      <th>1</th>\n",
       "      <td>b1</td>\n",
       "    </tr>\n",
       "    <tr>\n",
       "      <th>2</th>\n",
       "      <td>c</td>\n",
       "    </tr>\n",
       "    <tr>\n",
       "      <th>3</th>\n",
       "      <td>d</td>\n",
       "    </tr>\n",
       "    <tr>\n",
       "      <th>4</th>\n",
       "      <td>e</td>\n",
       "    </tr>\n",
       "  </tbody>\n",
       "</table>\n",
       "</div>"
      ],
      "text/plain": [
       "    t\n",
       "0  a1\n",
       "1  b1\n",
       "2   c\n",
       "3   d\n",
       "4   e"
      ]
     },
     "execution_count": 100,
     "metadata": {},
     "output_type": "execute_result"
    }
   ],
   "source": [
    "#####\n",
    "lst = ['Geeks', 'For', 'Geeks', 'is',  \n",
    "            'portal', 'for', 'Geeks'] \n",
    "tmp1 = pd.DataFrame(lst, columns=['t'])\n",
    "lst2 = ['a', 'b', 'c', 'd',  \n",
    "            'e', 'f', 'g'] \n",
    "tmp2 = pd.DataFrame(lst2, columns=['t'])\n",
    "\n",
    "lst3 = ['a1', 'b1', 'c', 'd',  \n",
    "            'e', 'f', 'g'] \n",
    "tmp3 = pd.DataFrame(lst3, columns=['t'])\n",
    "tmp3.head()"
   ]
  },
  {
   "cell_type": "code",
   "execution_count": 102,
   "metadata": {},
   "outputs": [
    {
     "name": "stdout",
     "output_type": "stream",
     "text": [
      "0    Geeks a a1\n",
      "1      For b b1\n",
      "2     Geeks c c\n",
      "3        is d d\n",
      "4    portal e e\n",
      "5       for f f\n",
      "6     Geeks g g\n",
      "Name: t, dtype: object\n"
     ]
    },
    {
     "data": {
      "text/html": [
       "<div>\n",
       "<style scoped>\n",
       "    .dataframe tbody tr th:only-of-type {\n",
       "        vertical-align: middle;\n",
       "    }\n",
       "\n",
       "    .dataframe tbody tr th {\n",
       "        vertical-align: top;\n",
       "    }\n",
       "\n",
       "    .dataframe thead th {\n",
       "        text-align: right;\n",
       "    }\n",
       "</style>\n",
       "<table border=\"1\" class=\"dataframe\">\n",
       "  <thead>\n",
       "    <tr style=\"text-align: right;\">\n",
       "      <th></th>\n",
       "      <th>t</th>\n",
       "    </tr>\n",
       "  </thead>\n",
       "  <tbody>\n",
       "    <tr>\n",
       "      <th>0</th>\n",
       "      <td>Geeks a a1</td>\n",
       "    </tr>\n",
       "    <tr>\n",
       "      <th>1</th>\n",
       "      <td>For b b1</td>\n",
       "    </tr>\n",
       "    <tr>\n",
       "      <th>2</th>\n",
       "      <td>Geeks c c</td>\n",
       "    </tr>\n",
       "    <tr>\n",
       "      <th>3</th>\n",
       "      <td>is d d</td>\n",
       "    </tr>\n",
       "    <tr>\n",
       "      <th>4</th>\n",
       "      <td>portal e e</td>\n",
       "    </tr>\n",
       "  </tbody>\n",
       "</table>\n",
       "</div>"
      ],
      "text/plain": [
       "            t\n",
       "0  Geeks a a1\n",
       "1    For b b1\n",
       "2   Geeks c c\n",
       "3      is d d\n",
       "4  portal e e"
      ]
     },
     "execution_count": 102,
     "metadata": {},
     "output_type": "execute_result"
    }
   ],
   "source": [
    "dfs = [tmp1, tmp2, tmp3]\n",
    "x = None\n",
    "for d in dfs:\n",
    "    if x is None:\n",
    "        x = d.t\n",
    "    else:\n",
    "        x = x.str.cat(d.t, sep=' ')\n",
    "\n",
    "#x = tmp1.t1.str.cat(tmp2.t2, sep=' ').str.cat(tmp3.t3, sep=' ')\n",
    "print(x)\n",
    "tmp1.t = x\n",
    "tmp1.head()"
   ]
  },
  {
   "cell_type": "code",
   "execution_count": null,
   "metadata": {},
   "outputs": [],
   "source": []
  }
 ],
 "metadata": {
  "kernelspec": {
   "display_name": "Python 3",
   "language": "python",
   "name": "python3"
  },
  "language_info": {
   "codemirror_mode": {
    "name": "ipython",
    "version": 3
   },
   "file_extension": ".py",
   "mimetype": "text/x-python",
   "name": "python",
   "nbconvert_exporter": "python",
   "pygments_lexer": "ipython3",
   "version": "3.7.3"
  }
 },
 "nbformat": 4,
 "nbformat_minor": 2
}
