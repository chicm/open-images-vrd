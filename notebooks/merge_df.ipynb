{
 "cells": [
  {
   "cell_type": "code",
   "execution_count": 6,
   "metadata": {},
   "outputs": [],
   "source": [
    "import os\n",
    "import numpy as np\n",
    "import pandas as pd\n",
    "import torch\n",
    "import os\n",
    "import json\n",
    "import pandas as pd\n",
    "from PIL import Image\n",
    "from matplotlib.pyplot import imshow\n",
    "import matplotlib.pyplot as plt\n",
    "import cv2\n",
    "import numpy as np\n",
    "%matplotlib inline\n",
    "from tqdm import tqdm\n",
    "import glob\n",
    "import pickle"
   ]
  },
  {
   "cell_type": "code",
   "execution_count": 7,
   "metadata": {},
   "outputs": [
    {
     "name": "stdout",
     "output_type": "stream",
     "text": [
      "total 24G\r\n",
      "-rw-rw-r-- 1 core core  3.2G Aug 13 11:40 all_models_team_submission_v1_large_20190813.csv\r\n",
      "-rw-rw-r-- 1 core core  850M Aug 22 14:21 all_models_team_submission_v1_large_20190813.csv.zip\r\n",
      "drwxrwxr-x 4 core core  4.0K Aug 10 15:30 catboost_info\r\n",
      "-rw-rw-r-- 1 core core   852 Aug  4 15:31 cat_feature_index.c1a4dabd-715a703f-75517141-d81266d1.tmp\r\n",
      "-rw-rw-r-- 1 core core   852 Aug  4 15:04 cat_feature_index.e36fdba6-6cd399f6-229ea45f-ea07b906.tmp\r\n",
      "-rw-rw-r-- 1 core core  2.2M Aug 20 15:31 detect-57-ensemble.ipynb\r\n",
      "-rw-rw-r-- 1 core core  2.2M Aug 22 16:05 detect-57-ensemble-level2.ipynb\r\n",
      "-rw-rw-r-- 1 core core  1.3M Aug 21 07:32 eda.ipynb\r\n",
      "-rw-rw-r-- 1 core core  421M Aug  8 09:52 ensemble_detect_57_0808_1.csv\r\n",
      "-rw-rw-r-- 1 core core  268M Aug  8 09:56 ensemble_detect_57_0808_1_top50.csv\r\n",
      "-rw-rw-r-- 1 core core  421M Aug  8 15:04 ensemble_detect_57_0808_2_with_weights.csv\r\n",
      "-rw-rw-r-- 1 core core  399M Aug 19 17:09 ensemble_detect_57_0819_1.csv\r\n",
      "-rw-rw-r-- 1 core core  399M Aug 19 17:10 ensemble_detect_57_0819_2.csv\r\n",
      "-rw-rw-r-- 1 core core  573M Aug 20 15:28 ensemble_detect_57_0820_1_top100.csv\r\n",
      "-rw-rw-r-- 1 core core  1.2G Aug  7 18:57 ensemble_is_42_0808_1_3_models.csv\r\n",
      "-rw-rw-r-- 1 core core  1.7G Aug 24 10:04 ensemble_is_42_0824.csv\r\n",
      "-rw-rw-r-- 1 core core  911M Aug 22 16:10 ensemble_level2_0822.csv\r\n",
      "-rw-rw-r-- 1 core core   16K Aug 22 16:29 filter_detect_submission.ipynb\r\n",
      "-rw-rw-r-- 1 core core  370K Jul 30 17:58 Is-classifier-6-eda.ipynb\r\n",
      "-rw-rw-r-- 1 core core  378K Aug 22 10:22 Is-detect-42-eda.ipynb\r\n",
      "drwxrwxr-x 2 core core  4.0K Aug  6 15:42 lb18901\r\n",
      "drwxrwxr-x 2 core core  4.0K Aug  6 15:42 lb19252\r\n",
      "drwxrwxr-x 2 core core  4.0K Aug  8 17:25 lb26760\r\n",
      "drwxrwxr-x 2 core core  4.0K Aug 21 08:34 lb28188\r\n",
      "-rw-rw-r-- 1 core core  394M Aug  7 19:06 merge_0808_1.csv.zip\r\n",
      "-rw-rw-r-- 1 core core  466M Aug  8 15:48 merge_0808_2.csv.zip\r\n",
      "-rw-rw-r-- 1 core core  480M Aug 20 17:57 merge_0820_1.csv.zip\r\n",
      "-rw-rw-r-- 1 core core  479M Aug 21 18:27 merge_0821_1.csv.zip\r\n",
      "-rw-rw-r-- 1 core core   22K Aug 24 15:27 merge_df.ipynb\r\n",
      "drwxrwxr-x 2 core core  4.0K Aug 20 14:29 sub_detect_57\r\n",
      "-rw-rw-r-- 1 core core  422M Aug 22 14:57 sub_filter_57.csv\r\n",
      "-rw-rw-r-- 1 core core  239M Aug 22 15:08 sub_filter_57_top100.csv\r\n",
      "-rw-rw-r-- 1 core core  297M Aug 22 16:24 sub_filter_57_top150.csv\r\n",
      "drwxrwxr-x 2 core core  4.0K Aug 24 09:38 sub_is_42\r\n",
      "-rw-rw-r-- 1 core core  634M Aug 23 05:21 sub_is_top2_0823.csv\r\n",
      "-rw-rw-r-- 1 core core 1011K Jul 22 16:59 submit-detect-57.ipynb\r\n",
      "-rw-rw-r-- 1 core core   87K Aug 24 10:06 submit-is-42-ensemble.ipynb\r\n",
      "-rw-rw-r-- 1 core core  610K Jul 31 17:19 submit-is-42.ipynb\r\n",
      "-rw-rw-r-- 1 core core  907K Aug 10 15:36 submit-is-6-catboost.ipynb\r\n",
      "-rw-r--r-- 1 core core   99K Aug 23 05:23 submit-is-6.ipynb\r\n",
      "drwxrwxr-x 2 core core  4.0K Aug  7 13:41 subs\r\n",
      "-rw-rw-r-- 1 core core  1.5G Aug  8 12:52 sub_sort_200_0808_1_fast_ensemble_detect.csv\r\n",
      "-rw-rw-r-- 1 core core  1.5G Aug  8 15:38 sub_sort_200_0808_2_fast_ensemble_detect_weights.csv\r\n",
      "-rw-rw-r-- 1 core core  1.5G Aug 19 17:48 sub_sort_200_0819_2_fast_ensemble.csv\r\n",
      "-rw-rw-r-- 1 core core  1.6G Aug 20 16:18 sub_sort_200_0820_1_fast_ensemble.csv\r\n",
      "-rw-rw-r-- 1 core core  1.6G Aug 20 17:48 sub_sort_200_0820_2_fast_ensemble.csv\r\n",
      "-rw-rw-r-- 1 core core  1.9G Aug 19 18:19 sub_sort_300_0819_3_fast_ensemble.csv\r\n",
      "drwxrwxr-x 2 core core  4.0K Aug  7 13:37 sub_tuple\r\n",
      "-rw-rw-r-- 1 core core  460M Jul 28 06:59 tmp_pos_rel.csv\r\n",
      "-rw-rw-r-- 1 core core  1.1K Aug 23 03:52 top_classes_42.csv\r\n",
      "-rw-rw-r-- 1 core core   857 Aug 23 03:52 top_classes.csv\r\n",
      "-rw-rw-r-- 1 core core   36K Aug 23 08:42 train_lgbm.ipynb\r\n",
      "-rw-rw-r-- 1 core core  1.9M Aug  2 17:07 tuple-rel-classifier-Copy1.ipynb\r\n",
      "-rw-rw-r-- 1 core core  1.8M Aug  8 12:21 tuple-rel-classifier.ipynb\r\n",
      "-rw-rw-r-- 1 core core  1.7M Aug 22 15:09 tuple-rel-classifier-new.ipynb\r\n",
      "-rw-rw-r-- 1 core core  1.7M Aug  6 06:48 tuple-rel-classifier-new-lb18901.ipynb\r\n"
     ]
    }
   ],
   "source": [
    "!ls -lh"
   ]
  },
  {
   "cell_type": "code",
   "execution_count": 36,
   "metadata": {},
   "outputs": [],
   "source": [
    "csv_files = [\n",
    "            #'sub_sort_200_0820_2_fast_ensemble.csv',\n",
    "            #'../vrd/lb23578/sub_tuple_0821_4.csv',\n",
    "            #'../vrd/lb25388/sub_tuple_0825_cdiff.csv',\n",
    "            '../vrd/lb25388/sub_tuple_0825_cdiff_exclude_inside_of.csv',\n",
    "            '../vrd/insideof/sub_insideof.csv',\n",
    "            'ensemble_is_42_0808_1_3_models.csv'\n",
    "            #'sub_is_42_0726_2.csv',\n",
    "            ]\n",
    "\n",
    "dfs = [pd.read_csv(x) for x in csv_files]"
   ]
  },
  {
   "cell_type": "code",
   "execution_count": 37,
   "metadata": {},
   "outputs": [],
   "source": [
    "for df in dfs:\n",
    "    df.PredictionString = df.PredictionString.fillna('')"
   ]
  },
  {
   "cell_type": "code",
   "execution_count": 38,
   "metadata": {},
   "outputs": [
    {
     "data": {
      "text/plain": [
       "0"
      ]
     },
     "execution_count": 38,
     "metadata": {},
     "output_type": "execute_result"
    }
   ],
   "source": [
    "len(dfs[1].iloc[0].PredictionString)"
   ]
  },
  {
   "cell_type": "code",
   "execution_count": 39,
   "metadata": {},
   "outputs": [],
   "source": [
    "# lower conf for is model, not working\n",
    "# dfs[1].PredictionString = dfs[1].PredictionString.map(lambda x: get_low_conf_pred_str(x))"
   ]
  },
  {
   "cell_type": "code",
   "execution_count": 40,
   "metadata": {},
   "outputs": [
    {
     "data": {
      "text/html": [
       "<div>\n",
       "<style scoped>\n",
       "    .dataframe tbody tr th:only-of-type {\n",
       "        vertical-align: middle;\n",
       "    }\n",
       "\n",
       "    .dataframe tbody tr th {\n",
       "        vertical-align: top;\n",
       "    }\n",
       "\n",
       "    .dataframe thead th {\n",
       "        text-align: right;\n",
       "    }\n",
       "</style>\n",
       "<table border=\"1\" class=\"dataframe\">\n",
       "  <thead>\n",
       "    <tr style=\"text-align: right;\">\n",
       "      <th></th>\n",
       "      <th>ImageId</th>\n",
       "      <th>PredictionString</th>\n",
       "    </tr>\n",
       "  </thead>\n",
       "  <tbody>\n",
       "    <tr>\n",
       "      <th>0</th>\n",
       "      <td>21135d5ed0e7a0b7</td>\n",
       "      <td>0.500165 /m/04yx4 0.3756532 0.236988 0.7501363...</td>\n",
       "    </tr>\n",
       "    <tr>\n",
       "      <th>1</th>\n",
       "      <td>763c72626bf24534</td>\n",
       "      <td>0.77768 /m/04yx4 0.720626 0.5248438 0.950433 0...</td>\n",
       "    </tr>\n",
       "    <tr>\n",
       "      <th>2</th>\n",
       "      <td>7540c162180973b1</td>\n",
       "      <td>0.114314 /m/04yx4 0.9498244 0.3313462 0.999023...</td>\n",
       "    </tr>\n",
       "    <tr>\n",
       "      <th>3</th>\n",
       "      <td>c4e522dce52cb02f</td>\n",
       "      <td>0.702323 /m/04yx4 0.8541945 0.3647041 0.972777...</td>\n",
       "    </tr>\n",
       "    <tr>\n",
       "      <th>4</th>\n",
       "      <td>cafcd9496c808085</td>\n",
       "      <td>0.178867 /m/01_5g 0.7968998 0.0202855 0.997210...</td>\n",
       "    </tr>\n",
       "  </tbody>\n",
       "</table>\n",
       "</div>"
      ],
      "text/plain": [
       "            ImageId                                   PredictionString\n",
       "0  21135d5ed0e7a0b7  0.500165 /m/04yx4 0.3756532 0.236988 0.7501363...\n",
       "1  763c72626bf24534  0.77768 /m/04yx4 0.720626 0.5248438 0.950433 0...\n",
       "2  7540c162180973b1  0.114314 /m/04yx4 0.9498244 0.3313462 0.999023...\n",
       "3  c4e522dce52cb02f  0.702323 /m/04yx4 0.8541945 0.3647041 0.972777...\n",
       "4  cafcd9496c808085  0.178867 /m/01_5g 0.7968998 0.0202855 0.997210..."
      ]
     },
     "execution_count": 40,
     "metadata": {},
     "output_type": "execute_result"
    }
   ],
   "source": [
    "dfs[0].head()"
   ]
  },
  {
   "cell_type": "code",
   "execution_count": 89,
   "metadata": {},
   "outputs": [],
   "source": [
    "#keep top 100\n",
    "#dfs[0].PredictionString = dfs[0].PredictionString.map(lambda x: ' '.join(x.split(' ')[:1200]))"
   ]
  },
  {
   "cell_type": "code",
   "execution_count": 42,
   "metadata": {},
   "outputs": [
    {
     "data": {
      "text/html": [
       "<div>\n",
       "<style scoped>\n",
       "    .dataframe tbody tr th:only-of-type {\n",
       "        vertical-align: middle;\n",
       "    }\n",
       "\n",
       "    .dataframe tbody tr th {\n",
       "        vertical-align: top;\n",
       "    }\n",
       "\n",
       "    .dataframe thead th {\n",
       "        text-align: right;\n",
       "    }\n",
       "</style>\n",
       "<table border=\"1\" class=\"dataframe\">\n",
       "  <thead>\n",
       "    <tr style=\"text-align: right;\">\n",
       "      <th></th>\n",
       "      <th>ImageId</th>\n",
       "      <th>PredictionString</th>\n",
       "    </tr>\n",
       "  </thead>\n",
       "  <tbody>\n",
       "    <tr>\n",
       "      <th>0</th>\n",
       "      <td>21135d5ed0e7a0b7</td>\n",
       "      <td></td>\n",
       "    </tr>\n",
       "    <tr>\n",
       "      <th>1</th>\n",
       "      <td>763c72626bf24534</td>\n",
       "      <td></td>\n",
       "    </tr>\n",
       "    <tr>\n",
       "      <th>2</th>\n",
       "      <td>7540c162180973b1</td>\n",
       "      <td></td>\n",
       "    </tr>\n",
       "    <tr>\n",
       "      <th>3</th>\n",
       "      <td>c4e522dce52cb02f</td>\n",
       "      <td></td>\n",
       "    </tr>\n",
       "    <tr>\n",
       "      <th>4</th>\n",
       "      <td>cafcd9496c808085</td>\n",
       "      <td></td>\n",
       "    </tr>\n",
       "    <tr>\n",
       "      <th>5</th>\n",
       "      <td>53a6a4e7561a8a51</td>\n",
       "      <td>0.033577 /m/04yx4 0.335658 0.3165081 0.6516815...</td>\n",
       "    </tr>\n",
       "    <tr>\n",
       "      <th>6</th>\n",
       "      <td>52d6a184cddab056</td>\n",
       "      <td></td>\n",
       "    </tr>\n",
       "    <tr>\n",
       "      <th>7</th>\n",
       "      <td>4ddce90e2f1625eb</td>\n",
       "      <td></td>\n",
       "    </tr>\n",
       "    <tr>\n",
       "      <th>8</th>\n",
       "      <td>76a33fc3a2b40714</td>\n",
       "      <td>0.044692 /m/04yx4 0.3503682 0.4429366 0.393902...</td>\n",
       "    </tr>\n",
       "    <tr>\n",
       "      <th>9</th>\n",
       "      <td>fc98e22362caea6d</td>\n",
       "      <td></td>\n",
       "    </tr>\n",
       "  </tbody>\n",
       "</table>\n",
       "</div>"
      ],
      "text/plain": [
       "            ImageId                                   PredictionString\n",
       "0  21135d5ed0e7a0b7                                                   \n",
       "1  763c72626bf24534                                                   \n",
       "2  7540c162180973b1                                                   \n",
       "3  c4e522dce52cb02f                                                   \n",
       "4  cafcd9496c808085                                                   \n",
       "5  53a6a4e7561a8a51  0.033577 /m/04yx4 0.335658 0.3165081 0.6516815...\n",
       "6  52d6a184cddab056                                                   \n",
       "7  4ddce90e2f1625eb                                                   \n",
       "8  76a33fc3a2b40714  0.044692 /m/04yx4 0.3503682 0.4429366 0.393902...\n",
       "9  fc98e22362caea6d                                                   "
      ]
     },
     "execution_count": 42,
     "metadata": {},
     "output_type": "execute_result"
    }
   ],
   "source": [
    "dfs[1].head(10)"
   ]
  },
  {
   "cell_type": "code",
   "execution_count": 43,
   "metadata": {},
   "outputs": [],
   "source": [
    "x = None\n",
    "for d in dfs:\n",
    "    if x is None:\n",
    "        x = d.PredictionString\n",
    "    else:\n",
    "        x = x.str.cat(d.PredictionString, sep=' ')"
   ]
  },
  {
   "cell_type": "code",
   "execution_count": 44,
   "metadata": {},
   "outputs": [
    {
     "name": "stdout",
     "output_type": "stream",
     "text": [
      "32572 0\n"
     ]
    }
   ],
   "source": [
    "dfs[0].PredictionString = x\n",
    "print(len(dfs[0].iloc[0].PredictionString), len(dfs[1].iloc[0].PredictionString))"
   ]
  },
  {
   "cell_type": "code",
   "execution_count": 45,
   "metadata": {},
   "outputs": [
    {
     "data": {
      "text/html": [
       "<div>\n",
       "<style scoped>\n",
       "    .dataframe tbody tr th:only-of-type {\n",
       "        vertical-align: middle;\n",
       "    }\n",
       "\n",
       "    .dataframe tbody tr th {\n",
       "        vertical-align: top;\n",
       "    }\n",
       "\n",
       "    .dataframe thead th {\n",
       "        text-align: right;\n",
       "    }\n",
       "</style>\n",
       "<table border=\"1\" class=\"dataframe\">\n",
       "  <thead>\n",
       "    <tr style=\"text-align: right;\">\n",
       "      <th></th>\n",
       "      <th>ImageId</th>\n",
       "      <th>PredictionString</th>\n",
       "    </tr>\n",
       "  </thead>\n",
       "  <tbody>\n",
       "    <tr>\n",
       "      <th>0</th>\n",
       "      <td>21135d5ed0e7a0b7</td>\n",
       "      <td>0.500165 /m/04yx4 0.3756532 0.236988 0.7501363...</td>\n",
       "    </tr>\n",
       "    <tr>\n",
       "      <th>1</th>\n",
       "      <td>763c72626bf24534</td>\n",
       "      <td>0.77768 /m/04yx4 0.720626 0.5248438 0.950433 0...</td>\n",
       "    </tr>\n",
       "    <tr>\n",
       "      <th>2</th>\n",
       "      <td>7540c162180973b1</td>\n",
       "      <td>0.114314 /m/04yx4 0.9498244 0.3313462 0.999023...</td>\n",
       "    </tr>\n",
       "    <tr>\n",
       "      <th>3</th>\n",
       "      <td>c4e522dce52cb02f</td>\n",
       "      <td>0.702323 /m/04yx4 0.8541945 0.3647041 0.972777...</td>\n",
       "    </tr>\n",
       "    <tr>\n",
       "      <th>4</th>\n",
       "      <td>cafcd9496c808085</td>\n",
       "      <td>0.178867 /m/01_5g 0.7968998 0.0202855 0.997210...</td>\n",
       "    </tr>\n",
       "  </tbody>\n",
       "</table>\n",
       "</div>"
      ],
      "text/plain": [
       "            ImageId                                   PredictionString\n",
       "0  21135d5ed0e7a0b7  0.500165 /m/04yx4 0.3756532 0.236988 0.7501363...\n",
       "1  763c72626bf24534  0.77768 /m/04yx4 0.720626 0.5248438 0.950433 0...\n",
       "2  7540c162180973b1  0.114314 /m/04yx4 0.9498244 0.3313462 0.999023...\n",
       "3  c4e522dce52cb02f  0.702323 /m/04yx4 0.8541945 0.3647041 0.972777...\n",
       "4  cafcd9496c808085  0.178867 /m/01_5g 0.7968998 0.0202855 0.997210..."
      ]
     },
     "execution_count": 45,
     "metadata": {},
     "output_type": "execute_result"
    }
   ],
   "source": [
    "dfs[0].head()"
   ]
  },
  {
   "cell_type": "code",
   "execution_count": 46,
   "metadata": {},
   "outputs": [],
   "source": [
    "dfs[0].to_csv('merge_0828_1_insideof.csv.zip', index=False, compression='zip')"
   ]
  },
  {
   "cell_type": "code",
   "execution_count": 47,
   "metadata": {},
   "outputs": [
    {
     "name": "stdout",
     "output_type": "stream",
     "text": [
      "100%|████████████████████████████████████████| 484M/484M [00:23<00:00, 21.3MB/s]\n",
      "Successfully submitted to Open Images 2019 - Visual Relationship"
     ]
    }
   ],
   "source": [
    "!kaggle competitions submit -c open-images-2019-visual-relationship -f merge_0828_1_insideof.csv.zip -m \"merge insideof model\""
   ]
  },
  {
   "cell_type": "code",
   "execution_count": null,
   "metadata": {},
   "outputs": [],
   "source": [
    "!ls"
   ]
  },
  {
   "cell_type": "code",
   "execution_count": 11,
   "metadata": {},
   "outputs": [
    {
     "data": {
      "text/plain": [
       "10336"
      ]
     },
     "execution_count": 11,
     "metadata": {},
     "output_type": "execute_result"
    }
   ],
   "source": [
    "len(dfs[0].loc[dfs[0].PredictionString.isna()])"
   ]
  },
  {
   "cell_type": "code",
   "execution_count": 56,
   "metadata": {},
   "outputs": [
    {
     "data": {
      "text/plain": [
       "0"
      ]
     },
     "execution_count": 56,
     "metadata": {},
     "output_type": "execute_result"
    }
   ],
   "source": [
    "len(dfs[0].loc[dfs[0].PredictionString.isna()])"
   ]
  },
  {
   "cell_type": "code",
   "execution_count": 12,
   "metadata": {},
   "outputs": [
    {
     "data": {
      "text/plain": [
       "41"
      ]
     },
     "execution_count": 12,
     "metadata": {},
     "output_type": "execute_result"
    }
   ],
   "source": [
    "len(dfs[1].loc[dfs[1].PredictionString.isna()])"
   ]
  },
  {
   "cell_type": "code",
   "execution_count": 100,
   "metadata": {},
   "outputs": [
    {
     "data": {
      "text/html": [
       "<div>\n",
       "<style scoped>\n",
       "    .dataframe tbody tr th:only-of-type {\n",
       "        vertical-align: middle;\n",
       "    }\n",
       "\n",
       "    .dataframe tbody tr th {\n",
       "        vertical-align: top;\n",
       "    }\n",
       "\n",
       "    .dataframe thead th {\n",
       "        text-align: right;\n",
       "    }\n",
       "</style>\n",
       "<table border=\"1\" class=\"dataframe\">\n",
       "  <thead>\n",
       "    <tr style=\"text-align: right;\">\n",
       "      <th></th>\n",
       "      <th>t</th>\n",
       "    </tr>\n",
       "  </thead>\n",
       "  <tbody>\n",
       "    <tr>\n",
       "      <th>0</th>\n",
       "      <td>a1</td>\n",
       "    </tr>\n",
       "    <tr>\n",
       "      <th>1</th>\n",
       "      <td>b1</td>\n",
       "    </tr>\n",
       "    <tr>\n",
       "      <th>2</th>\n",
       "      <td>c</td>\n",
       "    </tr>\n",
       "    <tr>\n",
       "      <th>3</th>\n",
       "      <td>d</td>\n",
       "    </tr>\n",
       "    <tr>\n",
       "      <th>4</th>\n",
       "      <td>e</td>\n",
       "    </tr>\n",
       "  </tbody>\n",
       "</table>\n",
       "</div>"
      ],
      "text/plain": [
       "    t\n",
       "0  a1\n",
       "1  b1\n",
       "2   c\n",
       "3   d\n",
       "4   e"
      ]
     },
     "execution_count": 100,
     "metadata": {},
     "output_type": "execute_result"
    }
   ],
   "source": [
    "#####\n",
    "lst = ['Geeks', 'For', 'Geeks', 'is',  \n",
    "            'portal', 'for', 'Geeks'] \n",
    "tmp1 = pd.DataFrame(lst, columns=['t'])\n",
    "lst2 = ['a', 'b', 'c', 'd',  \n",
    "            'e', 'f', 'g'] \n",
    "tmp2 = pd.DataFrame(lst2, columns=['t'])\n",
    "\n",
    "lst3 = ['a1', 'b1', 'c', 'd',  \n",
    "            'e', 'f', 'g'] \n",
    "tmp3 = pd.DataFrame(lst3, columns=['t'])\n",
    "tmp3.head()"
   ]
  },
  {
   "cell_type": "code",
   "execution_count": 4,
   "metadata": {},
   "outputs": [
    {
     "data": {
      "text/html": [
       "<div>\n",
       "<style scoped>\n",
       "    .dataframe tbody tr th:only-of-type {\n",
       "        vertical-align: middle;\n",
       "    }\n",
       "\n",
       "    .dataframe tbody tr th {\n",
       "        vertical-align: top;\n",
       "    }\n",
       "\n",
       "    .dataframe thead th {\n",
       "        text-align: right;\n",
       "    }\n",
       "</style>\n",
       "<table border=\"1\" class=\"dataframe\">\n",
       "  <thead>\n",
       "    <tr style=\"text-align: right;\">\n",
       "      <th></th>\n",
       "      <th>ImageId</th>\n",
       "      <th>PredictionString</th>\n",
       "    </tr>\n",
       "  </thead>\n",
       "  <tbody>\n",
       "    <tr>\n",
       "      <th>0</th>\n",
       "      <td>21135d5ed0e7a0b7</td>\n",
       "      <td>0.1689330 /m/04bcr3 0.3664692 0.7250217 0.4814...</td>\n",
       "    </tr>\n",
       "    <tr>\n",
       "      <th>1</th>\n",
       "      <td>763c72626bf24534</td>\n",
       "      <td>0.7671249 /m/04bcr3 0.6873273 0.8193369 0.9977...</td>\n",
       "    </tr>\n",
       "    <tr>\n",
       "      <th>2</th>\n",
       "      <td>7540c162180973b1</td>\n",
       "      <td>0.0219995 /m/04dr76w 0.0762036 0.3234025 0.120...</td>\n",
       "    </tr>\n",
       "    <tr>\n",
       "      <th>3</th>\n",
       "      <td>c4e522dce52cb02f</td>\n",
       "      <td>0.4940703 /m/04bcr3 0.8307936 0.6809913 0.9920...</td>\n",
       "    </tr>\n",
       "    <tr>\n",
       "      <th>4</th>\n",
       "      <td>cafcd9496c808085</td>\n",
       "      <td>0.0129044 /m/04dr76w 0.0000000 0.0600080 0.031...</td>\n",
       "    </tr>\n",
       "  </tbody>\n",
       "</table>\n",
       "</div>"
      ],
      "text/plain": [
       "            ImageId                                   PredictionString\n",
       "0  21135d5ed0e7a0b7  0.1689330 /m/04bcr3 0.3664692 0.7250217 0.4814...\n",
       "1  763c72626bf24534  0.7671249 /m/04bcr3 0.6873273 0.8193369 0.9977...\n",
       "2  7540c162180973b1  0.0219995 /m/04dr76w 0.0762036 0.3234025 0.120...\n",
       "3  c4e522dce52cb02f  0.4940703 /m/04bcr3 0.8307936 0.6809913 0.9920...\n",
       "4  cafcd9496c808085  0.0129044 /m/04dr76w 0.0000000 0.0600080 0.031..."
      ]
     },
     "execution_count": 4,
     "metadata": {},
     "output_type": "execute_result"
    }
   ],
   "source": [
    "df_is = pd.read_csv('ensemble_is_42_0808_1_3_models.csv')\n",
    "df_is.head()"
   ]
  },
  {
   "cell_type": "code",
   "execution_count": 5,
   "metadata": {},
   "outputs": [],
   "source": [
    "def get_low_conf_pred_str(pred_str):\n",
    "    try:\n",
    "        if len(pred_str) < 1:\n",
    "            return pred_str\n",
    "    except:\n",
    "        print('pred_str:', pred_str)\n",
    "        raise\n",
    "    det_items = pred_str.split(' ')\n",
    "    \n",
    "    res = []\n",
    "    for i, c in enumerate(det_items):\n",
    "        if i % 12 == 0:\n",
    "            res.append(str(float(c)/4))\n",
    "        else:\n",
    "            res.append(c)\n",
    "    return ' '.join(res)"
   ]
  },
  {
   "cell_type": "code",
   "execution_count": null,
   "metadata": {},
   "outputs": [],
   "source": []
  }
 ],
 "metadata": {
  "kernelspec": {
   "display_name": "Python 3",
   "language": "python",
   "name": "python3"
  },
  "language_info": {
   "codemirror_mode": {
    "name": "ipython",
    "version": 3
   },
   "file_extension": ".py",
   "mimetype": "text/x-python",
   "name": "python",
   "nbconvert_exporter": "python",
   "pygments_lexer": "ipython3",
   "version": "3.7.3"
  }
 },
 "nbformat": 4,
 "nbformat_minor": 2
}
