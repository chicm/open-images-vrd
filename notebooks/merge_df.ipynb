{
 "cells": [
  {
   "cell_type": "code",
   "execution_count": 68,
   "metadata": {},
   "outputs": [],
   "source": [
    "import os\n",
    "import numpy as np\n",
    "import pandas as pd\n",
    "import torch\n",
    "import os\n",
    "import json\n",
    "import pandas as pd\n",
    "from PIL import Image\n",
    "from matplotlib.pyplot import imshow\n",
    "import matplotlib.pyplot as plt\n",
    "import cv2\n",
    "import numpy as np\n",
    "%matplotlib inline\n",
    "from tqdm import tqdm\n",
    "import glob\n",
    "import pickle"
   ]
  },
  {
   "cell_type": "code",
   "execution_count": 69,
   "metadata": {},
   "outputs": [
    {
     "name": "stdout",
     "output_type": "stream",
     "text": [
      "total 6.1G\r\n",
      "drwxrwxr-x 4 core core  4.0K Aug  5 16:44 catboost_info\r\n",
      "-rw-rw-r-- 1 core core   852 Aug  4 15:31 cat_feature_index.c1a4dabd-715a703f-75517141-d81266d1.tmp\r\n",
      "-rw-rw-r-- 1 core core   852 Aug  4 15:04 cat_feature_index.e36fdba6-6cd399f6-229ea45f-ea07b906.tmp\r\n",
      "-rw-rw-r-- 1 core core  841K Aug  8 15:06 detect-57-ensemble.ipynb\r\n",
      "-rw-rw-r-- 1 core core  1.3M Jul 25 11:20 eda.ipynb\r\n",
      "-rw-rw-r-- 1 core core  421M Aug  8 09:52 ensemble_detect_57_0808_1.csv\r\n",
      "-rw-rw-r-- 1 core core  268M Aug  8 09:56 ensemble_detect_57_0808_1_top50.csv\r\n",
      "-rw-rw-r-- 1 core core  421M Aug  8 15:04 ensemble_detect_57_0808_2_with_weights.csv\r\n",
      "-rw-rw-r-- 1 core core  1.2G Aug  7 18:57 ensemble_is_42_0808_1_3_models.csv\r\n",
      "-rw-rw-r-- 1 core core  370K Jul 30 17:58 Is-classifier-6-eda.ipynb\r\n",
      "-rw-rw-r-- 1 core core  377K Jul 29 05:21 Is-detect-42-eda.ipynb\r\n",
      "drwxrwxr-x 2 core core  4.0K Aug  6 15:42 lb18901\r\n",
      "drwxrwxr-x 2 core core  4.0K Aug  6 15:42 lb19252\r\n",
      "-rw-rw-r-- 1 core core  394M Aug  7 19:06 merge_0808_1.csv.zip\r\n",
      "-rw-rw-r-- 1 core core   58K Aug  7 19:11 merge_df.ipynb\r\n",
      "drwxrwxr-x 2 core core  4.0K Aug  8 08:38 sub_detect_57\r\n",
      "drwxrwxr-x 2 core core  4.0K Aug  7 18:15 sub_is_42\r\n",
      "-rw-rw-r-- 1 core core 1011K Jul 22 16:59 submit-detect-57.ipynb\r\n",
      "-rw-rw-r-- 1 core core   54K Aug  7 18:58 submit-is-42-ensemble.ipynb\r\n",
      "-rw-rw-r-- 1 core core  610K Jul 31 17:19 submit-is-42.ipynb\r\n",
      "-rw-r--r-- 1 core core   81K Jul 25 17:16 submit-is-6.ipynb\r\n",
      "drwxrwxr-x 2 core core  4.0K Aug  7 13:41 subs\r\n",
      "-rw-rw-r-- 1 core core  1.5G Aug  8 12:52 sub_sort_200_0808_1_fast_ensemble_detect.csv\r\n",
      "-rw-rw-r-- 1 core core  1.5G Aug  8 15:38 sub_sort_200_0808_2_fast_ensemble_detect_weights.csv\r\n",
      "drwxrwxr-x 2 core core  4.0K Aug  7 13:37 sub_tuple\r\n",
      "-rw-rw-r-- 1 core core  460M Jul 28 06:59 tmp_pos_rel.csv\r\n",
      "-rw-rw-r-- 1 core core  1.9M Aug  2 17:07 tuple-rel-classifier-Copy1.ipynb\r\n",
      "-rw-rw-r-- 1 core core  1.8M Aug  8 12:21 tuple-rel-classifier.ipynb\r\n",
      "-rw-rw-r-- 1 core core  1.7M Aug  8 15:42 tuple-rel-classifier-new.ipynb\r\n",
      "-rw-rw-r-- 1 core core  1.7M Aug  6 06:48 tuple-rel-classifier-new-lb18901.ipynb\r\n"
     ]
    }
   ],
   "source": [
    "!ls -lh"
   ]
  },
  {
   "cell_type": "code",
   "execution_count": 74,
   "metadata": {},
   "outputs": [],
   "source": [
    "csv_files = [\n",
    "            'sub_sort_200_0808_2_fast_ensemble_detect_weights.csv',\n",
    "            'ensemble_is_42_0808_1_3_models.csv'\n",
    "            #'sub_is_42_0726_2.csv',\n",
    "            ]\n",
    "\n",
    "dfs = [pd.read_csv(x) for x in csv_files]"
   ]
  },
  {
   "cell_type": "code",
   "execution_count": 75,
   "metadata": {},
   "outputs": [],
   "source": [
    "for df in dfs:\n",
    "    df.PredictionString = df.PredictionString.fillna('')"
   ]
  },
  {
   "cell_type": "code",
   "execution_count": 76,
   "metadata": {},
   "outputs": [
    {
     "data": {
      "text/html": [
       "<div>\n",
       "<style scoped>\n",
       "    .dataframe tbody tr th:only-of-type {\n",
       "        vertical-align: middle;\n",
       "    }\n",
       "\n",
       "    .dataframe tbody tr th {\n",
       "        vertical-align: top;\n",
       "    }\n",
       "\n",
       "    .dataframe thead th {\n",
       "        text-align: right;\n",
       "    }\n",
       "</style>\n",
       "<table border=\"1\" class=\"dataframe\">\n",
       "  <thead>\n",
       "    <tr style=\"text-align: right;\">\n",
       "      <th></th>\n",
       "      <th>ImageId</th>\n",
       "      <th>PredictionString</th>\n",
       "    </tr>\n",
       "  </thead>\n",
       "  <tbody>\n",
       "    <tr>\n",
       "      <th>0</th>\n",
       "      <td>21135d5ed0e7a0b7</td>\n",
       "      <td>0.519417 /m/04yx4 0.0058464 0.1303263 0.402287...</td>\n",
       "    </tr>\n",
       "    <tr>\n",
       "      <th>1</th>\n",
       "      <td>763c72626bf24534</td>\n",
       "      <td>0.795682 /m/04yx4 0.721374 0.5236796 0.9505891...</td>\n",
       "    </tr>\n",
       "    <tr>\n",
       "      <th>2</th>\n",
       "      <td>7540c162180973b1</td>\n",
       "      <td>0.130334 /m/03bt1vf 0.2536937 0.1177906 0.5206...</td>\n",
       "    </tr>\n",
       "    <tr>\n",
       "      <th>3</th>\n",
       "      <td>c4e522dce52cb02f</td>\n",
       "      <td>0.725539 /m/04yx4 0.8543089 0.3640064 0.970035...</td>\n",
       "    </tr>\n",
       "    <tr>\n",
       "      <th>4</th>\n",
       "      <td>cafcd9496c808085</td>\n",
       "      <td>0.189571 /m/01_5g 0.7974806 0.0256342 0.997168...</td>\n",
       "    </tr>\n",
       "  </tbody>\n",
       "</table>\n",
       "</div>"
      ],
      "text/plain": [
       "            ImageId                                   PredictionString\n",
       "0  21135d5ed0e7a0b7  0.519417 /m/04yx4 0.0058464 0.1303263 0.402287...\n",
       "1  763c72626bf24534  0.795682 /m/04yx4 0.721374 0.5236796 0.9505891...\n",
       "2  7540c162180973b1  0.130334 /m/03bt1vf 0.2536937 0.1177906 0.5206...\n",
       "3  c4e522dce52cb02f  0.725539 /m/04yx4 0.8543089 0.3640064 0.970035...\n",
       "4  cafcd9496c808085  0.189571 /m/01_5g 0.7974806 0.0256342 0.997168..."
      ]
     },
     "execution_count": 76,
     "metadata": {},
     "output_type": "execute_result"
    }
   ],
   "source": [
    "dfs[0].head()"
   ]
  },
  {
   "cell_type": "code",
   "execution_count": 77,
   "metadata": {},
   "outputs": [],
   "source": [
    "#keep top 100\n",
    "#dfs[0].PredictionString = dfs[0].PredictionString.map(lambda x: ' '.join(x.split(' ')[:1200]))"
   ]
  },
  {
   "cell_type": "code",
   "execution_count": 78,
   "metadata": {},
   "outputs": [
    {
     "data": {
      "text/html": [
       "<div>\n",
       "<style scoped>\n",
       "    .dataframe tbody tr th:only-of-type {\n",
       "        vertical-align: middle;\n",
       "    }\n",
       "\n",
       "    .dataframe tbody tr th {\n",
       "        vertical-align: top;\n",
       "    }\n",
       "\n",
       "    .dataframe thead th {\n",
       "        text-align: right;\n",
       "    }\n",
       "</style>\n",
       "<table border=\"1\" class=\"dataframe\">\n",
       "  <thead>\n",
       "    <tr style=\"text-align: right;\">\n",
       "      <th></th>\n",
       "      <th>ImageId</th>\n",
       "      <th>PredictionString</th>\n",
       "    </tr>\n",
       "  </thead>\n",
       "  <tbody>\n",
       "    <tr>\n",
       "      <th>0</th>\n",
       "      <td>21135d5ed0e7a0b7</td>\n",
       "      <td>0.1689330 /m/04bcr3 0.3664692 0.7250217 0.4814...</td>\n",
       "    </tr>\n",
       "    <tr>\n",
       "      <th>1</th>\n",
       "      <td>763c72626bf24534</td>\n",
       "      <td>0.7671249 /m/04bcr3 0.6873273 0.8193369 0.9977...</td>\n",
       "    </tr>\n",
       "    <tr>\n",
       "      <th>2</th>\n",
       "      <td>7540c162180973b1</td>\n",
       "      <td>0.0219995 /m/04dr76w 0.0762036 0.3234025 0.120...</td>\n",
       "    </tr>\n",
       "    <tr>\n",
       "      <th>3</th>\n",
       "      <td>c4e522dce52cb02f</td>\n",
       "      <td>0.4940703 /m/04bcr3 0.8307936 0.6809913 0.9920...</td>\n",
       "    </tr>\n",
       "    <tr>\n",
       "      <th>4</th>\n",
       "      <td>cafcd9496c808085</td>\n",
       "      <td>0.0129044 /m/04dr76w 0.0000000 0.0600080 0.031...</td>\n",
       "    </tr>\n",
       "  </tbody>\n",
       "</table>\n",
       "</div>"
      ],
      "text/plain": [
       "            ImageId                                   PredictionString\n",
       "0  21135d5ed0e7a0b7  0.1689330 /m/04bcr3 0.3664692 0.7250217 0.4814...\n",
       "1  763c72626bf24534  0.7671249 /m/04bcr3 0.6873273 0.8193369 0.9977...\n",
       "2  7540c162180973b1  0.0219995 /m/04dr76w 0.0762036 0.3234025 0.120...\n",
       "3  c4e522dce52cb02f  0.4940703 /m/04bcr3 0.8307936 0.6809913 0.9920...\n",
       "4  cafcd9496c808085  0.0129044 /m/04dr76w 0.0000000 0.0600080 0.031..."
      ]
     },
     "execution_count": 78,
     "metadata": {},
     "output_type": "execute_result"
    }
   ],
   "source": [
    "dfs[1].head()"
   ]
  },
  {
   "cell_type": "code",
   "execution_count": 79,
   "metadata": {},
   "outputs": [],
   "source": [
    "x = None\n",
    "for d in dfs:\n",
    "    if x is None:\n",
    "        x = d.PredictionString\n",
    "    else:\n",
    "        x = x.str.cat(d.PredictionString, sep=' ')"
   ]
  },
  {
   "cell_type": "code",
   "execution_count": 80,
   "metadata": {},
   "outputs": [
    {
     "name": "stdout",
     "output_type": "stream",
     "text": [
      "32528 10528\n"
     ]
    }
   ],
   "source": [
    "dfs[0].PredictionString = x\n",
    "print(len(dfs[0].iloc[0].PredictionString), len(dfs[1].iloc[0].PredictionString))"
   ]
  },
  {
   "cell_type": "code",
   "execution_count": 81,
   "metadata": {},
   "outputs": [
    {
     "data": {
      "text/html": [
       "<div>\n",
       "<style scoped>\n",
       "    .dataframe tbody tr th:only-of-type {\n",
       "        vertical-align: middle;\n",
       "    }\n",
       "\n",
       "    .dataframe tbody tr th {\n",
       "        vertical-align: top;\n",
       "    }\n",
       "\n",
       "    .dataframe thead th {\n",
       "        text-align: right;\n",
       "    }\n",
       "</style>\n",
       "<table border=\"1\" class=\"dataframe\">\n",
       "  <thead>\n",
       "    <tr style=\"text-align: right;\">\n",
       "      <th></th>\n",
       "      <th>ImageId</th>\n",
       "      <th>PredictionString</th>\n",
       "    </tr>\n",
       "  </thead>\n",
       "  <tbody>\n",
       "    <tr>\n",
       "      <th>0</th>\n",
       "      <td>21135d5ed0e7a0b7</td>\n",
       "      <td>0.519417 /m/04yx4 0.0058464 0.1303263 0.402287...</td>\n",
       "    </tr>\n",
       "    <tr>\n",
       "      <th>1</th>\n",
       "      <td>763c72626bf24534</td>\n",
       "      <td>0.795682 /m/04yx4 0.721374 0.5236796 0.9505891...</td>\n",
       "    </tr>\n",
       "    <tr>\n",
       "      <th>2</th>\n",
       "      <td>7540c162180973b1</td>\n",
       "      <td>0.130334 /m/03bt1vf 0.2536937 0.1177906 0.5206...</td>\n",
       "    </tr>\n",
       "    <tr>\n",
       "      <th>3</th>\n",
       "      <td>c4e522dce52cb02f</td>\n",
       "      <td>0.725539 /m/04yx4 0.8543089 0.3640064 0.970035...</td>\n",
       "    </tr>\n",
       "    <tr>\n",
       "      <th>4</th>\n",
       "      <td>cafcd9496c808085</td>\n",
       "      <td>0.189571 /m/01_5g 0.7974806 0.0256342 0.997168...</td>\n",
       "    </tr>\n",
       "  </tbody>\n",
       "</table>\n",
       "</div>"
      ],
      "text/plain": [
       "            ImageId                                   PredictionString\n",
       "0  21135d5ed0e7a0b7  0.519417 /m/04yx4 0.0058464 0.1303263 0.402287...\n",
       "1  763c72626bf24534  0.795682 /m/04yx4 0.721374 0.5236796 0.9505891...\n",
       "2  7540c162180973b1  0.130334 /m/03bt1vf 0.2536937 0.1177906 0.5206...\n",
       "3  c4e522dce52cb02f  0.725539 /m/04yx4 0.8543089 0.3640064 0.970035...\n",
       "4  cafcd9496c808085  0.189571 /m/01_5g 0.7974806 0.0256342 0.997168..."
      ]
     },
     "execution_count": 81,
     "metadata": {},
     "output_type": "execute_result"
    }
   ],
   "source": [
    "dfs[0].head()"
   ]
  },
  {
   "cell_type": "code",
   "execution_count": 82,
   "metadata": {},
   "outputs": [],
   "source": [
    "dfs[0].to_csv('merge_0808_2.csv.zip', index=False, compression='zip')"
   ]
  },
  {
   "cell_type": "code",
   "execution_count": 83,
   "metadata": {},
   "outputs": [
    {
     "name": "stdout",
     "output_type": "stream",
     "text": [
      "100%|████████████████████████████████████████| 465M/465M [00:22<00:00, 21.4MB/s]\n",
      "^C\n",
      "User cancelled operation\n"
     ]
    }
   ],
   "source": [
    "!kaggle competitions submit -c open-images-2019-visual-relationship -f merge_0808_2.csv.zip -m \"submit\""
   ]
  },
  {
   "cell_type": "code",
   "execution_count": null,
   "metadata": {},
   "outputs": [],
   "source": [
    "!ls"
   ]
  },
  {
   "cell_type": "code",
   "execution_count": 11,
   "metadata": {},
   "outputs": [
    {
     "data": {
      "text/plain": [
       "10336"
      ]
     },
     "execution_count": 11,
     "metadata": {},
     "output_type": "execute_result"
    }
   ],
   "source": [
    "len(dfs[0].loc[dfs[0].PredictionString.isna()])"
   ]
  },
  {
   "cell_type": "code",
   "execution_count": 56,
   "metadata": {},
   "outputs": [
    {
     "data": {
      "text/plain": [
       "0"
      ]
     },
     "execution_count": 56,
     "metadata": {},
     "output_type": "execute_result"
    }
   ],
   "source": [
    "len(dfs[0].loc[dfs[0].PredictionString.isna()])"
   ]
  },
  {
   "cell_type": "code",
   "execution_count": 12,
   "metadata": {},
   "outputs": [
    {
     "data": {
      "text/plain": [
       "41"
      ]
     },
     "execution_count": 12,
     "metadata": {},
     "output_type": "execute_result"
    }
   ],
   "source": [
    "len(dfs[1].loc[dfs[1].PredictionString.isna()])"
   ]
  },
  {
   "cell_type": "code",
   "execution_count": 100,
   "metadata": {},
   "outputs": [
    {
     "data": {
      "text/html": [
       "<div>\n",
       "<style scoped>\n",
       "    .dataframe tbody tr th:only-of-type {\n",
       "        vertical-align: middle;\n",
       "    }\n",
       "\n",
       "    .dataframe tbody tr th {\n",
       "        vertical-align: top;\n",
       "    }\n",
       "\n",
       "    .dataframe thead th {\n",
       "        text-align: right;\n",
       "    }\n",
       "</style>\n",
       "<table border=\"1\" class=\"dataframe\">\n",
       "  <thead>\n",
       "    <tr style=\"text-align: right;\">\n",
       "      <th></th>\n",
       "      <th>t</th>\n",
       "    </tr>\n",
       "  </thead>\n",
       "  <tbody>\n",
       "    <tr>\n",
       "      <th>0</th>\n",
       "      <td>a1</td>\n",
       "    </tr>\n",
       "    <tr>\n",
       "      <th>1</th>\n",
       "      <td>b1</td>\n",
       "    </tr>\n",
       "    <tr>\n",
       "      <th>2</th>\n",
       "      <td>c</td>\n",
       "    </tr>\n",
       "    <tr>\n",
       "      <th>3</th>\n",
       "      <td>d</td>\n",
       "    </tr>\n",
       "    <tr>\n",
       "      <th>4</th>\n",
       "      <td>e</td>\n",
       "    </tr>\n",
       "  </tbody>\n",
       "</table>\n",
       "</div>"
      ],
      "text/plain": [
       "    t\n",
       "0  a1\n",
       "1  b1\n",
       "2   c\n",
       "3   d\n",
       "4   e"
      ]
     },
     "execution_count": 100,
     "metadata": {},
     "output_type": "execute_result"
    }
   ],
   "source": [
    "#####\n",
    "lst = ['Geeks', 'For', 'Geeks', 'is',  \n",
    "            'portal', 'for', 'Geeks'] \n",
    "tmp1 = pd.DataFrame(lst, columns=['t'])\n",
    "lst2 = ['a', 'b', 'c', 'd',  \n",
    "            'e', 'f', 'g'] \n",
    "tmp2 = pd.DataFrame(lst2, columns=['t'])\n",
    "\n",
    "lst3 = ['a1', 'b1', 'c', 'd',  \n",
    "            'e', 'f', 'g'] \n",
    "tmp3 = pd.DataFrame(lst3, columns=['t'])\n",
    "tmp3.head()"
   ]
  },
  {
   "cell_type": "code",
   "execution_count": 102,
   "metadata": {},
   "outputs": [
    {
     "name": "stdout",
     "output_type": "stream",
     "text": [
      "0    Geeks a a1\n",
      "1      For b b1\n",
      "2     Geeks c c\n",
      "3        is d d\n",
      "4    portal e e\n",
      "5       for f f\n",
      "6     Geeks g g\n",
      "Name: t, dtype: object\n"
     ]
    },
    {
     "data": {
      "text/html": [
       "<div>\n",
       "<style scoped>\n",
       "    .dataframe tbody tr th:only-of-type {\n",
       "        vertical-align: middle;\n",
       "    }\n",
       "\n",
       "    .dataframe tbody tr th {\n",
       "        vertical-align: top;\n",
       "    }\n",
       "\n",
       "    .dataframe thead th {\n",
       "        text-align: right;\n",
       "    }\n",
       "</style>\n",
       "<table border=\"1\" class=\"dataframe\">\n",
       "  <thead>\n",
       "    <tr style=\"text-align: right;\">\n",
       "      <th></th>\n",
       "      <th>t</th>\n",
       "    </tr>\n",
       "  </thead>\n",
       "  <tbody>\n",
       "    <tr>\n",
       "      <th>0</th>\n",
       "      <td>Geeks a a1</td>\n",
       "    </tr>\n",
       "    <tr>\n",
       "      <th>1</th>\n",
       "      <td>For b b1</td>\n",
       "    </tr>\n",
       "    <tr>\n",
       "      <th>2</th>\n",
       "      <td>Geeks c c</td>\n",
       "    </tr>\n",
       "    <tr>\n",
       "      <th>3</th>\n",
       "      <td>is d d</td>\n",
       "    </tr>\n",
       "    <tr>\n",
       "      <th>4</th>\n",
       "      <td>portal e e</td>\n",
       "    </tr>\n",
       "  </tbody>\n",
       "</table>\n",
       "</div>"
      ],
      "text/plain": [
       "            t\n",
       "0  Geeks a a1\n",
       "1    For b b1\n",
       "2   Geeks c c\n",
       "3      is d d\n",
       "4  portal e e"
      ]
     },
     "execution_count": 102,
     "metadata": {},
     "output_type": "execute_result"
    }
   ],
   "source": [
    "dfs = [tmp1, tmp2, tmp3]\n",
    "x = None\n",
    "for d in dfs:\n",
    "    if x is None:\n",
    "        x = d.t\n",
    "    else:\n",
    "        x = x.str.cat(d.t, sep=' ')\n",
    "\n",
    "#x = tmp1.t1.str.cat(tmp2.t2, sep=' ').str.cat(tmp3.t3, sep=' ')\n",
    "print(x)\n",
    "tmp1.t = x\n",
    "tmp1.head()"
   ]
  },
  {
   "cell_type": "code",
   "execution_count": 25,
   "metadata": {},
   "outputs": [
    {
     "data": {
      "text/html": [
       "<div>\n",
       "<style scoped>\n",
       "    .dataframe tbody tr th:only-of-type {\n",
       "        vertical-align: middle;\n",
       "    }\n",
       "\n",
       "    .dataframe tbody tr th {\n",
       "        vertical-align: top;\n",
       "    }\n",
       "\n",
       "    .dataframe thead th {\n",
       "        text-align: right;\n",
       "    }\n",
       "</style>\n",
       "<table border=\"1\" class=\"dataframe\">\n",
       "  <thead>\n",
       "    <tr style=\"text-align: right;\">\n",
       "      <th></th>\n",
       "      <th>ImageId</th>\n",
       "      <th>PredictionString</th>\n",
       "    </tr>\n",
       "  </thead>\n",
       "  <tbody>\n",
       "    <tr>\n",
       "      <th>0</th>\n",
       "      <td>21135d5ed0e7a0b7</td>\n",
       "      <td>0.500607 /m/04yx4 0.3793392 0.2354858 0.751103...</td>\n",
       "    </tr>\n",
       "    <tr>\n",
       "      <th>1</th>\n",
       "      <td>763c72626bf24534</td>\n",
       "      <td>0.8031 /m/04yx4 0.7241355 0.5230734 0.9497714 ...</td>\n",
       "    </tr>\n",
       "    <tr>\n",
       "      <th>2</th>\n",
       "      <td>7540c162180973b1</td>\n",
       "      <td></td>\n",
       "    </tr>\n",
       "    <tr>\n",
       "      <th>3</th>\n",
       "      <td>c4e522dce52cb02f</td>\n",
       "      <td>0.7345 /m/04yx4 0.8538917 0.3660534 0.9713876 ...</td>\n",
       "    </tr>\n",
       "    <tr>\n",
       "      <th>4</th>\n",
       "      <td>cafcd9496c808085</td>\n",
       "      <td>0.279052 /m/01_5g 0.7975672 0.0272237 0.996426...</td>\n",
       "    </tr>\n",
       "  </tbody>\n",
       "</table>\n",
       "</div>"
      ],
      "text/plain": [
       "            ImageId                                   PredictionString\n",
       "0  21135d5ed0e7a0b7  0.500607 /m/04yx4 0.3793392 0.2354858 0.751103...\n",
       "1  763c72626bf24534  0.8031 /m/04yx4 0.7241355 0.5230734 0.9497714 ...\n",
       "2  7540c162180973b1                                                   \n",
       "3  c4e522dce52cb02f  0.7345 /m/04yx4 0.8538917 0.3660534 0.9713876 ...\n",
       "4  cafcd9496c808085  0.279052 /m/01_5g 0.7975672 0.0272237 0.996426..."
      ]
     },
     "execution_count": 25,
     "metadata": {},
     "output_type": "execute_result"
    }
   ],
   "source": [
    "df0 = dfs[0]\n",
    "df0.head()"
   ]
  },
  {
   "cell_type": "code",
   "execution_count": 26,
   "metadata": {},
   "outputs": [
    {
     "data": {
      "text/html": [
       "<div>\n",
       "<style scoped>\n",
       "    .dataframe tbody tr th:only-of-type {\n",
       "        vertical-align: middle;\n",
       "    }\n",
       "\n",
       "    .dataframe tbody tr th {\n",
       "        vertical-align: top;\n",
       "    }\n",
       "\n",
       "    .dataframe thead th {\n",
       "        text-align: right;\n",
       "    }\n",
       "</style>\n",
       "<table border=\"1\" class=\"dataframe\">\n",
       "  <thead>\n",
       "    <tr style=\"text-align: right;\">\n",
       "      <th></th>\n",
       "      <th>ImageId</th>\n",
       "      <th>PredictionString</th>\n",
       "      <th>dets</th>\n",
       "    </tr>\n",
       "  </thead>\n",
       "  <tbody>\n",
       "    <tr>\n",
       "      <th>0</th>\n",
       "      <td>21135d5ed0e7a0b7</td>\n",
       "      <td>0.500607 /m/04yx4 0.3793392 0.2354858 0.751103...</td>\n",
       "      <td>[0.500607, /m/04yx4, 0.3793392, 0.2354858, 0.7...</td>\n",
       "    </tr>\n",
       "    <tr>\n",
       "      <th>1</th>\n",
       "      <td>763c72626bf24534</td>\n",
       "      <td>0.8031 /m/04yx4 0.7241355 0.5230734 0.9497714 ...</td>\n",
       "      <td>[0.8031, /m/04yx4, 0.7241355, 0.5230734, 0.949...</td>\n",
       "    </tr>\n",
       "    <tr>\n",
       "      <th>2</th>\n",
       "      <td>7540c162180973b1</td>\n",
       "      <td></td>\n",
       "      <td>[]</td>\n",
       "    </tr>\n",
       "    <tr>\n",
       "      <th>3</th>\n",
       "      <td>c4e522dce52cb02f</td>\n",
       "      <td>0.7345 /m/04yx4 0.8538917 0.3660534 0.9713876 ...</td>\n",
       "      <td>[0.7345, /m/04yx4, 0.8538917, 0.3660534, 0.971...</td>\n",
       "    </tr>\n",
       "    <tr>\n",
       "      <th>4</th>\n",
       "      <td>cafcd9496c808085</td>\n",
       "      <td>0.279052 /m/01_5g 0.7975672 0.0272237 0.996426...</td>\n",
       "      <td>[0.279052, /m/01_5g, 0.7975672, 0.0272237, 0.9...</td>\n",
       "    </tr>\n",
       "  </tbody>\n",
       "</table>\n",
       "</div>"
      ],
      "text/plain": [
       "            ImageId                                   PredictionString  \\\n",
       "0  21135d5ed0e7a0b7  0.500607 /m/04yx4 0.3793392 0.2354858 0.751103...   \n",
       "1  763c72626bf24534  0.8031 /m/04yx4 0.7241355 0.5230734 0.9497714 ...   \n",
       "2  7540c162180973b1                                                      \n",
       "3  c4e522dce52cb02f  0.7345 /m/04yx4 0.8538917 0.3660534 0.9713876 ...   \n",
       "4  cafcd9496c808085  0.279052 /m/01_5g 0.7975672 0.0272237 0.996426...   \n",
       "\n",
       "                                                dets  \n",
       "0  [0.500607, /m/04yx4, 0.3793392, 0.2354858, 0.7...  \n",
       "1  [0.8031, /m/04yx4, 0.7241355, 0.5230734, 0.949...  \n",
       "2                                                 []  \n",
       "3  [0.7345, /m/04yx4, 0.8538917, 0.3660534, 0.971...  \n",
       "4  [0.279052, /m/01_5g, 0.7975672, 0.0272237, 0.9...  "
      ]
     },
     "execution_count": 26,
     "metadata": {},
     "output_type": "execute_result"
    }
   ],
   "source": [
    "df0['dets'] = df0.PredictionString.map(lambda x: x.split(' '))\n",
    "df0.head()"
   ]
  },
  {
   "cell_type": "code",
   "execution_count": 27,
   "metadata": {},
   "outputs": [
    {
     "data": {
      "text/html": [
       "<div>\n",
       "<style scoped>\n",
       "    .dataframe tbody tr th:only-of-type {\n",
       "        vertical-align: middle;\n",
       "    }\n",
       "\n",
       "    .dataframe tbody tr th {\n",
       "        vertical-align: top;\n",
       "    }\n",
       "\n",
       "    .dataframe thead th {\n",
       "        text-align: right;\n",
       "    }\n",
       "</style>\n",
       "<table border=\"1\" class=\"dataframe\">\n",
       "  <thead>\n",
       "    <tr style=\"text-align: right;\">\n",
       "      <th></th>\n",
       "      <th>ImageId</th>\n",
       "      <th>PredictionString</th>\n",
       "      <th>dets</th>\n",
       "      <th>num</th>\n",
       "    </tr>\n",
       "  </thead>\n",
       "  <tbody>\n",
       "    <tr>\n",
       "      <th>0</th>\n",
       "      <td>21135d5ed0e7a0b7</td>\n",
       "      <td>0.500607 /m/04yx4 0.3793392 0.2354858 0.751103...</td>\n",
       "      <td>[0.500607, /m/04yx4, 0.3793392, 0.2354858, 0.7...</td>\n",
       "      <td>2328</td>\n",
       "    </tr>\n",
       "    <tr>\n",
       "      <th>1</th>\n",
       "      <td>763c72626bf24534</td>\n",
       "      <td>0.8031 /m/04yx4 0.7241355 0.5230734 0.9497714 ...</td>\n",
       "      <td>[0.8031, /m/04yx4, 0.7241355, 0.5230734, 0.949...</td>\n",
       "      <td>336</td>\n",
       "    </tr>\n",
       "    <tr>\n",
       "      <th>2</th>\n",
       "      <td>7540c162180973b1</td>\n",
       "      <td></td>\n",
       "      <td>[]</td>\n",
       "      <td>1</td>\n",
       "    </tr>\n",
       "    <tr>\n",
       "      <th>3</th>\n",
       "      <td>c4e522dce52cb02f</td>\n",
       "      <td>0.7345 /m/04yx4 0.8538917 0.3660534 0.9713876 ...</td>\n",
       "      <td>[0.7345, /m/04yx4, 0.8538917, 0.3660534, 0.971...</td>\n",
       "      <td>3048</td>\n",
       "    </tr>\n",
       "    <tr>\n",
       "      <th>4</th>\n",
       "      <td>cafcd9496c808085</td>\n",
       "      <td>0.279052 /m/01_5g 0.7975672 0.0272237 0.996426...</td>\n",
       "      <td>[0.279052, /m/01_5g, 0.7975672, 0.0272237, 0.9...</td>\n",
       "      <td>960</td>\n",
       "    </tr>\n",
       "  </tbody>\n",
       "</table>\n",
       "</div>"
      ],
      "text/plain": [
       "            ImageId                                   PredictionString  \\\n",
       "0  21135d5ed0e7a0b7  0.500607 /m/04yx4 0.3793392 0.2354858 0.751103...   \n",
       "1  763c72626bf24534  0.8031 /m/04yx4 0.7241355 0.5230734 0.9497714 ...   \n",
       "2  7540c162180973b1                                                      \n",
       "3  c4e522dce52cb02f  0.7345 /m/04yx4 0.8538917 0.3660534 0.9713876 ...   \n",
       "4  cafcd9496c808085  0.279052 /m/01_5g 0.7975672 0.0272237 0.996426...   \n",
       "\n",
       "                                                dets   num  \n",
       "0  [0.500607, /m/04yx4, 0.3793392, 0.2354858, 0.7...  2328  \n",
       "1  [0.8031, /m/04yx4, 0.7241355, 0.5230734, 0.949...   336  \n",
       "2                                                 []     1  \n",
       "3  [0.7345, /m/04yx4, 0.8538917, 0.3660534, 0.971...  3048  \n",
       "4  [0.279052, /m/01_5g, 0.7975672, 0.0272237, 0.9...   960  "
      ]
     },
     "execution_count": 27,
     "metadata": {},
     "output_type": "execute_result"
    }
   ],
   "source": [
    "df0['num'] = df0.dets.map(lambda x: len(x))\n",
    "df0.head()"
   ]
  },
  {
   "cell_type": "code",
   "execution_count": 35,
   "metadata": {},
   "outputs": [
    {
     "data": {
      "text/html": [
       "<div>\n",
       "<style scoped>\n",
       "    .dataframe tbody tr th:only-of-type {\n",
       "        vertical-align: middle;\n",
       "    }\n",
       "\n",
       "    .dataframe tbody tr th {\n",
       "        vertical-align: top;\n",
       "    }\n",
       "\n",
       "    .dataframe thead th {\n",
       "        text-align: right;\n",
       "    }\n",
       "</style>\n",
       "<table border=\"1\" class=\"dataframe\">\n",
       "  <thead>\n",
       "    <tr style=\"text-align: right;\">\n",
       "      <th></th>\n",
       "      <th>ImageId</th>\n",
       "      <th>PredictionString</th>\n",
       "      <th>dets</th>\n",
       "      <th>num</th>\n",
       "    </tr>\n",
       "  </thead>\n",
       "  <tbody>\n",
       "    <tr>\n",
       "      <th>0</th>\n",
       "      <td>21135d5ed0e7a0b7</td>\n",
       "      <td>0.500607 /m/04yx4 0.3793392 0.2354858 0.751103...</td>\n",
       "      <td>[0.500607, /m/04yx4, 0.3793392, 0.2354858, 0.7...</td>\n",
       "      <td>2328</td>\n",
       "    </tr>\n",
       "    <tr>\n",
       "      <th>1</th>\n",
       "      <td>763c72626bf24534</td>\n",
       "      <td>0.8031 /m/04yx4 0.7241355 0.5230734 0.9497714 ...</td>\n",
       "      <td>[0.8031, /m/04yx4, 0.7241355, 0.5230734, 0.949...</td>\n",
       "      <td>336</td>\n",
       "    </tr>\n",
       "    <tr>\n",
       "      <th>2</th>\n",
       "      <td>7540c162180973b1</td>\n",
       "      <td></td>\n",
       "      <td>[]</td>\n",
       "      <td>1</td>\n",
       "    </tr>\n",
       "    <tr>\n",
       "      <th>3</th>\n",
       "      <td>c4e522dce52cb02f</td>\n",
       "      <td>0.7345 /m/04yx4 0.8538917 0.3660534 0.9713876 ...</td>\n",
       "      <td>[0.7345, /m/04yx4, 0.8538917, 0.3660534, 0.971...</td>\n",
       "      <td>3048</td>\n",
       "    </tr>\n",
       "    <tr>\n",
       "      <th>4</th>\n",
       "      <td>cafcd9496c808085</td>\n",
       "      <td>0.279052 /m/01_5g 0.7975672 0.0272237 0.996426...</td>\n",
       "      <td>[0.279052, /m/01_5g, 0.7975672, 0.0272237, 0.9...</td>\n",
       "      <td>960</td>\n",
       "    </tr>\n",
       "  </tbody>\n",
       "</table>\n",
       "</div>"
      ],
      "text/plain": [
       "            ImageId                                   PredictionString  \\\n",
       "0  21135d5ed0e7a0b7  0.500607 /m/04yx4 0.3793392 0.2354858 0.751103...   \n",
       "1  763c72626bf24534  0.8031 /m/04yx4 0.7241355 0.5230734 0.9497714 ...   \n",
       "2  7540c162180973b1                                                      \n",
       "3  c4e522dce52cb02f  0.7345 /m/04yx4 0.8538917 0.3660534 0.9713876 ...   \n",
       "4  cafcd9496c808085  0.279052 /m/01_5g 0.7975672 0.0272237 0.996426...   \n",
       "\n",
       "                                                dets   num  \n",
       "0  [0.500607, /m/04yx4, 0.3793392, 0.2354858, 0.7...  2328  \n",
       "1  [0.8031, /m/04yx4, 0.7241355, 0.5230734, 0.949...   336  \n",
       "2                                                 []     1  \n",
       "3  [0.7345, /m/04yx4, 0.8538917, 0.3660534, 0.971...  3048  \n",
       "4  [0.279052, /m/01_5g, 0.7975672, 0.0272237, 0.9...   960  "
      ]
     },
     "execution_count": 35,
     "metadata": {},
     "output_type": "execute_result"
    }
   ],
   "source": [
    "df0.dets = df0.dets.map(lambda x: x[:1200])\n",
    "df0.head()"
   ]
  },
  {
   "cell_type": "code",
   "execution_count": 36,
   "metadata": {},
   "outputs": [
    {
     "data": {
      "text/html": [
       "<div>\n",
       "<style scoped>\n",
       "    .dataframe tbody tr th:only-of-type {\n",
       "        vertical-align: middle;\n",
       "    }\n",
       "\n",
       "    .dataframe tbody tr th {\n",
       "        vertical-align: top;\n",
       "    }\n",
       "\n",
       "    .dataframe thead th {\n",
       "        text-align: right;\n",
       "    }\n",
       "</style>\n",
       "<table border=\"1\" class=\"dataframe\">\n",
       "  <thead>\n",
       "    <tr style=\"text-align: right;\">\n",
       "      <th></th>\n",
       "      <th>ImageId</th>\n",
       "      <th>PredictionString</th>\n",
       "      <th>dets</th>\n",
       "      <th>num</th>\n",
       "    </tr>\n",
       "  </thead>\n",
       "  <tbody>\n",
       "    <tr>\n",
       "      <th>0</th>\n",
       "      <td>21135d5ed0e7a0b7</td>\n",
       "      <td>0.500607 /m/04yx4 0.3793392 0.2354858 0.751103...</td>\n",
       "      <td>[0.500607, /m/04yx4, 0.3793392, 0.2354858, 0.7...</td>\n",
       "      <td>1200</td>\n",
       "    </tr>\n",
       "    <tr>\n",
       "      <th>1</th>\n",
       "      <td>763c72626bf24534</td>\n",
       "      <td>0.8031 /m/04yx4 0.7241355 0.5230734 0.9497714 ...</td>\n",
       "      <td>[0.8031, /m/04yx4, 0.7241355, 0.5230734, 0.949...</td>\n",
       "      <td>336</td>\n",
       "    </tr>\n",
       "    <tr>\n",
       "      <th>2</th>\n",
       "      <td>7540c162180973b1</td>\n",
       "      <td></td>\n",
       "      <td>[]</td>\n",
       "      <td>1</td>\n",
       "    </tr>\n",
       "    <tr>\n",
       "      <th>3</th>\n",
       "      <td>c4e522dce52cb02f</td>\n",
       "      <td>0.7345 /m/04yx4 0.8538917 0.3660534 0.9713876 ...</td>\n",
       "      <td>[0.7345, /m/04yx4, 0.8538917, 0.3660534, 0.971...</td>\n",
       "      <td>1200</td>\n",
       "    </tr>\n",
       "    <tr>\n",
       "      <th>4</th>\n",
       "      <td>cafcd9496c808085</td>\n",
       "      <td>0.279052 /m/01_5g 0.7975672 0.0272237 0.996426...</td>\n",
       "      <td>[0.279052, /m/01_5g, 0.7975672, 0.0272237, 0.9...</td>\n",
       "      <td>960</td>\n",
       "    </tr>\n",
       "  </tbody>\n",
       "</table>\n",
       "</div>"
      ],
      "text/plain": [
       "            ImageId                                   PredictionString  \\\n",
       "0  21135d5ed0e7a0b7  0.500607 /m/04yx4 0.3793392 0.2354858 0.751103...   \n",
       "1  763c72626bf24534  0.8031 /m/04yx4 0.7241355 0.5230734 0.9497714 ...   \n",
       "2  7540c162180973b1                                                      \n",
       "3  c4e522dce52cb02f  0.7345 /m/04yx4 0.8538917 0.3660534 0.9713876 ...   \n",
       "4  cafcd9496c808085  0.279052 /m/01_5g 0.7975672 0.0272237 0.996426...   \n",
       "\n",
       "                                                dets   num  \n",
       "0  [0.500607, /m/04yx4, 0.3793392, 0.2354858, 0.7...  1200  \n",
       "1  [0.8031, /m/04yx4, 0.7241355, 0.5230734, 0.949...   336  \n",
       "2                                                 []     1  \n",
       "3  [0.7345, /m/04yx4, 0.8538917, 0.3660534, 0.971...  1200  \n",
       "4  [0.279052, /m/01_5g, 0.7975672, 0.0272237, 0.9...   960  "
      ]
     },
     "execution_count": 36,
     "metadata": {},
     "output_type": "execute_result"
    }
   ],
   "source": [
    "df0['num'] = df0.dets.map(lambda x: len(x))\n",
    "df0.head()"
   ]
  },
  {
   "cell_type": "code",
   "execution_count": 37,
   "metadata": {},
   "outputs": [
    {
     "data": {
      "text/html": [
       "<div>\n",
       "<style scoped>\n",
       "    .dataframe tbody tr th:only-of-type {\n",
       "        vertical-align: middle;\n",
       "    }\n",
       "\n",
       "    .dataframe tbody tr th {\n",
       "        vertical-align: top;\n",
       "    }\n",
       "\n",
       "    .dataframe thead th {\n",
       "        text-align: right;\n",
       "    }\n",
       "</style>\n",
       "<table border=\"1\" class=\"dataframe\">\n",
       "  <thead>\n",
       "    <tr style=\"text-align: right;\">\n",
       "      <th></th>\n",
       "      <th>ImageId</th>\n",
       "      <th>PredictionString</th>\n",
       "      <th>dets</th>\n",
       "      <th>num</th>\n",
       "    </tr>\n",
       "  </thead>\n",
       "  <tbody>\n",
       "    <tr>\n",
       "      <th>0</th>\n",
       "      <td>21135d5ed0e7a0b7</td>\n",
       "      <td>0.500607 /m/04yx4 0.3793392 0.2354858 0.751103...</td>\n",
       "      <td>[0.500607, /m/04yx4, 0.3793392, 0.2354858, 0.7...</td>\n",
       "      <td>1200</td>\n",
       "    </tr>\n",
       "    <tr>\n",
       "      <th>1</th>\n",
       "      <td>763c72626bf24534</td>\n",
       "      <td>0.8031 /m/04yx4 0.7241355 0.5230734 0.9497714 ...</td>\n",
       "      <td>[0.8031, /m/04yx4, 0.7241355, 0.5230734, 0.949...</td>\n",
       "      <td>336</td>\n",
       "    </tr>\n",
       "    <tr>\n",
       "      <th>2</th>\n",
       "      <td>7540c162180973b1</td>\n",
       "      <td></td>\n",
       "      <td>[]</td>\n",
       "      <td>1</td>\n",
       "    </tr>\n",
       "    <tr>\n",
       "      <th>3</th>\n",
       "      <td>c4e522dce52cb02f</td>\n",
       "      <td>0.7345 /m/04yx4 0.8538917 0.3660534 0.9713876 ...</td>\n",
       "      <td>[0.7345, /m/04yx4, 0.8538917, 0.3660534, 0.971...</td>\n",
       "      <td>1200</td>\n",
       "    </tr>\n",
       "    <tr>\n",
       "      <th>4</th>\n",
       "      <td>cafcd9496c808085</td>\n",
       "      <td>0.279052 /m/01_5g 0.7975672 0.0272237 0.996426...</td>\n",
       "      <td>[0.279052, /m/01_5g, 0.7975672, 0.0272237, 0.9...</td>\n",
       "      <td>960</td>\n",
       "    </tr>\n",
       "  </tbody>\n",
       "</table>\n",
       "</div>"
      ],
      "text/plain": [
       "            ImageId                                   PredictionString  \\\n",
       "0  21135d5ed0e7a0b7  0.500607 /m/04yx4 0.3793392 0.2354858 0.751103...   \n",
       "1  763c72626bf24534  0.8031 /m/04yx4 0.7241355 0.5230734 0.9497714 ...   \n",
       "2  7540c162180973b1                                                      \n",
       "3  c4e522dce52cb02f  0.7345 /m/04yx4 0.8538917 0.3660534 0.9713876 ...   \n",
       "4  cafcd9496c808085  0.279052 /m/01_5g 0.7975672 0.0272237 0.996426...   \n",
       "\n",
       "                                                dets   num  \n",
       "0  [0.500607, /m/04yx4, 0.3793392, 0.2354858, 0.7...  1200  \n",
       "1  [0.8031, /m/04yx4, 0.7241355, 0.5230734, 0.949...   336  \n",
       "2                                                 []     1  \n",
       "3  [0.7345, /m/04yx4, 0.8538917, 0.3660534, 0.971...  1200  \n",
       "4  [0.279052, /m/01_5g, 0.7975672, 0.0272237, 0.9...   960  "
      ]
     },
     "execution_count": 37,
     "metadata": {},
     "output_type": "execute_result"
    }
   ],
   "source": [
    "df0['PredictionString'] = df0.dets.map(lambda x: ' '.join(x))\n",
    "df0.head()"
   ]
  },
  {
   "cell_type": "code",
   "execution_count": 38,
   "metadata": {},
   "outputs": [
    {
     "data": {
      "text/html": [
       "<div>\n",
       "<style scoped>\n",
       "    .dataframe tbody tr th:only-of-type {\n",
       "        vertical-align: middle;\n",
       "    }\n",
       "\n",
       "    .dataframe tbody tr th {\n",
       "        vertical-align: top;\n",
       "    }\n",
       "\n",
       "    .dataframe thead th {\n",
       "        text-align: right;\n",
       "    }\n",
       "</style>\n",
       "<table border=\"1\" class=\"dataframe\">\n",
       "  <thead>\n",
       "    <tr style=\"text-align: right;\">\n",
       "      <th></th>\n",
       "      <th>ImageId</th>\n",
       "      <th>PredictionString</th>\n",
       "    </tr>\n",
       "  </thead>\n",
       "  <tbody>\n",
       "    <tr>\n",
       "      <th>0</th>\n",
       "      <td>21135d5ed0e7a0b7</td>\n",
       "      <td>0.500607 /m/04yx4 0.3793392 0.2354858 0.751103...</td>\n",
       "    </tr>\n",
       "    <tr>\n",
       "      <th>1</th>\n",
       "      <td>763c72626bf24534</td>\n",
       "      <td>0.8031 /m/04yx4 0.7241355 0.5230734 0.9497714 ...</td>\n",
       "    </tr>\n",
       "    <tr>\n",
       "      <th>2</th>\n",
       "      <td>7540c162180973b1</td>\n",
       "      <td></td>\n",
       "    </tr>\n",
       "    <tr>\n",
       "      <th>3</th>\n",
       "      <td>c4e522dce52cb02f</td>\n",
       "      <td>0.7345 /m/04yx4 0.8538917 0.3660534 0.9713876 ...</td>\n",
       "    </tr>\n",
       "    <tr>\n",
       "      <th>4</th>\n",
       "      <td>cafcd9496c808085</td>\n",
       "      <td>0.279052 /m/01_5g 0.7975672 0.0272237 0.996426...</td>\n",
       "    </tr>\n",
       "  </tbody>\n",
       "</table>\n",
       "</div>"
      ],
      "text/plain": [
       "            ImageId                                   PredictionString\n",
       "0  21135d5ed0e7a0b7  0.500607 /m/04yx4 0.3793392 0.2354858 0.751103...\n",
       "1  763c72626bf24534  0.8031 /m/04yx4 0.7241355 0.5230734 0.9497714 ...\n",
       "2  7540c162180973b1                                                   \n",
       "3  c4e522dce52cb02f  0.7345 /m/04yx4 0.8538917 0.3660534 0.9713876 ...\n",
       "4  cafcd9496c808085  0.279052 /m/01_5g 0.7975672 0.0272237 0.996426..."
      ]
     },
     "execution_count": 38,
     "metadata": {},
     "output_type": "execute_result"
    }
   ],
   "source": [
    "df0.drop(['dets', 'num'], axis=1).head()"
   ]
  },
  {
   "cell_type": "code",
   "execution_count": 39,
   "metadata": {},
   "outputs": [],
   "source": [
    "dfs[0] = df0"
   ]
  },
  {
   "cell_type": "code",
   "execution_count": 45,
   "metadata": {},
   "outputs": [
    {
     "data": {
      "text/plain": [
       "'0.500607 /m/04yx4 0.3793392 0.2354858 0.7511032 0.9924041 /m/0hg7b 0.3797071 0.3322252 0.4894319 0.5877937 holds 0.479446 /m/04yx4 0.0087893 0.1316144 0.3998478 0.9693565 /m/01mzpv 0.0198562 0.6855568 0.4241981 0.9958978 on 0.356773 /m/04yx4 0.0087893 0.1316144 0.3998478 0.9693565 /m/0hg7b 0.3797071 0.3322252 0.4894319 0.5877937 holds 0.330706 /m/04yx4 0.3793392 0.2354858 0.7511032 0.9924041 /m/04bcr3 0.0107101 0.658406 0.4643026 0.9898675 at 0.32873 /m/04yx4 0.0087893 0.1316144 0.3998478 0.9693565 /m/04bcr3 0.0107101 0.658406 0.4643026 0.9898675 at 0.30718 /m/04yx4 0.3793392 0.2354858 0.7511032 0.9924041 /m/01mzpv 0.3951311 0.3523343 0.9539606 0.9940798 on 0.284311 /m/01bl7v 0.8140764 0.133122 0.9968848 0.9380613 /m/01mzpv 0.7079747 0.4603541 0.9764486 0.9949058 on 0.261801 /m/04yx4 0.0707568 0.1497036 0.9208518 0.9984375 /m/0hg7b 0.3797071 0.3322252 0.4894319 0.5877937 holds 0.247956 /m/04yx4 0.3793392 0.2354858 0.7511032 0.9924041 /m/04bcr3 0.3679503 0.7281674 0.4645532 0.8945925 at 0.247267 /m/04yx4 0.3835581 0.0967601 0.7179393 0.7203034 /m/0hg7b 0.3797071 0.3322252 0.4894319 0.5877937 holds 0.247116 /m/01bl7v 0.8140764 0.133122 0.9968848 0.9380613 /m/01mzpv 0.7818007 0.2472384 0.9935468 0.9587154 on 0.244358 /m/04yx4 0.0087893 0.1316144 0.3998478 0.9693565 /m/0hg7b 0.055827 0.2839279 0.0957548 0.4007279 holds 0.235563 /m/04yx4 0.3835581 0.0967601 0.7179393 0.7203034 /m/04bcr3 0.0107101 0.658406 0.4643026 0.9898675 at 0.234547 /m/04yx4 0.0087893 0.1316144 0.3998478 0.9693565 /m/04bcr3 0.3679503 0.7281674 0.4645532 0.8945925 at 0.224544 /m/01mzpv 0.0198562 0.6855568 0.4241981 0.9958978 /m/04bcr3 0.0107101 0.658406 0.4643026 0.9898675 at 0.218429 /m/01bl7v 0.8346791 0.1288063 0.9990234 0.5686166 /m/01mzpv 0.7818007 0.2472384 0.9935468 0.9587154 on 0.209111 /m/04yx4 0.3835581 0.0967601 0.7179393 0.7203034 /m/01mzpv 0.3951311 0.3523343 0.9539606 0.9940798 on 0.201956 /m/04yx4 0.6565799 0.1544271 0.8339603 0.8590883 /m/01mzpv 0.7079747 0.4603541 0.9764486 0.9949058 on 0.199193 /m/04yx4 0.3793392 0.2354858 0.7511032 0.9924041 /m/0hg7b 0.370741 0.3405127 0.5326652 0.7150707 holds 0.172924 /m/04yx4 0.0087893 0.1316144 0.3998478 0.9693565 /m/0hg7b 0.370741 0.3405127 0.5326652 0.7150707 holds 0.172849 /m/01bl7v 0.8346791 0.1288063 0.9990234 0.5686166 /m/01mzpv 0.7079747 0.4603541 0.9764486 0.9949058 on 0.172562 /m/01mzpv 0.0198562 0.6855568 0.4241981 0.9958978 /m/04bcr3 0.3679503 0.7281674 0.4645532 0.8945925 at 0.170412 /m/04yx4 0.0707568 0.1497036 0.9208518 0.9984375 /m/04bcr3 0.0107101 0.658406 0.4643026 0.9898675 at 0.166908 /m/04yx4 0.7982213 0.1545676 0.9966965 0.9317363 /m/01mzpv 0.7079747 0.4603541 0.9764486 0.9949058 on 0.160311 /m/04yx4 0.0707568 0.1497036 0.9208518 0.9984375 /m/01mzpv 0.3951311 0.3523343 0.9539606 0.9940798 on 0.159596 /m/04yx4 0.6565799 0.1544271 0.8339603 0.8590883 /m/01mzpv 0.3951311 0.3523343 0.9539606 0.9940798 on 0.156056 /m/04yx4 0.0707568 0.1497036 0.9208518 0.9984375 /m/01mzpv 0.0198562 0.6855568 0.4241981 0.9958978 on 0.155292 /m/04yx4 0.3793392 0.2354858 0.7511032 0.9924041 /m/0hg7b 0.4485524 0.3331038 0.487661 0.4085445 holds 0.146511 /m/04yx4 0.3793392 0.2354858 0.7511032 0.9924041 /m/04bcr3 0.3644185 0.6546272 0.5110484 0.8990875 at 0.145766 /m/04yx4 0.7982213 0.1545676 0.9966965 0.9317363 /m/01mzpv 0.7818007 0.2472384 0.9935468 0.9587154 on 0.145339 /m/04yx4 0.3793392 0.2354858 0.7511032 0.9924041 /m/01y9k5 0.0107101 0.658406 0.4643026 0.9898675 at 0.145279 /m/04yx4 0.0087893 0.1316144 0.3998478 0.9693565 /m/01y9k5 0.0107101 0.658406 0.4643026 0.9898675 at 0.138283 /m/04yx4 0.3793392 0.2354858 0.7511032 0.9924041 /m/04bcr3 0.3637492 0.6062395 0.5424305 0.7343176 at 0.136757 /m/04yx4 0.0087893 0.1316144 0.3998478 0.9693565 /m/04bcr3 0.3644185 0.6546272 0.5110484 0.8990875 at 0.136188 /m/01bl7v 0.6627842 0.1556385 0.836489 0.762022 /m/01mzpv 0.7079747 0.4603541 0.9764486 0.9949058 on 0.13283 /m/04yx4 0.490247 0.0897943 0.7192622 0.5526917 /m/01mzpv 0.3951311 0.3523343 0.9539606 0.9940798 on 0.129021 /m/01mzpv 0.3951311 0.3523343 0.9539606 0.9940798 /m/04bcr3 0.0107101 0.658406 0.4643026 0.9898675 at 0.127507 /m/04yx4 0.0087893 0.1316144 0.3998478 0.9693565 /m/04bcr3 0.0 0.7071665 0.0937773 0.9742804 at 0.123342 /m/04yx4 0.0087893 0.1316144 0.3998478 0.9693565 /m/04bcr3 0.3637492 0.6062395 0.5424305 0.7343176 at 0.121479 /m/04yx4 0.3793392 0.2354858 0.7511032 0.9924041 /m/01mzpv 0.057186 0.2993218 0.8323958 0.9900169 on 0.120966 /m/04yx4 0.6565799 0.1544271 0.8339603 0.8590883 /m/01mzpv 0.7818007 0.2472384 0.9935468 0.9587154 on 0.119234 /m/04yx4 0.3835581 0.0967601 0.7179393 0.7203034 /m/04bcr3 0.3679503 0.7281674 0.4645532 0.8945925 at 0.118512 /m/04yx4 0.0707568 0.1497036 0.9208518 0.9984375 /m/0hg7b 0.370741 0.3405127 0.5326652 0.7150707 holds 0.118286 /m/04yx4 0.3793392 0.2354858 0.7511032 0.9924041 /m/0hg7b 0.4309 0.3325107 0.4874968 0.4484005 holds 0.110405 /m/04yx4 0.0087893 0.1316144 0.3998478 0.9693565 /m/01mzpv 0.057186 0.2993218 0.8323958 0.9900169 on 0.110154 /m/03bt1vf 0.3798321 0.2283685 0.7456568 0.987334 /m/0hg7b 0.3797071 0.3322252 0.4894319 0.5877937 holds 0.108986 /m/04yx4 0.3835581 0.0967601 0.7179393 0.7203034 /m/04bcr3 0.3637492 0.6062395 0.5424305 0.7343176 at 0.107739 /m/04yx4 0.3835581 0.0967601 0.7179393 0.7203034 /m/04bcr3 0.3644185 0.6546272 0.5110484 0.8990875 at 0.106656 /m/04yx4 0.8346791 0.1288063 0.9990234 0.5686166 /m/01mzpv 0.7818007 0.2472384 0.9935468 0.9587154 on 0.105844 /m/04yx4 0.3793392 0.2354858 0.7511032 0.9924041 /m/04bcr3 0.2821712 0.5710468 0.5138645 0.9887212 at 0.104719 /m/04yx4 0.6548057 0.1780409 0.9680847 0.9738075 /m/01mzpv 0.7079747 0.4603541 0.9764486 0.9949058 on 0.102447 /m/04yx4 0.3835581 0.0967601 0.7179393 0.7203034 /m/01y9k5 0.0107101 0.658406 0.4643026 0.9898675 at 0.10186 /m/04yx4 0.0707568 0.1497036 0.9208518 0.9984375 /m/04bcr3 0.3679503 0.7281674 0.4645532 0.8945925 at 0.101526 /m/04yx4 0.0087893 0.1316144 0.3998478 0.9693565 /m/04bcr3 0.2821712 0.5710468 0.5138645 0.9887212 at 0.101358 /m/04yx4 0.7982213 0.1545676 0.9966965 0.9317363 /m/01mzpv 0.3951311 0.3523343 0.9539606 0.9940798 on 0.099616 /m/01mzpv 0.0198562 0.6855568 0.4241981 0.9958978 /m/01y9k5 0.0107101 0.658406 0.4643026 0.9898675 at 0.099226 /m/04yx4 0.5266707 0.1212598 0.8341541 0.7438928 /m/01mzpv 0.3951311 0.3523343 0.9539606 0.9940798 on 0.098738 /m/01mzpv 0.0198562 0.6855568 0.4241981 0.9958978 /m/04bcr3 0.3644185 0.6546272 0.5110484 0.8990875 at 0.098026 /m/01mzpv 0.3951311 0.3523343 0.9539606 0.9940798 /m/04bcr3 0.3679503 0.7281674 0.4645532 0.8945925 at 0.096895 /m/01bl7v 0.3840511 0.1840177 0.8449686 0.9909891 /m/0hg7b 0.3797071 0.3322252 0.4894319 0.5877937 holds 0.096832 /m/04yx4 0.8346791 0.1288063 0.9990234 0.5686166 /m/01mzpv 0.7079747 0.4603541 0.9764486 0.9949058 on 0.096115 /m/01mzpv 0.0198562 0.6855568 0.4241981 0.9958978 /m/04bcr3 0.3637492 0.6062395 0.5424305 0.7343176 at 0.095654 /m/04yx4 0.3793392 0.2354858 0.7511032 0.9924041 /m/0hg7b 0.4101319 0.3315827 0.4882396 0.503929 holds 0.094048 /m/01bl7v 0.6627842 0.1556385 0.836489 0.762022 /m/01mzpv 0.3951311 0.3523343 0.9539606 0.9940798 on 0.093944 /m/01mzpv 0.0198562 0.6855568 0.4241981 0.9958978 /m/04bcr3 0.0 0.7071665 0.0937773 0.9742804 at 0.089363 /m/04yx4 0.6548057 0.1780409 0.9680847 0.9738075 /m/01mzpv 0.7818007 0.2472384 0.9935468 0.9587154 on 0.088598 /m/04yx4 0.6548057 0.1780409 0.9680847 0.9738075 /m/01mzpv 0.3951311 0.3523343 0.9539606 0.9940798 on 0.082037 /m/04yx4 0.6565799 0.1544271 0.8339603 0.8590883 /m/01mzpv 0.6589812 0.1668744 0.8522121 0.9559808 on 0.081197 /m/04yx4 0.5266707 0.1212598 0.8341541 0.7438928 /m/01mzpv 0.7079747 0.4603541 0.9764486 0.9949058 on 0.079431 /m/04yx4 0.3835581 0.0967601 0.7179393 0.7203034 /m/01mzpv 0.057186 0.2993218 0.8323958 0.9900169 on 0.078655 /m/01bl7v 0.8094293 0.3211492 0.9918359 0.6117235 /m/01mzpv 0.7818007 0.2472384 0.9935468 0.9587154 on 0.076409 /m/04yx4 0.3835581 0.0967601 0.7179393 0.7203034 /m/04bcr3 0.2821712 0.5710468 0.5138645 0.9887212 at 0.07626 /m/01bl7v 0.8094293 0.3211492 0.9918359 0.6117235 /m/01mzpv 0.7079747 0.4603541 0.9764486 0.9949058 on 0.074888 /m/01bl7v 0.6543546 0.1761441 0.9762418 0.9673721 /m/01mzpv 0.7079747 0.4603541 0.9764486 0.9949058 on 0.074523 /m/04yx4 0.0707568 0.1497036 0.9208518 0.9984375 /m/01y9k5 0.0107101 0.658406 0.4643026 0.9898675 at 0.073674 /m/03bt1vf 0.3798321 0.2283685 0.7456568 0.987334 /m/04bcr3 0.0107101 0.658406 0.4643026 0.9898675 at 0.070187 /m/04yx4 0.3793392 0.2354858 0.7511032 0.9924041 /m/01mzpv 0.6589812 0.1668744 0.8522121 0.9559808 on 0.070069 /m/01mzpv 0.0198562 0.6855568 0.4241981 0.9958978 /m/04bcr3 0.2821712 0.5710468 0.5138645 0.9887212 at 0.068916 /m/03bt1vf 0.3798321 0.2283685 0.7456568 0.987334 /m/01mzpv 0.3951311 0.3523343 0.9539606 0.9940798 on 0.067216 /m/04yx4 0.490247 0.0897943 0.7192622 0.5526917 /m/04bcr3 0.3637492 0.6062395 0.5424305 0.7343176 at 0.067137 /m/04yx4 0.3675784 0.5313812 0.5442967 0.7413483 /m/04bcr3 0.0107101 0.658406 0.4643026 0.9898675 at 0.065691 /m/04yx4 0.0707568 0.1497036 0.9208518 0.9984375 /m/01mzpv 0.057186 0.2993218 0.8323958 0.9900169 on 0.064864 /m/04yx4 0.0087893 0.1316144 0.3998478 0.9693565 /m/0hg7b 0.0031783 0.2792671 0.1058516 0.4131761 holds 0.064671 /m/04yx4 0.0087893 0.1316144 0.3998478 0.9693565 /m/0hg7b 0.045608 0.5849819 0.0942981 0.7368695 holds 0.064065 /m/04yx4 0.5266707 0.1212598 0.8341541 0.7438928 /m/04bcr3 0.0107101 0.658406 0.4643026 0.9898675 at 0.063637 /m/04yx4 0.0707568 0.1497036 0.9208518 0.9984375 /m/04bcr3 0.3644185 0.6546272 0.5110484 0.8990875 at 0.063489 /m/01bl7v 0.6627842 0.1556385 0.836489 0.762022 /m/01mzpv 0.6589812 0.1668744 0.8522121 0.9559808 on 0.062456 /m/04yx4 0.3835581 0.0967601 0.7179393 0.7203034 /m/0hg7b 0.4309 0.3325107 0.4874968 0.4484005 holds 0.062317 /m/01bl7v 0.6543546 0.1761441 0.9762418 0.9673721 /m/01mzpv 0.7818007 0.2472384 0.9935468 0.9587154 on 0.061767 /m/04yx4 0.490247 0.0897943 0.7192622 0.5526917 /m/04bcr3 0.3644185 0.6546272 0.5110484 0.8990875 at 0.060223 /m/01bl7v 0.6543546 0.1761441 0.9762418 0.9673721 /m/01mzpv 0.3951311 0.3523343 0.9539606 0.9940798 on 0.059821 /m/03bt1vf 0.7914703 0.1436058 0.9941094 0.9397857 /m/01mzpv 0.7079747 0.4603541 0.9764486 0.9949058 on 0.059077 /m/04yx4 0.5266707 0.1212598 0.8341541 0.7438928 /m/01mzpv 0.7818007 0.2472384 0.9935468 0.9587154 on 0.058605 /m/04yx4 0.8346791 0.1288063 0.9990234 0.5686166 /m/01mzpv 0.3951311 0.3523343 0.9539606 0.9940798 on 0.057661 /m/04yx4 0.3675784 0.5313812 0.5442967 0.7413483 /m/01mzpv 0.0198562 0.6855568 0.4241981 0.9958978 on 0.057304 /m/01bl7v 0.3840511 0.1840177 0.8449686 0.9909891 /m/04bcr3 0.0107101 0.658406 0.4643026 0.9898675 at 0.05729 /m/01mzpv 0.3951311 0.3523343 0.9539606 0.9940798 /m/04bcr3 0.3644185 0.6546272 0.5110484 0.8990875 at 0.057101 /m/01mzpv 0.3951311 0.3523343 0.9539606 0.9940798 /m/01y9k5 0.0107101 0.658406 0.4643026 0.9898675 at 0.056103 /m/04yx4 0.3751693 0.3373524 0.54479 0.7809655 /m/04bcr3 0.0107101 0.658406 0.4643026 0.9898675 at 0.056078 /m/01mzpv 0.3951311 0.3523343 0.9539606 0.9940798 /m/04bcr3 0.3637492 0.6062395 0.5424305 0.7343176 at 0.3806741 /m/04bcr3 0.0031277 0.7127081 0.4623209 0.9911288 /m/083vt 0.0031277 0.7127081 0.4623209 0.9911288 is 0.1403630 /m/04bcr3 0.3666076 0.7243001 0.4602263 0.8879591 /m/083vt 0.3666076 0.7243001 0.4602263 0.8879591 is 0.0479854 /m/04bcr3 0.3670200 0.7556415 0.4619358 0.8234780 /m/083vt 0.3670200 0.7556415 0.4619358 0.8234780 is 0.0243334 /m/04bcr3 0.0000000 0.7029131 0.0939623 0.8929464 /m/083vt 0.0000000 0.7029131 0.0939623 0.8929464 is 0.0226632 /m/04bcr3 0.7162075 0.4061388 0.7836855 0.4623950 /m/083vt 0.7162075 0.4061388 0.7836855 0.4623950 is 0.0202568 /m/04bcr3 0.3646822 0.7285271 0.5026487 0.8213579 /m/083vt 0.3646822 0.7285271 0.5026487 0.8213579 is 0.0133303 /m/04bcr3 0.0000000 0.5145240 0.9139721 0.9980469 /m/083vt 0.0000000 0.5145240 0.9139721 0.9980469 is 0.0128921 /m/04bcr3 0.3658895 0.6518179 0.5019454 0.9193521 /m/083vt 0.3658895 0.6518179 0.5019454 0.9193521 is 0.0113469 /m/04bcr3 0.3777454 0.7973262 0.4534072 0.8854157 /m/083vt 0.3777454 0.7973262 0.4534072 0.8854157 is 0.0085005 /m/04bcr3 0.3484958 0.7241024 0.4677628 0.9874564 /m/083vt 0.3484958 0.7241024 0.4677628 0.9874564 is 0.0081334 /m/04bcr3 0.7190237 0.3955503 0.7863879 0.4362453 /m/083vt 0.7190237 0.3955503 0.7863879 0.4362453 is 0.0073872 /m/04bcr3 0.3660198 0.7310899 0.4527902 0.7989856 /m/083vt 0.3660198 0.7310899 0.4527902 0.7989856 is 0.0067717 /m/04bcr3 0.7075101 0.4003656 0.7903175 0.4945349 /m/083vt 0.7075101 0.4003656 0.7903175 0.4945349 is 0.0443881 /m/04bcr3 0.0021371 0.7107126 0.4704774 0.9854948 /m/05z87 0.0021371 0.7107126 0.4704774 0.9854948 is 0.0095303 /m/04bcr3 0.7162075 0.4061388 0.7836855 0.4623950 /m/05z87 0.7162075 0.4061388 0.7836855 0.4623950 is 0.0098236 /m/05r5c 0.0000000 0.4094516 0.4842571 0.9745348 /m/083vt 0.0000000 0.4094516 0.4842571 0.9745348 is 0.0085032 /m/05r5c 0.2683415 0.3858017 0.5291624 0.8739713 /m/083vt 0.2683415 0.3858017 0.5291624 0.8739713 is 0.0337178 /m/03m3pdh 0.3849448 0.4188345 0.9584342 0.9927173 /m/04lbp 0.3849448 0.4188345 0.9584342 0.9927173 is 0.0065456 /m/03m3pdh 0.0000000 0.5145240 0.9139721 0.9980469 /m/04lbp 0.0000000 0.5145240 0.9139721 0.9980469 is 0.2209585 /m/01y9k5 0.0031277 0.7127081 0.4623209 0.9911288 /m/083vt 0.0031277 0.7127081 0.4623209 0.9911288 is 0.0093847 /m/01y9k5 0.0000000 0.5145240 0.9139721 0.9980469 /m/083vt 0.0000000 0.5145240 0.9139721 0.9980469 is 0.0429992 /m/01mzpv 0.6945233 0.4421652 0.9580572 0.9980469 /m/05z87 0.6945233 0.4421652 0.9580572 0.9980469 is 0.0351770 /m/01mzpv 0.0039301 0.7122159 0.4209052 0.9938239 /m/05z87 0.0039301 0.7122159 0.4209052 0.9938239 is 0.0317344 /m/01mzpv 0.3782281 0.5928805 0.7014242 0.9894133 /m/05z87 0.3782281 0.5928805 0.7014242 0.9894133 is 0.0214820 /m/01mzpv 0.0112949 0.6453270 0.6694618 0.9980469 /m/05z87 0.0112949 0.6453270 0.6694618 0.9980469 is 0.0135512 /m/01mzpv 0.2899676 0.3847363 0.9614537 0.9980469 /m/05z87 0.2899676 0.3847363 0.9614537 0.9980469 is 0.0075374 /m/01mzpv 0.2545599 0.3966102 0.5066788 0.7629480 /m/05z87 0.2545599 0.3966102 0.5066788 0.7629480 is 0.0065911 /m/01mzpv 0.6716187 0.7078899 0.8292024 0.9932093 /m/05z87 0.6716187 0.7078899 0.8292024 0.9932093 is 0.0291940 /m/01mzpv 0.3565287 0.3689148 0.9544848 0.9975176 /m/083vt 0.3565287 0.3689148 0.9544848 0.9975176 is 0.0256363 /m/01mzpv 0.6938864 0.4448153 0.9594638 0.9980469 /m/083vt 0.6938864 0.4448153 0.9594638 0.9980469 is 0.0246748 /m/01mzpv 0.3854592 0.5946607 0.7048185 0.9949778 /m/083vt 0.3854592 0.5946607 0.7048185 0.9949778 is 0.0166261 /m/01mzpv 0.2588282 0.3987507 0.4901081 0.7387334 /m/083vt 0.2588282 0.3987507 0.4901081 0.7387334 is 0.0091241 /m/01mzpv 0.0112949 0.6453270 0.6694618 0.9980469 /m/083vt 0.0112949 0.6453270 0.6694618 0.9980469 is 0.0074825 /m/01mzpv 0.0066006 0.7117493 0.4227259 0.9943023 /m/083vt 0.0066006 0.7117493 0.4227259 0.9943023 is 0.0064885 /m/01mzpv 0.3260767 0.3907782 0.6835891 0.9284137 /m/083vt 0.3260767 0.3907782 0.6835891 0.9284137 is 0.0695887 /m/03m3pdh 0.3849448 0.4188345 0.9584342 0.9927173 /m/0dnr7 0.3849448 0.4188345 0.9584342 0.9927173 is 0.0137369 /m/03m3pdh 0.3854592 0.5946607 0.7048185 0.9949778 /m/0dnr7 0.3854592 0.5946607 0.7048185 0.9949778 is 0.0112345 /m/03m3pdh 0.0000000 0.5145240 0.9139721 0.9980469 /m/0dnr7 0.0000000 0.5145240 0.9139721 0.9980469 is 0.5002902 /m/01mzpv 0.6902047 0.4469500 0.9585727 0.9973670 /m/04lbp 0.6902047 0.4469500 0.9585727 0.9973670 is 0.4301759 /m/01mzpv 0.3771540 0.4161120 0.9617629 0.9956746 /m/04lbp 0.3771540 0.4161120 0.9617629 0.9956746 is 0.3163828 /m/01mzpv 0.3856403 0.5945126 0.7026072 0.9937508 /m/04lbp 0.3856403 0.5945126 0.7026072 0.9937508 is 0.1036666 /m/01mzpv 0.0000000 0.5145240 0.9139721 0.9980469 /m/04lbp 0.0000000 0.5145240 0.9139721 0.9980469 is 0.0896668 /m/01mzpv 0.6716187 0.7078899 0.8292024 0.9932093 /m/04lbp 0.6716187 0.7078899 0.8292024 0.9932093 is 0.0293525 /m/01mzpv 0.2401789 0.3947167 0.7115560 0.9980469 /m/04lbp 0.2401789 0.3947167 0.7115560 0.9980469 is 0.0236412 /m/01mzpv 0.0039301 0.7122159 0.4209052 0.9938239 /m/04lbp 0.0039301 0.7122159 0.4209052 0.9938239 is 0.0146279 /m/01mzpv 0.4691709 0.6429991 0.8417608 0.9946689 /m/04lbp 0.4691709 0.6429991 0.8417608 0.9946689 is 0.0143784 /m/01mzpv 0.2545599 0.3966102 0.5066788 0.7629480 /m/04lbp 0.2545599 0.3966102 0.5066788 0.7629480 is 0.0097183 /m/01mzpv 0.3600949 0.5427581 0.5512353 0.8864069 /m/04lbp 0.3600949 0.5427581 0.5512353 0.8864069 is 0.0091098 /m/01mzpv 0.3776314 0.8124420 0.4487365 0.8946656 /m/04lbp 0.3776314 0.8124420 0.4487365 0.8946656 is 0.0081879 /m/01mzpv 0.0000000 0.4292313 0.4762272 0.9891613 /m/04lbp 0.0000000 0.4292313 0.4762272 0.9891613 is'"
      ]
     },
     "execution_count": 45,
     "metadata": {},
     "output_type": "execute_result"
    }
   ],
   "source": [
    "df0.iloc[0].PredictionString"
   ]
  },
  {
   "cell_type": "code",
   "execution_count": null,
   "metadata": {},
   "outputs": [],
   "source": []
  }
 ],
 "metadata": {
  "kernelspec": {
   "display_name": "Python 3",
   "language": "python",
   "name": "python3"
  },
  "language_info": {
   "codemirror_mode": {
    "name": "ipython",
    "version": 3
   },
   "file_extension": ".py",
   "mimetype": "text/x-python",
   "name": "python",
   "nbconvert_exporter": "python",
   "pygments_lexer": "ipython3",
   "version": "3.7.3"
  }
 },
 "nbformat": 4,
 "nbformat_minor": 2
}
