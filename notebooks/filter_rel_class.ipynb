{
 "cells": [
  {
   "cell_type": "code",
   "execution_count": 1,
   "metadata": {},
   "outputs": [],
   "source": [
    "import os\n",
    "import numpy as np\n",
    "import pandas as pd\n",
    "import torch\n",
    "import os\n",
    "import json\n",
    "import pandas as pd\n",
    "from PIL import Image\n",
    "from matplotlib.pyplot import imshow\n",
    "import matplotlib.pyplot as plt\n",
    "import cv2\n",
    "import numpy as np\n",
    "%matplotlib inline\n",
    "from tqdm import tqdm\n",
    "import glob\n",
    "import pickle"
   ]
  },
  {
   "cell_type": "code",
   "execution_count": 18,
   "metadata": {},
   "outputs": [
    {
     "data": {
      "text/html": [
       "<div>\n",
       "<style scoped>\n",
       "    .dataframe tbody tr th:only-of-type {\n",
       "        vertical-align: middle;\n",
       "    }\n",
       "\n",
       "    .dataframe tbody tr th {\n",
       "        vertical-align: top;\n",
       "    }\n",
       "\n",
       "    .dataframe thead th {\n",
       "        text-align: right;\n",
       "    }\n",
       "</style>\n",
       "<table border=\"1\" class=\"dataframe\">\n",
       "  <thead>\n",
       "    <tr style=\"text-align: right;\">\n",
       "      <th></th>\n",
       "      <th>ImageId</th>\n",
       "      <th>PredictionString</th>\n",
       "    </tr>\n",
       "  </thead>\n",
       "  <tbody>\n",
       "    <tr>\n",
       "      <th>0</th>\n",
       "      <td>21135d5ed0e7a0b7</td>\n",
       "      <td>0.500165 /m/04yx4 0.3756532 0.236988 0.7501363...</td>\n",
       "    </tr>\n",
       "    <tr>\n",
       "      <th>1</th>\n",
       "      <td>763c72626bf24534</td>\n",
       "      <td>0.77768 /m/04yx4 0.720626 0.5248438 0.950433 0...</td>\n",
       "    </tr>\n",
       "    <tr>\n",
       "      <th>2</th>\n",
       "      <td>7540c162180973b1</td>\n",
       "      <td>0.114314 /m/04yx4 0.9498244 0.3313462 0.999023...</td>\n",
       "    </tr>\n",
       "    <tr>\n",
       "      <th>3</th>\n",
       "      <td>c4e522dce52cb02f</td>\n",
       "      <td>0.702323 /m/04yx4 0.8541945 0.3647041 0.972777...</td>\n",
       "    </tr>\n",
       "    <tr>\n",
       "      <th>4</th>\n",
       "      <td>cafcd9496c808085</td>\n",
       "      <td>0.178867 /m/01_5g 0.7968998 0.0202855 0.997210...</td>\n",
       "    </tr>\n",
       "  </tbody>\n",
       "</table>\n",
       "</div>"
      ],
      "text/plain": [
       "            ImageId                                   PredictionString\n",
       "0  21135d5ed0e7a0b7  0.500165 /m/04yx4 0.3756532 0.236988 0.7501363...\n",
       "1  763c72626bf24534  0.77768 /m/04yx4 0.720626 0.5248438 0.950433 0...\n",
       "2  7540c162180973b1  0.114314 /m/04yx4 0.9498244 0.3313462 0.999023...\n",
       "3  c4e522dce52cb02f  0.702323 /m/04yx4 0.8541945 0.3647041 0.972777...\n",
       "4  cafcd9496c808085  0.178867 /m/01_5g 0.7968998 0.0202855 0.997210..."
      ]
     },
     "execution_count": 18,
     "metadata": {},
     "output_type": "execute_result"
    }
   ],
   "source": [
    "df = pd.read_csv('/mnt/chicm/open-images-vrd/vrd/lb25388/sub_tuple_0825_cdiff.csv')\n",
    "df.head()"
   ]
  },
  {
   "cell_type": "code",
   "execution_count": 2,
   "metadata": {},
   "outputs": [
    {
     "data": {
      "text/html": [
       "<div>\n",
       "<style scoped>\n",
       "    .dataframe tbody tr th:only-of-type {\n",
       "        vertical-align: middle;\n",
       "    }\n",
       "\n",
       "    .dataframe tbody tr th {\n",
       "        vertical-align: top;\n",
       "    }\n",
       "\n",
       "    .dataframe thead th {\n",
       "        text-align: right;\n",
       "    }\n",
       "</style>\n",
       "<table border=\"1\" class=\"dataframe\">\n",
       "  <thead>\n",
       "    <tr style=\"text-align: right;\">\n",
       "      <th></th>\n",
       "      <th>ImageId</th>\n",
       "      <th>PredictionString</th>\n",
       "    </tr>\n",
       "  </thead>\n",
       "  <tbody>\n",
       "    <tr>\n",
       "      <th>0</th>\n",
       "      <td>00000b4dcff7f799</td>\n",
       "      <td>0.320416 /m/04yx4 0.7528 0.3605 0.8595 0.8582 ...</td>\n",
       "    </tr>\n",
       "    <tr>\n",
       "      <th>1</th>\n",
       "      <td>00001a21632de752</td>\n",
       "      <td>0.500611 /m/04yx4 0.6143 0.4868 0.7604 0.7347 ...</td>\n",
       "    </tr>\n",
       "    <tr>\n",
       "      <th>2</th>\n",
       "      <td>0000d67245642c5f</td>\n",
       "      <td>0.012464 /m/04ctx 0.2441 0.287 0.6494 0.896 /m...</td>\n",
       "    </tr>\n",
       "    <tr>\n",
       "      <th>3</th>\n",
       "      <td>0001244aa8ed3099</td>\n",
       "      <td>0.011098 /m/04dr76w 0.5264 0.4861 0.5508 0.595...</td>\n",
       "    </tr>\n",
       "    <tr>\n",
       "      <th>4</th>\n",
       "      <td>000172d1dd1adce0</td>\n",
       "      <td>0.005296 /m/04ctx 0.3545 0.0469 0.8018 0.7683 ...</td>\n",
       "    </tr>\n",
       "  </tbody>\n",
       "</table>\n",
       "</div>"
      ],
      "text/plain": [
       "            ImageId                                   PredictionString\n",
       "0  00000b4dcff7f799  0.320416 /m/04yx4 0.7528 0.3605 0.8595 0.8582 ...\n",
       "1  00001a21632de752  0.500611 /m/04yx4 0.6143 0.4868 0.7604 0.7347 ...\n",
       "2  0000d67245642c5f  0.012464 /m/04ctx 0.2441 0.287 0.6494 0.896 /m...\n",
       "3  0001244aa8ed3099  0.011098 /m/04dr76w 0.5264 0.4861 0.5508 0.595...\n",
       "4  000172d1dd1adce0  0.005296 /m/04ctx 0.3545 0.0469 0.8018 0.7683 ..."
      ]
     },
     "execution_count": 2,
     "metadata": {},
     "output_type": "execute_result"
    }
   ],
   "source": [
    "df = pd.read_csv('/mnt/chicm/open-images-vrd/vrd/sub0930/sub_all_0930.csv')\n",
    "df.head()"
   ]
  },
  {
   "cell_type": "code",
   "execution_count": 3,
   "metadata": {},
   "outputs": [
    {
     "data": {
      "text/html": [
       "<div>\n",
       "<style scoped>\n",
       "    .dataframe tbody tr th:only-of-type {\n",
       "        vertical-align: middle;\n",
       "    }\n",
       "\n",
       "    .dataframe tbody tr th {\n",
       "        vertical-align: top;\n",
       "    }\n",
       "\n",
       "    .dataframe thead th {\n",
       "        text-align: right;\n",
       "    }\n",
       "</style>\n",
       "<table border=\"1\" class=\"dataframe\">\n",
       "  <thead>\n",
       "    <tr style=\"text-align: right;\">\n",
       "      <th></th>\n",
       "      <th>ImageId</th>\n",
       "      <th>PredictionString</th>\n",
       "    </tr>\n",
       "  </thead>\n",
       "  <tbody>\n",
       "    <tr>\n",
       "      <th>0</th>\n",
       "      <td>21135d5ed0e7a0b7</td>\n",
       "      <td>0.037432 /m/03bt1vf 0.549840 0.603769 0.814588...</td>\n",
       "    </tr>\n",
       "    <tr>\n",
       "      <th>1</th>\n",
       "      <td>763c72626bf24534</td>\n",
       "      <td>0.037432 /m/03bt1vf 0.549840 0.603769 0.814588...</td>\n",
       "    </tr>\n",
       "    <tr>\n",
       "      <th>2</th>\n",
       "      <td>7540c162180973b1</td>\n",
       "      <td>0.037432 /m/03bt1vf 0.549840 0.603769 0.814588...</td>\n",
       "    </tr>\n",
       "    <tr>\n",
       "      <th>3</th>\n",
       "      <td>c4e522dce52cb02f</td>\n",
       "      <td>0.037432 /m/03bt1vf 0.549840 0.603769 0.814588...</td>\n",
       "    </tr>\n",
       "    <tr>\n",
       "      <th>4</th>\n",
       "      <td>cafcd9496c808085</td>\n",
       "      <td>0.037432 /m/03bt1vf 0.549840 0.603769 0.814588...</td>\n",
       "    </tr>\n",
       "  </tbody>\n",
       "</table>\n",
       "</div>"
      ],
      "text/plain": [
       "            ImageId                                   PredictionString\n",
       "0  21135d5ed0e7a0b7  0.037432 /m/03bt1vf 0.549840 0.603769 0.814588...\n",
       "1  763c72626bf24534  0.037432 /m/03bt1vf 0.549840 0.603769 0.814588...\n",
       "2  7540c162180973b1  0.037432 /m/03bt1vf 0.549840 0.603769 0.814588...\n",
       "3  c4e522dce52cb02f  0.037432 /m/03bt1vf 0.549840 0.603769 0.814588...\n",
       "4  cafcd9496c808085  0.037432 /m/03bt1vf 0.549840 0.603769 0.814588..."
      ]
     },
     "execution_count": 3,
     "metadata": {},
     "output_type": "execute_result"
    }
   ],
   "source": [
    "DATA_DIR = '/mnt/chicm/data/open-images/relation'\n",
    "df_test = pd.read_csv(os.path.join(DATA_DIR, 'VRD_sample_submission.csv'))\n",
    "df_test.head()"
   ]
  },
  {
   "cell_type": "code",
   "execution_count": 4,
   "metadata": {},
   "outputs": [
    {
     "data": {
      "text/html": [
       "<div>\n",
       "<style scoped>\n",
       "    .dataframe tbody tr th:only-of-type {\n",
       "        vertical-align: middle;\n",
       "    }\n",
       "\n",
       "    .dataframe tbody tr th {\n",
       "        vertical-align: top;\n",
       "    }\n",
       "\n",
       "    .dataframe thead th {\n",
       "        text-align: right;\n",
       "    }\n",
       "</style>\n",
       "<table border=\"1\" class=\"dataframe\">\n",
       "  <thead>\n",
       "    <tr style=\"text-align: right;\">\n",
       "      <th></th>\n",
       "      <th>ImageId</th>\n",
       "      <th>PredictionString</th>\n",
       "    </tr>\n",
       "  </thead>\n",
       "  <tbody>\n",
       "    <tr>\n",
       "      <th>0</th>\n",
       "      <td>21135d5ed0e7a0b7</td>\n",
       "      <td>0.409728 /m/04yx4 0.3734 0.2024 0.7435 0.987 /...</td>\n",
       "    </tr>\n",
       "    <tr>\n",
       "      <th>1</th>\n",
       "      <td>763c72626bf24534</td>\n",
       "      <td>0.532883 /m/04yx4 0.7264 0.5176 0.9514 0.8937 ...</td>\n",
       "    </tr>\n",
       "    <tr>\n",
       "      <th>2</th>\n",
       "      <td>7540c162180973b1</td>\n",
       "      <td>0.348482 /m/04yx4 0.577 0.1447 0.8297 0.7084 /...</td>\n",
       "    </tr>\n",
       "    <tr>\n",
       "      <th>3</th>\n",
       "      <td>c4e522dce52cb02f</td>\n",
       "      <td>0.59702 /m/04yx4 0.8593 0.3911 0.983 0.8919 /m...</td>\n",
       "    </tr>\n",
       "    <tr>\n",
       "      <th>4</th>\n",
       "      <td>cafcd9496c808085</td>\n",
       "      <td>0.193685 /m/01_5g 0.7897 0.0374 0.9893 0.2174 ...</td>\n",
       "    </tr>\n",
       "  </tbody>\n",
       "</table>\n",
       "</div>"
      ],
      "text/plain": [
       "            ImageId                                   PredictionString\n",
       "0  21135d5ed0e7a0b7  0.409728 /m/04yx4 0.3734 0.2024 0.7435 0.987 /...\n",
       "1  763c72626bf24534  0.532883 /m/04yx4 0.7264 0.5176 0.9514 0.8937 ...\n",
       "2  7540c162180973b1  0.348482 /m/04yx4 0.577 0.1447 0.8297 0.7084 /...\n",
       "3  c4e522dce52cb02f  0.59702 /m/04yx4 0.8593 0.3911 0.983 0.8919 /m...\n",
       "4  cafcd9496c808085  0.193685 /m/01_5g 0.7897 0.0374 0.9893 0.2174 ..."
      ]
     },
     "execution_count": 4,
     "metadata": {},
     "output_type": "execute_result"
    }
   ],
   "source": [
    "df = df.set_index('ImageId')\n",
    "df = df.reindex(index=df_test['ImageId'])\n",
    "df = df.reset_index()\n",
    "df.head()"
   ]
  },
  {
   "cell_type": "code",
   "execution_count": null,
   "metadata": {},
   "outputs": [],
   "source": []
  },
  {
   "cell_type": "code",
   "execution_count": null,
   "metadata": {},
   "outputs": [],
   "source": []
  },
  {
   "cell_type": "code",
   "execution_count": 5,
   "metadata": {},
   "outputs": [],
   "source": [
    "selected_rel = ['plays', 'holds', 'on', 'wears', 'interacts_with']\n",
    "#selected_rel = 'on'\n",
    "def get_filtered_pred_string(pred_str):\n",
    "    if len(pred_str) < 1:\n",
    "        return ''\n",
    "    dets = []\n",
    "    det = []\n",
    "    for i, e in enumerate(pred_str.split(' ')):\n",
    "        if i % 12 == 0:\n",
    "            det = []\n",
    "        det.append(e)\n",
    "        if (i+1) % 12 == 0 and det[11] not in selected_rel:\n",
    "            dets.append(' '.join(det))\n",
    "                \n",
    "    return ' '.join(dets)"
   ]
  },
  {
   "cell_type": "code",
   "execution_count": 6,
   "metadata": {},
   "outputs": [
    {
     "data": {
      "text/html": [
       "<div>\n",
       "<style scoped>\n",
       "    .dataframe tbody tr th:only-of-type {\n",
       "        vertical-align: middle;\n",
       "    }\n",
       "\n",
       "    .dataframe tbody tr th {\n",
       "        vertical-align: top;\n",
       "    }\n",
       "\n",
       "    .dataframe thead th {\n",
       "        text-align: right;\n",
       "    }\n",
       "</style>\n",
       "<table border=\"1\" class=\"dataframe\">\n",
       "  <thead>\n",
       "    <tr style=\"text-align: right;\">\n",
       "      <th></th>\n",
       "      <th>ImageId</th>\n",
       "      <th>PredictionStringOld</th>\n",
       "    </tr>\n",
       "  </thead>\n",
       "  <tbody>\n",
       "    <tr>\n",
       "      <th>0</th>\n",
       "      <td>21135d5ed0e7a0b7</td>\n",
       "      <td>0.409728 /m/04yx4 0.3734 0.2024 0.7435 0.987 /...</td>\n",
       "    </tr>\n",
       "    <tr>\n",
       "      <th>1</th>\n",
       "      <td>763c72626bf24534</td>\n",
       "      <td>0.532883 /m/04yx4 0.7264 0.5176 0.9514 0.8937 ...</td>\n",
       "    </tr>\n",
       "    <tr>\n",
       "      <th>2</th>\n",
       "      <td>7540c162180973b1</td>\n",
       "      <td>0.348482 /m/04yx4 0.577 0.1447 0.8297 0.7084 /...</td>\n",
       "    </tr>\n",
       "    <tr>\n",
       "      <th>3</th>\n",
       "      <td>c4e522dce52cb02f</td>\n",
       "      <td>0.59702 /m/04yx4 0.8593 0.3911 0.983 0.8919 /m...</td>\n",
       "    </tr>\n",
       "    <tr>\n",
       "      <th>4</th>\n",
       "      <td>cafcd9496c808085</td>\n",
       "      <td>0.193685 /m/01_5g 0.7897 0.0374 0.9893 0.2174 ...</td>\n",
       "    </tr>\n",
       "  </tbody>\n",
       "</table>\n",
       "</div>"
      ],
      "text/plain": [
       "            ImageId                                PredictionStringOld\n",
       "0  21135d5ed0e7a0b7  0.409728 /m/04yx4 0.3734 0.2024 0.7435 0.987 /...\n",
       "1  763c72626bf24534  0.532883 /m/04yx4 0.7264 0.5176 0.9514 0.8937 ...\n",
       "2  7540c162180973b1  0.348482 /m/04yx4 0.577 0.1447 0.8297 0.7084 /...\n",
       "3  c4e522dce52cb02f  0.59702 /m/04yx4 0.8593 0.3911 0.983 0.8919 /m...\n",
       "4  cafcd9496c808085  0.193685 /m/01_5g 0.7897 0.0374 0.9893 0.2174 ..."
      ]
     },
     "execution_count": 6,
     "metadata": {},
     "output_type": "execute_result"
    }
   ],
   "source": [
    "df.rename(columns={'PredictionString': 'PredictionStringOld'}, inplace=True)\n",
    "df.head()"
   ]
  },
  {
   "cell_type": "code",
   "execution_count": 7,
   "metadata": {},
   "outputs": [],
   "source": [
    "df.PredictionStringOld = df.PredictionStringOld.fillna('')"
   ]
  },
  {
   "cell_type": "code",
   "execution_count": 8,
   "metadata": {},
   "outputs": [
    {
     "data": {
      "text/html": [
       "<div>\n",
       "<style scoped>\n",
       "    .dataframe tbody tr th:only-of-type {\n",
       "        vertical-align: middle;\n",
       "    }\n",
       "\n",
       "    .dataframe tbody tr th {\n",
       "        vertical-align: top;\n",
       "    }\n",
       "\n",
       "    .dataframe thead th {\n",
       "        text-align: right;\n",
       "    }\n",
       "</style>\n",
       "<table border=\"1\" class=\"dataframe\">\n",
       "  <thead>\n",
       "    <tr style=\"text-align: right;\">\n",
       "      <th></th>\n",
       "      <th>ImageId</th>\n",
       "      <th>PredictionStringOld</th>\n",
       "      <th>PredictionString</th>\n",
       "    </tr>\n",
       "  </thead>\n",
       "  <tbody>\n",
       "    <tr>\n",
       "      <th>0</th>\n",
       "      <td>21135d5ed0e7a0b7</td>\n",
       "      <td>0.409728 /m/04yx4 0.3734 0.2024 0.7435 0.987 /...</td>\n",
       "      <td>0.219176 /m/04yx4 0.3734 0.2024 0.7435 0.987 /...</td>\n",
       "    </tr>\n",
       "    <tr>\n",
       "      <th>1</th>\n",
       "      <td>763c72626bf24534</td>\n",
       "      <td>0.532883 /m/04yx4 0.7264 0.5176 0.9514 0.8937 ...</td>\n",
       "      <td>0.532883 /m/04yx4 0.7264 0.5176 0.9514 0.8937 ...</td>\n",
       "    </tr>\n",
       "    <tr>\n",
       "      <th>2</th>\n",
       "      <td>7540c162180973b1</td>\n",
       "      <td>0.348482 /m/04yx4 0.577 0.1447 0.8297 0.7084 /...</td>\n",
       "      <td>0.173548 /m/04yx4 0.0295 0.1986 0.0747 0.3123 ...</td>\n",
       "    </tr>\n",
       "    <tr>\n",
       "      <th>3</th>\n",
       "      <td>c4e522dce52cb02f</td>\n",
       "      <td>0.59702 /m/04yx4 0.8593 0.3911 0.983 0.8919 /m...</td>\n",
       "      <td>0.59702 /m/04yx4 0.8593 0.3911 0.983 0.8919 /m...</td>\n",
       "    </tr>\n",
       "    <tr>\n",
       "      <th>4</th>\n",
       "      <td>cafcd9496c808085</td>\n",
       "      <td>0.193685 /m/01_5g 0.7897 0.0374 0.9893 0.2174 ...</td>\n",
       "      <td>0.084175 /m/01mzpv 0.8351 0.0081 0.9989 0.3012...</td>\n",
       "    </tr>\n",
       "  </tbody>\n",
       "</table>\n",
       "</div>"
      ],
      "text/plain": [
       "            ImageId                                PredictionStringOld  \\\n",
       "0  21135d5ed0e7a0b7  0.409728 /m/04yx4 0.3734 0.2024 0.7435 0.987 /...   \n",
       "1  763c72626bf24534  0.532883 /m/04yx4 0.7264 0.5176 0.9514 0.8937 ...   \n",
       "2  7540c162180973b1  0.348482 /m/04yx4 0.577 0.1447 0.8297 0.7084 /...   \n",
       "3  c4e522dce52cb02f  0.59702 /m/04yx4 0.8593 0.3911 0.983 0.8919 /m...   \n",
       "4  cafcd9496c808085  0.193685 /m/01_5g 0.7897 0.0374 0.9893 0.2174 ...   \n",
       "\n",
       "                                    PredictionString  \n",
       "0  0.219176 /m/04yx4 0.3734 0.2024 0.7435 0.987 /...  \n",
       "1  0.532883 /m/04yx4 0.7264 0.5176 0.9514 0.8937 ...  \n",
       "2  0.173548 /m/04yx4 0.0295 0.1986 0.0747 0.3123 ...  \n",
       "3  0.59702 /m/04yx4 0.8593 0.3911 0.983 0.8919 /m...  \n",
       "4  0.084175 /m/01mzpv 0.8351 0.0081 0.9989 0.3012...  "
      ]
     },
     "execution_count": 8,
     "metadata": {},
     "output_type": "execute_result"
    }
   ],
   "source": [
    "df['PredictionString'] = df.PredictionStringOld.map(lambda x: get_filtered_pred_string(x))\n",
    "df.head()"
   ]
  },
  {
   "cell_type": "code",
   "execution_count": 9,
   "metadata": {},
   "outputs": [],
   "source": [
    "df.to_csv('/mnt/chicm/open-images-vrd/vrd/sub0930/sub_all_0930_excludes_holds_plays_on_wears_interacts_with.csv', columns=['ImageId', 'PredictionString'], index=False)"
   ]
  },
  {
   "cell_type": "code",
   "execution_count": null,
   "metadata": {},
   "outputs": [],
   "source": []
  },
  {
   "cell_type": "code",
   "execution_count": 84,
   "metadata": {},
   "outputs": [
    {
     "name": "stdout",
     "output_type": "stream",
     "text": [
      "100%|████████████████████████████████████████| 468M/468M [00:23<00:00, 20.6MB/s]\n",
      "Successfully submitted to Open Images 2019 - Visual Relationship"
     ]
    }
   ],
   "source": [
    "!kaggle competitions submit -c open-images-2019-visual-relationship -f /mnt/chicm/open-images-vrd/vrd/lb25388/sub_tuple_0825_cdiff_on.csv -m 'on'"
   ]
  },
  {
   "cell_type": "code",
   "execution_count": null,
   "metadata": {},
   "outputs": [],
   "source": []
  },
  {
   "cell_type": "code",
   "execution_count": null,
   "metadata": {},
   "outputs": [],
   "source": []
  }
 ],
 "metadata": {
  "kernelspec": {
   "display_name": "Python 3",
   "language": "python",
   "name": "python3"
  },
  "language_info": {
   "codemirror_mode": {
    "name": "ipython",
    "version": 3
   },
   "file_extension": ".py",
   "mimetype": "text/x-python",
   "name": "python",
   "nbconvert_exporter": "python",
   "pygments_lexer": "ipython3",
   "version": "3.7.3"
  }
 },
 "nbformat": 4,
 "nbformat_minor": 2
}
