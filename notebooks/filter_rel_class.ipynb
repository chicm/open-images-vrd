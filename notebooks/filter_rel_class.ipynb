{
 "cells": [
  {
   "cell_type": "code",
   "execution_count": 49,
   "metadata": {},
   "outputs": [],
   "source": [
    "import os\n",
    "import numpy as np\n",
    "import pandas as pd\n",
    "import torch\n",
    "import os\n",
    "import json\n",
    "import pandas as pd\n",
    "from PIL import Image\n",
    "from matplotlib.pyplot import imshow\n",
    "import matplotlib.pyplot as plt\n",
    "import cv2\n",
    "import numpy as np\n",
    "%matplotlib inline\n",
    "from tqdm import tqdm\n",
    "import glob\n",
    "import pickle"
   ]
  },
  {
   "cell_type": "code",
   "execution_count": 50,
   "metadata": {},
   "outputs": [
    {
     "data": {
      "text/html": [
       "<div>\n",
       "<style scoped>\n",
       "    .dataframe tbody tr th:only-of-type {\n",
       "        vertical-align: middle;\n",
       "    }\n",
       "\n",
       "    .dataframe tbody tr th {\n",
       "        vertical-align: top;\n",
       "    }\n",
       "\n",
       "    .dataframe thead th {\n",
       "        text-align: right;\n",
       "    }\n",
       "</style>\n",
       "<table border=\"1\" class=\"dataframe\">\n",
       "  <thead>\n",
       "    <tr style=\"text-align: right;\">\n",
       "      <th></th>\n",
       "      <th>ImageId</th>\n",
       "      <th>PredictionString</th>\n",
       "    </tr>\n",
       "  </thead>\n",
       "  <tbody>\n",
       "    <tr>\n",
       "      <th>0</th>\n",
       "      <td>21135d5ed0e7a0b7</td>\n",
       "      <td>0.500165 /m/04yx4 0.3756532 0.236988 0.7501363...</td>\n",
       "    </tr>\n",
       "    <tr>\n",
       "      <th>1</th>\n",
       "      <td>763c72626bf24534</td>\n",
       "      <td>0.77768 /m/04yx4 0.720626 0.5248438 0.950433 0...</td>\n",
       "    </tr>\n",
       "    <tr>\n",
       "      <th>2</th>\n",
       "      <td>7540c162180973b1</td>\n",
       "      <td>0.114314 /m/04yx4 0.9498244 0.3313462 0.999023...</td>\n",
       "    </tr>\n",
       "    <tr>\n",
       "      <th>3</th>\n",
       "      <td>c4e522dce52cb02f</td>\n",
       "      <td>0.702323 /m/04yx4 0.8541945 0.3647041 0.972777...</td>\n",
       "    </tr>\n",
       "    <tr>\n",
       "      <th>4</th>\n",
       "      <td>cafcd9496c808085</td>\n",
       "      <td>0.178867 /m/01_5g 0.7968998 0.0202855 0.997210...</td>\n",
       "    </tr>\n",
       "  </tbody>\n",
       "</table>\n",
       "</div>"
      ],
      "text/plain": [
       "            ImageId                                   PredictionString\n",
       "0  21135d5ed0e7a0b7  0.500165 /m/04yx4 0.3756532 0.236988 0.7501363...\n",
       "1  763c72626bf24534  0.77768 /m/04yx4 0.720626 0.5248438 0.950433 0...\n",
       "2  7540c162180973b1  0.114314 /m/04yx4 0.9498244 0.3313462 0.999023...\n",
       "3  c4e522dce52cb02f  0.702323 /m/04yx4 0.8541945 0.3647041 0.972777...\n",
       "4  cafcd9496c808085  0.178867 /m/01_5g 0.7968998 0.0202855 0.997210..."
      ]
     },
     "execution_count": 50,
     "metadata": {},
     "output_type": "execute_result"
    }
   ],
   "source": [
    "df = pd.read_csv('/mnt/chicm/open-images-vrd/vrd/lb25388/sub_tuple_0825_cdiff.csv')\n",
    "df.head()"
   ]
  },
  {
   "cell_type": "code",
   "execution_count": 51,
   "metadata": {},
   "outputs": [],
   "source": [
    "selected_rel = 'inside_of'\n",
    "def get_filtered_pred_string(pred_str):\n",
    "    if len(pred_str) < 1:\n",
    "        return ''\n",
    "    dets = []\n",
    "    det = []\n",
    "    for i, e in enumerate(pred_str.split(' ')):\n",
    "        if i % 12 == 0:\n",
    "            det = []\n",
    "        det.append(e)\n",
    "        if (i+1) % 12 == 0 and det[11] != selected_rel:\n",
    "            dets.append(' '.join(det))\n",
    "                \n",
    "    return ' '.join(dets)"
   ]
  },
  {
   "cell_type": "code",
   "execution_count": 52,
   "metadata": {},
   "outputs": [
    {
     "data": {
      "text/html": [
       "<div>\n",
       "<style scoped>\n",
       "    .dataframe tbody tr th:only-of-type {\n",
       "        vertical-align: middle;\n",
       "    }\n",
       "\n",
       "    .dataframe tbody tr th {\n",
       "        vertical-align: top;\n",
       "    }\n",
       "\n",
       "    .dataframe thead th {\n",
       "        text-align: right;\n",
       "    }\n",
       "</style>\n",
       "<table border=\"1\" class=\"dataframe\">\n",
       "  <thead>\n",
       "    <tr style=\"text-align: right;\">\n",
       "      <th></th>\n",
       "      <th>ImageId</th>\n",
       "      <th>PredictionStringOld</th>\n",
       "    </tr>\n",
       "  </thead>\n",
       "  <tbody>\n",
       "    <tr>\n",
       "      <th>0</th>\n",
       "      <td>21135d5ed0e7a0b7</td>\n",
       "      <td>0.500165 /m/04yx4 0.3756532 0.236988 0.7501363...</td>\n",
       "    </tr>\n",
       "    <tr>\n",
       "      <th>1</th>\n",
       "      <td>763c72626bf24534</td>\n",
       "      <td>0.77768 /m/04yx4 0.720626 0.5248438 0.950433 0...</td>\n",
       "    </tr>\n",
       "    <tr>\n",
       "      <th>2</th>\n",
       "      <td>7540c162180973b1</td>\n",
       "      <td>0.114314 /m/04yx4 0.9498244 0.3313462 0.999023...</td>\n",
       "    </tr>\n",
       "    <tr>\n",
       "      <th>3</th>\n",
       "      <td>c4e522dce52cb02f</td>\n",
       "      <td>0.702323 /m/04yx4 0.8541945 0.3647041 0.972777...</td>\n",
       "    </tr>\n",
       "    <tr>\n",
       "      <th>4</th>\n",
       "      <td>cafcd9496c808085</td>\n",
       "      <td>0.178867 /m/01_5g 0.7968998 0.0202855 0.997210...</td>\n",
       "    </tr>\n",
       "  </tbody>\n",
       "</table>\n",
       "</div>"
      ],
      "text/plain": [
       "            ImageId                                PredictionStringOld\n",
       "0  21135d5ed0e7a0b7  0.500165 /m/04yx4 0.3756532 0.236988 0.7501363...\n",
       "1  763c72626bf24534  0.77768 /m/04yx4 0.720626 0.5248438 0.950433 0...\n",
       "2  7540c162180973b1  0.114314 /m/04yx4 0.9498244 0.3313462 0.999023...\n",
       "3  c4e522dce52cb02f  0.702323 /m/04yx4 0.8541945 0.3647041 0.972777...\n",
       "4  cafcd9496c808085  0.178867 /m/01_5g 0.7968998 0.0202855 0.997210..."
      ]
     },
     "execution_count": 52,
     "metadata": {},
     "output_type": "execute_result"
    }
   ],
   "source": [
    "df.rename(columns={'PredictionString': 'PredictionStringOld'}, inplace=True)\n",
    "df.head()"
   ]
  },
  {
   "cell_type": "code",
   "execution_count": 53,
   "metadata": {},
   "outputs": [],
   "source": [
    "df.PredictionStringOld = df.PredictionStringOld.fillna('')"
   ]
  },
  {
   "cell_type": "code",
   "execution_count": 54,
   "metadata": {},
   "outputs": [
    {
     "data": {
      "text/html": [
       "<div>\n",
       "<style scoped>\n",
       "    .dataframe tbody tr th:only-of-type {\n",
       "        vertical-align: middle;\n",
       "    }\n",
       "\n",
       "    .dataframe tbody tr th {\n",
       "        vertical-align: top;\n",
       "    }\n",
       "\n",
       "    .dataframe thead th {\n",
       "        text-align: right;\n",
       "    }\n",
       "</style>\n",
       "<table border=\"1\" class=\"dataframe\">\n",
       "  <thead>\n",
       "    <tr style=\"text-align: right;\">\n",
       "      <th></th>\n",
       "      <th>ImageId</th>\n",
       "      <th>PredictionStringOld</th>\n",
       "      <th>PredictionString</th>\n",
       "    </tr>\n",
       "  </thead>\n",
       "  <tbody>\n",
       "    <tr>\n",
       "      <th>0</th>\n",
       "      <td>21135d5ed0e7a0b7</td>\n",
       "      <td>0.500165 /m/04yx4 0.3756532 0.236988 0.7501363...</td>\n",
       "      <td>0.500165 /m/04yx4 0.3756532 0.236988 0.7501363...</td>\n",
       "    </tr>\n",
       "    <tr>\n",
       "      <th>1</th>\n",
       "      <td>763c72626bf24534</td>\n",
       "      <td>0.77768 /m/04yx4 0.720626 0.5248438 0.950433 0...</td>\n",
       "      <td>0.77768 /m/04yx4 0.720626 0.5248438 0.950433 0...</td>\n",
       "    </tr>\n",
       "    <tr>\n",
       "      <th>2</th>\n",
       "      <td>7540c162180973b1</td>\n",
       "      <td>0.114314 /m/04yx4 0.9498244 0.3313462 0.999023...</td>\n",
       "      <td>0.114314 /m/04yx4 0.9498244 0.3313462 0.999023...</td>\n",
       "    </tr>\n",
       "    <tr>\n",
       "      <th>3</th>\n",
       "      <td>c4e522dce52cb02f</td>\n",
       "      <td>0.702323 /m/04yx4 0.8541945 0.3647041 0.972777...</td>\n",
       "      <td>0.702323 /m/04yx4 0.8541945 0.3647041 0.972777...</td>\n",
       "    </tr>\n",
       "    <tr>\n",
       "      <th>4</th>\n",
       "      <td>cafcd9496c808085</td>\n",
       "      <td>0.178867 /m/01_5g 0.7968998 0.0202855 0.997210...</td>\n",
       "      <td>0.178867 /m/01_5g 0.7968998 0.0202855 0.997210...</td>\n",
       "    </tr>\n",
       "  </tbody>\n",
       "</table>\n",
       "</div>"
      ],
      "text/plain": [
       "            ImageId                                PredictionStringOld  \\\n",
       "0  21135d5ed0e7a0b7  0.500165 /m/04yx4 0.3756532 0.236988 0.7501363...   \n",
       "1  763c72626bf24534  0.77768 /m/04yx4 0.720626 0.5248438 0.950433 0...   \n",
       "2  7540c162180973b1  0.114314 /m/04yx4 0.9498244 0.3313462 0.999023...   \n",
       "3  c4e522dce52cb02f  0.702323 /m/04yx4 0.8541945 0.3647041 0.972777...   \n",
       "4  cafcd9496c808085  0.178867 /m/01_5g 0.7968998 0.0202855 0.997210...   \n",
       "\n",
       "                                    PredictionString  \n",
       "0  0.500165 /m/04yx4 0.3756532 0.236988 0.7501363...  \n",
       "1  0.77768 /m/04yx4 0.720626 0.5248438 0.950433 0...  \n",
       "2  0.114314 /m/04yx4 0.9498244 0.3313462 0.999023...  \n",
       "3  0.702323 /m/04yx4 0.8541945 0.3647041 0.972777...  \n",
       "4  0.178867 /m/01_5g 0.7968998 0.0202855 0.997210...  "
      ]
     },
     "execution_count": 54,
     "metadata": {},
     "output_type": "execute_result"
    }
   ],
   "source": [
    "df['PredictionString'] = df.PredictionStringOld.map(lambda x: get_filtered_pred_string(x))\n",
    "df.head()"
   ]
  },
  {
   "cell_type": "code",
   "execution_count": 55,
   "metadata": {},
   "outputs": [],
   "source": [
    "df.to_csv('/mnt/chicm/open-images-vrd/vrd/lb25388/sub_tuple_0825_cdiff_exclude_inside_of.csv', columns=['ImageId', 'PredictionString'], index=False)"
   ]
  },
  {
   "cell_type": "code",
   "execution_count": null,
   "metadata": {},
   "outputs": [],
   "source": []
  },
  {
   "cell_type": "code",
   "execution_count": null,
   "metadata": {},
   "outputs": [],
   "source": []
  },
  {
   "cell_type": "code",
   "execution_count": 48,
   "metadata": {},
   "outputs": [
    {
     "name": "stdout",
     "output_type": "stream",
     "text": [
      "100%|████████████████████████████████████████| 113M/113M [00:08<00:00, 13.7MB/s]\n",
      "Successfully submitted to Open Images 2019 - Visual Relationship"
     ]
    }
   ],
   "source": [
    "!kaggle competitions submit -c open-images-2019-visual-relationship -f /mnt/chicm/open-images-vrd/vrd/lb25388/sub_tuple_0825_cdiff_interacts_with.csv -m 'interacts_with'"
   ]
  },
  {
   "cell_type": "code",
   "execution_count": null,
   "metadata": {},
   "outputs": [],
   "source": []
  },
  {
   "cell_type": "code",
   "execution_count": null,
   "metadata": {},
   "outputs": [],
   "source": []
  }
 ],
 "metadata": {
  "kernelspec": {
   "display_name": "Python 3",
   "language": "python",
   "name": "python3"
  },
  "language_info": {
   "codemirror_mode": {
    "name": "ipython",
    "version": 3
   },
   "file_extension": ".py",
   "mimetype": "text/x-python",
   "name": "python",
   "nbconvert_exporter": "python",
   "pygments_lexer": "ipython3",
   "version": "3.7.3"
  }
 },
 "nbformat": 4,
 "nbformat_minor": 2
}
