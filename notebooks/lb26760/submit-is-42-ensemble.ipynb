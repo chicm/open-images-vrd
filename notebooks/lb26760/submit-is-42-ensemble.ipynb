{
 "cells": [
  {
   "cell_type": "code",
   "execution_count": 6,
   "metadata": {},
   "outputs": [],
   "source": [
    "import os\n",
    "import numpy as np\n",
    "import pandas as pd\n",
    "import torch\n",
    "import os\n",
    "import json\n",
    "import pandas as pd\n",
    "from PIL import Image\n",
    "from matplotlib.pyplot import imshow\n",
    "import matplotlib.pyplot as plt\n",
    "import cv2\n",
    "import numpy as np\n",
    "%matplotlib inline\n",
    "from tqdm import tqdm\n",
    "import glob\n",
    "import pickle"
   ]
  },
  {
   "cell_type": "code",
   "execution_count": 7,
   "metadata": {},
   "outputs": [],
   "source": [
    "DATA_DIR = '/mnt/chicm/data/open-images/relation'\n",
    "DETECT_DATA_DIR = '/mnt/chicm/data/open-images/detect'"
   ]
  },
  {
   "cell_type": "code",
   "execution_count": 8,
   "metadata": {},
   "outputs": [
    {
     "name": "stdout",
     "output_type": "stream",
     "text": [
      "challenge-2019-attributes-description.csv\r\n",
      "challenge-2019-classes-vrd.csv\r\n",
      "challenge-2019-relationships-description.csv\r\n",
      "challenge-2019-relationship-triplets.csv\r\n",
      "challenge-2019-train-vrd-bbox.csv\r\n",
      "challenge-2019-train-vrd.csv\r\n",
      "challenge-2019-train-vrd-labels.csv\r\n",
      "challenge-2019-validation-vrd-bbox.csv\r\n",
      "challenge-2019-validation-vrd.csv\r\n",
      "challenge-2019-validation-vrd-labels.csv\r\n",
      "classes_is_42.csv\r\n",
      "negative_tuples_0804.csv\r\n",
      "negative_tuples.csv\r\n",
      "top_classes_42.csv\r\n",
      "top_classes.csv\r\n",
      "VRD_sample_submission.csv\r\n"
     ]
    }
   ],
   "source": [
    "!ls $DATA_DIR"
   ]
  },
  {
   "cell_type": "code",
   "execution_count": 9,
   "metadata": {},
   "outputs": [
    {
     "data": {
      "text/html": [
       "<div>\n",
       "<style scoped>\n",
       "    .dataframe tbody tr th:only-of-type {\n",
       "        vertical-align: middle;\n",
       "    }\n",
       "\n",
       "    .dataframe tbody tr th {\n",
       "        vertical-align: top;\n",
       "    }\n",
       "\n",
       "    .dataframe thead th {\n",
       "        text-align: right;\n",
       "    }\n",
       "</style>\n",
       "<table border=\"1\" class=\"dataframe\">\n",
       "  <thead>\n",
       "    <tr style=\"text-align: right;\">\n",
       "      <th></th>\n",
       "      <th>ImageId</th>\n",
       "      <th>PredictionString</th>\n",
       "    </tr>\n",
       "  </thead>\n",
       "  <tbody>\n",
       "    <tr>\n",
       "      <th>0</th>\n",
       "      <td>21135d5ed0e7a0b7</td>\n",
       "      <td>0.037432 /m/03bt1vf 0.549840 0.603769 0.814588...</td>\n",
       "    </tr>\n",
       "    <tr>\n",
       "      <th>1</th>\n",
       "      <td>763c72626bf24534</td>\n",
       "      <td>0.037432 /m/03bt1vf 0.549840 0.603769 0.814588...</td>\n",
       "    </tr>\n",
       "    <tr>\n",
       "      <th>2</th>\n",
       "      <td>7540c162180973b1</td>\n",
       "      <td>0.037432 /m/03bt1vf 0.549840 0.603769 0.814588...</td>\n",
       "    </tr>\n",
       "    <tr>\n",
       "      <th>3</th>\n",
       "      <td>c4e522dce52cb02f</td>\n",
       "      <td>0.037432 /m/03bt1vf 0.549840 0.603769 0.814588...</td>\n",
       "    </tr>\n",
       "    <tr>\n",
       "      <th>4</th>\n",
       "      <td>cafcd9496c808085</td>\n",
       "      <td>0.037432 /m/03bt1vf 0.549840 0.603769 0.814588...</td>\n",
       "    </tr>\n",
       "  </tbody>\n",
       "</table>\n",
       "</div>"
      ],
      "text/plain": [
       "            ImageId                                   PredictionString\n",
       "0  21135d5ed0e7a0b7  0.037432 /m/03bt1vf 0.549840 0.603769 0.814588...\n",
       "1  763c72626bf24534  0.037432 /m/03bt1vf 0.549840 0.603769 0.814588...\n",
       "2  7540c162180973b1  0.037432 /m/03bt1vf 0.549840 0.603769 0.814588...\n",
       "3  c4e522dce52cb02f  0.037432 /m/03bt1vf 0.549840 0.603769 0.814588...\n",
       "4  cafcd9496c808085  0.037432 /m/03bt1vf 0.549840 0.603769 0.814588..."
      ]
     },
     "execution_count": 9,
     "metadata": {},
     "output_type": "execute_result"
    }
   ],
   "source": [
    "df_test = pd.read_csv(os.path.join(DATA_DIR, 'VRD_sample_submission.csv'))\n",
    "df_test.head()"
   ]
  },
  {
   "cell_type": "code",
   "execution_count": 10,
   "metadata": {},
   "outputs": [
    {
     "data": {
      "text/html": [
       "<div>\n",
       "<style scoped>\n",
       "    .dataframe tbody tr th:only-of-type {\n",
       "        vertical-align: middle;\n",
       "    }\n",
       "\n",
       "    .dataframe tbody tr th {\n",
       "        vertical-align: top;\n",
       "    }\n",
       "\n",
       "    .dataframe thead th {\n",
       "        text-align: right;\n",
       "    }\n",
       "</style>\n",
       "<table border=\"1\" class=\"dataframe\">\n",
       "  <thead>\n",
       "    <tr style=\"text-align: right;\">\n",
       "      <th></th>\n",
       "      <th>label</th>\n",
       "      <th>name</th>\n",
       "    </tr>\n",
       "  </thead>\n",
       "  <tbody>\n",
       "    <tr>\n",
       "      <th>0</th>\n",
       "      <td>/m/05r5c</td>\n",
       "      <td>Piano</td>\n",
       "    </tr>\n",
       "    <tr>\n",
       "      <th>1</th>\n",
       "      <td>/m/01599</td>\n",
       "      <td>Beer</td>\n",
       "    </tr>\n",
       "    <tr>\n",
       "      <th>2</th>\n",
       "      <td>/m/01_5g</td>\n",
       "      <td>Chopsticks</td>\n",
       "    </tr>\n",
       "    <tr>\n",
       "      <th>3</th>\n",
       "      <td>/m/01yrx</td>\n",
       "      <td>Cat</td>\n",
       "    </tr>\n",
       "    <tr>\n",
       "      <th>4</th>\n",
       "      <td>/m/04_sv</td>\n",
       "      <td>Motorcycle</td>\n",
       "    </tr>\n",
       "  </tbody>\n",
       "</table>\n",
       "</div>"
      ],
      "text/plain": [
       "      label        name\n",
       "0  /m/05r5c       Piano\n",
       "1  /m/01599        Beer\n",
       "2  /m/01_5g  Chopsticks\n",
       "3  /m/01yrx         Cat\n",
       "4  /m/04_sv  Motorcycle"
      ]
     },
     "execution_count": 10,
     "metadata": {},
     "output_type": "execute_result"
    }
   ],
   "source": [
    "df_des = pd.read_csv(os.path.join(DATA_DIR, 'challenge-2019-classes-vrd.csv'), names=['label', 'name'])\n",
    "df_des.head()"
   ]
  },
  {
   "cell_type": "code",
   "execution_count": 11,
   "metadata": {},
   "outputs": [
    {
     "data": {
      "text/plain": [
       "array(['Piano', 'Beer', 'Chopsticks', 'Cat', 'Motorcycle',\n",
       "       'Tennis racket', 'Football', 'Mobile phone', 'Flute',\n",
       "       'Tennis ball', 'Chair', 'Woman', 'Boy', 'Coffee table', 'Handbag',\n",
       "       'Fork', 'Girl', 'Coffee cup', 'Violin', 'Backpack', 'Knife',\n",
       "       'Snowboard', 'Rugby ball', 'Snake', 'Oven', 'Microwave oven',\n",
       "       'Man', 'Bench', 'Desk', 'Suitcase', 'Sofa bed', 'Horse',\n",
       "       'Microphone', 'Table tennis racket', 'Monkey', 'Surfboard',\n",
       "       'Table', 'Bottle', 'Mug', 'Wine glass', 'Drum', 'Dog', 'Guitar',\n",
       "       'Ski', 'Bed', 'Spoon', 'Briefcase', 'Hamster', 'Car', 'Bicycle',\n",
       "       'Camera', 'Dolphin', 'Taxi', 'Van', 'Elephant', 'Racket',\n",
       "       'Pretzel'], dtype=object)"
      ]
     },
     "execution_count": 11,
     "metadata": {},
     "output_type": "execute_result"
    }
   ],
   "source": [
    "df_des.name.values"
   ]
  },
  {
   "cell_type": "code",
   "execution_count": 12,
   "metadata": {},
   "outputs": [],
   "source": [
    "def get_classes():\n",
    "    df_classes = pd.read_csv(os.path.join(DATA_DIR, 'classes_is_42.csv'))\n",
    "    classes = df_classes['classes'].values.tolist()\n",
    "    stoi = { classes[i]: i for i in range(len(classes)) }\n",
    "    return classes, stoi\n",
    "\n",
    "classes, stoi = get_classes()"
   ]
  },
  {
   "cell_type": "code",
   "execution_count": 13,
   "metadata": {},
   "outputs": [
    {
     "data": {
      "text/plain": [
       "['/m/04dr76w,/m/05z87', '/m/04bcr3,/m/083vt']"
      ]
     },
     "execution_count": 13,
     "metadata": {},
     "output_type": "execute_result"
    }
   ],
   "source": [
    "classes[:2]"
   ]
  },
  {
   "cell_type": "code",
   "execution_count": 14,
   "metadata": {},
   "outputs": [],
   "source": [
    "# visualize\n",
    "\n",
    "import numpy as np\n",
    "import PIL.Image as Image\n",
    "import PIL.ImageDraw as ImageDraw\n",
    "import PIL.ImageFont as ImageFont\n",
    "\n",
    "INDIGO = (75, 0, 130)\n",
    "\n",
    "\n",
    "def draw_bounding_box_on_image(\n",
    "    image,\n",
    "    x_min,\n",
    "    y_min,\n",
    "    x_max,\n",
    "    y_max,\n",
    "    color,\n",
    "    thickness=4,\n",
    "    display_str_list=(),\n",
    "    use_normalized_coordinates=False,\n",
    "    fontsize=20\n",
    "):\n",
    "    draw = ImageDraw.Draw(image)\n",
    "    im_width, im_height = image.size\n",
    "    if use_normalized_coordinates:\n",
    "        (left, right, top, bottom) = (x_min * im_width, x_max * im_width, y_min * im_height, y_max * im_height)\n",
    "    else:\n",
    "        (left, right, top, bottom) = (x_min, x_max, y_min, y_max)\n",
    "    draw.line([(left, top), (left, bottom), (right, bottom), (right, top), (left, top)], width=thickness, fill=color)\n",
    "    try:\n",
    "        font = ImageFont.truetype('DejaVuSansMono.ttf', fontsize)\n",
    "    except IOError:\n",
    "        font = ImageFont.load_default()\n",
    "\n",
    "    # If the total height of the display strings added to the top of the bounding\n",
    "    # box exceeds the top of the image, stack the strings below the bounding box\n",
    "    # instead of above.\n",
    "    display_str_heights = [font.getsize(ds)[1] for ds in display_str_list]\n",
    "    # Each display_str has a top and bottom margin of 0.05x.\n",
    "    total_display_str_height = (1 + 2 * 0.05) * sum(display_str_heights)\n",
    "\n",
    "    if top > total_display_str_height:\n",
    "        text_bottom = top\n",
    "    else:\n",
    "        text_bottom = bottom + total_display_str_height\n",
    "    # Reverse list and print from bottom to top.\n",
    "    for display_str in display_str_list[::-1]:\n",
    "        text_width, text_height = font.getsize(display_str)\n",
    "        margin = np.ceil(0.05 * text_height)\n",
    "        draw.rectangle([(left, text_bottom - text_height - 2 * margin), (left + text_width, text_bottom)], fill=color)\n",
    "        draw.text((left + margin, text_bottom - text_height - margin), display_str, fill=color, font=font)\n",
    "        text_bottom -= text_height - 2 * margin\n",
    "\n",
    "\n",
    "def draw_bounding_boxes_on_image_array(\n",
    "    image, bboxes, color=INDIGO, thickness=4, use_normalized_coordinates=False, fontsize=20\n",
    "):\n",
    "    image_pil = Image.fromarray(image)\n",
    "    draw_bounding_boxes_on_image(image_pil, bboxes, color, thickness, use_normalized_coordinates, fontsize)\n",
    "    np.copyto(image, np.array(image_pil))\n",
    "\n",
    "\n",
    "def draw_bounding_boxes_on_image(\n",
    "    image, bboxes, color=INDIGO, thickness=4, use_normalized_coordinates=False, fontsize=20\n",
    "):\n",
    "    for bbox in bboxes:\n",
    "        draw_bounding_box_on_image(\n",
    "            image, bbox[0], bbox[1], bbox[2], bbox[3], color, thickness, (), use_normalized_coordinates, fontsize\n",
    "        )\n"
   ]
  },
  {
   "cell_type": "code",
   "execution_count": 15,
   "metadata": {},
   "outputs": [
    {
     "data": {
      "text/plain": [
       "['/m/04dr76w,/m/05z87',\n",
       " '/m/04bcr3,/m/083vt',\n",
       " '/m/04bcr3,/m/05z87',\n",
       " '/m/01_5g,/m/083vt',\n",
       " '/m/01940j,/m/0dnr7']"
      ]
     },
     "execution_count": 15,
     "metadata": {},
     "output_type": "execute_result"
    }
   ],
   "source": [
    "classes[:5]"
   ]
  },
  {
   "cell_type": "code",
   "execution_count": 19,
   "metadata": {},
   "outputs": [],
   "source": [
    "TEST_IMG_DIR = '/mnt/chicm/data/open-images/test'\n",
    "def show_preds(idx):\n",
    "    plt.figure(figsize=(15, 10))\n",
    "    p = get_preds(preds[idx])\n",
    "    img_id = df_test.iloc[idx].ImageId\n",
    "    fn = os.path.join(TEST_IMG_DIR, '{}.jpg'.format(img_id))\n",
    "    img = Image.open(fn)\n",
    "    draw_bounding_boxes_on_image(img, p['bboxes'])\n",
    "    \n",
    "    plt.imshow(img)\n",
    "    labels = [classes[i].split(',')[0] for i in p['labels']]\n",
    "    labels = [df_des.loc[df_des.label==x].name.values[0] for x in labels]\n",
    "    #print(labels)\n",
    "    print(list(zip(labels, p['scores'])))"
   ]
  },
  {
   "cell_type": "code",
   "execution_count": 16,
   "metadata": {
    "scrolled": false
   },
   "outputs": [
    {
     "ename": "NameError",
     "evalue": "name 'show_preds' is not defined",
     "output_type": "error",
     "traceback": [
      "\u001b[0;31m---------------------------------------------------------------------------\u001b[0m",
      "\u001b[0;31mNameError\u001b[0m                                 Traceback (most recent call last)",
      "\u001b[0;32m<ipython-input-16-ac388eb4d8e1>\u001b[0m in \u001b[0;36m<module>\u001b[0;34m\u001b[0m\n\u001b[0;32m----> 1\u001b[0;31m \u001b[0mshow_preds\u001b[0m\u001b[0;34m(\u001b[0m\u001b[0;36m2002\u001b[0m\u001b[0;34m)\u001b[0m\u001b[0;34m\u001b[0m\u001b[0;34m\u001b[0m\u001b[0m\n\u001b[0m",
      "\u001b[0;31mNameError\u001b[0m: name 'show_preds' is not defined"
     ]
    }
   ],
   "source": [
    "show_preds(2002)"
   ]
  },
  {
   "cell_type": "code",
   "execution_count": 23,
   "metadata": {},
   "outputs": [],
   "source": [
    "import struct\n",
    "import imghdr\n",
    "\n",
    "def get_image_size(fname):\n",
    "    '''Determine the image type of fhandle and return its size.\n",
    "    from draco'''\n",
    "    with open(fname, 'rb') as fhandle:\n",
    "        head = fhandle.read(24)\n",
    "        if len(head) != 24:\n",
    "            raise AssertionError('imghead len != 24')\n",
    "        if imghdr.what(fname) == 'png':\n",
    "            check = struct.unpack('>i', head[4:8])[0]\n",
    "            if check != 0x0d0a1a0a:\n",
    "                raise AssertionError('png check failed')\n",
    "            width, height = struct.unpack('>ii', head[16:24])\n",
    "        elif imghdr.what(fname) == 'gif':\n",
    "            width, height = struct.unpack('<HH', head[6:10])\n",
    "        elif imghdr.what(fname) == 'jpeg':\n",
    "            try:\n",
    "                fhandle.seek(0) # Read 0xff next\n",
    "                size = 2\n",
    "                ftype = 0\n",
    "                while not 0xc0 <= ftype <= 0xcf:\n",
    "                    fhandle.seek(size, 1)\n",
    "                    byte = fhandle.read(1)\n",
    "                    while ord(byte) == 0xff:\n",
    "                        byte = fhandle.read(1)\n",
    "                    ftype = ord(byte)\n",
    "                    size = struct.unpack('>H', fhandle.read(2))[0] - 2\n",
    "                # We are at a SOFn block\n",
    "                fhandle.seek(1, 1)  # Skip `precision' byte.\n",
    "                height, width = struct.unpack('>HH', fhandle.read(4))\n",
    "            except Exception: #IGNORE:W0703\n",
    "                raise\n",
    "        else:\n",
    "            print(fname, imghdr.what(fname))\n",
    "            #raise AssertionError('file format not supported')\n",
    "            img = cv2.imread(fname)\n",
    "            print(img.shape)\n",
    "            height, width, _ = img.shape\n",
    "\n",
    "        return width, height\n"
   ]
  },
  {
   "cell_type": "code",
   "execution_count": 24,
   "metadata": {},
   "outputs": [],
   "source": [
    "df_test['h'] = df_test.ImageId.map(lambda x: get_image_size(os.path.join(TEST_IMG_DIR, '{}.jpg'.format(x)))[1])"
   ]
  },
  {
   "cell_type": "code",
   "execution_count": 25,
   "metadata": {},
   "outputs": [],
   "source": [
    "df_test['w'] = df_test.ImageId.map(lambda x: get_image_size(os.path.join(TEST_IMG_DIR, '{}.jpg'.format(x)))[0])"
   ]
  },
  {
   "cell_type": "code",
   "execution_count": 26,
   "metadata": {},
   "outputs": [
    {
     "data": {
      "text/html": [
       "<div>\n",
       "<style scoped>\n",
       "    .dataframe tbody tr th:only-of-type {\n",
       "        vertical-align: middle;\n",
       "    }\n",
       "\n",
       "    .dataframe tbody tr th {\n",
       "        vertical-align: top;\n",
       "    }\n",
       "\n",
       "    .dataframe thead th {\n",
       "        text-align: right;\n",
       "    }\n",
       "</style>\n",
       "<table border=\"1\" class=\"dataframe\">\n",
       "  <thead>\n",
       "    <tr style=\"text-align: right;\">\n",
       "      <th></th>\n",
       "      <th>ImageId</th>\n",
       "      <th>PredictionString</th>\n",
       "      <th>h</th>\n",
       "      <th>w</th>\n",
       "    </tr>\n",
       "  </thead>\n",
       "  <tbody>\n",
       "    <tr>\n",
       "      <th>0</th>\n",
       "      <td>21135d5ed0e7a0b7</td>\n",
       "      <td>0.037432 /m/03bt1vf 0.549840 0.603769 0.814588...</td>\n",
       "      <td>682</td>\n",
       "      <td>1024</td>\n",
       "    </tr>\n",
       "    <tr>\n",
       "      <th>1</th>\n",
       "      <td>763c72626bf24534</td>\n",
       "      <td>0.037432 /m/03bt1vf 0.549840 0.603769 0.814588...</td>\n",
       "      <td>681</td>\n",
       "      <td>1024</td>\n",
       "    </tr>\n",
       "    <tr>\n",
       "      <th>2</th>\n",
       "      <td>7540c162180973b1</td>\n",
       "      <td>0.037432 /m/03bt1vf 0.549840 0.603769 0.814588...</td>\n",
       "      <td>682</td>\n",
       "      <td>1024</td>\n",
       "    </tr>\n",
       "    <tr>\n",
       "      <th>3</th>\n",
       "      <td>c4e522dce52cb02f</td>\n",
       "      <td>0.037432 /m/03bt1vf 0.549840 0.603769 0.814588...</td>\n",
       "      <td>768</td>\n",
       "      <td>1024</td>\n",
       "    </tr>\n",
       "    <tr>\n",
       "      <th>4</th>\n",
       "      <td>cafcd9496c808085</td>\n",
       "      <td>0.037432 /m/03bt1vf 0.549840 0.603769 0.814588...</td>\n",
       "      <td>682</td>\n",
       "      <td>1024</td>\n",
       "    </tr>\n",
       "  </tbody>\n",
       "</table>\n",
       "</div>"
      ],
      "text/plain": [
       "            ImageId                                   PredictionString    h  \\\n",
       "0  21135d5ed0e7a0b7  0.037432 /m/03bt1vf 0.549840 0.603769 0.814588...  682   \n",
       "1  763c72626bf24534  0.037432 /m/03bt1vf 0.549840 0.603769 0.814588...  681   \n",
       "2  7540c162180973b1  0.037432 /m/03bt1vf 0.549840 0.603769 0.814588...  682   \n",
       "3  c4e522dce52cb02f  0.037432 /m/03bt1vf 0.549840 0.603769 0.814588...  768   \n",
       "4  cafcd9496c808085  0.037432 /m/03bt1vf 0.549840 0.603769 0.814588...  682   \n",
       "\n",
       "      w  \n",
       "0  1024  \n",
       "1  1024  \n",
       "2  1024  \n",
       "3  1024  \n",
       "4  1024  "
      ]
     },
     "execution_count": 26,
     "metadata": {},
     "output_type": "execute_result"
    }
   ],
   "source": [
    "df_test.head()"
   ]
  },
  {
   "cell_type": "code",
   "execution_count": 27,
   "metadata": {},
   "outputs": [
    {
     "name": "stderr",
     "output_type": "stream",
     "text": [
      "100%|██████████| 99999/99999 [00:09<00:00, 10052.98it/s]\n"
     ]
    }
   ],
   "source": [
    "final_preds = []\n",
    "\n",
    "for p in tqdm(preds, total=len(preds)):\n",
    "    final_preds.append(get_preds(p))"
   ]
  },
  {
   "cell_type": "code",
   "execution_count": 28,
   "metadata": {},
   "outputs": [
    {
     "name": "stdout",
     "output_type": "stream",
     "text": [
      "4670810\n"
     ]
    }
   ],
   "source": [
    "total_objs = 0\n",
    "for p in final_preds:\n",
    "    total_objs += len(p['labels'])\n",
    "print(total_objs)"
   ]
  },
  {
   "cell_type": "code",
   "execution_count": 29,
   "metadata": {},
   "outputs": [],
   "source": [
    "def get_pred_str(pred, w, h):\n",
    "    res = []\n",
    "    for label, score, bbox in zip(pred['labels'], pred['scores'], pred['bboxes']):\n",
    "        #res.append(classes[label])\n",
    "        label1, label2 = classes[label].split(',')\n",
    "        \n",
    "        res.append('{:.7f}'.format(score))\n",
    "        res.append(label1)\n",
    "        res.append('{:.7f}'.format(bbox[0]/w))\n",
    "        res.append('{:.7f}'.format(bbox[1]/h))\n",
    "        res.append('{:.7f}'.format(bbox[2]/w))\n",
    "        res.append('{:.7f}'.format(bbox[3]/h))\n",
    "\n",
    "        res.append(label2)\n",
    "        res.append('{:.7f}'.format(bbox[0]/w))\n",
    "        res.append('{:.7f}'.format(bbox[1]/h))\n",
    "        res.append('{:.7f}'.format(bbox[2]/w))\n",
    "        res.append('{:.7f}'.format(bbox[3]/h))\n",
    "        res.append('is')\n",
    "        \n",
    "    res = [str(x) for x in res]\n",
    "    return ' '.join(res)"
   ]
  },
  {
   "cell_type": "code",
   "execution_count": 45,
   "metadata": {},
   "outputs": [
    {
     "data": {
      "text/html": [
       "<div>\n",
       "<style scoped>\n",
       "    .dataframe tbody tr th:only-of-type {\n",
       "        vertical-align: middle;\n",
       "    }\n",
       "\n",
       "    .dataframe tbody tr th {\n",
       "        vertical-align: top;\n",
       "    }\n",
       "\n",
       "    .dataframe thead th {\n",
       "        text-align: right;\n",
       "    }\n",
       "</style>\n",
       "<table border=\"1\" class=\"dataframe\">\n",
       "  <thead>\n",
       "    <tr style=\"text-align: right;\">\n",
       "      <th></th>\n",
       "      <th>ImageId</th>\n",
       "      <th>PredictionString</th>\n",
       "    </tr>\n",
       "  </thead>\n",
       "  <tbody>\n",
       "    <tr>\n",
       "      <th>0</th>\n",
       "      <td>21135d5ed0e7a0b7</td>\n",
       "      <td>0.2949295 /m/04bcr3 0.3707048 0.7303923 0.4705...</td>\n",
       "    </tr>\n",
       "    <tr>\n",
       "      <th>1</th>\n",
       "      <td>763c72626bf24534</td>\n",
       "      <td>0.5554721 /m/04bcr3 0.6849182 0.8210774 0.9992...</td>\n",
       "    </tr>\n",
       "    <tr>\n",
       "      <th>2</th>\n",
       "      <td>7540c162180973b1</td>\n",
       "      <td>0.0659986 /m/04dr76w 0.0762036 0.3234025 0.120...</td>\n",
       "    </tr>\n",
       "    <tr>\n",
       "      <th>3</th>\n",
       "      <td>c4e522dce52cb02f</td>\n",
       "      <td>0.5093701 /m/04bcr3 0.8255448 0.6788994 0.9854...</td>\n",
       "    </tr>\n",
       "    <tr>\n",
       "      <th>4</th>\n",
       "      <td>cafcd9496c808085</td>\n",
       "      <td>0.0332225 /m/04dr76w 0.0000000 0.0565989 0.029...</td>\n",
       "    </tr>\n",
       "  </tbody>\n",
       "</table>\n",
       "</div>"
      ],
      "text/plain": [
       "            ImageId                                   PredictionString\n",
       "0  21135d5ed0e7a0b7  0.2949295 /m/04bcr3 0.3707048 0.7303923 0.4705...\n",
       "1  763c72626bf24534  0.5554721 /m/04bcr3 0.6849182 0.8210774 0.9992...\n",
       "2  7540c162180973b1  0.0659986 /m/04dr76w 0.0762036 0.3234025 0.120...\n",
       "3  c4e522dce52cb02f  0.5093701 /m/04bcr3 0.8255448 0.6788994 0.9854...\n",
       "4  cafcd9496c808085  0.0332225 /m/04dr76w 0.0000000 0.0565989 0.029..."
      ]
     },
     "execution_count": 45,
     "metadata": {},
     "output_type": "execute_result"
    }
   ],
   "source": [
    "df1 = pd.read_csv('sub_is_42/sub_retina_is_42_0802_1_lb06401.csv')\n",
    "df1.head()"
   ]
  },
  {
   "cell_type": "code",
   "execution_count": 35,
   "metadata": {},
   "outputs": [],
   "source": [
    "df2 = pd.read_csv('sub_is_42/sub_is_42_0726_2_lb06653.csv')\n",
    "df3 = pd.read_csv('sub_is_42/sub_x101_is_42_0807_1_lb06130.csv')"
   ]
  },
  {
   "cell_type": "code",
   "execution_count": 40,
   "metadata": {},
   "outputs": [],
   "source": [
    "def get_dets_by_pred_str(pred_str):\n",
    "    try:\n",
    "        if len(pred_str) < 1:\n",
    "            return []\n",
    "    except:\n",
    "        print('pred_str:', pred_str)\n",
    "        raise\n",
    "    det_items = pred_str.split(' ')\n",
    "    dets, det = [], []\n",
    "    for i in range(len(det_items)):\n",
    "        det.append(det_items[i])\n",
    "        if (i+1) % 12 == 0:\n",
    "            dets.append(det)\n",
    "            det = []\n",
    "    return dets"
   ]
  },
  {
   "cell_type": "code",
   "execution_count": 46,
   "metadata": {},
   "outputs": [
    {
     "data": {
      "text/html": [
       "<div>\n",
       "<style scoped>\n",
       "    .dataframe tbody tr th:only-of-type {\n",
       "        vertical-align: middle;\n",
       "    }\n",
       "\n",
       "    .dataframe tbody tr th {\n",
       "        vertical-align: top;\n",
       "    }\n",
       "\n",
       "    .dataframe thead th {\n",
       "        text-align: right;\n",
       "    }\n",
       "</style>\n",
       "<table border=\"1\" class=\"dataframe\">\n",
       "  <thead>\n",
       "    <tr style=\"text-align: right;\">\n",
       "      <th></th>\n",
       "      <th>ImageId</th>\n",
       "      <th>PredictionString</th>\n",
       "      <th>dets</th>\n",
       "    </tr>\n",
       "  </thead>\n",
       "  <tbody>\n",
       "    <tr>\n",
       "      <th>0</th>\n",
       "      <td>21135d5ed0e7a0b7</td>\n",
       "      <td>0.2949295 /m/04bcr3 0.3707048 0.7303923 0.4705...</td>\n",
       "      <td>[[0.2949295, /m/04bcr3, 0.3707048, 0.7303923, ...</td>\n",
       "    </tr>\n",
       "    <tr>\n",
       "      <th>1</th>\n",
       "      <td>763c72626bf24534</td>\n",
       "      <td>0.5554721 /m/04bcr3 0.6849182 0.8210774 0.9992...</td>\n",
       "      <td>[[0.5554721, /m/04bcr3, 0.6849182, 0.8210774, ...</td>\n",
       "    </tr>\n",
       "    <tr>\n",
       "      <th>2</th>\n",
       "      <td>7540c162180973b1</td>\n",
       "      <td>0.0659986 /m/04dr76w 0.0762036 0.3234025 0.120...</td>\n",
       "      <td>[[0.0659986, /m/04dr76w, 0.0762036, 0.3234025,...</td>\n",
       "    </tr>\n",
       "    <tr>\n",
       "      <th>3</th>\n",
       "      <td>c4e522dce52cb02f</td>\n",
       "      <td>0.5093701 /m/04bcr3 0.8255448 0.6788994 0.9854...</td>\n",
       "      <td>[[0.5093701, /m/04bcr3, 0.8255448, 0.6788994, ...</td>\n",
       "    </tr>\n",
       "    <tr>\n",
       "      <th>4</th>\n",
       "      <td>cafcd9496c808085</td>\n",
       "      <td>0.0332225 /m/04dr76w 0.0000000 0.0565989 0.029...</td>\n",
       "      <td>[[0.0332225, /m/04dr76w, 0.0000000, 0.0565989,...</td>\n",
       "    </tr>\n",
       "  </tbody>\n",
       "</table>\n",
       "</div>"
      ],
      "text/plain": [
       "            ImageId                                   PredictionString  \\\n",
       "0  21135d5ed0e7a0b7  0.2949295 /m/04bcr3 0.3707048 0.7303923 0.4705...   \n",
       "1  763c72626bf24534  0.5554721 /m/04bcr3 0.6849182 0.8210774 0.9992...   \n",
       "2  7540c162180973b1  0.0659986 /m/04dr76w 0.0762036 0.3234025 0.120...   \n",
       "3  c4e522dce52cb02f  0.5093701 /m/04bcr3 0.8255448 0.6788994 0.9854...   \n",
       "4  cafcd9496c808085  0.0332225 /m/04dr76w 0.0000000 0.0565989 0.029...   \n",
       "\n",
       "                                                dets  \n",
       "0  [[0.2949295, /m/04bcr3, 0.3707048, 0.7303923, ...  \n",
       "1  [[0.5554721, /m/04bcr3, 0.6849182, 0.8210774, ...  \n",
       "2  [[0.0659986, /m/04dr76w, 0.0762036, 0.3234025,...  \n",
       "3  [[0.5093701, /m/04bcr3, 0.8255448, 0.6788994, ...  \n",
       "4  [[0.0332225, /m/04dr76w, 0.0000000, 0.0565989,...  "
      ]
     },
     "execution_count": 46,
     "metadata": {},
     "output_type": "execute_result"
    }
   ],
   "source": [
    "df1['dets'] = df1.PredictionString.map(lambda x: get_dets_by_pred_str(x))\n",
    "df1.head()"
   ]
  },
  {
   "cell_type": "code",
   "execution_count": 42,
   "metadata": {},
   "outputs": [],
   "source": [
    "df2['dets'] = df2.PredictionString.fillna('').map(lambda x: get_dets_by_pred_str(x))\n",
    "df3['dets'] = df3.PredictionString.fillna('').map(lambda x: get_dets_by_pred_str(x))"
   ]
  },
  {
   "cell_type": "code",
   "execution_count": 31,
   "metadata": {},
   "outputs": [],
   "source": [
    "def dets_to_xywh(dets):\n",
    "    res = []\n",
    "    for det in dets:\n",
    "        conf = float(det[0])\n",
    "        c1 = det[1]\n",
    "        xmin = float(det[2])\n",
    "        ymin = float(det[3])\n",
    "        xmax = float(det[4])\n",
    "        ymax = float(det[5])\n",
    "        c2 = det[6]\n",
    "        new_det = [(xmin+xmax)/2, (ymin+ymax)/2, xmax-xmin, ymax-ymin, ','.join([c1, c2]), conf]\n",
    "        res.append(new_det)\n",
    "    return res                                                                 "
   ]
  },
  {
   "cell_type": "code",
   "execution_count": 47,
   "metadata": {},
   "outputs": [],
   "source": [
    "dets1 = df1.dets.map(lambda x: dets_to_xywh(x))"
   ]
  },
  {
   "cell_type": "code",
   "execution_count": 43,
   "metadata": {},
   "outputs": [],
   "source": [
    "dets2 = df2.dets.map(lambda x: dets_to_xywh(x))\n",
    "dets3 = df3.dets.map(lambda x: dets_to_xywh(x))"
   ]
  },
  {
   "cell_type": "code",
   "execution_count": 52,
   "metadata": {},
   "outputs": [
    {
     "data": {
      "text/plain": [
       "99999"
      ]
     },
     "execution_count": 52,
     "metadata": {},
     "output_type": "execute_result"
    }
   ],
   "source": [
    "len(dets3)"
   ]
  },
  {
   "cell_type": "code",
   "execution_count": 61,
   "metadata": {},
   "outputs": [
    {
     "name": "stderr",
     "output_type": "stream",
     "text": [
      "100%|██████████| 99999/99999 [23:40<00:00, 70.41it/s]  \n"
     ]
    }
   ],
   "source": [
    "final_ens = []\n",
    "for i in tqdm(range(len(dets1))):\n",
    "    ens = GeneralEnsemble([dets1[i], dets2[i], dets3[i]])\n",
    "    final_ens.append(ens)"
   ]
  },
  {
   "cell_type": "code",
   "execution_count": null,
   "metadata": {},
   "outputs": [],
   "source": []
  },
  {
   "cell_type": "code",
   "execution_count": 68,
   "metadata": {},
   "outputs": [],
   "source": [
    "def xywh_to_pre_str(dets):\n",
    "    res = []\n",
    "    if len(dets) < 1:\n",
    "        return ''\n",
    "    for det in dets:\n",
    "        conf = det[5]\n",
    "        c1, c2 = det[4].split(',')\n",
    "        xmin = det[0] - (det[2] / 2)\n",
    "        xmax = det[0] + (det[2] / 2)\n",
    "        ymin = det[1] - (det[3] / 2)\n",
    "        ymax = det[1] + (det[3] / 2)\n",
    "        res.append('{:.7f}'.format(conf))\n",
    "        res.append(c1)\n",
    "        res.append('{:.7f}'.format(xmin))\n",
    "        res.append('{:.7f}'.format(ymin))\n",
    "        res.append('{:.7f}'.format(xmax))\n",
    "        res.append('{:.7f}'.format(ymax))\n",
    "\n",
    "        res.append(c2)\n",
    "        res.append('{:.7f}'.format(xmin))\n",
    "        res.append('{:.7f}'.format(ymin))\n",
    "        res.append('{:.7f}'.format(xmax))\n",
    "        res.append('{:.7f}'.format(ymax))\n",
    "        res.append('is')\n",
    "\n",
    "    res = [str(x) for x in res]\n",
    "    return ' '.join(res)"
   ]
  },
  {
   "cell_type": "code",
   "execution_count": 77,
   "metadata": {},
   "outputs": [
    {
     "data": {
      "text/plain": [
       "99999"
      ]
     },
     "execution_count": 77,
     "metadata": {},
     "output_type": "execute_result"
    }
   ],
   "source": [
    "pred_strings = pd.Series(final_ens).map(lambda x: xywh_to_pre_str(x)).values\n",
    "len(pred_strings)"
   ]
  },
  {
   "cell_type": "code",
   "execution_count": 79,
   "metadata": {},
   "outputs": [
    {
     "data": {
      "text/html": [
       "<div>\n",
       "<style scoped>\n",
       "    .dataframe tbody tr th:only-of-type {\n",
       "        vertical-align: middle;\n",
       "    }\n",
       "\n",
       "    .dataframe tbody tr th {\n",
       "        vertical-align: top;\n",
       "    }\n",
       "\n",
       "    .dataframe thead th {\n",
       "        text-align: right;\n",
       "    }\n",
       "</style>\n",
       "<table border=\"1\" class=\"dataframe\">\n",
       "  <thead>\n",
       "    <tr style=\"text-align: right;\">\n",
       "      <th></th>\n",
       "      <th>ImageId</th>\n",
       "      <th>PredictionString</th>\n",
       "    </tr>\n",
       "  </thead>\n",
       "  <tbody>\n",
       "    <tr>\n",
       "      <th>0</th>\n",
       "      <td>21135d5ed0e7a0b7</td>\n",
       "      <td>0.1689330 /m/04bcr3 0.3664692 0.7250217 0.4814...</td>\n",
       "    </tr>\n",
       "    <tr>\n",
       "      <th>1</th>\n",
       "      <td>763c72626bf24534</td>\n",
       "      <td>0.7671249 /m/04bcr3 0.6873273 0.8193369 0.9977...</td>\n",
       "    </tr>\n",
       "    <tr>\n",
       "      <th>2</th>\n",
       "      <td>7540c162180973b1</td>\n",
       "      <td>0.0219995 /m/04dr76w 0.0762036 0.3234025 0.120...</td>\n",
       "    </tr>\n",
       "    <tr>\n",
       "      <th>3</th>\n",
       "      <td>c4e522dce52cb02f</td>\n",
       "      <td>0.4940703 /m/04bcr3 0.8307936 0.6809913 0.9920...</td>\n",
       "    </tr>\n",
       "    <tr>\n",
       "      <th>4</th>\n",
       "      <td>cafcd9496c808085</td>\n",
       "      <td>0.0129044 /m/04dr76w 0.0000000 0.0600080 0.031...</td>\n",
       "    </tr>\n",
       "  </tbody>\n",
       "</table>\n",
       "</div>"
      ],
      "text/plain": [
       "            ImageId                                   PredictionString\n",
       "0  21135d5ed0e7a0b7  0.1689330 /m/04bcr3 0.3664692 0.7250217 0.4814...\n",
       "1  763c72626bf24534  0.7671249 /m/04bcr3 0.6873273 0.8193369 0.9977...\n",
       "2  7540c162180973b1  0.0219995 /m/04dr76w 0.0762036 0.3234025 0.120...\n",
       "3  c4e522dce52cb02f  0.4940703 /m/04bcr3 0.8307936 0.6809913 0.9920...\n",
       "4  cafcd9496c808085  0.0129044 /m/04dr76w 0.0000000 0.0600080 0.031..."
      ]
     },
     "execution_count": 79,
     "metadata": {},
     "output_type": "execute_result"
    }
   ],
   "source": [
    "df_sub = pd.read_csv('sub_is_42/sub_retina_is_42_0802_1_lb06401.csv')\n",
    "df_sub.PredictionString = pred_strings\n",
    "df_sub.head()"
   ]
  },
  {
   "cell_type": "code",
   "execution_count": 80,
   "metadata": {},
   "outputs": [],
   "source": [
    "df_sub.to_csv('ensemble_is_42_0808_1_3_models.csv', columns=['ImageId', 'PredictionString'], index=False)"
   ]
  },
  {
   "cell_type": "code",
   "execution_count": null,
   "metadata": {},
   "outputs": [
    {
     "name": "stdout",
     "output_type": "stream",
     "text": [
      "100%|██████████████████████████████████████| 1.10G/1.10G [00:38<00:00, 30.7MB/s]\n",
      "Successfully submitted to Open Images 2019 - Visual Relationship"
     ]
    }
   ],
   "source": [
    "!kaggle competitions submit -c open-images-2019-visual-relationship -f ensemble_is_42_0808_1_3_models.csv -m \"submit\""
   ]
  },
  {
   "cell_type": "code",
   "execution_count": 67,
   "metadata": {},
   "outputs": [
    {
     "data": {
      "text/plain": [
       "107"
      ]
     },
     "execution_count": 67,
     "metadata": {},
     "output_type": "execute_result"
    }
   ],
   "source": [
    "len(final_ens[100])"
   ]
  },
  {
   "cell_type": "code",
   "execution_count": 78,
   "metadata": {},
   "outputs": [
    {
     "data": {
      "text/plain": [
       "'0.1689330 /m/04bcr3 0.3664692 0.7250217 0.4814990 0.8358989 /m/083vt 0.3664692 0.7250217 0.4814990 0.8358989 is 0.1098397 /m/04bcr3 0.3666839 0.7400591 0.4618433 0.8972776 /m/083vt 0.3666839 0.7400591 0.4618433 0.8972776 is 0.2584925 /m/04bcr3 0.0082324 0.6200917 0.4852194 0.9898017 /m/083vt 0.0082324 0.6200917 0.4852194 0.9898017 is 0.0470310 /m/04bcr3 0.1479802 0.6595711 0.5447465 0.9792015 /m/083vt 0.1479802 0.6595711 0.5447465 0.9792015 is 0.0538914 /m/04bcr3 0.3574653 0.6636814 0.7043658 0.9735980 /m/083vt 0.3574653 0.6636814 0.7043658 0.9735980 is 0.0432414 /m/04bcr3 0.0000000 0.7208333 0.0887816 0.8886402 /m/083vt 0.0000000 0.7208333 0.0887816 0.8886402 is 0.0390143 /m/04bcr3 0.0185754 0.4910834 0.9206167 0.9906125 /m/083vt 0.0185754 0.4910834 0.9206167 0.9906125 is 0.0337725 /m/04bcr3 0.3598581 0.4822526 0.8190721 0.9708033 /m/083vt 0.3598581 0.4822526 0.8190721 0.9708033 is 0.0259887 /m/04bcr3 0.3395408 0.7658733 0.7812147 0.9905012 /m/083vt 0.3395408 0.7658733 0.7812147 0.9905012 is 0.0250867 /m/04bcr3 0.0013666 0.8215806 0.0707053 0.9120866 /m/083vt 0.0013666 0.8215806 0.0707053 0.9120866 is 0.0655520 /m/04bcr3 0.3631485 0.6622128 0.5036121 0.8943806 /m/083vt 0.3631485 0.6622128 0.5036121 0.8943806 is 0.0217175 /m/04bcr3 0.0000000 0.7601054 0.0858879 0.8211258 /m/083vt 0.0000000 0.7601054 0.0858879 0.8211258 is 0.0214964 /m/04bcr3 0.3548377 0.6375466 0.6369237 0.8542139 /m/083vt 0.3548377 0.6375466 0.6369237 0.8542139 is 0.0252760 /m/04bcr3 0.3732922 0.8069788 0.4497192 0.8970734 /m/083vt 0.3732922 0.8069788 0.4497192 0.8970734 is 0.0208445 /m/04bcr3 0.3686462 0.7238582 0.5401940 0.9646777 /m/083vt 0.3686462 0.7238582 0.5401940 0.9646777 is 0.0247241 /m/04bcr3 0.2892404 0.4938867 0.5829143 0.9473444 /m/083vt 0.2892404 0.4938867 0.5829143 0.9473444 is 0.0202900 /m/04bcr3 0.2040779 0.7140681 0.4729163 0.9258867 /m/083vt 0.2040779 0.7140681 0.4729163 0.9258867 is 0.0202331 /m/04bcr3 0.1231663 0.6082780 0.4556141 0.8749412 /m/083vt 0.1231663 0.6082780 0.4556141 0.8749412 is 0.0251085 /m/04bcr3 0.0439908 0.7709466 0.4375876 0.9938249 /m/083vt 0.0439908 0.7709466 0.4375876 0.9938249 is 0.0544330 /m/04bcr3 0.0079022 0.6186382 0.4851184 0.9894536 /m/05z87 0.0079022 0.6186382 0.4851184 0.9894536 is 0.0297585 /m/04bcr3 0.3707048 0.7303923 0.4705418 0.8370845 /m/05z87 0.3707048 0.7303923 0.4705418 0.8370845 is 0.0247834 /m/04bcr3 0.1479802 0.6595711 0.5447465 0.9792015 /m/05z87 0.1479802 0.6595711 0.5447465 0.9792015 is 0.0975755 /m/01940j 0.6747627 0.3810703 0.9617429 0.9769884 /m/0dnr7 0.6747627 0.3810703 0.9617429 0.9769884 is 0.0560979 /m/01s55n 0.6708960 0.4093088 0.9532734 0.9823859 /m/04lbp 0.6708960 0.4093088 0.9532734 0.9823859 is 0.0528574 /m/03m3pdh 0.5672993 0.3943780 0.9666578 0.9839894 /m/04lbp 0.5672993 0.3943780 0.9666578 0.9839894 is 0.0271189 /m/03m3pdh 0.1524468 0.4806472 0.9208348 0.9983985 /m/04lbp 0.1524468 0.4806472 0.9208348 0.9983985 is 0.0225882 /m/03m3pdh 0.0270055 0.5124716 0.4758274 0.9962512 /m/04lbp 0.0270055 0.5124716 0.4758274 0.9962512 is 0.1590696 /m/01y9k5 0.0303357 0.5811153 0.4890677 0.9963007 /m/083vt 0.0303357 0.5811153 0.4890677 0.9963007 is 0.0577112 /m/01y9k5 0.3667493 0.7163277 0.4655561 0.8749750 /m/083vt 0.3667493 0.7163277 0.4655561 0.8749750 is 0.0957513 /m/01y9k5 0.0739901 0.6664858 0.5012701 0.9825532 /m/083vt 0.0739901 0.6664858 0.5012701 0.9825532 is 0.0501357 /m/01y9k5 0.3426290 0.6616824 0.7447474 0.9915978 /m/083vt 0.3426290 0.6616824 0.7447474 0.9915978 is 0.0364754 /m/01y9k5 0.0185754 0.4910834 0.9206167 0.9906125 /m/083vt 0.0185754 0.4910834 0.9206167 0.9906125 is 0.0330487 /m/01y9k5 0.2769494 0.6108249 0.6414068 0.9342829 /m/083vt 0.2769494 0.6108249 0.6414068 0.9342829 is 0.0313046 /m/01y9k5 0.3667603 0.7558181 0.4634604 0.9065962 /m/083vt 0.3667603 0.7558181 0.4634604 0.9065962 is 0.0337314 /m/01y9k5 0.3731412 0.4472932 0.9196817 0.9457611 /m/083vt 0.3731412 0.4472932 0.9196817 0.9457611 is 0.0913431 /m/01mzpv 0.6632219 0.4176363 0.9650987 0.9932611 /m/05z87 0.6632219 0.4176363 0.9650987 0.9932611 is 0.0634108 /m/01mzpv 0.0159268 0.5377903 0.5152318 0.9958727 /m/05z87 0.0159268 0.5377903 0.5152318 0.9958727 is 0.0213876 /m/04bcr3 0.0271175 0.5354651 0.4706815 0.9882288 /m/02gy9n 0.0271175 0.5354651 0.4706815 0.9882288 is 0.0446358 /m/01mzpv 0.0261717 0.5321184 0.5195361 0.9986068 /m/083vt 0.0261717 0.5321184 0.5195361 0.9986068 is 0.0529682 /m/01mzpv 0.6646062 0.4186046 0.9661579 0.9930807 /m/083vt 0.6646062 0.4186046 0.9661579 0.9930807 is 0.0348176 /m/01mzpv 0.4100475 0.6194945 0.6984338 0.9924742 /m/083vt 0.4100475 0.6194945 0.6984338 0.9924742 is 0.0760407 /m/03m3pdh 0.5609223 0.3758109 0.9620710 0.9847476 /m/0dnr7 0.5609223 0.3758109 0.9620710 0.9847476 is 0.0260267 /m/03m3pdh 0.1524468 0.4806472 0.9208348 0.9983985 /m/0dnr7 0.1524468 0.4806472 0.9208348 0.9983985 is 0.0209296 /m/03m3pdh 0.0270055 0.5124716 0.4758274 0.9962512 /m/0dnr7 0.0270055 0.5124716 0.4758274 0.9962512 is 0.4998733 /m/01mzpv 0.6674665 0.4087634 0.9634808 0.9891635 /m/04lbp 0.6674665 0.4087634 0.9634808 0.9891635 is 0.1403478 /m/01mzpv 0.0181541 0.4615404 0.4577176 0.9921630 /m/04lbp 0.0181541 0.4615404 0.4577176 0.9921630 is 0.2196174 /m/01mzpv 0.3840933 0.4394576 0.9363395 0.9976582 /m/04lbp 0.3840933 0.4394576 0.9363395 0.9976582 is 0.0218860 /m/01mzpv 0.5062555 0.2812141 0.9139839 0.9163739 /m/04lbp 0.5062555 0.2812141 0.9139839 0.9163739 is 0.2232650 /m/01s55n 0.6601306 0.4000516 0.9617731 0.9980737 /m/0dnr7 0.6601306 0.4000516 0.9617731 0.9980737 is 0.0350753 /m/01s55n 0.0232773 0.4695529 0.4421675 0.9906605 /m/0dnr7 0.0232773 0.4695529 0.4421675 0.9906605 is 0.0159951 /m/04bcr3 0.3670200 0.7556415 0.4619358 0.8234780 /m/083vt 0.3670200 0.7556415 0.4619358 0.8234780 is 0.0075544 /m/04bcr3 0.7162075 0.4061388 0.7836855 0.4623950 /m/083vt 0.7162075 0.4061388 0.7836855 0.4623950 is 0.0028335 /m/04bcr3 0.3484958 0.7241024 0.4677628 0.9874564 /m/083vt 0.3484958 0.7241024 0.4677628 0.9874564 is 0.0027111 /m/04bcr3 0.7190237 0.3955503 0.7863879 0.4362453 /m/083vt 0.7190237 0.3955503 0.7863879 0.4362453 is 0.0024624 /m/04bcr3 0.3660198 0.7310899 0.4527902 0.7989856 /m/083vt 0.3660198 0.7310899 0.4527902 0.7989856 is 0.0022572 /m/04bcr3 0.7075101 0.4003656 0.7903175 0.4945349 /m/083vt 0.7075101 0.4003656 0.7903175 0.4945349 is 0.0031768 /m/04bcr3 0.7162075 0.4061388 0.7836855 0.4623950 /m/05z87 0.7162075 0.4061388 0.7836855 0.4623950 is 0.0032745 /m/05r5c 0.0000000 0.4094516 0.4842571 0.9745348 /m/083vt 0.0000000 0.4094516 0.4842571 0.9745348 is 0.0028344 /m/05r5c 0.2683415 0.3858017 0.5291624 0.8739713 /m/083vt 0.2683415 0.3858017 0.5291624 0.8739713 is 0.0615690 /m/01mzpv 0.0112628 0.7157832 0.4077710 0.9964236 /m/05z87 0.0112628 0.7157832 0.4077710 0.9964236 is 0.0248013 /m/01mzpv 0.3973745 0.6080537 0.7023743 0.9942183 /m/05z87 0.3973745 0.6080537 0.7023743 0.9942183 is 0.0109577 /m/01mzpv 0.3846196 0.4162566 0.9316458 0.9985351 /m/05z87 0.3846196 0.4162566 0.9316458 0.9985351 is 0.0025125 /m/01mzpv 0.2545599 0.3966102 0.5066788 0.7629480 /m/05z87 0.2545599 0.3966102 0.5066788 0.7629480 is 0.0021970 /m/01mzpv 0.6716187 0.7078899 0.8292024 0.9932093 /m/05z87 0.6716187 0.7078899 0.8292024 0.9932093 is 0.0097313 /m/01mzpv 0.3565287 0.3689148 0.9544848 0.9975176 /m/083vt 0.3565287 0.3689148 0.9544848 0.9975176 is 0.0055420 /m/01mzpv 0.2588282 0.3987507 0.4901081 0.7387334 /m/083vt 0.2588282 0.3987507 0.4901081 0.7387334 is 0.0024942 /m/01mzpv 0.0066006 0.7117493 0.4227259 0.9943023 /m/083vt 0.0066006 0.7117493 0.4227259 0.9943023 is 0.0021628 /m/01mzpv 0.3260767 0.3907782 0.6835891 0.9284137 /m/083vt 0.3260767 0.3907782 0.6835891 0.9284137 is 0.0045790 /m/03m3pdh 0.3854592 0.5946607 0.7048185 0.9949778 /m/0dnr7 0.3854592 0.5946607 0.7048185 0.9949778 is 0.1391945 /m/01mzpv 0.3999683 0.5940359 0.7215902 0.9959301 /m/04lbp 0.3999683 0.5940359 0.7215902 0.9959301 is 0.0345555 /m/01mzpv 0.0000000 0.5145240 0.9139721 0.9980469 /m/04lbp 0.0000000 0.5145240 0.9139721 0.9980469 is 0.0298889 /m/01mzpv 0.6716187 0.7078899 0.8292024 0.9932093 /m/04lbp 0.6716187 0.7078899 0.8292024 0.9932093 is 0.0295868 /m/01mzpv 0.2133939 0.5100099 0.7090367 0.9925811 /m/04lbp 0.2133939 0.5100099 0.7090367 0.9925811 is 0.1049765 /m/01mzpv 0.0092266 0.7179367 0.4109262 0.9918067 /m/04lbp 0.0092266 0.7179367 0.4109262 0.9918067 is 0.0081802 /m/01mzpv 0.3833573 0.6933353 0.8313448 0.9943000 /m/04lbp 0.3833573 0.6933353 0.8313448 0.9943000 is 0.0047928 /m/01mzpv 0.2545599 0.3966102 0.5066788 0.7629480 /m/04lbp 0.2545599 0.3966102 0.5066788 0.7629480 is 0.0032394 /m/01mzpv 0.3600949 0.5427581 0.5512353 0.8864069 /m/04lbp 0.3600949 0.5427581 0.5512353 0.8864069 is 0.0030366 /m/01mzpv 0.3776314 0.8124420 0.4487365 0.8946656 /m/04lbp 0.3776314 0.8124420 0.4487365 0.8946656 is 0.0259809 /m/04bcr3 0.0000000 0.7122751 0.0928510 0.8153661 /m/083vt 0.0000000 0.7122751 0.0928510 0.8153661 is 0.0053862 /m/04bcr3 0.3645181 0.5560126 0.5074684 0.9799277 /m/083vt 0.3645181 0.5560126 0.5074684 0.9799277 is 0.0045624 /m/04bcr3 0.0336696 0.6997744 0.5118883 0.8826503 /m/083vt 0.0336696 0.6997744 0.5118883 0.8826503 is 0.0034378 /m/04bcr3 0.5460914 0.3880017 0.9824282 0.9673286 /m/083vt 0.5460914 0.3880017 0.9824282 0.9673286 is 0.0045010 /m/01_5g 0.0000000 0.7331272 0.0931997 0.8157781 /m/083vt 0.0000000 0.7331272 0.0931997 0.8157781 is 0.0274594 /m/01940j 0.0145286 0.4191311 0.4169194 0.9817740 /m/0dnr7 0.0145286 0.4191311 0.4169194 0.9817740 is 0.0190174 /m/0584n8 0.6795068 0.4336035 0.9725005 0.9962898 /m/04lbp 0.6795068 0.4336035 0.9725005 0.9962898 is 0.0078768 /m/01y9k5 0.3681286 0.6295861 0.4838317 0.9612765 /m/083vt 0.3681286 0.6295861 0.4838317 0.9612765 is 0.0125064 /m/05r5c 0.0005972 0.6944991 0.1043161 0.8147863 /m/05z87 0.0005972 0.6944991 0.1043161 0.8147863 is 0.0070506 /m/05r5c 0.0063716 0.6088954 0.4655736 0.9793104 /m/05z87 0.0063716 0.6088954 0.4655736 0.9793104 is 0.0058965 /m/05r5c 0.7121258 0.3719468 0.9867300 0.9743455 /m/05z87 0.7121258 0.3719468 0.9867300 0.9743455 is 0.0118868 /m/0584n8 0.6733649 0.4122651 0.9763191 0.9941529 /m/0dnr7 0.6733649 0.4122651 0.9763191 0.9941529 is 0.0040644 /m/01mzpv 0.0504362 0.5489698 0.4001751 0.8643137 /m/04lbp 0.0504362 0.5489698 0.4001751 0.8643137 is 0.0081249 /m/01940j 0.6745450 0.4132991 0.9785026 0.9826327 /m/04lbp 0.6745450 0.4132991 0.9785026 0.9826327 is 0.0062193 /m/071p9 0.0003479 0.6909438 0.1040366 0.8143960 /m/083vt 0.0003479 0.6909438 0.1040366 0.8143960 is 0.0275116 /m/01s55n 0.6814852 0.4245887 0.9648231 0.9674923 /m/05z87 0.6814852 0.4245887 0.9648231 0.9674923 is'"
      ]
     },
     "execution_count": 78,
     "metadata": {},
     "output_type": "execute_result"
    }
   ],
   "source": [
    "pred_strings[0]"
   ]
  },
  {
   "cell_type": "code",
   "execution_count": 76,
   "metadata": {},
   "outputs": [
    {
     "data": {
      "text/plain": [
       "0    [1, a]\n",
       "1    [2, a]\n",
       "dtype: object"
      ]
     },
     "execution_count": 76,
     "metadata": {},
     "output_type": "execute_result"
    }
   ],
   "source": [
    "pd.Series([[1],[2]]).map(lambda x: x + ['a'])"
   ]
  },
  {
   "cell_type": "code",
   "execution_count": 55,
   "metadata": {},
   "outputs": [
    {
     "name": "stdout",
     "output_type": "stream",
     "text": [
      "[[0.10909090909090909, 0.1, 0.990909090909091, 1.009090909090909, 1, 0.6125], [1.199090909090909, 1.4000000000000001, 0.5, 1.5, 1, 0.61875], [5.0, 5.0, 1.0, 1.0, 1, 0.16666666666666666]]\n"
     ]
    }
   ],
   "source": [
    "\"\"\" \n",
    "Ensembling methods for object detection.\n",
    "\"\"\"\n",
    "\n",
    "\"\"\" \n",
    "General Ensemble - find overlapping boxes of the same class and average their positions\n",
    "while adding their confidences. Can weigh different detectors with different weights.\n",
    "No real learning here, although the weights and iou_thresh can be optimized.\n",
    "\n",
    "Input: \n",
    " - dets : List of detections. Each detection is all the output from one detector, and\n",
    "          should be a list of boxes, where each box should be on the format \n",
    "          [box_x, box_y, box_w, box_h, class, confidence] where box_x and box_y \n",
    "          are the center coordinates, box_w and box_h are width and height resp.\n",
    "          The values should be floats, except the class which should be an integer.\n",
    "\n",
    " - iou_thresh: Threshold in terms of IOU where two boxes are considered the same, \n",
    "               if they also belong to the same class.\n",
    "               \n",
    " - weights: A list of weights, describing how much more some detectors should\n",
    "            be trusted compared to others. The list should be as long as the\n",
    "            number of detections. If this is set to None, then all detectors\n",
    "            will be considered equally reliable. The sum of weights does not\n",
    "            necessarily have to be 1.\n",
    "\n",
    "Output:\n",
    "    A list of boxes, on the same format as the input. Confidences are in range 0-1.\n",
    "\"\"\"\n",
    "def GeneralEnsemble(dets, iou_thresh = 0.5, weights=None):\n",
    "    assert(type(iou_thresh) == float)\n",
    "    \n",
    "    ndets = len(dets)\n",
    "    \n",
    "    if weights is None:\n",
    "        w = 1/float(ndets)\n",
    "        weights = [w]*ndets\n",
    "    else:\n",
    "        assert(len(weights) == ndets)\n",
    "        \n",
    "        s = sum(weights)\n",
    "        for i in range(0, len(weights)):\n",
    "            weights[i] /= s\n",
    "\n",
    "    out = list()\n",
    "    used = list()\n",
    "    \n",
    "    for idet in range(0,ndets):\n",
    "        det = dets[idet]\n",
    "        for box in det:\n",
    "            if box in used:\n",
    "                continue\n",
    "                \n",
    "            used.append(box)\n",
    "            # Search the other detectors for overlapping box of same class\n",
    "            found = []\n",
    "            for iodet in range(0, ndets):\n",
    "                odet = dets[iodet]\n",
    "                \n",
    "                if odet == det:\n",
    "                    continue\n",
    "                \n",
    "                bestbox = None\n",
    "                bestiou = iou_thresh\n",
    "                for obox in odet:\n",
    "                    if not obox in used:\n",
    "                        # Not already used\n",
    "                        if box[4] == obox[4]:\n",
    "                            # Same class\n",
    "                            iou = computeIOU(box, obox)\n",
    "                            if iou > bestiou:\n",
    "                                bestiou = iou\n",
    "                                bestbox = obox\n",
    "                                \n",
    "                if not bestbox is None:\n",
    "                    w = weights[iodet]\n",
    "                    found.append((bestbox,w))\n",
    "                    used.append(bestbox)\n",
    "                            \n",
    "            # Now we've gone through all other detectors\n",
    "            if len(found) == 0:\n",
    "                new_box = list(box)\n",
    "                new_box[5] /= ndets\n",
    "                out.append(new_box)\n",
    "            else:\n",
    "                allboxes = [(box, weights[idet])]\n",
    "                allboxes.extend(found)\n",
    "                \n",
    "                xc = 0.0\n",
    "                yc = 0.0\n",
    "                bw = 0.0\n",
    "                bh = 0.0\n",
    "                conf = 0.0\n",
    "                \n",
    "                wsum = 0.0\n",
    "                for bb in allboxes:\n",
    "                    w = bb[1]\n",
    "                    wsum += w\n",
    "\n",
    "                    b = bb[0]\n",
    "                    xc += w*b[0]\n",
    "                    yc += w*b[1]\n",
    "                    bw += w*b[2]\n",
    "                    bh += w*b[3]\n",
    "                    conf += w*b[5]\n",
    "                \n",
    "                xc /= wsum\n",
    "                yc /= wsum\n",
    "                bw /= wsum\n",
    "                bh /= wsum    \n",
    "\n",
    "                new_box = [xc, yc, bw, bh, box[4], conf]\n",
    "                out.append(new_box)\n",
    "    return out\n",
    "    \n",
    "def getCoords(box):\n",
    "    x1 = float(box[0]) - float(box[2])/2\n",
    "    x2 = float(box[0]) + float(box[2])/2\n",
    "    y1 = float(box[1]) - float(box[3])/2\n",
    "    y2 = float(box[1]) + float(box[3])/2\n",
    "    return x1, x2, y1, y2\n",
    "    \n",
    "def computeIOU(box1, box2):\n",
    "    x11, x12, y11, y12 = getCoords(box1)\n",
    "    x21, x22, y21, y22 = getCoords(box2)\n",
    "    \n",
    "    x_left   = max(x11, x21)\n",
    "    y_top    = max(y11, y21)\n",
    "    x_right  = min(x12, x22)\n",
    "    y_bottom = min(y12, y22)\n",
    "\n",
    "    if x_right < x_left or y_bottom < y_top:\n",
    "        return 0.0    \n",
    "        \n",
    "    intersect_area = (x_right - x_left) * (y_bottom - y_top)\n",
    "    box1_area = (x12 - x11) * (y12 - y11)\n",
    "    box2_area = (x22 - x21) * (y22 - y21)        \n",
    "    \n",
    "    iou = intersect_area / (box1_area + box2_area - intersect_area)\n",
    "    return iou\n",
    "    \n",
    "if __name__==\"__main__\":\n",
    "    # Toy example\n",
    "    dets = [ \n",
    "            [[0.1, 0.1, 1.0, 1.0, 1, 0.9], [1.2, 1.4, 0.5, 1.5, 1, 0.9]],\n",
    "            [[0.2, 0.1, 0.9, 1.1, 1, 0.8],[1.19, 1.4, 0.5, 1.5, 1, 0.9]],\n",
    "            [[5.0,5.0,1.0,1.0,1,0.5]]\n",
    "           ]\n",
    "    \n",
    "    ens = GeneralEnsemble(dets, weights = [1.0, 0.1, 0.5])\n",
    "    print(ens)"
   ]
  },
  {
   "cell_type": "code",
   "execution_count": null,
   "metadata": {},
   "outputs": [],
   "source": [
    "[[0.10909090909090909, 0.1, 0.990909090909091, 1.009090909090909, 'a', 0.6125], [1.2, 1.4, 0.5, 1.5, 'a', 0.3], [5.0, 5.0, 1.0, 1.0, 'a', 0.16666666666666666]]"
   ]
  },
  {
   "cell_type": "code",
   "execution_count": null,
   "metadata": {},
   "outputs": [],
   "source": []
  }
 ],
 "metadata": {
  "kernelspec": {
   "display_name": "Python 3",
   "language": "python",
   "name": "python3"
  },
  "language_info": {
   "codemirror_mode": {
    "name": "ipython",
    "version": 3
   },
   "file_extension": ".py",
   "mimetype": "text/x-python",
   "name": "python",
   "nbconvert_exporter": "python",
   "pygments_lexer": "ipython3",
   "version": "3.7.3"
  }
 },
 "nbformat": 4,
 "nbformat_minor": 2
}
